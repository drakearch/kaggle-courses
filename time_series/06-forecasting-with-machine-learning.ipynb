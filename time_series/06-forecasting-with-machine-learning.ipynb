{
 "cells": [
  {
   "cell_type": "markdown",
   "id": "84f606c3",
   "metadata": {
    "papermill": {
     "duration": 0.02202,
     "end_time": "2022-04-09T15:09:50.061684",
     "exception": false,
     "start_time": "2022-04-09T15:09:50.039664",
     "status": "completed"
    },
    "tags": []
   },
   "source": [
    "**This notebook is an exercise in the [Time Series](https://www.kaggle.com/learn/time-series) course.  You can reference the tutorial at [this link](https://www.kaggle.com/ryanholbrook/forecasting-with-machine-learning).**\n",
    "\n",
    "---\n"
   ]
  },
  {
   "cell_type": "markdown",
   "id": "4ed62b0d",
   "metadata": {
    "papermill": {
     "duration": 0.019003,
     "end_time": "2022-04-09T15:09:50.104021",
     "exception": false,
     "start_time": "2022-04-09T15:09:50.085018",
     "status": "completed"
    },
    "tags": []
   },
   "source": [
    "# Introduction #\n",
    "\n",
    "Run this cell to set everything up!"
   ]
  },
  {
   "cell_type": "code",
   "execution_count": 1,
   "id": "40840d51",
   "metadata": {
    "execution": {
     "iopub.execute_input": "2022-04-09T15:09:50.152493Z",
     "iopub.status.busy": "2022-04-09T15:09:50.151497Z",
     "iopub.status.idle": "2022-04-09T15:09:59.032759Z",
     "shell.execute_reply": "2022-04-09T15:09:59.031696Z",
     "shell.execute_reply.started": "2022-04-09T14:50:39.427311Z"
    },
    "papermill": {
     "duration": 8.906244,
     "end_time": "2022-04-09T15:09:59.032948",
     "exception": false,
     "start_time": "2022-04-09T15:09:50.126704",
     "status": "completed"
    },
    "tags": []
   },
   "outputs": [],
   "source": [
    "# Setup feedback system\n",
    "from learntools.core import binder\n",
    "binder.bind(globals())\n",
    "from learntools.time_series.ex6 import *\n",
    "\n",
    "# Setup notebook\n",
    "from pathlib import Path\n",
    "import ipywidgets as widgets\n",
    "from learntools.time_series.style import *  # plot style settings\n",
    "from learntools.time_series.utils import (create_multistep_example,\n",
    "                                          load_multistep_data,\n",
    "                                          make_lags,\n",
    "                                          make_multistep_target,\n",
    "                                          plot_multistep)\n",
    "\n",
    "import pandas as pd\n",
    "import matplotlib.pyplot as plt\n",
    "from sklearn.linear_model import LinearRegression\n",
    "from sklearn.multioutput import RegressorChain\n",
    "from sklearn.preprocessing import LabelEncoder\n",
    "from xgboost import XGBRegressor\n",
    "\n",
    "\n",
    "comp_dir = Path('../input/store-sales-time-series-forecasting')\n",
    "\n",
    "store_sales = pd.read_csv(\n",
    "    comp_dir / 'train.csv',\n",
    "    usecols=['store_nbr', 'family', 'date', 'sales', 'onpromotion'],\n",
    "    dtype={\n",
    "        'store_nbr': 'category',\n",
    "        'family': 'category',\n",
    "        'sales': 'float32',\n",
    "        'onpromotion': 'uint32',\n",
    "    },\n",
    "    parse_dates=['date'],\n",
    "    infer_datetime_format=True,\n",
    ")\n",
    "store_sales['date'] = store_sales.date.dt.to_period('D')\n",
    "store_sales = store_sales.set_index(['store_nbr', 'family', 'date']).sort_index()\n",
    "\n",
    "family_sales = (\n",
    "    store_sales\n",
    "    .groupby(['family', 'date'])\n",
    "    .mean()\n",
    "    .unstack('family')\n",
    "    .loc['2017']\n",
    ")\n",
    "\n",
    "test = pd.read_csv(\n",
    "    comp_dir / 'test.csv',\n",
    "    dtype={\n",
    "        'store_nbr': 'category',\n",
    "        'family': 'category',\n",
    "        'onpromotion': 'uint32',\n",
    "    },\n",
    "    parse_dates=['date'],\n",
    "    infer_datetime_format=True,\n",
    ")\n",
    "test['date'] = test.date.dt.to_period('D')\n",
    "test = test.set_index(['store_nbr', 'family', 'date']).sort_index()"
   ]
  },
  {
   "cell_type": "markdown",
   "id": "d5897473",
   "metadata": {
    "papermill": {
     "duration": 0.015559,
     "end_time": "2022-04-09T15:09:59.065502",
     "exception": false,
     "start_time": "2022-04-09T15:09:59.049943",
     "status": "completed"
    },
    "tags": []
   },
   "source": [
    "-------------------------------------------------------------------------------\n",
    "\n",
    "Consider the following three forecasting tasks:\n",
    "\n",
    "a. 3-step forecast using 4 lag features with a 2-step lead time<br>\n",
    "b. 1-step forecast using 3 lag features with a 1-step lead time<br>\n",
    "c. 3-step forecast using 4 lag features with a 1-step lead time<br>\n",
    "\n",
    "Run the next cell to see three datasets, each representing one of the tasks above."
   ]
  },
  {
   "cell_type": "code",
   "execution_count": 2,
   "id": "bf4efa28",
   "metadata": {
    "execution": {
     "iopub.execute_input": "2022-04-09T15:09:59.101871Z",
     "iopub.status.busy": "2022-04-09T15:09:59.100901Z",
     "iopub.status.idle": "2022-04-09T15:09:59.290638Z",
     "shell.execute_reply": "2022-04-09T15:09:59.291080Z",
     "shell.execute_reply.started": "2022-04-09T14:51:59.076377Z"
    },
    "papermill": {
     "duration": 0.209416,
     "end_time": "2022-04-09T15:09:59.291304",
     "exception": false,
     "start_time": "2022-04-09T15:09:59.081888",
     "status": "completed"
    },
    "tags": []
   },
   "outputs": [
    {
     "data": {
      "application/vnd.jupyter.widget-view+json": {
       "model_id": "90e9d43a37c0494e9c88aa137474a202",
       "version_major": 2,
       "version_minor": 0
      },
      "text/plain": [
       "Tab(children=(Output(), Output(), Output()), _titles={'0': 'Dataset 1', '1': 'Dataset 2', '2': 'Dataset 3'})"
      ]
     },
     "metadata": {},
     "output_type": "display_data"
    }
   ],
   "source": [
    "datasets = load_multistep_data()\n",
    "\n",
    "data_tabs = widgets.Tab([widgets.Output() for _ in enumerate(datasets)])\n",
    "for i, df in enumerate(datasets):\n",
    "    data_tabs.set_title(i, f'Dataset {i+1}')\n",
    "    with data_tabs.children[i]:\n",
    "        display(df)\n",
    "\n",
    "display(data_tabs)"
   ]
  },
  {
   "cell_type": "markdown",
   "id": "0cc273ae",
   "metadata": {
    "papermill": {
     "duration": 0.01627,
     "end_time": "2022-04-09T15:09:59.328907",
     "exception": false,
     "start_time": "2022-04-09T15:09:59.312637",
     "status": "completed"
    },
    "tags": []
   },
   "source": [
    "# 1) Match description to dataset\n",
    "\n",
    "Can you match each task to the appropriate dataset?"
   ]
  },
  {
   "cell_type": "code",
   "execution_count": 3,
   "id": "ee48c674",
   "metadata": {
    "execution": {
     "iopub.execute_input": "2022-04-09T15:09:59.368750Z",
     "iopub.status.busy": "2022-04-09T15:09:59.367878Z",
     "iopub.status.idle": "2022-04-09T15:09:59.373143Z",
     "shell.execute_reply": "2022-04-09T15:09:59.373705Z",
     "shell.execute_reply.started": "2022-04-09T14:54:05.558032Z"
    },
    "papermill": {
     "duration": 0.028318,
     "end_time": "2022-04-09T15:09:59.373868",
     "exception": false,
     "start_time": "2022-04-09T15:09:59.345550",
     "status": "completed"
    },
    "tags": []
   },
   "outputs": [
    {
     "data": {
      "application/javascript": [
       "parent.postMessage({\"jupyterEvent\": \"custom.exercise_interaction\", \"data\": {\"outcomeType\": 1, \"valueTowardsCompletion\": 0.25, \"interactionType\": 1, \"questionType\": 1, \"questionId\": \"1_Q1\", \"learnToolsVersion\": \"0.3.4\", \"failureMessage\": \"\", \"exceptionClass\": \"\", \"trace\": \"\"}}, \"*\")"
      ],
      "text/plain": [
       "<IPython.core.display.Javascript object>"
      ]
     },
     "metadata": {},
     "output_type": "display_data"
    },
    {
     "data": {
      "text/markdown": [
       "<span style=\"color:#33cc33\">Correct</span>"
      ],
      "text/plain": [
       "Correct"
      ]
     },
     "metadata": {},
     "output_type": "display_data"
    }
   ],
   "source": [
    "# YOUR CODE HERE: Match the task to the dataset. Answer 1, 2, or 3.\n",
    "task_a = 2\n",
    "task_b = 1\n",
    "task_c = 3\n",
    "\n",
    "# Check your answer\n",
    "q_1.check()"
   ]
  },
  {
   "cell_type": "code",
   "execution_count": 4,
   "id": "948da13e",
   "metadata": {
    "execution": {
     "iopub.execute_input": "2022-04-09T15:09:59.411990Z",
     "iopub.status.busy": "2022-04-09T15:09:59.411055Z",
     "iopub.status.idle": "2022-04-09T15:09:59.414109Z",
     "shell.execute_reply": "2022-04-09T15:09:59.414574Z",
     "shell.execute_reply.started": "2022-04-09T14:54:08.792158Z"
    },
    "papermill": {
     "duration": 0.023616,
     "end_time": "2022-04-09T15:09:59.414736",
     "exception": false,
     "start_time": "2022-04-09T15:09:59.391120",
     "status": "completed"
    },
    "tags": []
   },
   "outputs": [],
   "source": [
    "# Lines below will give you a hint or solution code\n",
    "#q_1.hint()\n",
    "#q_1.solution()"
   ]
  },
  {
   "cell_type": "markdown",
   "id": "e1852db9",
   "metadata": {
    "papermill": {
     "duration": 0.016983,
     "end_time": "2022-04-09T15:09:59.448940",
     "exception": false,
     "start_time": "2022-04-09T15:09:59.431957",
     "status": "completed"
    },
    "tags": []
   },
   "source": [
    "-------------------------------------------------------------------------------\n",
    "\n",
    "Look at the time indexes of the training and test sets. From this information, can you identify the forecasting task for *Store Sales*?"
   ]
  },
  {
   "cell_type": "code",
   "execution_count": 5,
   "id": "c176f2c2",
   "metadata": {
    "execution": {
     "iopub.execute_input": "2022-04-09T15:09:59.488559Z",
     "iopub.status.busy": "2022-04-09T15:09:59.487618Z",
     "iopub.status.idle": "2022-04-09T15:09:59.507119Z",
     "shell.execute_reply": "2022-04-09T15:09:59.507835Z",
     "shell.execute_reply.started": "2022-04-09T14:54:24.168049Z"
    },
    "papermill": {
     "duration": 0.0419,
     "end_time": "2022-04-09T15:09:59.508062",
     "exception": false,
     "start_time": "2022-04-09T15:09:59.466162",
     "status": "completed"
    },
    "tags": []
   },
   "outputs": [
    {
     "name": "stdout",
     "output_type": "stream",
     "text": [
      "Training Data \n",
      "-------------\n",
      "                                      sales  onpromotion\n",
      "store_nbr family     date                              \n",
      "1         AUTOMOTIVE 2013-01-01   0.000000            0\n",
      "                     2013-01-02   2.000000            0\n",
      "                     2013-01-03   3.000000            0\n",
      "                     2013-01-04   3.000000            0\n",
      "                     2013-01-05   5.000000            0\n",
      "...                                    ...          ...\n",
      "9         SEAFOOD    2017-08-11  23.830999            0\n",
      "                     2017-08-12  16.859001            4\n",
      "                     2017-08-13  20.000000            0\n",
      "                     2017-08-14  17.000000            0\n",
      "                     2017-08-15  16.000000            0\n",
      "\n",
      "[3000888 rows x 2 columns]\n",
      "\n",
      "\n",
      "Test Data \n",
      "---------\n",
      "                                       id  onpromotion\n",
      "store_nbr family     date                            \n",
      "1         AUTOMOTIVE 2017-08-16  3000888            0\n",
      "                     2017-08-17  3002670            0\n",
      "                     2017-08-18  3004452            0\n",
      "                     2017-08-19  3006234            0\n",
      "                     2017-08-20  3008016            0\n",
      "...                                  ...          ...\n",
      "9         SEAFOOD    2017-08-27  3022271            0\n",
      "                     2017-08-28  3024053            0\n",
      "                     2017-08-29  3025835            0\n",
      "                     2017-08-30  3027617            0\n",
      "                     2017-08-31  3029399            0\n",
      "\n",
      "[28512 rows x 2 columns]\n"
     ]
    }
   ],
   "source": [
    "print(\"Training Data\", \"\\n\" + \"-\" * 13 + \"\\n\", store_sales)\n",
    "print(\"\\n\")\n",
    "print(\"Test Data\", \"\\n\" + \"-\" * 9 + \"\\n\", test)"
   ]
  },
  {
   "cell_type": "markdown",
   "id": "0da33ecf",
   "metadata": {
    "papermill": {
     "duration": 0.017552,
     "end_time": "2022-04-09T15:09:59.545458",
     "exception": false,
     "start_time": "2022-04-09T15:09:59.527906",
     "status": "completed"
    },
    "tags": []
   },
   "source": [
    "# 2) Identify the forecasting task for *Store Sales* competition\n",
    "\n",
    "Try to identify the *forecast origin* and the *forecast horizon*. How many steps are within the forecast horizon? What is the lead time for the forecast?\n",
    "\n",
    "Run this cell after you've thought about your answer."
   ]
  },
  {
   "cell_type": "code",
   "execution_count": 6,
   "id": "548ea4e4",
   "metadata": {
    "execution": {
     "iopub.execute_input": "2022-04-09T15:09:59.585734Z",
     "iopub.status.busy": "2022-04-09T15:09:59.584808Z",
     "iopub.status.idle": "2022-04-09T15:09:59.591828Z",
     "shell.execute_reply": "2022-04-09T15:09:59.592359Z",
     "shell.execute_reply.started": "2022-04-09T14:57:07.161620Z"
    },
    "papermill": {
     "duration": 0.029264,
     "end_time": "2022-04-09T15:09:59.592528",
     "exception": false,
     "start_time": "2022-04-09T15:09:59.563264",
     "status": "completed"
    },
    "tags": []
   },
   "outputs": [
    {
     "data": {
      "application/javascript": [
       "parent.postMessage({\"jupyterEvent\": \"custom.exercise_interaction\", \"data\": {\"outcomeType\": 1, \"valueTowardsCompletion\": 0.25, \"interactionType\": 1, \"questionType\": 4, \"questionId\": \"2_Q2\", \"learnToolsVersion\": \"0.3.4\", \"failureMessage\": \"\", \"exceptionClass\": \"\", \"trace\": \"\"}}, \"*\")"
      ],
      "text/plain": [
       "<IPython.core.display.Javascript object>"
      ]
     },
     "metadata": {},
     "output_type": "display_data"
    },
    {
     "data": {
      "text/markdown": [
       "<span style=\"color:#33cc33\">Correct:</span> \n",
       "\n",
       "The training set ends on `2017-08-15`, which gives us the forecast origin. The test set comprises the dates `2017-08-16` to `2017-08-31`, and this gives us the forecast horizon. There is one step between the origin and horizon, so we have a lead time of one day.\n",
       "\n",
       "Put another way, we need a 16-step forecast with a 1-step lead time. We can use lags starting with lag 1, and we make the entire 16-step forecast using features from `2017-08-15`.\n"
      ],
      "text/plain": [
       "Correct: \n",
       "\n",
       "The training set ends on `2017-08-15`, which gives us the forecast origin. The test set comprises the dates `2017-08-16` to `2017-08-31`, and this gives us the forecast horizon. There is one step between the origin and horizon, so we have a lead time of one day.\n",
       "\n",
       "Put another way, we need a 16-step forecast with a 1-step lead time. We can use lags starting with lag 1, and we make the entire 16-step forecast using features from `2017-08-15`."
      ]
     },
     "metadata": {},
     "output_type": "display_data"
    }
   ],
   "source": [
    "# View the solution (Run this cell to receive credit!)\n",
    "q_2.check()"
   ]
  },
  {
   "cell_type": "markdown",
   "id": "478eae7c",
   "metadata": {
    "papermill": {
     "duration": 0.018818,
     "end_time": "2022-04-09T15:09:59.630825",
     "exception": false,
     "start_time": "2022-04-09T15:09:59.612007",
     "status": "completed"
    },
    "tags": []
   },
   "source": [
    "-------------------------------------------------------------------------------\n",
    "\n",
    "In the tutorial we saw how to create a multistep dataset for a single time series. Fortunately, we can use exactly the same procedure for datasets of multiple series.\n",
    "\n",
    "# 3) Create multistep dataset for *Store Sales*\n",
    "\n",
    "Create targets suitable for the *Store Sales* forecasting task. Use 4 days of lag features. Drop any missing values from both targets and features."
   ]
  },
  {
   "cell_type": "code",
   "execution_count": 7,
   "id": "0db8dfa3",
   "metadata": {
    "execution": {
     "iopub.execute_input": "2022-04-09T15:09:59.672738Z",
     "iopub.status.busy": "2022-04-09T15:09:59.671810Z",
     "iopub.status.idle": "2022-04-09T15:09:59.694895Z",
     "shell.execute_reply": "2022-04-09T15:09:59.695460Z",
     "shell.execute_reply.started": "2022-04-09T15:02:09.226919Z"
    },
    "papermill": {
     "duration": 0.045826,
     "end_time": "2022-04-09T15:09:59.695623",
     "exception": false,
     "start_time": "2022-04-09T15:09:59.649797",
     "status": "completed"
    },
    "tags": []
   },
   "outputs": [
    {
     "data": {
      "application/javascript": [
       "parent.postMessage({\"jupyterEvent\": \"custom.exercise_interaction\", \"data\": {\"outcomeType\": 1, \"valueTowardsCompletion\": 0.25, \"interactionType\": 1, \"questionType\": 1, \"questionId\": \"3_Q3\", \"learnToolsVersion\": \"0.3.4\", \"failureMessage\": \"\", \"exceptionClass\": \"\", \"trace\": \"\"}}, \"*\")"
      ],
      "text/plain": [
       "<IPython.core.display.Javascript object>"
      ]
     },
     "metadata": {},
     "output_type": "display_data"
    },
    {
     "data": {
      "text/markdown": [
       "<span style=\"color:#33cc33\">Correct</span>"
      ],
      "text/plain": [
       "Correct"
      ]
     },
     "metadata": {},
     "output_type": "display_data"
    }
   ],
   "source": [
    "# YOUR CODE HERE\n",
    "y = family_sales.loc[:, 'sales']\n",
    "\n",
    "# YOUR CODE HERE: Make 4 lag features\n",
    "X = make_lags(y, lags=4).dropna()\n",
    "\n",
    "# YOUR CODE HERE: Make multistep target\n",
    "y = make_multistep_target(y, steps=16).dropna()\n",
    "\n",
    "y, X = y.align(X, join='inner', axis=0)\n",
    "\n",
    "# Check your answer\n",
    "q_3.check()"
   ]
  },
  {
   "cell_type": "code",
   "execution_count": 8,
   "id": "c4c74a14",
   "metadata": {
    "execution": {
     "iopub.execute_input": "2022-04-09T15:09:59.738863Z",
     "iopub.status.busy": "2022-04-09T15:09:59.737924Z",
     "iopub.status.idle": "2022-04-09T15:09:59.741503Z",
     "shell.execute_reply": "2022-04-09T15:09:59.742053Z",
     "shell.execute_reply.started": "2022-04-09T15:02:14.969974Z"
    },
    "papermill": {
     "duration": 0.026862,
     "end_time": "2022-04-09T15:09:59.742235",
     "exception": false,
     "start_time": "2022-04-09T15:09:59.715373",
     "status": "completed"
    },
    "tags": []
   },
   "outputs": [],
   "source": [
    "# Lines below will give you a hint or solution code\n",
    "#q_3.hint()\n",
    "#q_3.solution()"
   ]
  },
  {
   "cell_type": "markdown",
   "id": "4adf1e52",
   "metadata": {
    "papermill": {
     "duration": 0.019919,
     "end_time": "2022-04-09T15:09:59.782304",
     "exception": false,
     "start_time": "2022-04-09T15:09:59.762385",
     "status": "completed"
    },
    "tags": []
   },
   "source": [
    "-------------------------------------------------------------------------------\n",
    "\n",
    "In the tutorial, we saw how to forecast with the MultiOutput and Direct strategies on the *Flu Trends* series. Now, you'll apply the DirRec strategy to the multiple time series of *Store Sales*.\n",
    "\n",
    "Make sure you've successfully completed the previous exercise and then run this cell to prepare the data for XGBoost."
   ]
  },
  {
   "cell_type": "code",
   "execution_count": 9,
   "id": "6597c87d",
   "metadata": {
    "execution": {
     "iopub.execute_input": "2022-04-09T15:09:59.826119Z",
     "iopub.status.busy": "2022-04-09T15:09:59.825192Z",
     "iopub.status.idle": "2022-04-09T15:09:59.868011Z",
     "shell.execute_reply": "2022-04-09T15:09:59.868536Z",
     "shell.execute_reply.started": "2022-04-09T15:03:23.074546Z"
    },
    "papermill": {
     "duration": 0.06644,
     "end_time": "2022-04-09T15:09:59.868710",
     "exception": false,
     "start_time": "2022-04-09T15:09:59.802270",
     "status": "completed"
    },
    "tags": []
   },
   "outputs": [
    {
     "data": {
      "text/html": [
       "<div>\n",
       "<style scoped>\n",
       "    .dataframe tbody tr th:only-of-type {\n",
       "        vertical-align: middle;\n",
       "    }\n",
       "\n",
       "    .dataframe tbody tr th {\n",
       "        vertical-align: top;\n",
       "    }\n",
       "\n",
       "    .dataframe thead th {\n",
       "        text-align: right;\n",
       "    }\n",
       "</style>\n",
       "<table border=\"1\" class=\"dataframe\">\n",
       "  <thead>\n",
       "    <tr style=\"text-align: right;\">\n",
       "      <th></th>\n",
       "      <th></th>\n",
       "      <th>y_step_1</th>\n",
       "      <th>y_step_2</th>\n",
       "      <th>y_step_3</th>\n",
       "      <th>y_step_4</th>\n",
       "      <th>y_step_5</th>\n",
       "      <th>y_step_6</th>\n",
       "      <th>y_step_7</th>\n",
       "      <th>y_step_8</th>\n",
       "      <th>y_step_9</th>\n",
       "      <th>y_step_10</th>\n",
       "      <th>y_step_11</th>\n",
       "      <th>y_step_12</th>\n",
       "      <th>y_step_13</th>\n",
       "      <th>y_step_14</th>\n",
       "      <th>y_step_15</th>\n",
       "      <th>y_step_16</th>\n",
       "    </tr>\n",
       "    <tr>\n",
       "      <th>date</th>\n",
       "      <th>family</th>\n",
       "      <th></th>\n",
       "      <th></th>\n",
       "      <th></th>\n",
       "      <th></th>\n",
       "      <th></th>\n",
       "      <th></th>\n",
       "      <th></th>\n",
       "      <th></th>\n",
       "      <th></th>\n",
       "      <th></th>\n",
       "      <th></th>\n",
       "      <th></th>\n",
       "      <th></th>\n",
       "      <th></th>\n",
       "      <th></th>\n",
       "      <th></th>\n",
       "    </tr>\n",
       "  </thead>\n",
       "  <tbody>\n",
       "    <tr>\n",
       "      <th rowspan=\"5\" valign=\"top\">2017-01-05</th>\n",
       "      <th>AUTOMOTIVE</th>\n",
       "      <td>6.333333</td>\n",
       "      <td>6.018518</td>\n",
       "      <td>10.259259</td>\n",
       "      <td>9.388889</td>\n",
       "      <td>5.944445</td>\n",
       "      <td>4.777778</td>\n",
       "      <td>6.314815</td>\n",
       "      <td>5.388889</td>\n",
       "      <td>5.240741</td>\n",
       "      <td>8.500000</td>\n",
       "      <td>10.259259</td>\n",
       "      <td>6.407407</td>\n",
       "      <td>5.685185</td>\n",
       "      <td>5.703704</td>\n",
       "      <td>4.777778</td>\n",
       "      <td>5.148148</td>\n",
       "    </tr>\n",
       "    <tr>\n",
       "      <th>BABY CARE</th>\n",
       "      <td>0.351852</td>\n",
       "      <td>0.277778</td>\n",
       "      <td>0.259259</td>\n",
       "      <td>0.240741</td>\n",
       "      <td>0.444444</td>\n",
       "      <td>0.240741</td>\n",
       "      <td>0.277778</td>\n",
       "      <td>0.296296</td>\n",
       "      <td>0.296296</td>\n",
       "      <td>0.388889</td>\n",
       "      <td>0.425926</td>\n",
       "      <td>0.314815</td>\n",
       "      <td>0.166667</td>\n",
       "      <td>0.222222</td>\n",
       "      <td>0.129630</td>\n",
       "      <td>0.166667</td>\n",
       "    </tr>\n",
       "    <tr>\n",
       "      <th>BEAUTY</th>\n",
       "      <td>5.925926</td>\n",
       "      <td>6.518518</td>\n",
       "      <td>10.037037</td>\n",
       "      <td>11.611111</td>\n",
       "      <td>5.648148</td>\n",
       "      <td>6.500000</td>\n",
       "      <td>5.277778</td>\n",
       "      <td>4.370370</td>\n",
       "      <td>4.703704</td>\n",
       "      <td>7.777778</td>\n",
       "      <td>9.037037</td>\n",
       "      <td>5.648148</td>\n",
       "      <td>5.351852</td>\n",
       "      <td>4.740741</td>\n",
       "      <td>3.981482</td>\n",
       "      <td>4.592593</td>\n",
       "    </tr>\n",
       "    <tr>\n",
       "      <th>BEVERAGES</th>\n",
       "      <td>3258.796387</td>\n",
       "      <td>3507.277832</td>\n",
       "      <td>4848.518555</td>\n",
       "      <td>5503.647949</td>\n",
       "      <td>3448.203613</td>\n",
       "      <td>3171.740723</td>\n",
       "      <td>3046.870361</td>\n",
       "      <td>2693.722168</td>\n",
       "      <td>3226.037109</td>\n",
       "      <td>4667.296387</td>\n",
       "      <td>5580.611328</td>\n",
       "      <td>3700.370361</td>\n",
       "      <td>3409.796387</td>\n",
       "      <td>3263.462891</td>\n",
       "      <td>2676.573975</td>\n",
       "      <td>3003.555664</td>\n",
       "    </tr>\n",
       "    <tr>\n",
       "      <th>BOOKS</th>\n",
       "      <td>0.407407</td>\n",
       "      <td>0.537037</td>\n",
       "      <td>0.481481</td>\n",
       "      <td>0.722222</td>\n",
       "      <td>0.500000</td>\n",
       "      <td>0.518519</td>\n",
       "      <td>0.481481</td>\n",
       "      <td>0.388889</td>\n",
       "      <td>0.444444</td>\n",
       "      <td>0.574074</td>\n",
       "      <td>0.555556</td>\n",
       "      <td>0.388889</td>\n",
       "      <td>0.500000</td>\n",
       "      <td>0.407407</td>\n",
       "      <td>0.277778</td>\n",
       "      <td>0.351852</td>\n",
       "    </tr>\n",
       "    <tr>\n",
       "      <th>...</th>\n",
       "      <th>...</th>\n",
       "      <td>...</td>\n",
       "      <td>...</td>\n",
       "      <td>...</td>\n",
       "      <td>...</td>\n",
       "      <td>...</td>\n",
       "      <td>...</td>\n",
       "      <td>...</td>\n",
       "      <td>...</td>\n",
       "      <td>...</td>\n",
       "      <td>...</td>\n",
       "      <td>...</td>\n",
       "      <td>...</td>\n",
       "      <td>...</td>\n",
       "      <td>...</td>\n",
       "      <td>...</td>\n",
       "      <td>...</td>\n",
       "    </tr>\n",
       "    <tr>\n",
       "      <th rowspan=\"5\" valign=\"top\">2017-07-31</th>\n",
       "      <th>POULTRY</th>\n",
       "      <td>364.955658</td>\n",
       "      <td>403.601349</td>\n",
       "      <td>377.313965</td>\n",
       "      <td>316.436096</td>\n",
       "      <td>533.497070</td>\n",
       "      <td>416.454010</td>\n",
       "      <td>464.596558</td>\n",
       "      <td>344.051727</td>\n",
       "      <td>313.780884</td>\n",
       "      <td>305.270203</td>\n",
       "      <td>278.819855</td>\n",
       "      <td>468.857361</td>\n",
       "      <td>354.342773</td>\n",
       "      <td>379.801208</td>\n",
       "      <td>344.398285</td>\n",
       "      <td>325.679810</td>\n",
       "    </tr>\n",
       "    <tr>\n",
       "      <th>PREPARED FOODS</th>\n",
       "      <td>84.698647</td>\n",
       "      <td>87.836800</td>\n",
       "      <td>88.735962</td>\n",
       "      <td>77.172997</td>\n",
       "      <td>91.886757</td>\n",
       "      <td>100.384964</td>\n",
       "      <td>102.248146</td>\n",
       "      <td>86.627441</td>\n",
       "      <td>77.344131</td>\n",
       "      <td>84.796539</td>\n",
       "      <td>78.791443</td>\n",
       "      <td>96.286926</td>\n",
       "      <td>84.693817</td>\n",
       "      <td>91.509422</td>\n",
       "      <td>86.062500</td>\n",
       "      <td>85.954132</td>\n",
       "    </tr>\n",
       "    <tr>\n",
       "      <th>PRODUCE</th>\n",
       "      <td>2257.140625</td>\n",
       "      <td>2609.180176</td>\n",
       "      <td>3122.895752</td>\n",
       "      <td>1792.220947</td>\n",
       "      <td>2079.319580</td>\n",
       "      <td>2418.970215</td>\n",
       "      <td>2675.105713</td>\n",
       "      <td>2111.133545</td>\n",
       "      <td>2168.535400</td>\n",
       "      <td>2663.076172</td>\n",
       "      <td>1670.264893</td>\n",
       "      <td>2198.854492</td>\n",
       "      <td>2070.154785</td>\n",
       "      <td>2331.922363</td>\n",
       "      <td>2134.399902</td>\n",
       "      <td>2316.832764</td>\n",
       "    </tr>\n",
       "    <tr>\n",
       "      <th>SCHOOL AND OFFICE SUPPLIES</th>\n",
       "      <td>30.111111</td>\n",
       "      <td>49.333332</td>\n",
       "      <td>57.481480</td>\n",
       "      <td>51.907406</td>\n",
       "      <td>63.222221</td>\n",
       "      <td>85.203705</td>\n",
       "      <td>100.277779</td>\n",
       "      <td>64.407410</td>\n",
       "      <td>59.759258</td>\n",
       "      <td>53.740742</td>\n",
       "      <td>42.962963</td>\n",
       "      <td>65.240738</td>\n",
       "      <td>67.481483</td>\n",
       "      <td>68.851852</td>\n",
       "      <td>52.333332</td>\n",
       "      <td>46.851852</td>\n",
       "    </tr>\n",
       "    <tr>\n",
       "      <th>SEAFOOD</th>\n",
       "      <td>20.488333</td>\n",
       "      <td>20.346851</td>\n",
       "      <td>20.801037</td>\n",
       "      <td>17.116297</td>\n",
       "      <td>25.553963</td>\n",
       "      <td>24.209518</td>\n",
       "      <td>23.512852</td>\n",
       "      <td>18.419851</td>\n",
       "      <td>18.481131</td>\n",
       "      <td>18.181425</td>\n",
       "      <td>13.284463</td>\n",
       "      <td>23.566963</td>\n",
       "      <td>19.037592</td>\n",
       "      <td>20.704575</td>\n",
       "      <td>17.975555</td>\n",
       "      <td>17.966240</td>\n",
       "    </tr>\n",
       "  </tbody>\n",
       "</table>\n",
       "<p>6864 rows × 16 columns</p>\n",
       "</div>"
      ],
      "text/plain": [
       "                                          y_step_1     y_step_2     y_step_3  \\\n",
       "date       family                                                              \n",
       "2017-01-05 AUTOMOTIVE                     6.333333     6.018518    10.259259   \n",
       "           BABY CARE                      0.351852     0.277778     0.259259   \n",
       "           BEAUTY                         5.925926     6.518518    10.037037   \n",
       "           BEVERAGES                   3258.796387  3507.277832  4848.518555   \n",
       "           BOOKS                          0.407407     0.537037     0.481481   \n",
       "...                                            ...          ...          ...   \n",
       "2017-07-31 POULTRY                      364.955658   403.601349   377.313965   \n",
       "           PREPARED FOODS                84.698647    87.836800    88.735962   \n",
       "           PRODUCE                     2257.140625  2609.180176  3122.895752   \n",
       "           SCHOOL AND OFFICE SUPPLIES    30.111111    49.333332    57.481480   \n",
       "           SEAFOOD                       20.488333    20.346851    20.801037   \n",
       "\n",
       "                                          y_step_4     y_step_5     y_step_6  \\\n",
       "date       family                                                              \n",
       "2017-01-05 AUTOMOTIVE                     9.388889     5.944445     4.777778   \n",
       "           BABY CARE                      0.240741     0.444444     0.240741   \n",
       "           BEAUTY                        11.611111     5.648148     6.500000   \n",
       "           BEVERAGES                   5503.647949  3448.203613  3171.740723   \n",
       "           BOOKS                          0.722222     0.500000     0.518519   \n",
       "...                                            ...          ...          ...   \n",
       "2017-07-31 POULTRY                      316.436096   533.497070   416.454010   \n",
       "           PREPARED FOODS                77.172997    91.886757   100.384964   \n",
       "           PRODUCE                     1792.220947  2079.319580  2418.970215   \n",
       "           SCHOOL AND OFFICE SUPPLIES    51.907406    63.222221    85.203705   \n",
       "           SEAFOOD                       17.116297    25.553963    24.209518   \n",
       "\n",
       "                                          y_step_7     y_step_8     y_step_9  \\\n",
       "date       family                                                              \n",
       "2017-01-05 AUTOMOTIVE                     6.314815     5.388889     5.240741   \n",
       "           BABY CARE                      0.277778     0.296296     0.296296   \n",
       "           BEAUTY                         5.277778     4.370370     4.703704   \n",
       "           BEVERAGES                   3046.870361  2693.722168  3226.037109   \n",
       "           BOOKS                          0.481481     0.388889     0.444444   \n",
       "...                                            ...          ...          ...   \n",
       "2017-07-31 POULTRY                      464.596558   344.051727   313.780884   \n",
       "           PREPARED FOODS               102.248146    86.627441    77.344131   \n",
       "           PRODUCE                     2675.105713  2111.133545  2168.535400   \n",
       "           SCHOOL AND OFFICE SUPPLIES   100.277779    64.407410    59.759258   \n",
       "           SEAFOOD                       23.512852    18.419851    18.481131   \n",
       "\n",
       "                                         y_step_10    y_step_11    y_step_12  \\\n",
       "date       family                                                              \n",
       "2017-01-05 AUTOMOTIVE                     8.500000    10.259259     6.407407   \n",
       "           BABY CARE                      0.388889     0.425926     0.314815   \n",
       "           BEAUTY                         7.777778     9.037037     5.648148   \n",
       "           BEVERAGES                   4667.296387  5580.611328  3700.370361   \n",
       "           BOOKS                          0.574074     0.555556     0.388889   \n",
       "...                                            ...          ...          ...   \n",
       "2017-07-31 POULTRY                      305.270203   278.819855   468.857361   \n",
       "           PREPARED FOODS                84.796539    78.791443    96.286926   \n",
       "           PRODUCE                     2663.076172  1670.264893  2198.854492   \n",
       "           SCHOOL AND OFFICE SUPPLIES    53.740742    42.962963    65.240738   \n",
       "           SEAFOOD                       18.181425    13.284463    23.566963   \n",
       "\n",
       "                                         y_step_13    y_step_14    y_step_15  \\\n",
       "date       family                                                              \n",
       "2017-01-05 AUTOMOTIVE                     5.685185     5.703704     4.777778   \n",
       "           BABY CARE                      0.166667     0.222222     0.129630   \n",
       "           BEAUTY                         5.351852     4.740741     3.981482   \n",
       "           BEVERAGES                   3409.796387  3263.462891  2676.573975   \n",
       "           BOOKS                          0.500000     0.407407     0.277778   \n",
       "...                                            ...          ...          ...   \n",
       "2017-07-31 POULTRY                      354.342773   379.801208   344.398285   \n",
       "           PREPARED FOODS                84.693817    91.509422    86.062500   \n",
       "           PRODUCE                     2070.154785  2331.922363  2134.399902   \n",
       "           SCHOOL AND OFFICE SUPPLIES    67.481483    68.851852    52.333332   \n",
       "           SEAFOOD                       19.037592    20.704575    17.975555   \n",
       "\n",
       "                                         y_step_16  \n",
       "date       family                                   \n",
       "2017-01-05 AUTOMOTIVE                     5.148148  \n",
       "           BABY CARE                      0.166667  \n",
       "           BEAUTY                         4.592593  \n",
       "           BEVERAGES                   3003.555664  \n",
       "           BOOKS                          0.351852  \n",
       "...                                            ...  \n",
       "2017-07-31 POULTRY                      325.679810  \n",
       "           PREPARED FOODS                85.954132  \n",
       "           PRODUCE                     2316.832764  \n",
       "           SCHOOL AND OFFICE SUPPLIES    46.851852  \n",
       "           SEAFOOD                       17.966240  \n",
       "\n",
       "[6864 rows x 16 columns]"
      ]
     },
     "metadata": {},
     "output_type": "display_data"
    }
   ],
   "source": [
    "le = LabelEncoder()\n",
    "X = (X\n",
    "    .stack('family')  # wide to long\n",
    "    .reset_index('family')  # convert index to column\n",
    "    .assign(family=lambda x: le.fit_transform(x.family))  # label encode\n",
    ")\n",
    "y = y.stack('family')  # wide to long\n",
    "\n",
    "display(y)"
   ]
  },
  {
   "cell_type": "markdown",
   "id": "f623dd55",
   "metadata": {
    "papermill": {
     "duration": 0.020677,
     "end_time": "2022-04-09T15:09:59.910531",
     "exception": false,
     "start_time": "2022-04-09T15:09:59.889854",
     "status": "completed"
    },
    "tags": []
   },
   "source": [
    "# 4) Forecast with the DirRec strategy\n",
    "\n",
    "Instatiate a model that applies the DirRec strategy to XGBoost."
   ]
  },
  {
   "cell_type": "code",
   "execution_count": 10,
   "id": "d2402911",
   "metadata": {
    "execution": {
     "iopub.execute_input": "2022-04-09T15:09:59.955729Z",
     "iopub.status.busy": "2022-04-09T15:09:59.954810Z",
     "iopub.status.idle": "2022-04-09T15:09:59.962161Z",
     "shell.execute_reply": "2022-04-09T15:09:59.962687Z",
     "shell.execute_reply.started": "2022-04-09T15:04:24.504903Z"
    },
    "papermill": {
     "duration": 0.031479,
     "end_time": "2022-04-09T15:09:59.962856",
     "exception": false,
     "start_time": "2022-04-09T15:09:59.931377",
     "status": "completed"
    },
    "tags": []
   },
   "outputs": [
    {
     "data": {
      "application/javascript": [
       "parent.postMessage({\"jupyterEvent\": \"custom.exercise_interaction\", \"data\": {\"outcomeType\": 1, \"valueTowardsCompletion\": 0.25, \"interactionType\": 1, \"questionType\": 2, \"questionId\": \"4_Q4\", \"learnToolsVersion\": \"0.3.4\", \"failureMessage\": \"\", \"exceptionClass\": \"\", \"trace\": \"\"}}, \"*\")"
      ],
      "text/plain": [
       "<IPython.core.display.Javascript object>"
      ]
     },
     "metadata": {},
     "output_type": "display_data"
    },
    {
     "data": {
      "text/markdown": [
       "<span style=\"color:#33cc33\">Correct</span>"
      ],
      "text/plain": [
       "Correct"
      ]
     },
     "metadata": {},
     "output_type": "display_data"
    }
   ],
   "source": [
    "from sklearn.multioutput import RegressorChain\n",
    "\n",
    "# YOUR CODE HERE\n",
    "model = RegressorChain(XGBRegressor())\n",
    "\n",
    "# Check your answer\n",
    "q_4.check()"
   ]
  },
  {
   "cell_type": "code",
   "execution_count": 11,
   "id": "10a28696",
   "metadata": {
    "execution": {
     "iopub.execute_input": "2022-04-09T15:10:00.010589Z",
     "iopub.status.busy": "2022-04-09T15:10:00.009615Z",
     "iopub.status.idle": "2022-04-09T15:10:00.012673Z",
     "shell.execute_reply": "2022-04-09T15:10:00.013163Z",
     "shell.execute_reply.started": "2022-04-09T15:04:40.694042Z"
    },
    "papermill": {
     "duration": 0.029139,
     "end_time": "2022-04-09T15:10:00.013342",
     "exception": false,
     "start_time": "2022-04-09T15:09:59.984203",
     "status": "completed"
    },
    "tags": []
   },
   "outputs": [],
   "source": [
    "# Lines below will give you a hint or solution code\n",
    "#q_4.hint()\n",
    "#q_4.solution()"
   ]
  },
  {
   "cell_type": "markdown",
   "id": "702c4ad2",
   "metadata": {
    "papermill": {
     "duration": 0.024563,
     "end_time": "2022-04-09T15:10:00.059690",
     "exception": false,
     "start_time": "2022-04-09T15:10:00.035127",
     "status": "completed"
    },
    "tags": []
   },
   "source": [
    "Run this cell if you'd like to train this model."
   ]
  },
  {
   "cell_type": "code",
   "execution_count": 12,
   "id": "3e999b79",
   "metadata": {
    "execution": {
     "iopub.execute_input": "2022-04-09T15:10:00.106576Z",
     "iopub.status.busy": "2022-04-09T15:10:00.105610Z",
     "iopub.status.idle": "2022-04-09T15:10:21.248823Z",
     "shell.execute_reply": "2022-04-09T15:10:21.249353Z",
     "shell.execute_reply.started": "2022-04-09T15:04:45.124738Z"
    },
    "papermill": {
     "duration": 21.168206,
     "end_time": "2022-04-09T15:10:21.249526",
     "exception": false,
     "start_time": "2022-04-09T15:10:00.081320",
     "status": "completed"
    },
    "tags": []
   },
   "outputs": [],
   "source": [
    "model.fit(X, y)\n",
    "\n",
    "y_pred = pd.DataFrame(\n",
    "    model.predict(X),\n",
    "    index=y.index,\n",
    "    columns=y.columns,\n",
    ").clip(0.0)"
   ]
  },
  {
   "cell_type": "markdown",
   "id": "735189e4",
   "metadata": {
    "papermill": {
     "duration": 0.021494,
     "end_time": "2022-04-09T15:10:21.292719",
     "exception": false,
     "start_time": "2022-04-09T15:10:21.271225",
     "status": "completed"
    },
    "tags": []
   },
   "source": [
    "And use this code to see a sample of the 16-step predictions this model makes on the training data."
   ]
  },
  {
   "cell_type": "code",
   "execution_count": 13,
   "id": "e94392b1",
   "metadata": {
    "execution": {
     "iopub.execute_input": "2022-04-09T15:10:21.339519Z",
     "iopub.status.busy": "2022-04-09T15:10:21.338916Z",
     "iopub.status.idle": "2022-04-09T15:10:21.746041Z",
     "shell.execute_reply": "2022-04-09T15:10:21.746541Z",
     "shell.execute_reply.started": "2022-04-09T15:06:37.042938Z"
    },
    "lines_to_next_cell": 2,
    "papermill": {
     "duration": 0.432281,
     "end_time": "2022-04-09T15:10:21.746712",
     "exception": false,
     "start_time": "2022-04-09T15:10:21.314431",
     "status": "completed"
    },
    "tags": []
   },
   "outputs": [
    {
     "data": {
      "image/png": "[encoded data removed]",
      "text/plain": [
       "<Figure size 792x288 with 1 Axes>"
      ]
     },
     "metadata": {},
     "output_type": "display_data"
    }
   ],
   "source": [
    "FAMILY = 'BEAUTY'\n",
    "START = '2017-04-01'\n",
    "EVERY = 16\n",
    "\n",
    "y_pred_ = y_pred.xs(FAMILY, level='family', axis=0).loc[START:]\n",
    "y_ = family_sales.loc[START:, 'sales'].loc[:, FAMILY]\n",
    "\n",
    "fig, ax = plt.subplots(1, 1, figsize=(11, 4))\n",
    "ax = y_.plot(**plot_params, ax=ax, alpha=0.5)\n",
    "ax = plot_multistep(y_pred_, ax=ax, every=EVERY)\n",
    "_ = ax.legend([FAMILY, FAMILY + ' Forecast'])"
   ]
  },
  {
   "cell_type": "markdown",
   "id": "7856336a",
   "metadata": {
    "papermill": {
     "duration": 0.023635,
     "end_time": "2022-04-09T15:10:21.794289",
     "exception": false,
     "start_time": "2022-04-09T15:10:21.770654",
     "status": "completed"
    },
    "tags": []
   },
   "source": [
    "# Next Steps #\n",
    "\n",
    "Congratulations! You've completed Kaggle's *Time Series* course. If you haven't already, join our companion competition: [Store Sales - Time Series Forecasting](https://www.kaggle.com/c/29781) and apply the skills you've learned.\n",
    "\n",
    "For inspiration, check out Kaggle's previous forecasting competitions. Studying winning competition solutions is a great way to upgrade your skills.\n",
    "\n",
    "- [**Corporación Favorita**](https://www.kaggle.com/c/favorita-grocery-sales-forecasting): the competition *Store Sales* is derived from.\n",
    "- [**Rossmann Store Sales**](https://www.kaggle.com/c/rossmann-store-sales)\n",
    "- [**Wikipedia Web Traffic**](https://www.kaggle.com/c/web-traffic-time-series-forecasting/)\n",
    "- [**Walmart Store Sales**](https://www.kaggle.com/c/walmart-recruiting-store-sales-forecasting)\n",
    "- [**Walmart Sales in Stormy Weather**](https://www.kaggle.com/c/walmart-recruiting-sales-in-stormy-weather)\n",
    "- [**M5 Forecasting - Accuracy**](https://www.kaggle.com/c/m5-forecasting-accuracy)\n",
    "\n",
    "# References #\n",
    "\n",
    "Here are some great resources you might like to consult for more on time series and forecasting. They all played a part in shaping this course:\n",
    "\n",
    "- *Learnings from Kaggle's forecasting competitions*, an article by Casper Solheim Bojer and Jens Peder Meldgaard.\n",
    "- *Forecasting: Principles and Practice*, a book by Rob J Hyndmann and George Athanasopoulos.\n",
    "- *Practical Time Series Forecasting with R*, a book by Galit Shmueli and Kenneth C. Lichtendahl Jr.\n",
    "- *Time Series Analysis and Its Applications*, a book by Robert H. Shumway and David S. Stoffer.\n",
    "- *Machine learning strategies for time series forecasting*, an article by Gianluca Bontempi, Souhaib Ben Taieb, and Yann-Aël Le Borgne.\n",
    "- *On the use of cross-validation for time series predictor evaluation*, an article by Christoph Bergmeir and José M. Benítez.\n"
   ]
  },
  {
   "cell_type": "markdown",
   "id": "19ba80b9",
   "metadata": {
    "papermill": {
     "duration": 0.024581,
     "end_time": "2022-04-09T15:10:21.842741",
     "exception": false,
     "start_time": "2022-04-09T15:10:21.818160",
     "status": "completed"
    },
    "tags": []
   },
   "source": [
    "---\n",
    "\n",
    "\n",
    "\n",
    "\n",
    "*Have questions or comments? Visit the [course discussion forum](https://www.kaggle.com/learn/time-series/discussion) to chat with other learners.*"
   ]
  }
 ],
 "metadata": {
  "kernelspec": {
   "display_name": "Python 3",
   "language": "python",
   "name": "python3"
  },
  "language_info": {
   "codemirror_mode": {
    "name": "ipython",
    "version": 3
   },
   "file_extension": ".py",
   "mimetype": "text/x-python",
   "name": "python",
   "nbconvert_exporter": "python",
   "pygments_lexer": "ipython3",
   "version": "3.7.12"
  },
  "papermill": {
   "default_parameters": {},
   "duration": 41.029171,
   "end_time": "2022-04-09T15:10:22.577042",
   "environment_variables": {},
   "exception": null,
   "input_path": "__notebook__.ipynb",
   "output_path": "__notebook__.ipynb",
   "parameters": {},
   "start_time": "2022-04-09T15:09:41.547871",
   "version": "2.3.3"
  },
  "widgets": {
   "application/vnd.jupyter.widget-state+json": {
    "state": {
     "11d8abc957f3434fba880f0a7af4e8a8": {
      "model_module": "@jupyter-widgets/output",
      "model_module_version": "1.0.0",
      "model_name": "OutputModel",
      "state": {
       "_dom_classes": [],
       "_model_module": "@jupyter-widgets/output",
       "_model_module_version": "1.0.0",
       "_model_name": "OutputModel",
       "_view_count": null,
       "_view_module": "@jupyter-widgets/output",
       "_view_module_version": "1.0.0",
       "_view_name": "OutputView",
       "layout": "IPY_MODEL_d4ebb753872045f98313eba0e4d5e66e",
       "msg_id": "",
       "outputs": [
        {
         "data": {
          "text/html": "<style type=\"text/css\">\n#T_d369c_row0_col0, #T_d369c_row1_col0, #T_d369c_row2_col0, #T_d369c_row3_col0, #T_d369c_row4_col0, #T_d369c_row5_col0, #T_d369c_row6_col0, #T_d369c_row7_col0, #T_d369c_row8_col0, #T_d369c_row9_col0 {\n  background-color: LavenderBlush;\n}\n#T_d369c_row0_col1, #T_d369c_row0_col2, #T_d369c_row0_col3, #T_d369c_row1_col1, #T_d369c_row1_col2, #T_d369c_row1_col3, #T_d369c_row2_col1, #T_d369c_row2_col2, #T_d369c_row2_col3, #T_d369c_row3_col1, #T_d369c_row3_col2, #T_d369c_row3_col3, #T_d369c_row4_col1, #T_d369c_row4_col2, #T_d369c_row4_col3, #T_d369c_row5_col1, #T_d369c_row5_col2, #T_d369c_row5_col3, #T_d369c_row6_col1, #T_d369c_row6_col2, #T_d369c_row6_col3, #T_d369c_row7_col1, #T_d369c_row7_col2, #T_d369c_row7_col3, #T_d369c_row8_col1, #T_d369c_row8_col2, #T_d369c_row8_col3, #T_d369c_row9_col1, #T_d369c_row9_col2, #T_d369c_row9_col3 {\n  background-color: Lavender;\n}\n</style>\n<table id=\"T_d369c_\">\n  <thead>\n    <tr>\n      <th class=\"blank level0\" >&nbsp;</th>\n      <th class=\"col_heading level0 col0\" >Targets</th>\n      <th class=\"col_heading level0 col1\" colspan=\"3\">Features</th>\n    </tr>\n    <tr>\n      <th class=\"blank level1\" >&nbsp;</th>\n      <th class=\"col_heading level1 col0\" >y_step_1</th>\n      <th class=\"col_heading level1 col1\" >y_lag_1</th>\n      <th class=\"col_heading level1 col2\" >y_lag_2</th>\n      <th class=\"col_heading level1 col3\" >y_lag_3</th>\n    </tr>\n    <tr>\n      <th class=\"index_name level0\" >Year</th>\n      <th class=\"blank col0\" >&nbsp;</th>\n      <th class=\"blank col1\" >&nbsp;</th>\n      <th class=\"blank col2\" >&nbsp;</th>\n      <th class=\"blank col3\" >&nbsp;</th>\n    </tr>\n  </thead>\n  <tbody>\n    <tr>\n      <th id=\"T_d369c_level0_row0\" class=\"row_heading level0 row0\" >2010</th>\n      <td id=\"T_d369c_row0_col0\" class=\"data row0 col0\" >0</td>\n      <td id=\"T_d369c_row0_col1\" class=\"data row0 col1\" >nan</td>\n      <td id=\"T_d369c_row0_col2\" class=\"data row0 col2\" >nan</td>\n      <td id=\"T_d369c_row0_col3\" class=\"data row0 col3\" >nan</td>\n    </tr>\n    <tr>\n      <th id=\"T_d369c_level0_row1\" class=\"row_heading level0 row1\" >2011</th>\n      <td id=\"T_d369c_row1_col0\" class=\"data row1 col0\" >1</td>\n      <td id=\"T_d369c_row1_col1\" class=\"data row1 col1\" >0</td>\n      <td id=\"T_d369c_row1_col2\" class=\"data row1 col2\" >nan</td>\n      <td id=\"T_d369c_row1_col3\" class=\"data row1 col3\" >nan</td>\n    </tr>\n    <tr>\n      <th id=\"T_d369c_level0_row2\" class=\"row_heading level0 row2\" >2012</th>\n      <td id=\"T_d369c_row2_col0\" class=\"data row2 col0\" >2</td>\n      <td id=\"T_d369c_row2_col1\" class=\"data row2 col1\" >1</td>\n      <td id=\"T_d369c_row2_col2\" class=\"data row2 col2\" >0</td>\n      <td id=\"T_d369c_row2_col3\" class=\"data row2 col3\" >nan</td>\n    </tr>\n    <tr>\n      <th id=\"T_d369c_level0_row3\" class=\"row_heading level0 row3\" >2013</th>\n      <td id=\"T_d369c_row3_col0\" class=\"data row3 col0\" >3</td>\n      <td id=\"T_d369c_row3_col1\" class=\"data row3 col1\" >2</td>\n      <td id=\"T_d369c_row3_col2\" class=\"data row3 col2\" >1</td>\n      <td id=\"T_d369c_row3_col3\" class=\"data row3 col3\" >0</td>\n    </tr>\n    <tr>\n      <th id=\"T_d369c_level0_row4\" class=\"row_heading level0 row4\" >2014</th>\n      <td id=\"T_d369c_row4_col0\" class=\"data row4 col0\" >4</td>\n      <td id=\"T_d369c_row4_col1\" class=\"data row4 col1\" >3</td>\n      <td id=\"T_d369c_row4_col2\" class=\"data row4 col2\" >2</td>\n      <td id=\"T_d369c_row4_col3\" class=\"data row4 col3\" >1</td>\n    </tr>\n    <tr>\n      <th id=\"T_d369c_level0_row5\" class=\"row_heading level0 row5\" >2015</th>\n      <td id=\"T_d369c_row5_col0\" class=\"data row5 col0\" >5</td>\n      <td id=\"T_d369c_row5_col1\" class=\"data row5 col1\" >4</td>\n      <td id=\"T_d369c_row5_col2\" class=\"data row5 col2\" >3</td>\n      <td id=\"T_d369c_row5_col3\" class=\"data row5 col3\" >2</td>\n    </tr>\n    <tr>\n      <th id=\"T_d369c_level0_row6\" class=\"row_heading level0 row6\" >2016</th>\n      <td id=\"T_d369c_row6_col0\" class=\"data row6 col0\" >6</td>\n      <td id=\"T_d369c_row6_col1\" class=\"data row6 col1\" >5</td>\n      <td id=\"T_d369c_row6_col2\" class=\"data row6 col2\" >4</td>\n      <td id=\"T_d369c_row6_col3\" class=\"data row6 col3\" >3</td>\n    </tr>\n    <tr>\n      <th id=\"T_d369c_level0_row7\" class=\"row_heading level0 row7\" >2017</th>\n      <td id=\"T_d369c_row7_col0\" class=\"data row7 col0\" >7</td>\n      <td id=\"T_d369c_row7_col1\" class=\"data row7 col1\" >6</td>\n      <td id=\"T_d369c_row7_col2\" class=\"data row7 col2\" >5</td>\n      <td id=\"T_d369c_row7_col3\" class=\"data row7 col3\" >4</td>\n    </tr>\n    <tr>\n      <th id=\"T_d369c_level0_row8\" class=\"row_heading level0 row8\" >2018</th>\n      <td id=\"T_d369c_row8_col0\" class=\"data row8 col0\" >8</td>\n      <td id=\"T_d369c_row8_col1\" class=\"data row8 col1\" >7</td>\n      <td id=\"T_d369c_row8_col2\" class=\"data row8 col2\" >6</td>\n      <td id=\"T_d369c_row8_col3\" class=\"data row8 col3\" >5</td>\n    </tr>\n    <tr>\n      <th id=\"T_d369c_level0_row9\" class=\"row_heading level0 row9\" >2019</th>\n      <td id=\"T_d369c_row9_col0\" class=\"data row9 col0\" >9</td>\n      <td id=\"T_d369c_row9_col1\" class=\"data row9 col1\" >8</td>\n      <td id=\"T_d369c_row9_col2\" class=\"data row9 col2\" >7</td>\n      <td id=\"T_d369c_row9_col3\" class=\"data row9 col3\" >6</td>\n    </tr>\n  </tbody>\n</table>\n",
          "text/plain": "<pandas.io.formats.style.Styler at 0x7f9f10672a50>"
         },
         "metadata": {},
         "output_type": "display_data"
        }
       ]
      }
     },
     "1d3a6b2b2017419fb892816c8ff7a103": {
      "model_module": "@jupyter-widgets/output",
      "model_module_version": "1.0.0",
      "model_name": "OutputModel",
      "state": {
       "_dom_classes": [],
       "_model_module": "@jupyter-widgets/output",
       "_model_module_version": "1.0.0",
       "_model_name": "OutputModel",
       "_view_count": null,
       "_view_module": "@jupyter-widgets/output",
       "_view_module_version": "1.0.0",
       "_view_name": "OutputView",
       "layout": "IPY_MODEL_a554cb626f78485f9f53e635c3c449c1",
       "msg_id": "",
       "outputs": [
        {
         "data": {
          "text/html": "<style type=\"text/css\">\n#T_64fc6_row0_col0, #T_64fc6_row0_col1, #T_64fc6_row0_col2, #T_64fc6_row1_col0, #T_64fc6_row1_col1, #T_64fc6_row1_col2, #T_64fc6_row2_col0, #T_64fc6_row2_col1, #T_64fc6_row2_col2, #T_64fc6_row3_col0, #T_64fc6_row3_col1, #T_64fc6_row3_col2, #T_64fc6_row4_col0, #T_64fc6_row4_col1, #T_64fc6_row4_col2, #T_64fc6_row5_col0, #T_64fc6_row5_col1, #T_64fc6_row5_col2, #T_64fc6_row6_col0, #T_64fc6_row6_col1, #T_64fc6_row6_col2, #T_64fc6_row7_col0, #T_64fc6_row7_col1, #T_64fc6_row7_col2, #T_64fc6_row8_col0, #T_64fc6_row8_col1, #T_64fc6_row8_col2, #T_64fc6_row9_col0, #T_64fc6_row9_col1, #T_64fc6_row9_col2 {\n  background-color: LavenderBlush;\n}\n#T_64fc6_row0_col3, #T_64fc6_row0_col4, #T_64fc6_row0_col5, #T_64fc6_row0_col6, #T_64fc6_row1_col3, #T_64fc6_row1_col4, #T_64fc6_row1_col5, #T_64fc6_row1_col6, #T_64fc6_row2_col3, #T_64fc6_row2_col4, #T_64fc6_row2_col5, #T_64fc6_row2_col6, #T_64fc6_row3_col3, #T_64fc6_row3_col4, #T_64fc6_row3_col5, #T_64fc6_row3_col6, #T_64fc6_row4_col3, #T_64fc6_row4_col4, #T_64fc6_row4_col5, #T_64fc6_row4_col6, #T_64fc6_row5_col3, #T_64fc6_row5_col4, #T_64fc6_row5_col5, #T_64fc6_row5_col6, #T_64fc6_row6_col3, #T_64fc6_row6_col4, #T_64fc6_row6_col5, #T_64fc6_row6_col6, #T_64fc6_row7_col3, #T_64fc6_row7_col4, #T_64fc6_row7_col5, #T_64fc6_row7_col6, #T_64fc6_row8_col3, #T_64fc6_row8_col4, #T_64fc6_row8_col5, #T_64fc6_row8_col6, #T_64fc6_row9_col3, #T_64fc6_row9_col4, #T_64fc6_row9_col5, #T_64fc6_row9_col6 {\n  background-color: Lavender;\n}\n</style>\n<table id=\"T_64fc6_\">\n  <thead>\n    <tr>\n      <th class=\"blank level0\" >&nbsp;</th>\n      <th class=\"col_heading level0 col0\" colspan=\"3\">Targets</th>\n      <th class=\"col_heading level0 col3\" colspan=\"4\">Features</th>\n    </tr>\n    <tr>\n      <th class=\"blank level1\" >&nbsp;</th>\n      <th class=\"col_heading level1 col0\" >y_step_3</th>\n      <th class=\"col_heading level1 col1\" >y_step_2</th>\n      <th class=\"col_heading level1 col2\" >y_step_1</th>\n      <th class=\"col_heading level1 col3\" >y_lag_2</th>\n      <th class=\"col_heading level1 col4\" >y_lag_3</th>\n      <th class=\"col_heading level1 col5\" >y_lag_4</th>\n      <th class=\"col_heading level1 col6\" >y_lag_5</th>\n    </tr>\n    <tr>\n      <th class=\"index_name level0\" >Year</th>\n      <th class=\"blank col0\" >&nbsp;</th>\n      <th class=\"blank col1\" >&nbsp;</th>\n      <th class=\"blank col2\" >&nbsp;</th>\n      <th class=\"blank col3\" >&nbsp;</th>\n      <th class=\"blank col4\" >&nbsp;</th>\n      <th class=\"blank col5\" >&nbsp;</th>\n      <th class=\"blank col6\" >&nbsp;</th>\n    </tr>\n  </thead>\n  <tbody>\n    <tr>\n      <th id=\"T_64fc6_level0_row0\" class=\"row_heading level0 row0\" >2010</th>\n      <td id=\"T_64fc6_row0_col0\" class=\"data row0 col0\" >2</td>\n      <td id=\"T_64fc6_row0_col1\" class=\"data row0 col1\" >1</td>\n      <td id=\"T_64fc6_row0_col2\" class=\"data row0 col2\" >0</td>\n      <td id=\"T_64fc6_row0_col3\" class=\"data row0 col3\" >nan</td>\n      <td id=\"T_64fc6_row0_col4\" class=\"data row0 col4\" >nan</td>\n      <td id=\"T_64fc6_row0_col5\" class=\"data row0 col5\" >nan</td>\n      <td id=\"T_64fc6_row0_col6\" class=\"data row0 col6\" >nan</td>\n    </tr>\n    <tr>\n      <th id=\"T_64fc6_level0_row1\" class=\"row_heading level0 row1\" >2011</th>\n      <td id=\"T_64fc6_row1_col0\" class=\"data row1 col0\" >3</td>\n      <td id=\"T_64fc6_row1_col1\" class=\"data row1 col1\" >2</td>\n      <td id=\"T_64fc6_row1_col2\" class=\"data row1 col2\" >1</td>\n      <td id=\"T_64fc6_row1_col3\" class=\"data row1 col3\" >nan</td>\n      <td id=\"T_64fc6_row1_col4\" class=\"data row1 col4\" >nan</td>\n      <td id=\"T_64fc6_row1_col5\" class=\"data row1 col5\" >nan</td>\n      <td id=\"T_64fc6_row1_col6\" class=\"data row1 col6\" >nan</td>\n    </tr>\n    <tr>\n      <th id=\"T_64fc6_level0_row2\" class=\"row_heading level0 row2\" >2012</th>\n      <td id=\"T_64fc6_row2_col0\" class=\"data row2 col0\" >4</td>\n      <td id=\"T_64fc6_row2_col1\" class=\"data row2 col1\" >3</td>\n      <td id=\"T_64fc6_row2_col2\" class=\"data row2 col2\" >2</td>\n      <td id=\"T_64fc6_row2_col3\" class=\"data row2 col3\" >0</td>\n      <td id=\"T_64fc6_row2_col4\" class=\"data row2 col4\" >nan</td>\n      <td id=\"T_64fc6_row2_col5\" class=\"data row2 col5\" >nan</td>\n      <td id=\"T_64fc6_row2_col6\" class=\"data row2 col6\" >nan</td>\n    </tr>\n    <tr>\n      <th id=\"T_64fc6_level0_row3\" class=\"row_heading level0 row3\" >2013</th>\n      <td id=\"T_64fc6_row3_col0\" class=\"data row3 col0\" >5</td>\n      <td id=\"T_64fc6_row3_col1\" class=\"data row3 col1\" >4</td>\n      <td id=\"T_64fc6_row3_col2\" class=\"data row3 col2\" >3</td>\n      <td id=\"T_64fc6_row3_col3\" class=\"data row3 col3\" >1</td>\n      <td id=\"T_64fc6_row3_col4\" class=\"data row3 col4\" >0</td>\n      <td id=\"T_64fc6_row3_col5\" class=\"data row3 col5\" >nan</td>\n      <td id=\"T_64fc6_row3_col6\" class=\"data row3 col6\" >nan</td>\n    </tr>\n    <tr>\n      <th id=\"T_64fc6_level0_row4\" class=\"row_heading level0 row4\" >2014</th>\n      <td id=\"T_64fc6_row4_col0\" class=\"data row4 col0\" >6</td>\n      <td id=\"T_64fc6_row4_col1\" class=\"data row4 col1\" >5</td>\n      <td id=\"T_64fc6_row4_col2\" class=\"data row4 col2\" >4</td>\n      <td id=\"T_64fc6_row4_col3\" class=\"data row4 col3\" >2</td>\n      <td id=\"T_64fc6_row4_col4\" class=\"data row4 col4\" >1</td>\n      <td id=\"T_64fc6_row4_col5\" class=\"data row4 col5\" >0</td>\n      <td id=\"T_64fc6_row4_col6\" class=\"data row4 col6\" >nan</td>\n    </tr>\n    <tr>\n      <th id=\"T_64fc6_level0_row5\" class=\"row_heading level0 row5\" >2015</th>\n      <td id=\"T_64fc6_row5_col0\" class=\"data row5 col0\" >7</td>\n      <td id=\"T_64fc6_row5_col1\" class=\"data row5 col1\" >6</td>\n      <td id=\"T_64fc6_row5_col2\" class=\"data row5 col2\" >5</td>\n      <td id=\"T_64fc6_row5_col3\" class=\"data row5 col3\" >3</td>\n      <td id=\"T_64fc6_row5_col4\" class=\"data row5 col4\" >2</td>\n      <td id=\"T_64fc6_row5_col5\" class=\"data row5 col5\" >1</td>\n      <td id=\"T_64fc6_row5_col6\" class=\"data row5 col6\" >0</td>\n    </tr>\n    <tr>\n      <th id=\"T_64fc6_level0_row6\" class=\"row_heading level0 row6\" >2016</th>\n      <td id=\"T_64fc6_row6_col0\" class=\"data row6 col0\" >8</td>\n      <td id=\"T_64fc6_row6_col1\" class=\"data row6 col1\" >7</td>\n      <td id=\"T_64fc6_row6_col2\" class=\"data row6 col2\" >6</td>\n      <td id=\"T_64fc6_row6_col3\" class=\"data row6 col3\" >4</td>\n      <td id=\"T_64fc6_row6_col4\" class=\"data row6 col4\" >3</td>\n      <td id=\"T_64fc6_row6_col5\" class=\"data row6 col5\" >2</td>\n      <td id=\"T_64fc6_row6_col6\" class=\"data row6 col6\" >1</td>\n    </tr>\n    <tr>\n      <th id=\"T_64fc6_level0_row7\" class=\"row_heading level0 row7\" >2017</th>\n      <td id=\"T_64fc6_row7_col0\" class=\"data row7 col0\" >9</td>\n      <td id=\"T_64fc6_row7_col1\" class=\"data row7 col1\" >8</td>\n      <td id=\"T_64fc6_row7_col2\" class=\"data row7 col2\" >7</td>\n      <td id=\"T_64fc6_row7_col3\" class=\"data row7 col3\" >5</td>\n      <td id=\"T_64fc6_row7_col4\" class=\"data row7 col4\" >4</td>\n      <td id=\"T_64fc6_row7_col5\" class=\"data row7 col5\" >3</td>\n      <td id=\"T_64fc6_row7_col6\" class=\"data row7 col6\" >2</td>\n    </tr>\n    <tr>\n      <th id=\"T_64fc6_level0_row8\" class=\"row_heading level0 row8\" >2018</th>\n      <td id=\"T_64fc6_row8_col0\" class=\"data row8 col0\" >nan</td>\n      <td id=\"T_64fc6_row8_col1\" class=\"data row8 col1\" >9</td>\n      <td id=\"T_64fc6_row8_col2\" class=\"data row8 col2\" >8</td>\n      <td id=\"T_64fc6_row8_col3\" class=\"data row8 col3\" >6</td>\n      <td id=\"T_64fc6_row8_col4\" class=\"data row8 col4\" >5</td>\n      <td id=\"T_64fc6_row8_col5\" class=\"data row8 col5\" >4</td>\n      <td id=\"T_64fc6_row8_col6\" class=\"data row8 col6\" >3</td>\n    </tr>\n    <tr>\n      <th id=\"T_64fc6_level0_row9\" class=\"row_heading level0 row9\" >2019</th>\n      <td id=\"T_64fc6_row9_col0\" class=\"data row9 col0\" >nan</td>\n      <td id=\"T_64fc6_row9_col1\" class=\"data row9 col1\" >nan</td>\n      <td id=\"T_64fc6_row9_col2\" class=\"data row9 col2\" >9</td>\n      <td id=\"T_64fc6_row9_col3\" class=\"data row9 col3\" >7</td>\n      <td id=\"T_64fc6_row9_col4\" class=\"data row9 col4\" >6</td>\n      <td id=\"T_64fc6_row9_col5\" class=\"data row9 col5\" >5</td>\n      <td id=\"T_64fc6_row9_col6\" class=\"data row9 col6\" >4</td>\n    </tr>\n  </tbody>\n</table>\n",
          "text/plain": "<pandas.io.formats.style.Styler at 0x7f9f105f9290>"
         },
         "metadata": {},
         "output_type": "display_data"
        }
       ]
      }
     },
     "4acdc247763147ef84cc75210af974bf": {
      "model_module": "@jupyter-widgets/base",
      "model_module_version": "1.2.0",
      "model_name": "LayoutModel",
      "state": {
       "_model_module": "@jupyter-widgets/base",
       "_model_module_version": "1.2.0",
       "_model_name": "LayoutModel",
       "_view_count": null,
       "_view_module": "@jupyter-widgets/base",
       "_view_module_version": "1.2.0",
       "_view_name": "LayoutView",
       "align_content": null,
       "align_items": null,
       "align_self": null,
       "border": null,
       "bottom": null,
       "display": null,
       "flex": null,
       "flex_flow": null,
       "grid_area": null,
       "grid_auto_columns": null,
       "grid_auto_flow": null,
       "grid_auto_rows": null,
       "grid_column": null,
       "grid_gap": null,
       "grid_row": null,
       "grid_template_areas": null,
       "grid_template_columns": null,
       "grid_template_rows": null,
       "height": null,
       "justify_content": null,
       "justify_items": null,
       "left": null,
       "margin": null,
       "max_height": null,
       "max_width": null,
       "min_height": null,
       "min_width": null,
       "object_fit": null,
       "object_position": null,
       "order": null,
       "overflow": null,
       "overflow_x": null,
       "overflow_y": null,
       "padding": null,
       "right": null,
       "top": null,
       "visibility": null,
       "width": null
      }
     },
     "90e9d43a37c0494e9c88aa137474a202": {
      "model_module": "@jupyter-widgets/controls",
      "model_module_version": "1.5.0",
      "model_name": "TabModel",
      "state": {
       "_dom_classes": [],
       "_model_module": "@jupyter-widgets/controls",
       "_model_module_version": "1.5.0",
       "_model_name": "TabModel",
       "_titles": {
        "0": "Dataset 1",
        "1": "Dataset 2",
        "2": "Dataset 3"
       },
       "_view_count": null,
       "_view_module": "@jupyter-widgets/controls",
       "_view_module_version": "1.5.0",
       "_view_name": "TabView",
       "box_style": "",
       "children": [
        "IPY_MODEL_11d8abc957f3434fba880f0a7af4e8a8",
        "IPY_MODEL_1d3a6b2b2017419fb892816c8ff7a103",
        "IPY_MODEL_ae130b90c3094a7890d098cef72b53ef"
       ],
       "layout": "IPY_MODEL_f12121e56ba54279b37c9d550deafc8b",
       "selected_index": 0
      }
     },
     "a554cb626f78485f9f53e635c3c449c1": {
      "model_module": "@jupyter-widgets/base",
      "model_module_version": "1.2.0",
      "model_name": "LayoutModel",
      "state": {
       "_model_module": "@jupyter-widgets/base",
       "_model_module_version": "1.2.0",
       "_model_name": "LayoutModel",
       "_view_count": null,
       "_view_module": "@jupyter-widgets/base",
       "_view_module_version": "1.2.0",
       "_view_name": "LayoutView",
       "align_content": null,
       "align_items": null,
       "align_self": null,
       "border": null,
       "bottom": null,
       "display": null,
       "flex": null,
       "flex_flow": null,
       "grid_area": null,
       "grid_auto_columns": null,
       "grid_auto_flow": null,
       "grid_auto_rows": null,
       "grid_column": null,
       "grid_gap": null,
       "grid_row": null,
       "grid_template_areas": null,
       "grid_template_columns": null,
       "grid_template_rows": null,
       "height": null,
       "justify_content": null,
       "justify_items": null,
       "left": null,
       "margin": null,
       "max_height": null,
       "max_width": null,
       "min_height": null,
       "min_width": null,
       "object_fit": null,
       "object_position": null,
       "order": null,
       "overflow": null,
       "overflow_x": null,
       "overflow_y": null,
       "padding": null,
       "right": null,
       "top": null,
       "visibility": null,
       "width": null
      }
     },
     "ae130b90c3094a7890d098cef72b53ef": {
      "model_module": "@jupyter-widgets/output",
      "model_module_version": "1.0.0",
      "model_name": "OutputModel",
      "state": {
       "_dom_classes": [],
       "_model_module": "@jupyter-widgets/output",
       "_model_module_version": "1.0.0",
       "_model_name": "OutputModel",
       "_view_count": null,
       "_view_module": "@jupyter-widgets/output",
       "_view_module_version": "1.0.0",
       "_view_name": "OutputView",
       "layout": "IPY_MODEL_4acdc247763147ef84cc75210af974bf",
       "msg_id": "",
       "outputs": [
        {
         "data": {
          "text/html": "<style type=\"text/css\">\n#T_1ca29_row0_col0, #T_1ca29_row0_col1, #T_1ca29_row0_col2, #T_1ca29_row1_col0, #T_1ca29_row1_col1, #T_1ca29_row1_col2, #T_1ca29_row2_col0, #T_1ca29_row2_col1, #T_1ca29_row2_col2, #T_1ca29_row3_col0, #T_1ca29_row3_col1, #T_1ca29_row3_col2, #T_1ca29_row4_col0, #T_1ca29_row4_col1, #T_1ca29_row4_col2, #T_1ca29_row5_col0, #T_1ca29_row5_col1, #T_1ca29_row5_col2, #T_1ca29_row6_col0, #T_1ca29_row6_col1, #T_1ca29_row6_col2, #T_1ca29_row7_col0, #T_1ca29_row7_col1, #T_1ca29_row7_col2, #T_1ca29_row8_col0, #T_1ca29_row8_col1, #T_1ca29_row8_col2, #T_1ca29_row9_col0, #T_1ca29_row9_col1, #T_1ca29_row9_col2 {\n  background-color: LavenderBlush;\n}\n#T_1ca29_row0_col3, #T_1ca29_row0_col4, #T_1ca29_row0_col5, #T_1ca29_row0_col6, #T_1ca29_row1_col3, #T_1ca29_row1_col4, #T_1ca29_row1_col5, #T_1ca29_row1_col6, #T_1ca29_row2_col3, #T_1ca29_row2_col4, #T_1ca29_row2_col5, #T_1ca29_row2_col6, #T_1ca29_row3_col3, #T_1ca29_row3_col4, #T_1ca29_row3_col5, #T_1ca29_row3_col6, #T_1ca29_row4_col3, #T_1ca29_row4_col4, #T_1ca29_row4_col5, #T_1ca29_row4_col6, #T_1ca29_row5_col3, #T_1ca29_row5_col4, #T_1ca29_row5_col5, #T_1ca29_row5_col6, #T_1ca29_row6_col3, #T_1ca29_row6_col4, #T_1ca29_row6_col5, #T_1ca29_row6_col6, #T_1ca29_row7_col3, #T_1ca29_row7_col4, #T_1ca29_row7_col5, #T_1ca29_row7_col6, #T_1ca29_row8_col3, #T_1ca29_row8_col4, #T_1ca29_row8_col5, #T_1ca29_row8_col6, #T_1ca29_row9_col3, #T_1ca29_row9_col4, #T_1ca29_row9_col5, #T_1ca29_row9_col6 {\n  background-color: Lavender;\n}\n</style>\n<table id=\"T_1ca29_\">\n  <thead>\n    <tr>\n      <th class=\"blank level0\" >&nbsp;</th>\n      <th class=\"col_heading level0 col0\" colspan=\"3\">Targets</th>\n      <th class=\"col_heading level0 col3\" colspan=\"4\">Features</th>\n    </tr>\n    <tr>\n      <th class=\"blank level1\" >&nbsp;</th>\n      <th class=\"col_heading level1 col0\" >y_step_3</th>\n      <th class=\"col_heading level1 col1\" >y_step_2</th>\n      <th class=\"col_heading level1 col2\" >y_step_1</th>\n      <th class=\"col_heading level1 col3\" >y_lag_1</th>\n      <th class=\"col_heading level1 col4\" >y_lag_2</th>\n      <th class=\"col_heading level1 col5\" >y_lag_3</th>\n      <th class=\"col_heading level1 col6\" >y_lag_4</th>\n    </tr>\n    <tr>\n      <th class=\"index_name level0\" >Year</th>\n      <th class=\"blank col0\" >&nbsp;</th>\n      <th class=\"blank col1\" >&nbsp;</th>\n      <th class=\"blank col2\" >&nbsp;</th>\n      <th class=\"blank col3\" >&nbsp;</th>\n      <th class=\"blank col4\" >&nbsp;</th>\n      <th class=\"blank col5\" >&nbsp;</th>\n      <th class=\"blank col6\" >&nbsp;</th>\n    </tr>\n  </thead>\n  <tbody>\n    <tr>\n      <th id=\"T_1ca29_level0_row0\" class=\"row_heading level0 row0\" >2010</th>\n      <td id=\"T_1ca29_row0_col0\" class=\"data row0 col0\" >2</td>\n      <td id=\"T_1ca29_row0_col1\" class=\"data row0 col1\" >1</td>\n      <td id=\"T_1ca29_row0_col2\" class=\"data row0 col2\" >0</td>\n      <td id=\"T_1ca29_row0_col3\" class=\"data row0 col3\" >nan</td>\n      <td id=\"T_1ca29_row0_col4\" class=\"data row0 col4\" >nan</td>\n      <td id=\"T_1ca29_row0_col5\" class=\"data row0 col5\" >nan</td>\n      <td id=\"T_1ca29_row0_col6\" class=\"data row0 col6\" >nan</td>\n    </tr>\n    <tr>\n      <th id=\"T_1ca29_level0_row1\" class=\"row_heading level0 row1\" >2011</th>\n      <td id=\"T_1ca29_row1_col0\" class=\"data row1 col0\" >3</td>\n      <td id=\"T_1ca29_row1_col1\" class=\"data row1 col1\" >2</td>\n      <td id=\"T_1ca29_row1_col2\" class=\"data row1 col2\" >1</td>\n      <td id=\"T_1ca29_row1_col3\" class=\"data row1 col3\" >0</td>\n      <td id=\"T_1ca29_row1_col4\" class=\"data row1 col4\" >nan</td>\n      <td id=\"T_1ca29_row1_col5\" class=\"data row1 col5\" >nan</td>\n      <td id=\"T_1ca29_row1_col6\" class=\"data row1 col6\" >nan</td>\n    </tr>\n    <tr>\n      <th id=\"T_1ca29_level0_row2\" class=\"row_heading level0 row2\" >2012</th>\n      <td id=\"T_1ca29_row2_col0\" class=\"data row2 col0\" >4</td>\n      <td id=\"T_1ca29_row2_col1\" class=\"data row2 col1\" >3</td>\n      <td id=\"T_1ca29_row2_col2\" class=\"data row2 col2\" >2</td>\n      <td id=\"T_1ca29_row2_col3\" class=\"data row2 col3\" >1</td>\n      <td id=\"T_1ca29_row2_col4\" class=\"data row2 col4\" >0</td>\n      <td id=\"T_1ca29_row2_col5\" class=\"data row2 col5\" >nan</td>\n      <td id=\"T_1ca29_row2_col6\" class=\"data row2 col6\" >nan</td>\n    </tr>\n    <tr>\n      <th id=\"T_1ca29_level0_row3\" class=\"row_heading level0 row3\" >2013</th>\n      <td id=\"T_1ca29_row3_col0\" class=\"data row3 col0\" >5</td>\n      <td id=\"T_1ca29_row3_col1\" class=\"data row3 col1\" >4</td>\n      <td id=\"T_1ca29_row3_col2\" class=\"data row3 col2\" >3</td>\n      <td id=\"T_1ca29_row3_col3\" class=\"data row3 col3\" >2</td>\n      <td id=\"T_1ca29_row3_col4\" class=\"data row3 col4\" >1</td>\n      <td id=\"T_1ca29_row3_col5\" class=\"data row3 col5\" >0</td>\n      <td id=\"T_1ca29_row3_col6\" class=\"data row3 col6\" >nan</td>\n    </tr>\n    <tr>\n      <th id=\"T_1ca29_level0_row4\" class=\"row_heading level0 row4\" >2014</th>\n      <td id=\"T_1ca29_row4_col0\" class=\"data row4 col0\" >6</td>\n      <td id=\"T_1ca29_row4_col1\" class=\"data row4 col1\" >5</td>\n      <td id=\"T_1ca29_row4_col2\" class=\"data row4 col2\" >4</td>\n      <td id=\"T_1ca29_row4_col3\" class=\"data row4 col3\" >3</td>\n      <td id=\"T_1ca29_row4_col4\" class=\"data row4 col4\" >2</td>\n      <td id=\"T_1ca29_row4_col5\" class=\"data row4 col5\" >1</td>\n      <td id=\"T_1ca29_row4_col6\" class=\"data row4 col6\" >0</td>\n    </tr>\n    <tr>\n      <th id=\"T_1ca29_level0_row5\" class=\"row_heading level0 row5\" >2015</th>\n      <td id=\"T_1ca29_row5_col0\" class=\"data row5 col0\" >7</td>\n      <td id=\"T_1ca29_row5_col1\" class=\"data row5 col1\" >6</td>\n      <td id=\"T_1ca29_row5_col2\" class=\"data row5 col2\" >5</td>\n      <td id=\"T_1ca29_row5_col3\" class=\"data row5 col3\" >4</td>\n      <td id=\"T_1ca29_row5_col4\" class=\"data row5 col4\" >3</td>\n      <td id=\"T_1ca29_row5_col5\" class=\"data row5 col5\" >2</td>\n      <td id=\"T_1ca29_row5_col6\" class=\"data row5 col6\" >1</td>\n    </tr>\n    <tr>\n      <th id=\"T_1ca29_level0_row6\" class=\"row_heading level0 row6\" >2016</th>\n      <td id=\"T_1ca29_row6_col0\" class=\"data row6 col0\" >8</td>\n      <td id=\"T_1ca29_row6_col1\" class=\"data row6 col1\" >7</td>\n      <td id=\"T_1ca29_row6_col2\" class=\"data row6 col2\" >6</td>\n      <td id=\"T_1ca29_row6_col3\" class=\"data row6 col3\" >5</td>\n      <td id=\"T_1ca29_row6_col4\" class=\"data row6 col4\" >4</td>\n      <td id=\"T_1ca29_row6_col5\" class=\"data row6 col5\" >3</td>\n      <td id=\"T_1ca29_row6_col6\" class=\"data row6 col6\" >2</td>\n    </tr>\n    <tr>\n      <th id=\"T_1ca29_level0_row7\" class=\"row_heading level0 row7\" >2017</th>\n      <td id=\"T_1ca29_row7_col0\" class=\"data row7 col0\" >9</td>\n      <td id=\"T_1ca29_row7_col1\" class=\"data row7 col1\" >8</td>\n      <td id=\"T_1ca29_row7_col2\" class=\"data row7 col2\" >7</td>\n      <td id=\"T_1ca29_row7_col3\" class=\"data row7 col3\" >6</td>\n      <td id=\"T_1ca29_row7_col4\" class=\"data row7 col4\" >5</td>\n      <td id=\"T_1ca29_row7_col5\" class=\"data row7 col5\" >4</td>\n      <td id=\"T_1ca29_row7_col6\" class=\"data row7 col6\" >3</td>\n    </tr>\n    <tr>\n      <th id=\"T_1ca29_level0_row8\" class=\"row_heading level0 row8\" >2018</th>\n      <td id=\"T_1ca29_row8_col0\" class=\"data row8 col0\" >nan</td>\n      <td id=\"T_1ca29_row8_col1\" class=\"data row8 col1\" >9</td>\n      <td id=\"T_1ca29_row8_col2\" class=\"data row8 col2\" >8</td>\n      <td id=\"T_1ca29_row8_col3\" class=\"data row8 col3\" >7</td>\n      <td id=\"T_1ca29_row8_col4\" class=\"data row8 col4\" >6</td>\n      <td id=\"T_1ca29_row8_col5\" class=\"data row8 col5\" >5</td>\n      <td id=\"T_1ca29_row8_col6\" class=\"data row8 col6\" >4</td>\n    </tr>\n    <tr>\n      <th id=\"T_1ca29_level0_row9\" class=\"row_heading level0 row9\" >2019</th>\n      <td id=\"T_1ca29_row9_col0\" class=\"data row9 col0\" >nan</td>\n      <td id=\"T_1ca29_row9_col1\" class=\"data row9 col1\" >nan</td>\n      <td id=\"T_1ca29_row9_col2\" class=\"data row9 col2\" >9</td>\n      <td id=\"T_1ca29_row9_col3\" class=\"data row9 col3\" >8</td>\n      <td id=\"T_1ca29_row9_col4\" class=\"data row9 col4\" >7</td>\n      <td id=\"T_1ca29_row9_col5\" class=\"data row9 col5\" >6</td>\n      <td id=\"T_1ca29_row9_col6\" class=\"data row9 col6\" >5</td>\n    </tr>\n  </tbody>\n</table>\n",
          "text/plain": "<pandas.io.formats.style.Styler at 0x7f9f54dedcd0>"
         },
         "metadata": {},
         "output_type": "display_data"
        }
       ]
      }
     },
     "d4ebb753872045f98313eba0e4d5e66e": {
      "model_module": "@jupyter-widgets/base",
      "model_module_version": "1.2.0",
      "model_name": "LayoutModel",
      "state": {
       "_model_module": "@jupyter-widgets/base",
       "_model_module_version": "1.2.0",
       "_model_name": "LayoutModel",
       "_view_count": null,
       "_view_module": "@jupyter-widgets/base",
       "_view_module_version": "1.2.0",
       "_view_name": "LayoutView",
       "align_content": null,
       "align_items": null,
       "align_self": null,
       "border": null,
       "bottom": null,
       "display": null,
       "flex": null,
       "flex_flow": null,
       "grid_area": null,
       "grid_auto_columns": null,
       "grid_auto_flow": null,
       "grid_auto_rows": null,
       "grid_column": null,
       "grid_gap": null,
       "grid_row": null,
       "grid_template_areas": null,
       "grid_template_columns": null,
       "grid_template_rows": null,
       "height": null,
       "justify_content": null,
       "justify_items": null,
       "left": null,
       "margin": null,
       "max_height": null,
       "max_width": null,
       "min_height": null,
       "min_width": null,
       "object_fit": null,
       "object_position": null,
       "order": null,
       "overflow": null,
       "overflow_x": null,
       "overflow_y": null,
       "padding": null,
       "right": null,
       "top": null,
       "visibility": null,
       "width": null
      }
     },
     "f12121e56ba54279b37c9d550deafc8b": {
      "model_module": "@jupyter-widgets/base",
      "model_module_version": "1.2.0",
      "model_name": "LayoutModel",
      "state": {
       "_model_module": "@jupyter-widgets/base",
       "_model_module_version": "1.2.0",
       "_model_name": "LayoutModel",
       "_view_count": null,
       "_view_module": "@jupyter-widgets/base",
       "_view_module_version": "1.2.0",
       "_view_name": "LayoutView",
       "align_content": null,
       "align_items": null,
       "align_self": null,
       "border": null,
       "bottom": null,
       "display": null,
       "flex": null,
       "flex_flow": null,
       "grid_area": null,
       "grid_auto_columns": null,
       "grid_auto_flow": null,
       "grid_auto_rows": null,
       "grid_column": null,
       "grid_gap": null,
       "grid_row": null,
       "grid_template_areas": null,
       "grid_template_columns": null,
       "grid_template_rows": null,
       "height": null,
       "justify_content": null,
       "justify_items": null,
       "left": null,
       "margin": null,
       "max_height": null,
       "max_width": null,
       "min_height": null,
       "min_width": null,
       "object_fit": null,
       "object_position": null,
       "order": null,
       "overflow": null,
       "overflow_x": null,
       "overflow_y": null,
       "padding": null,
       "right": null,
       "top": null,
       "visibility": null,
       "width": null
      }
     }
    },
    "version_major": 2,
    "version_minor": 0
   }
  }
 },
 "nbformat": 4,
 "nbformat_minor": 5
}
