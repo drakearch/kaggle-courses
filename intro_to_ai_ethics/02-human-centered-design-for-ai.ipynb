{
 "cells": [
  {
   "cell_type": "markdown",
   "id": "d8e98372",
   "metadata": {
    "papermill": {
     "duration": 0.0155,
     "end_time": "2022-03-06T17:54:10.518998",
     "exception": false,
     "start_time": "2022-03-06T17:54:10.503498",
     "status": "completed"
    },
    "tags": []
   },
   "source": [
    "**This notebook is an exercise in the [AI Ethics](https://www.kaggle.com/learn/ai-ethics) course.  You can reference the tutorial at [this link](https://www.kaggle.com/var0101/human-centered-design-for-ai).**\n",
    "\n",
    "---\n"
   ]
  },
  {
   "cell_type": "markdown",
   "id": "b9f401bd",
   "metadata": {
    "papermill": {
     "duration": 0.013669,
     "end_time": "2022-03-06T17:54:10.547789",
     "exception": false,
     "start_time": "2022-03-06T17:54:10.534120",
     "status": "completed"
    },
    "tags": []
   },
   "source": [
    "In the tutorial, you learned about human-centered design (HCD) and became familiar with six general steps to apply it to AI systems. In this exercise, you will identify and address design issues in six interesting AI use cases. \n",
    "\n",
    "# Introduction\n",
    "\n",
    "Begin by running the next code cell.  \n",
    "- Clicking inside the code cell.\n",
    "- Click on the triangle (in the shape of a \"Play button\") that appears to the left of the code cell.\n",
    "- If your code is run successfully, you will see `Setup Complete` as output below the cell."
   ]
  },
  {
   "cell_type": "code",
   "execution_count": 1,
   "id": "41ba1a7c",
   "metadata": {
    "execution": {
     "iopub.execute_input": "2022-03-06T17:54:10.586230Z",
     "iopub.status.busy": "2022-03-06T17:54:10.585234Z",
     "iopub.status.idle": "2022-03-06T17:54:10.627820Z",
     "shell.execute_reply": "2022-03-06T17:54:10.628514Z",
     "shell.execute_reply.started": "2022-03-06T17:44:51.789761Z"
    },
    "papermill": {
     "duration": 0.066305,
     "end_time": "2022-03-06T17:54:10.628809",
     "exception": false,
     "start_time": "2022-03-06T17:54:10.562504",
     "status": "completed"
    },
    "tags": []
   },
   "outputs": [
    {
     "name": "stdout",
     "output_type": "stream",
     "text": [
      "Setup Complete\n"
     ]
    }
   ],
   "source": [
    "# Set up feedback system\n",
    "from learntools.core import binder\n",
    "binder.bind(globals())\n",
    "from learntools.ethics.ex2 import *\n",
    "print(\"Setup Complete\")"
   ]
  },
  {
   "cell_type": "markdown",
   "id": "459d03d1",
   "metadata": {
    "papermill": {
     "duration": 0.014428,
     "end_time": "2022-03-06T17:54:10.658409",
     "exception": false,
     "start_time": "2022-03-06T17:54:10.643981",
     "status": "completed"
    },
    "tags": []
   },
   "source": [
    "# 1) Reducing plastic waste\n",
    "\n",
    "A Cambodian organization wants to help reduce the significant amounts of plastic waste that pollute the Mekong River System. Which of the following would be an appropriate way to start?  (Your answer might use more than one option.)\n",
    " \n",
    "- Watch the people currently addressing the problem as they navigate existing tools and processes.\n",
    "- Conduct individual interviews with the people currently addressing the problem.\n",
    "- Assemble focus groups that consist of people currently addressing the problem.\n",
    "\n",
    "After you have answered the question, view the official solution by running the code cell below."
   ]
  },
  {
   "cell_type": "code",
   "execution_count": 2,
   "id": "8e141f56",
   "metadata": {
    "execution": {
     "iopub.execute_input": "2022-03-06T17:54:10.692477Z",
     "iopub.status.busy": "2022-03-06T17:54:10.691435Z",
     "iopub.status.idle": "2022-03-06T17:54:10.701178Z",
     "shell.execute_reply": "2022-03-06T17:54:10.701778Z",
     "shell.execute_reply.started": "2022-03-06T17:45:53.610984Z"
    },
    "papermill": {
     "duration": 0.028697,
     "end_time": "2022-03-06T17:54:10.701971",
     "exception": false,
     "start_time": "2022-03-06T17:54:10.673274",
     "status": "completed"
    },
    "tags": []
   },
   "outputs": [
    {
     "data": {
      "application/javascript": [
       "parent.postMessage({\"jupyterEvent\": \"custom.exercise_interaction\", \"data\": {\"outcomeType\": 1, \"valueTowardsCompletion\": 0.16666666666666666, \"interactionType\": 1, \"questionType\": 4, \"questionId\": \"1_ReduceWaste\", \"learnToolsVersion\": \"0.3.4\", \"failureMessage\": \"\", \"exceptionClass\": \"\", \"trace\": \"\"}}, \"*\")"
      ],
      "text/plain": [
       "<IPython.core.display.Javascript object>"
      ]
     },
     "metadata": {},
     "output_type": "display_data"
    },
    {
     "data": {
      "text/markdown": [
       "<span style=\"color:#33cc33\">Solution:</span> These are all good ways to start!"
      ],
      "text/plain": [
       "Solution: These are all good ways to start!"
      ]
     },
     "metadata": {},
     "output_type": "display_data"
    }
   ],
   "source": [
    "# Check your answer (Run this code cell to receive credit!)\n",
    "q_1.check()"
   ]
  },
  {
   "cell_type": "markdown",
   "id": "9cf139e2",
   "metadata": {
    "papermill": {
     "duration": 0.015713,
     "end_time": "2022-03-06T17:54:10.737566",
     "exception": false,
     "start_time": "2022-03-06T17:54:10.721853",
     "status": "completed"
    },
    "tags": []
   },
   "source": [
    "# 2) Detecting breast cancer\n",
    "\n",
    "Pathologists try to detect breast cancer by examining cells on tissue slides under microscopes. This tiring and repetitive work requires an expert eye. Your team wants to create a technology solution that helps pathologists with this task in real-time, using a camera. However, due to the complexity of the work, your team has not found rule-based systems to be capable of adding value to the review of images. \n",
    "\n",
    "Would AI add value to a potential solution? Why or why not?"
   ]
  },
  {
   "cell_type": "code",
   "execution_count": 3,
   "id": "d96a9a63",
   "metadata": {
    "execution": {
     "iopub.execute_input": "2022-03-06T17:54:10.773202Z",
     "iopub.status.busy": "2022-03-06T17:54:10.772199Z",
     "iopub.status.idle": "2022-03-06T17:54:10.779495Z",
     "shell.execute_reply": "2022-03-06T17:54:10.780089Z",
     "shell.execute_reply.started": "2022-03-06T17:47:01.276265Z"
    },
    "papermill": {
     "duration": 0.026849,
     "end_time": "2022-03-06T17:54:10.780274",
     "exception": false,
     "start_time": "2022-03-06T17:54:10.753425",
     "status": "completed"
    },
    "tags": []
   },
   "outputs": [
    {
     "data": {
      "application/javascript": [
       "parent.postMessage({\"jupyterEvent\": \"custom.exercise_interaction\", \"data\": {\"outcomeType\": 1, \"valueTowardsCompletion\": 0.16666666666666666, \"interactionType\": 1, \"questionType\": 4, \"questionId\": \"2_DetectCancer\", \"learnToolsVersion\": \"0.3.4\", \"failureMessage\": \"\", \"exceptionClass\": \"\", \"trace\": \"\"}}, \"*\")"
      ],
      "text/plain": [
       "<IPython.core.display.Javascript object>"
      ]
     },
     "metadata": {},
     "output_type": "display_data"
    },
    {
     "data": {
      "text/markdown": [
       "<span style=\"color:#33cc33\">Solution:</span> Yes, it would. People would generally agree that the goal is desirable, especially since the AI system will be working with pathologists rather than in their place. AI can help people with repetitive tasks and AI systems have proven effective in similar medical image recognition use cases. That said, it is important to follow current industry best practices and to be thorough in the rest of the design process, including in analyzing harms and in considering how medical practitioners will actually interact with the product in a medical setting."
      ],
      "text/plain": [
       "Solution: Yes, it would. People would generally agree that the goal is desirable, especially since the AI system will be working with pathologists rather than in their place. AI can help people with repetitive tasks and AI systems have proven effective in similar medical image recognition use cases. That said, it is important to follow current industry best practices and to be thorough in the rest of the design process, including in analyzing harms and in considering how medical practitioners will actually interact with the product in a medical setting."
      ]
     },
     "metadata": {},
     "output_type": "display_data"
    }
   ],
   "source": [
    "# Check your answer (Run this code cell to receive credit!)\n",
    "q_2.check()"
   ]
  },
  {
   "cell_type": "markdown",
   "id": "009ec4fd",
   "metadata": {
    "papermill": {
     "duration": 0.01689,
     "end_time": "2022-03-06T17:54:10.814758",
     "exception": false,
     "start_time": "2022-03-06T17:54:10.797868",
     "status": "completed"
    },
    "tags": []
   },
   "source": [
    "# 3) Flagging suspicious activity \n",
    "\n",
    "A bank is using AI to flag suspicious international money transfers for potential money laundering, anti-terrorist financing or sanctions concerns. Though the system has proven more effective than the bank’s current processes, it still frequently flags legitimate transactions for review. \n",
    "\n",
    "What are some potential harms that the system could cause, and how can the bank reduce the impacts of these potential harms?"
   ]
  },
  {
   "cell_type": "code",
   "execution_count": 4,
   "id": "129d7ff1",
   "metadata": {
    "execution": {
     "iopub.execute_input": "2022-03-06T17:54:10.852916Z",
     "iopub.status.busy": "2022-03-06T17:54:10.851968Z",
     "iopub.status.idle": "2022-03-06T17:54:10.859595Z",
     "shell.execute_reply": "2022-03-06T17:54:10.860199Z",
     "shell.execute_reply.started": "2022-03-06T17:48:59.769521Z"
    },
    "papermill": {
     "duration": 0.028457,
     "end_time": "2022-03-06T17:54:10.860415",
     "exception": false,
     "start_time": "2022-03-06T17:54:10.831958",
     "status": "completed"
    },
    "tags": []
   },
   "outputs": [
    {
     "data": {
      "application/javascript": [
       "parent.postMessage({\"jupyterEvent\": \"custom.exercise_interaction\", \"data\": {\"outcomeType\": 1, \"valueTowardsCompletion\": 0.16666666666666666, \"interactionType\": 1, \"questionType\": 4, \"questionId\": \"3_FlagActivity\", \"learnToolsVersion\": \"0.3.4\", \"failureMessage\": \"\", \"exceptionClass\": \"\", \"trace\": \"\"}}, \"*\")"
      ],
      "text/plain": [
       "<IPython.core.display.Javascript object>"
      ]
     },
     "metadata": {},
     "output_type": "display_data"
    },
    {
     "data": {
      "text/markdown": [
       "<span style=\"color:#33cc33\">Solution:</span> One potential harm is that the AI system could be biased against certain groups, flagging, delaying or denying their legitimate transactions at higher rates than those of other groups. The bank can reduce these harms by selecting data carefully, identifying and mitigating potential bias (see Lessons 3 and 4), not operationalizing the system until potential bias is addressed and ensuring appropriate and continuous human oversight of the system once it is operational."
      ],
      "text/plain": [
       "Solution: One potential harm is that the AI system could be biased against certain groups, flagging, delaying or denying their legitimate transactions at higher rates than those of other groups. The bank can reduce these harms by selecting data carefully, identifying and mitigating potential bias (see Lessons 3 and 4), not operationalizing the system until potential bias is addressed and ensuring appropriate and continuous human oversight of the system once it is operational."
      ]
     },
     "metadata": {},
     "output_type": "display_data"
    }
   ],
   "source": [
    "# Check your answer (Run this code cell to receive credit!)\n",
    "q_3.check()"
   ]
  },
  {
   "cell_type": "markdown",
   "id": "d828a528",
   "metadata": {
    "papermill": {
     "duration": 0.018197,
     "end_time": "2022-03-06T17:54:10.897835",
     "exception": false,
     "start_time": "2022-03-06T17:54:10.879638",
     "status": "completed"
    },
    "tags": []
   },
   "source": [
    "# 4) Prototyping a chatbot\n",
    "\n",
    "During an ongoing pandemic outbreak, a country’s public health agency is facing a large volume of phone calls and e-mails from people looking for health information. The agency has determined that an AI-powered interactive chatbot that answers pandemic-related questions would help people get the specific information they want quickly, while reducing the burden on the agency’s employees. How should the agency start prototyping the chatbot?\n",
    "- Build out the AI solution to the best of its ability before testing it with a diverse group of potential users.\n",
    "- Build a non-AI prototype quickly and start testing it with a diverse group of potential users."
   ]
  },
  {
   "cell_type": "code",
   "execution_count": 5,
   "id": "55c9bf2e",
   "metadata": {
    "execution": {
     "iopub.execute_input": "2022-03-06T17:54:10.943536Z",
     "iopub.status.busy": "2022-03-06T17:54:10.942794Z",
     "iopub.status.idle": "2022-03-06T17:54:10.946953Z",
     "shell.execute_reply": "2022-03-06T17:54:10.947467Z",
     "shell.execute_reply.started": "2022-03-06T17:50:50.585321Z"
    },
    "papermill": {
     "duration": 0.031173,
     "end_time": "2022-03-06T17:54:10.947666",
     "exception": false,
     "start_time": "2022-03-06T17:54:10.916493",
     "status": "completed"
    },
    "tags": []
   },
   "outputs": [
    {
     "data": {
      "application/javascript": [
       "parent.postMessage({\"jupyterEvent\": \"custom.exercise_interaction\", \"data\": {\"outcomeType\": 1, \"valueTowardsCompletion\": 0.16666666666666666, \"interactionType\": 1, \"questionType\": 4, \"questionId\": \"4_PrototypeChatbot\", \"learnToolsVersion\": \"0.3.4\", \"failureMessage\": \"\", \"exceptionClass\": \"\", \"trace\": \"\"}}, \"*\")"
      ],
      "text/plain": [
       "<IPython.core.display.Javascript object>"
      ]
     },
     "metadata": {},
     "output_type": "display_data"
    },
    {
     "data": {
      "text/markdown": [
       "<span style=\"color:#33cc33\">Solution:</span> The correct answer is: Build a non-AI prototype quickly and start testing it with a diverse group of potential users. Iterating on a non-AI prototype is easier, faster and less expensive than iterating on an AI prototype. Iterating on a non-AI prototype also provides early information on user expectations, interactions and needs. This information should inform the eventual design of AI prototypes."
      ],
      "text/plain": [
       "Solution: The correct answer is: Build a non-AI prototype quickly and start testing it with a diverse group of potential users. Iterating on a non-AI prototype is easier, faster and less expensive than iterating on an AI prototype. Iterating on a non-AI prototype also provides early information on user expectations, interactions and needs. This information should inform the eventual design of AI prototypes."
      ]
     },
     "metadata": {},
     "output_type": "display_data"
    }
   ],
   "source": [
    "# Check your answer (Run this code cell to receive credit!)\n",
    "q_4.check()"
   ]
  },
  {
   "cell_type": "markdown",
   "id": "6e47757d",
   "metadata": {
    "papermill": {
     "duration": 0.019619,
     "end_time": "2022-03-06T17:54:10.987418",
     "exception": false,
     "start_time": "2022-03-06T17:54:10.967799",
     "status": "completed"
    },
    "tags": []
   },
   "source": [
    "# 5) Detecting misinformation\n",
    "\n",
    "A social media platform is planning to deploy a new AI system to flag and remove social media messages containing misinformation. Though the system has proven effective in tests, it sometimes flags non-objectionable content as misinformation. \n",
    "\n",
    "What are some ways in which the social media platform could allow someone whose message has been flagged to contest the misinformation designation?"
   ]
  },
  {
   "cell_type": "code",
   "execution_count": 6,
   "id": "03dc0ccd",
   "metadata": {
    "execution": {
     "iopub.execute_input": "2022-03-06T17:54:11.034410Z",
     "iopub.status.busy": "2022-03-06T17:54:11.033669Z",
     "iopub.status.idle": "2022-03-06T17:54:11.038063Z",
     "shell.execute_reply": "2022-03-06T17:54:11.038575Z",
     "shell.execute_reply.started": "2022-03-06T17:52:16.480378Z"
    },
    "papermill": {
     "duration": 0.030292,
     "end_time": "2022-03-06T17:54:11.038771",
     "exception": false,
     "start_time": "2022-03-06T17:54:11.008479",
     "status": "completed"
    },
    "tags": []
   },
   "outputs": [
    {
     "data": {
      "application/javascript": [
       "parent.postMessage({\"jupyterEvent\": \"custom.exercise_interaction\", \"data\": {\"outcomeType\": 1, \"valueTowardsCompletion\": 0.16666666666666666, \"interactionType\": 1, \"questionType\": 4, \"questionId\": \"5_DetectMisinformation\", \"learnToolsVersion\": \"0.3.4\", \"failureMessage\": \"\", \"exceptionClass\": \"\", \"trace\": \"\"}}, \"*\")"
      ],
      "text/plain": [
       "<IPython.core.display.Javascript object>"
      ]
     },
     "metadata": {},
     "output_type": "display_data"
    },
    {
     "data": {
      "text/markdown": [
       "<span style=\"color:#33cc33\">Solution:</span> The social media company should ask customers how they would want to challenge a determination. It could be by easily accessing a challenge form on which a user can describe why their message does not contain misinformation, requesting further review by a human reviewer, requesting an explanation of why the content was flagged or a combination of these and other means."
      ],
      "text/plain": [
       "Solution: The social media company should ask customers how they would want to challenge a determination. It could be by easily accessing a challenge form on which a user can describe why their message does not contain misinformation, requesting further review by a human reviewer, requesting an explanation of why the content was flagged or a combination of these and other means."
      ]
     },
     "metadata": {},
     "output_type": "display_data"
    }
   ],
   "source": [
    "# Check your answer (Run this code cell to receive credit!)\n",
    "q_5.check()"
   ]
  },
  {
   "cell_type": "markdown",
   "id": "a79d8587",
   "metadata": {
    "papermill": {
     "duration": 0.020734,
     "end_time": "2022-03-06T17:54:11.080794",
     "exception": false,
     "start_time": "2022-03-06T17:54:11.060060",
     "status": "completed"
    },
    "tags": []
   },
   "source": [
    "# 6) Improving autonomous vehicles\n",
    "\n",
    "What are some of the ways to improve the safety of autonomous vehicles?  (You might pick more than one option.)\n",
    "- Incorporate the safety features of regular vehicles.\n",
    "- Test the system in a variety of environments.\n",
    "- Hire an internal ‘red team’ to play the role of bad actors seeking to manipulate the autonomous driving system. Strengthen the system against the team’s attacks on an ongoing basis."
   ]
  },
  {
   "cell_type": "code",
   "execution_count": 7,
   "id": "f306da64",
   "metadata": {
    "execution": {
     "iopub.execute_input": "2022-03-06T17:54:11.128844Z",
     "iopub.status.busy": "2022-03-06T17:54:11.126597Z",
     "iopub.status.idle": "2022-03-06T17:54:11.133493Z",
     "shell.execute_reply": "2022-03-06T17:54:11.134074Z",
     "shell.execute_reply.started": "2022-03-06T17:53:43.280108Z"
    },
    "papermill": {
     "duration": 0.032435,
     "end_time": "2022-03-06T17:54:11.134287",
     "exception": false,
     "start_time": "2022-03-06T17:54:11.101852",
     "status": "completed"
    },
    "tags": []
   },
   "outputs": [
    {
     "data": {
      "application/javascript": [
       "parent.postMessage({\"jupyterEvent\": \"custom.exercise_interaction\", \"data\": {\"outcomeType\": 1, \"valueTowardsCompletion\": 0.16666666666666666, \"interactionType\": 1, \"questionType\": 4, \"questionId\": \"6_ImproveVehicles\", \"learnToolsVersion\": \"0.3.4\", \"failureMessage\": \"\", \"exceptionClass\": \"\", \"trace\": \"\"}}, \"*\")"
      ],
      "text/plain": [
       "<IPython.core.display.Javascript object>"
      ]
     },
     "metadata": {},
     "output_type": "display_data"
    },
    {
     "data": {
      "text/markdown": [
       "<span style=\"color:#33cc33\">Solution:</span> All of these are great ways to improve safety."
      ],
      "text/plain": [
       "Solution: All of these are great ways to improve safety."
      ]
     },
     "metadata": {},
     "output_type": "display_data"
    }
   ],
   "source": [
    "# Check your answer (Run this code cell to receive credit!)\n",
    "q_6.check()"
   ]
  },
  {
   "cell_type": "markdown",
   "id": "f7b6c8fd",
   "metadata": {
    "papermill": {
     "duration": 0.022382,
     "end_time": "2022-03-06T17:54:11.179735",
     "exception": false,
     "start_time": "2022-03-06T17:54:11.157353",
     "status": "completed"
    },
    "tags": []
   },
   "source": [
    "# Keep going\n",
    "\n",
    "Continue to **[identify bias](https://www.kaggle.com/alexisbcook/identifying-bias-in-ai)** in machine learning applications."
   ]
  },
  {
   "cell_type": "markdown",
   "id": "4487515f",
   "metadata": {
    "papermill": {
     "duration": 0.021885,
     "end_time": "2022-03-06T17:54:11.224029",
     "exception": false,
     "start_time": "2022-03-06T17:54:11.202144",
     "status": "completed"
    },
    "tags": []
   },
   "source": [
    "---\n",
    "\n",
    "\n",
    "\n",
    "\n",
    "*Have questions or comments? Visit the [course discussion forum](https://www.kaggle.com/learn/ai-ethics/discussion) to chat with other learners.*"
   ]
  }
 ],
 "metadata": {
  "kernelspec": {
   "display_name": "Python 3",
   "language": "python",
   "name": "python3"
  },
  "language_info": {
   "codemirror_mode": {
    "name": "ipython",
    "version": 3
   },
   "file_extension": ".py",
   "mimetype": "text/x-python",
   "name": "python",
   "nbconvert_exporter": "python",
   "pygments_lexer": "ipython3",
   "version": "3.7.12"
  },
  "papermill": {
   "default_parameters": {},
   "duration": 11.572866,
   "end_time": "2022-03-06T17:54:12.058993",
   "environment_variables": {},
   "exception": null,
   "input_path": "__notebook__.ipynb",
   "output_path": "__notebook__.ipynb",
   "parameters": {},
   "start_time": "2022-03-06T17:54:00.486127",
   "version": "2.3.3"
  }
 },
 "nbformat": 4,
 "nbformat_minor": 5
}
