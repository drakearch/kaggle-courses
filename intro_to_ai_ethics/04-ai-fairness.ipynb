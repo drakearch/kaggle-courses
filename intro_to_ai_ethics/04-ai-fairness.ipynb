{
 "cells": [
  {
   "cell_type": "markdown",
   "id": "ccc9bed1",
   "metadata": {
    "papermill": {
     "duration": 0.02183,
     "end_time": "2022-03-06T22:14:51.882445",
     "exception": false,
     "start_time": "2022-03-06T22:14:51.860615",
     "status": "completed"
    },
    "tags": []
   },
   "source": [
    "**This notebook is an exercise in the [AI Ethics](https://www.kaggle.com/learn/ai-ethics) course.  You can reference the tutorial at [this link](https://www.kaggle.com/alexisbcook/ai-fairness).**\n",
    "\n",
    "---\n"
   ]
  },
  {
   "cell_type": "markdown",
   "id": "b76304ee",
   "metadata": {
    "papermill": {
     "duration": 0.020721,
     "end_time": "2022-03-06T22:14:51.924049",
     "exception": false,
     "start_time": "2022-03-06T22:14:51.903328",
     "status": "completed"
    },
    "tags": []
   },
   "source": [
    "In the tutorial, you learned about different ways of measuring fairness of a machine learning model.  In this exercise, you'll train a few models to approve (or deny) credit card applications and analyze fairness.  Don't worry if you're new to coding: this exercise assumes no programming knowledge.\n",
    "\n",
    "# Introduction\n",
    "\n",
    "We work with a **synthetic** dataset of information submitted by credit card applicants. \n",
    "\n",
    "To load and preview the data, run the next code cell.  When the code finishes running, you should see a message saying the data was successfully loaded, along with a preview of the first five rows of the data."
   ]
  },
  {
   "cell_type": "code",
   "execution_count": 1,
   "id": "6a70a255",
   "metadata": {
    "execution": {
     "iopub.execute_input": "2022-03-06T22:14:51.969945Z",
     "iopub.status.busy": "2022-03-06T22:14:51.968806Z",
     "iopub.status.idle": "2022-03-06T22:14:53.579263Z",
     "shell.execute_reply": "2022-03-06T22:14:53.579795Z",
     "shell.execute_reply.started": "2022-03-06T21:51:33.905342Z"
    },
    "papermill": {
     "duration": 1.63535,
     "end_time": "2022-03-06T22:14:53.580057",
     "exception": false,
     "start_time": "2022-03-06T22:14:51.944707",
     "status": "completed"
    },
    "tags": []
   },
   "outputs": [
    {
     "name": "stdout",
     "output_type": "stream",
     "text": [
      "Data successfully loaded!\n",
      "\n"
     ]
    },
    {
     "data": {
      "text/html": [
       "<div>\n",
       "<style scoped>\n",
       "    .dataframe tbody tr th:only-of-type {\n",
       "        vertical-align: middle;\n",
       "    }\n",
       "\n",
       "    .dataframe tbody tr th {\n",
       "        vertical-align: top;\n",
       "    }\n",
       "\n",
       "    .dataframe thead th {\n",
       "        text-align: right;\n",
       "    }\n",
       "</style>\n",
       "<table border=\"1\" class=\"dataframe\">\n",
       "  <thead>\n",
       "    <tr style=\"text-align: right;\">\n",
       "      <th></th>\n",
       "      <th>Num_Children</th>\n",
       "      <th>Group</th>\n",
       "      <th>Income</th>\n",
       "      <th>Own_Car</th>\n",
       "      <th>Own_Housing</th>\n",
       "    </tr>\n",
       "  </thead>\n",
       "  <tbody>\n",
       "    <tr>\n",
       "      <th>288363</th>\n",
       "      <td>1</td>\n",
       "      <td>1</td>\n",
       "      <td>40690</td>\n",
       "      <td>0</td>\n",
       "      <td>1</td>\n",
       "    </tr>\n",
       "    <tr>\n",
       "      <th>64982</th>\n",
       "      <td>2</td>\n",
       "      <td>0</td>\n",
       "      <td>75469</td>\n",
       "      <td>1</td>\n",
       "      <td>0</td>\n",
       "    </tr>\n",
       "    <tr>\n",
       "      <th>227641</th>\n",
       "      <td>1</td>\n",
       "      <td>1</td>\n",
       "      <td>70497</td>\n",
       "      <td>1</td>\n",
       "      <td>1</td>\n",
       "    </tr>\n",
       "    <tr>\n",
       "      <th>137672</th>\n",
       "      <td>1</td>\n",
       "      <td>1</td>\n",
       "      <td>61000</td>\n",
       "      <td>0</td>\n",
       "      <td>0</td>\n",
       "    </tr>\n",
       "    <tr>\n",
       "      <th>12758</th>\n",
       "      <td>1</td>\n",
       "      <td>1</td>\n",
       "      <td>56666</td>\n",
       "      <td>1</td>\n",
       "      <td>1</td>\n",
       "    </tr>\n",
       "  </tbody>\n",
       "</table>\n",
       "</div>"
      ],
      "text/plain": [
       "        Num_Children  Group  Income  Own_Car  Own_Housing\n",
       "288363             1      1   40690        0            1\n",
       "64982              2      0   75469        1            0\n",
       "227641             1      1   70497        1            1\n",
       "137672             1      1   61000        0            0\n",
       "12758              1      1   56666        1            1"
      ]
     },
     "execution_count": 1,
     "metadata": {},
     "output_type": "execute_result"
    }
   ],
   "source": [
    "# Set up feedback system\n",
    "from learntools.core import binder\n",
    "binder.bind(globals())\n",
    "from learntools.ethics.ex4 import *\n",
    "import pandas as pd\n",
    "from sklearn.model_selection import train_test_split\n",
    "\n",
    "# Load the data, separate features from target\n",
    "data = pd.read_csv(\"../input/synthetic-credit-card-approval/synthetic_credit_card_approval.csv\")\n",
    "X = data.drop([\"Target\"], axis=1)\n",
    "y = data[\"Target\"]\n",
    "\n",
    "# Break into training and test sets\n",
    "X_train, X_test, y_train, y_test = train_test_split(X, y, train_size=0.8, test_size=0.2, random_state=0)\n",
    "\n",
    "# Preview the data\n",
    "print(\"Data successfully loaded!\\n\")\n",
    "X_train.head()"
   ]
  },
  {
   "cell_type": "markdown",
   "id": "aa7f22ca",
   "metadata": {
    "papermill": {
     "duration": 0.0218,
     "end_time": "2022-03-06T22:14:53.624644",
     "exception": false,
     "start_time": "2022-03-06T22:14:53.602844",
     "status": "completed"
    },
    "tags": []
   },
   "source": [
    " The dataset contains, for each applicant:\n",
    "- income (in the `Income` column),\n",
    "- the number of children (in the `Num_Children` column),\n",
    "- whether the applicant owns a car (in the `Own_Car` column, the value is `1` if the applicant owns a car, and is else `0`), and\n",
    "- whether the applicant owns a home (in the `Own_Housing` column, the value is `1` if the applicant owns a home, and is else `0`)\n",
    "\n",
    "When evaluating fairness, we'll check how the model performs for users in different groups, as identified by the `Group` column: \n",
    "- The `Group` column breaks the users into two groups (where each group corresponds to either `0` or `1`).  \n",
    "- For instance, you can think of the column as breaking the users into two different races, ethnicities, or gender groupings.  If the column breaks users into different ethnicities, `0` could correspond to a non-Hispanic user, while `1` corresponds to a Hispanic user. \n",
    "\n",
    "\n",
    "Run the next code cell without changes to train a simple model to approve or deny individuals for a credit card.  The output shows the performance of the model."
   ]
  },
  {
   "cell_type": "code",
   "execution_count": 2,
   "id": "e22b451b",
   "metadata": {
    "execution": {
     "iopub.execute_input": "2022-03-06T22:14:53.671919Z",
     "iopub.status.busy": "2022-03-06T22:14:53.671221Z",
     "iopub.status.idle": "2022-03-06T22:14:54.786876Z",
     "shell.execute_reply": "2022-03-06T22:14:54.786348Z",
     "shell.execute_reply.started": "2022-03-06T21:52:51.333919Z"
    },
    "papermill": {
     "duration": 1.140167,
     "end_time": "2022-03-06T22:14:54.787013",
     "exception": false,
     "start_time": "2022-03-06T22:14:53.646846",
     "status": "completed"
    },
    "tags": []
   },
   "outputs": [
    {
     "name": "stdout",
     "output_type": "stream",
     "text": [
      "Total approvals: 38246\n",
      "Group A: 8028 (20.99% of approvals)\n",
      "Group B: 30218 (79.01% of approvals)\n",
      "\n",
      "Overall accuracy: 94.79%\n",
      "Group A: 94.56%\n",
      "Group B: 95.02%\n",
      "\n",
      "Sensitivity / True positive rate:\n",
      "Group A: 77.23%\n",
      "Group B: 98.03%\n"
     ]
    },
    {
     "data": {
      "image/png": "[encoded data removed]",
      "text/plain": [
       "<Figure size 432x288 with 2 Axes>"
      ]
     },
     "metadata": {
      "needs_background": "light"
     },
     "output_type": "display_data"
    },
    {
     "data": {
      "image/png": "[encoded data removed]",
      "text/plain": [
       "<Figure size 432x288 with 2 Axes>"
      ]
     },
     "metadata": {
      "needs_background": "light"
     },
     "output_type": "display_data"
    }
   ],
   "source": [
    "from sklearn import tree\n",
    "from sklearn.metrics import confusion_matrix, ConfusionMatrixDisplay\n",
    "import matplotlib.pyplot as plt\n",
    "\n",
    "# Train a model and make predictions\n",
    "model_baseline = tree.DecisionTreeClassifier(random_state=0, max_depth=3)\n",
    "model_baseline.fit(X_train, y_train)\n",
    "preds_baseline = model_baseline.predict(X_test)\n",
    "\n",
    "# Function to plot confusion matrix\n",
    "def plot_confusion_matrix(estimator, X, y_true, y_pred, display_labels=[\"Deny\", \"Approve\"],\n",
    "                          include_values=True, xticks_rotation='horizontal', values_format='',\n",
    "                          normalize=None, cmap=plt.cm.Blues):\n",
    "    cm = confusion_matrix(y_true, y_pred, normalize=normalize)\n",
    "    disp = ConfusionMatrixDisplay(confusion_matrix=cm, display_labels=display_labels)\n",
    "    return cm, disp.plot(include_values=include_values, cmap=cmap, xticks_rotation=xticks_rotation,\n",
    "                     values_format=values_format)\n",
    "\n",
    "# Function to evaluate the fairness of the model\n",
    "def get_stats(X, y, model, group_one, preds):\n",
    "        \n",
    "    y_zero, preds_zero, X_zero = y[group_one==False], preds[group_one==False], X[group_one==False]\n",
    "    y_one, preds_one, X_one = y[group_one], preds[group_one], X[group_one]\n",
    "    \n",
    "    print(\"Total approvals:\", preds.sum())\n",
    "    print(\"Group A:\", preds_zero.sum(), \"({}% of approvals)\".format(round(preds_zero.sum()/sum(preds)*100, 2)))\n",
    "    print(\"Group B:\", preds_one.sum(), \"({}% of approvals)\".format(round(preds_one.sum()/sum(preds)*100, 2)))\n",
    "    \n",
    "    print(\"\\nOverall accuracy: {}%\".format(round((preds==y).sum()/len(y)*100, 2)))\n",
    "    print(\"Group A: {}%\".format(round((preds_zero==y_zero).sum()/len(y_zero)*100, 2)))\n",
    "    print(\"Group B: {}%\".format(round((preds_one==y_one).sum()/len(y_one)*100, 2)))\n",
    "    \n",
    "    cm_zero, disp_zero = plot_confusion_matrix(model, X_zero, y_zero, preds_zero)\n",
    "    disp_zero.ax_.set_title(\"Group A\")\n",
    "    cm_one, disp_one = plot_confusion_matrix(model, X_one, y_one, preds_one)\n",
    "    disp_one.ax_.set_title(\"Group B\")\n",
    "    \n",
    "    print(\"\\nSensitivity / True positive rate:\")\n",
    "    print(\"Group A: {}%\".format(round(cm_zero[1,1] / cm_zero[1].sum()*100, 2)))\n",
    "    print(\"Group B: {}%\".format(round(cm_one[1,1] / cm_one[1].sum()*100, 2)))\n",
    "    \n",
    "# Evaluate the model    \n",
    "get_stats(X_test, y_test, model_baseline, X_test[\"Group\"]==1, preds_baseline)"
   ]
  },
  {
   "cell_type": "markdown",
   "id": "95dc06d1",
   "metadata": {
    "papermill": {
     "duration": 0.024107,
     "end_time": "2022-03-06T22:14:54.835683",
     "exception": false,
     "start_time": "2022-03-06T22:14:54.811576",
     "status": "completed"
    },
    "tags": []
   },
   "source": [
    "The confusion matrices above show how the model performs on some test data. We also print additional information (calculated from the confusion matrices) to assess fairness of the model. For instance,\n",
    "- The model approved 38246 people for a credit card. Of these individuals, 8028 belonged to Group A, and 30218 belonged to Group B.\n",
    "- The model is 94.56% accurate for Group A, and 95.02% accurate for Group B. These percentages can be calculated directly from the confusion matrix; for instance, for Group A, the accuracy is (39723+7528)/(39723+500+2219+7528).\n",
    "- The true positive rate (TPR) for Group A is 77.23%, and the TPR for Group B is 98.03%. These percentages can be calculated directly from the confusion matrix; for instance, for Group A, the TPR is 7528/(7528+2219).\n",
    "\n",
    "# 1) Varieties of fairness\n",
    "\n",
    "Consider three different types of fairness covered in the tutorial:\n",
    "- **Demographic parity**: Which group has an unfair advantage, with more representation in the group of approved applicants?  (Roughly 50% of applicants are from Group A, and 50% of applicants are from Group B.)\n",
    "- **Equal accuracy**: Which group has an unfair advantage, where applicants are more likely to be correctly classified? \n",
    "- **Equal opportunity**:  Which group has an unfair advantage, with a higher true positive rate?"
   ]
  },
  {
   "cell_type": "code",
   "execution_count": 3,
   "id": "9b50aff4",
   "metadata": {
    "execution": {
     "iopub.execute_input": "2022-03-06T22:14:54.889316Z",
     "iopub.status.busy": "2022-03-06T22:14:54.888249Z",
     "iopub.status.idle": "2022-03-06T22:14:54.892828Z",
     "shell.execute_reply": "2022-03-06T22:14:54.893410Z",
     "shell.execute_reply.started": "2022-03-06T21:58:35.023902Z"
    },
    "papermill": {
     "duration": 0.032994,
     "end_time": "2022-03-06T22:14:54.893572",
     "exception": false,
     "start_time": "2022-03-06T22:14:54.860578",
     "status": "completed"
    },
    "tags": []
   },
   "outputs": [
    {
     "data": {
      "application/javascript": [
       "parent.postMessage({\"jupyterEvent\": \"custom.exercise_interaction\", \"data\": {\"outcomeType\": 1, \"valueTowardsCompletion\": 0.25, \"interactionType\": 1, \"questionType\": 4, \"questionId\": \"1_VarietiesOfFairness\", \"learnToolsVersion\": \"0.3.4\", \"failureMessage\": \"\", \"exceptionClass\": \"\", \"trace\": \"\"}}, \"*\")"
      ],
      "text/plain": [
       "<IPython.core.display.Javascript object>"
      ]
     },
     "metadata": {},
     "output_type": "display_data"
    },
    {
     "data": {
      "text/markdown": [
       "<span style=\"color:#33cc33\">Solution:</span> All of the fairness criteria are unfairly biased in favor of Group B. 79.01% of applicants are from Group B -- if demographic parity is our fairness criterion, fair would mean that 50% of the applicants are from Group B. The model is also slightly more accurate for applicants from Group B (with accuracy of 95.02%, vs 94.56% for Group A). The true positive rate is very high for Group B (98.03%, vs. 77.23% for Group A). In other words, for Group B, almost all people who should be approved are actually approved. For Group A, if you should be approved, your chances of actually being approved are much lower."
      ],
      "text/plain": [
       "Solution: All of the fairness criteria are unfairly biased in favor of Group B. 79.01% of applicants are from Group B -- if demographic parity is our fairness criterion, fair would mean that 50% of the applicants are from Group B. The model is also slightly more accurate for applicants from Group B (with accuracy of 95.02%, vs 94.56% for Group A). The true positive rate is very high for Group B (98.03%, vs. 77.23% for Group A). In other words, for Group B, almost all people who should be approved are actually approved. For Group A, if you should be approved, your chances of actually being approved are much lower."
      ]
     },
     "metadata": {},
     "output_type": "display_data"
    }
   ],
   "source": [
    "# Check your answer (Run this code cell to get credit!)\n",
    "q_1.check()"
   ]
  },
  {
   "cell_type": "markdown",
   "id": "3670ceb5",
   "metadata": {
    "papermill": {
     "duration": 0.026416,
     "end_time": "2022-03-06T22:14:54.946385",
     "exception": false,
     "start_time": "2022-03-06T22:14:54.919969",
     "status": "completed"
    },
    "tags": []
   },
   "source": [
    "Run the next code cell without changes to visualize the model."
   ]
  },
  {
   "cell_type": "code",
   "execution_count": 4,
   "id": "339f69e7",
   "metadata": {
    "execution": {
     "iopub.execute_input": "2022-03-06T22:14:55.005344Z",
     "iopub.status.busy": "2022-03-06T22:14:55.004662Z",
     "iopub.status.idle": "2022-03-06T22:14:55.811893Z",
     "shell.execute_reply": "2022-03-06T22:14:55.811429Z",
     "shell.execute_reply.started": "2022-03-06T22:00:18.823791Z"
    },
    "papermill": {
     "duration": 0.838762,
     "end_time": "2022-03-06T22:14:55.812014",
     "exception": false,
     "start_time": "2022-03-06T22:14:54.973252",
     "status": "completed"
    },
    "tags": []
   },
   "outputs": [
    {
     "data": {
      "image/png": "[encoded data removed]",
      "text/plain": [
       "<Figure size 1440x432 with 1 Axes>"
      ]
     },
     "metadata": {
      "needs_background": "light"
     },
     "output_type": "display_data"
    }
   ],
   "source": [
    "def visualize_model(model, feature_names, class_names=[\"Deny\", \"Approve\"], impurity=False):\n",
    "    plot_list = tree.plot_tree(model, feature_names=feature_names, class_names=class_names, impurity=impurity)\n",
    "    [process_plot_item(item) for item in plot_list]\n",
    "\n",
    "def process_plot_item(item):\n",
    "    split_string = item.get_text().split(\"\\n\")\n",
    "    if split_string[0].startswith(\"samples\"):\n",
    "        item.set_text(split_string[-1])\n",
    "    else:\n",
    "        item.set_text(split_string[0])\n",
    "\n",
    "plt.figure(figsize=(20, 6))\n",
    "plot_list = visualize_model(model_baseline, feature_names=X_train.columns)"
   ]
  },
  {
   "cell_type": "markdown",
   "id": "652a7378",
   "metadata": {
    "papermill": {
     "duration": 0.019043,
     "end_time": "2022-03-06T22:14:55.850397",
     "exception": false,
     "start_time": "2022-03-06T22:14:55.831354",
     "status": "completed"
    },
    "tags": []
   },
   "source": [
    "The flowchart shows how the model makes decisions:\n",
    "- `Group <= 0.5` checks what group the applicant belongs to: if the applicant belongs to Group A, then `Group <= 0.5` is true.\n",
    "- Entries like `Income <= 80210.5` check the applicant's income.\n",
    "\n",
    "To follow the flow chart, we start at the top and trace a path depending on the details of the applicant.  If the condition is true at a split, then we move down and to the left branch.  If it is false, then we move to the right branch.\n",
    "\n",
    "For instance, consider an applicant in Group B, who has an income of 75k.  Then, \n",
    "- We start at the top of the flow chart.  the applicant has an income of 75k, so `Income <= 80210.5` is true, and we move to the left.\n",
    "- Next, we check the income again. Since `Income <= 71909.5` is false, we move to the right.\n",
    "- The last thing to check is what group the applicant belongs to.  The applicant belongs to Group B, so `Group <= 0.5` is false, and we move to the right, where the model has decided to approve the applicant.\n",
    "\n",
    "# 2) Understand the baseline model\n",
    "\n",
    "Based on the visualization, how can you explain one source of unfairness in the model?\n",
    "\n",
    "**Hint**: Consider the example applicant, but change the group membership from Group B to Group A (leaving all other characteristics the same).  Is this slightly different applicant approved or denied by the model?"
   ]
  },
  {
   "cell_type": "code",
   "execution_count": 5,
   "id": "5849b8e8",
   "metadata": {
    "execution": {
     "iopub.execute_input": "2022-03-06T22:14:55.890596Z",
     "iopub.status.busy": "2022-03-06T22:14:55.890134Z",
     "iopub.status.idle": "2022-03-06T22:14:55.895549Z",
     "shell.execute_reply": "2022-03-06T22:14:55.895992Z",
     "shell.execute_reply.started": "2022-03-06T22:04:31.942744Z"
    },
    "papermill": {
     "duration": 0.02709,
     "end_time": "2022-03-06T22:14:55.896165",
     "exception": false,
     "start_time": "2022-03-06T22:14:55.869075",
     "status": "completed"
    },
    "tags": []
   },
   "outputs": [
    {
     "data": {
      "application/javascript": [
       "parent.postMessage({\"jupyterEvent\": \"custom.exercise_interaction\", \"data\": {\"outcomeType\": 1, \"valueTowardsCompletion\": 0.25, \"interactionType\": 1, \"questionType\": 4, \"questionId\": \"2_BaselineModel\", \"learnToolsVersion\": \"0.3.4\", \"failureMessage\": \"\", \"exceptionClass\": \"\", \"trace\": \"\"}}, \"*\")"
      ],
      "text/plain": [
       "<IPython.core.display.Javascript object>"
      ]
     },
     "metadata": {},
     "output_type": "display_data"
    },
    {
     "data": {
      "text/markdown": [
       "<span style=\"color:#33cc33\">Solution:</span> For all applicants with income between 71909.5 and 88440.5, the model's decision depends on group membership: the model approves applicants from Group B and denies applicants from Group A.  Since we want the model to treat individuals from Group A and Group B fairly, this is clearly a bad model.  Although this data is very simple, in practice, with much larger data, visualizing the how a model makes decisions can be very useful to more deeply understand what might be going wrong with a model."
      ],
      "text/plain": [
       "Solution: For all applicants with income between 71909.5 and 88440.5, the model's decision depends on group membership: the model approves applicants from Group B and denies applicants from Group A.  Since we want the model to treat individuals from Group A and Group B fairly, this is clearly a bad model.  Although this data is very simple, in practice, with much larger data, visualizing the how a model makes decisions can be very useful to more deeply understand what might be going wrong with a model."
      ]
     },
     "metadata": {},
     "output_type": "display_data"
    }
   ],
   "source": [
    "# Check your answer (Run this code cell to get credit!)\n",
    "q_2.check()"
   ]
  },
  {
   "cell_type": "markdown",
   "id": "0b13a321",
   "metadata": {
    "papermill": {
     "duration": 0.019395,
     "end_time": "2022-03-06T22:14:55.935581",
     "exception": false,
     "start_time": "2022-03-06T22:14:55.916186",
     "status": "completed"
    },
    "tags": []
   },
   "source": [
    "Next, you decide to remove group membership from the training data and train a new model.  Do you think this will make the model treat the groups more equally?\n",
    "\n",
    "Run the next code cell to see how this new **group unaware** model performs."
   ]
  },
  {
   "cell_type": "code",
   "execution_count": 6,
   "id": "e5aaa511",
   "metadata": {
    "execution": {
     "iopub.execute_input": "2022-03-06T22:14:55.978630Z",
     "iopub.status.busy": "2022-03-06T22:14:55.978183Z",
     "iopub.status.idle": "2022-03-06T22:14:56.886499Z",
     "shell.execute_reply": "2022-03-06T22:14:56.886138Z",
     "shell.execute_reply.started": "2022-03-06T22:06:18.056444Z"
    },
    "papermill": {
     "duration": 0.93108,
     "end_time": "2022-03-06T22:14:56.886606",
     "exception": false,
     "start_time": "2022-03-06T22:14:55.955526",
     "status": "completed"
    },
    "tags": []
   },
   "outputs": [
    {
     "name": "stdout",
     "output_type": "stream",
     "text": [
      "Total approvals: 36670\n",
      "Group A: 11624 (31.7% of approvals)\n",
      "Group B: 25046 (68.3% of approvals)\n",
      "\n",
      "Overall accuracy: 92.66%\n",
      "Group A: 93.61%\n",
      "Group B: 91.72%\n",
      "\n",
      "Sensitivity / True positive rate:\n",
      "Group A: 93.24%\n",
      "Group B: 86.21%\n"
     ]
    },
    {
     "data": {
      "image/png": "[encoded data removed]",
      "text/plain": [
       "<Figure size 432x288 with 2 Axes>"
      ]
     },
     "metadata": {
      "needs_background": "light"
     },
     "output_type": "display_data"
    },
    {
     "data": {
      "image/png": "[encoded data removed]",
      "text/plain": [
       "<Figure size 432x288 with 2 Axes>"
      ]
     },
     "metadata": {
      "needs_background": "light"
     },
     "output_type": "display_data"
    }
   ],
   "source": [
    "# Create new dataset with gender removed\n",
    "X_train_unaware = X_train.drop([\"Group\"],axis=1)\n",
    "X_test_unaware = X_test.drop([\"Group\"],axis=1)\n",
    "\n",
    "# Train new model on new dataset\n",
    "model_unaware = tree.DecisionTreeClassifier(random_state=0, max_depth=3)\n",
    "model_unaware.fit(X_train_unaware, y_train)\n",
    "\n",
    "# Evaluate the model\n",
    "preds_unaware = model_unaware.predict(X_test_unaware)\n",
    "get_stats(X_test_unaware, y_test, model_unaware, X_test[\"Group\"]==1, preds_unaware)"
   ]
  },
  {
   "cell_type": "markdown",
   "id": "0b41bbe1",
   "metadata": {
    "papermill": {
     "duration": 0.019956,
     "end_time": "2022-03-06T22:14:56.926611",
     "exception": false,
     "start_time": "2022-03-06T22:14:56.906655",
     "status": "completed"
    },
    "tags": []
   },
   "source": [
    "# 3) Varieties of fairness, part 2\n",
    "\n",
    "How does this model compare to the first model you trained, when you consider **demographic parity**, **equal accuracy**, and **equal opportunity**?  Once you have an answer, run the next code cell."
   ]
  },
  {
   "cell_type": "code",
   "execution_count": 7,
   "id": "84fd4746",
   "metadata": {
    "execution": {
     "iopub.execute_input": "2022-03-06T22:14:56.969073Z",
     "iopub.status.busy": "2022-03-06T22:14:56.968409Z",
     "iopub.status.idle": "2022-03-06T22:14:56.972466Z",
     "shell.execute_reply": "2022-03-06T22:14:56.972959Z",
     "shell.execute_reply.started": "2022-03-06T22:07:39.063365Z"
    },
    "papermill": {
     "duration": 0.026867,
     "end_time": "2022-03-06T22:14:56.973149",
     "exception": false,
     "start_time": "2022-03-06T22:14:56.946282",
     "status": "completed"
    },
    "tags": []
   },
   "outputs": [
    {
     "data": {
      "application/javascript": [
       "parent.postMessage({\"jupyterEvent\": \"custom.exercise_interaction\", \"data\": {\"outcomeType\": 1, \"valueTowardsCompletion\": 0.25, \"interactionType\": 1, \"questionType\": 4, \"questionId\": \"3_VarietiesOfFairnessTwo\", \"learnToolsVersion\": \"0.3.4\", \"failureMessage\": \"\", \"exceptionClass\": \"\", \"trace\": \"\"}}, \"*\")"
      ],
      "text/plain": [
       "<IPython.core.display.Javascript object>"
      ]
     },
     "metadata": {},
     "output_type": "display_data"
    },
    {
     "data": {
      "text/markdown": [
       "<span style=\"color:#33cc33\">Solution:</span> When we consider demographic parity, the new model is still biased in favor of Group B, but is now a bit more fair than the original model. But now, if you consider either equal accuracy or equal opportunity, the model is biased in favor of Group A! It's also important to note that the overall accuracy of the model has dropped -- for each group, the model is making slightly less accurate decisions."
      ],
      "text/plain": [
       "Solution: When we consider demographic parity, the new model is still biased in favor of Group B, but is now a bit more fair than the original model. But now, if you consider either equal accuracy or equal opportunity, the model is biased in favor of Group A! It's also important to note that the overall accuracy of the model has dropped -- for each group, the model is making slightly less accurate decisions."
      ]
     },
     "metadata": {},
     "output_type": "display_data"
    }
   ],
   "source": [
    "# Check your answer (Run this code cell to get credit!)\n",
    "q_3.check()"
   ]
  },
  {
   "cell_type": "markdown",
   "id": "41e760ea",
   "metadata": {
    "papermill": {
     "duration": 0.032665,
     "end_time": "2022-03-06T22:14:57.038573",
     "exception": false,
     "start_time": "2022-03-06T22:14:57.005908",
     "status": "completed"
    },
    "tags": []
   },
   "source": [
    "You decide to train a third potential model, this time with the goal of having each group have even representation in the group of approved applicants.  (This is an implementation of group thresholds, which you can optionally read more about [here](https://pair-code.github.io/what-if-tool/ai-fairness.html).)  \n",
    "\n",
    "Run the next code cell without changes to evaluate this new model.  "
   ]
  },
  {
   "cell_type": "code",
   "execution_count": 8,
   "id": "b23dcf8e",
   "metadata": {
    "execution": {
     "iopub.execute_input": "2022-03-06T22:14:57.107133Z",
     "iopub.status.busy": "2022-03-06T22:14:57.106474Z",
     "iopub.status.idle": "2022-03-06T22:14:57.572136Z",
     "shell.execute_reply": "2022-03-06T22:14:57.572494Z",
     "shell.execute_reply.started": "2022-03-06T22:10:10.761937Z"
    },
    "papermill": {
     "duration": 0.501149,
     "end_time": "2022-03-06T22:14:57.572626",
     "exception": false,
     "start_time": "2022-03-06T22:14:57.071477",
     "status": "completed"
    },
    "tags": []
   },
   "outputs": [
    {
     "name": "stdout",
     "output_type": "stream",
     "text": [
      "Total approvals: 38241\n",
      "Group A: 19869 (51.96% of approvals)\n",
      "Group B: 18372 (48.04% of approvals)\n",
      "\n",
      "Overall accuracy: 79.38%\n",
      "Group A: 79.74%\n",
      "Group B: 79.02%\n",
      "\n",
      "Sensitivity / True positive rate:\n",
      "Group A: 100.0%\n",
      "Group B: 63.64%\n"
     ]
    },
    {
     "data": {
      "image/png": "[encoded data removed]",
      "text/plain": [
       "<Figure size 432x288 with 2 Axes>"
      ]
     },
     "metadata": {
      "needs_background": "light"
     },
     "output_type": "display_data"
    },
    {
     "data": {
      "image/png": "[encoded data removed]",
      "text/plain": [
       "<Figure size 432x288 with 2 Axes>"
      ]
     },
     "metadata": {
      "needs_background": "light"
     },
     "output_type": "display_data"
    }
   ],
   "source": [
    "# Change the value of zero_threshold to hit the objective\n",
    "zero_threshold = 0.11\n",
    "one_threshold = 0.99\n",
    "\n",
    "# Evaluate the model\n",
    "test_probs = model_unaware.predict_proba(X_test_unaware)[:,1]\n",
    "preds_approval = (((test_probs>zero_threshold)*1)*[X_test[\"Group\"]==0] + ((test_probs>one_threshold)*1)*[X_test[\"Group\"]==1])[0]\n",
    "get_stats(X_test, y_test, model_unaware, X_test[\"Group\"]==1, preds_approval)"
   ]
  },
  {
   "cell_type": "markdown",
   "id": "10a624b5",
   "metadata": {
    "papermill": {
     "duration": 0.024226,
     "end_time": "2022-03-06T22:14:57.620944",
     "exception": false,
     "start_time": "2022-03-06T22:14:57.596718",
     "status": "completed"
    },
    "tags": []
   },
   "source": [
    "# 4) Varieties of fairness, part 3\n",
    "\n",
    "How does this final model compare to the previous models, when you consider **demographic parity**, **equal accuracy**, and **equal opportunity**?"
   ]
  },
  {
   "cell_type": "code",
   "execution_count": 9,
   "id": "8c61d199",
   "metadata": {
    "execution": {
     "iopub.execute_input": "2022-03-06T22:14:57.672269Z",
     "iopub.status.busy": "2022-03-06T22:14:57.671795Z",
     "iopub.status.idle": "2022-03-06T22:14:57.677776Z",
     "shell.execute_reply": "2022-03-06T22:14:57.678218Z",
     "shell.execute_reply.started": "2022-03-06T22:10:53.983884Z"
    },
    "papermill": {
     "duration": 0.033057,
     "end_time": "2022-03-06T22:14:57.678341",
     "exception": false,
     "start_time": "2022-03-06T22:14:57.645284",
     "status": "completed"
    },
    "tags": []
   },
   "outputs": [
    {
     "data": {
      "application/javascript": [
       "parent.postMessage({\"jupyterEvent\": \"custom.exercise_interaction\", \"data\": {\"outcomeType\": 1, \"valueTowardsCompletion\": 0.25, \"interactionType\": 1, \"questionType\": 4, \"questionId\": \"4_VarietiesOfFairnessThree\", \"learnToolsVersion\": \"0.3.4\", \"failureMessage\": \"\", \"exceptionClass\": \"\", \"trace\": \"\"}}, \"*\")"
      ],
      "text/plain": [
       "<IPython.core.display.Javascript object>"
      ]
     },
     "metadata": {},
     "output_type": "display_data"
    },
    {
     "data": {
      "text/markdown": [
       "<span style=\"color:#33cc33\">Solution:</span> This model acheives nearly equal representation in the pool of approved applicants from each group -- if demographic parity is what we care about, then this model is much more fair than the first two models. Accuracy is roughly the same for each group, but there is a substantial drop in overall accuracy for each group. If we examine the model for equal opportunity fairness, the model is biased in favor of Group A: all individuals from Group A who should be approved are approved, whereas only 63% of individuals from Group B who should be approved are approved.  (This is similar to the dynamic in the first model, with the favored group switched -- that is, in the first model, nearly all individuals from Group B who should be approved were approved by the model."
      ],
      "text/plain": [
       "Solution: This model acheives nearly equal representation in the pool of approved applicants from each group -- if demographic parity is what we care about, then this model is much more fair than the first two models. Accuracy is roughly the same for each group, but there is a substantial drop in overall accuracy for each group. If we examine the model for equal opportunity fairness, the model is biased in favor of Group A: all individuals from Group A who should be approved are approved, whereas only 63% of individuals from Group B who should be approved are approved.  (This is similar to the dynamic in the first model, with the favored group switched -- that is, in the first model, nearly all individuals from Group B who should be approved were approved by the model."
      ]
     },
     "metadata": {},
     "output_type": "display_data"
    }
   ],
   "source": [
    "# Check your answer (Run this code cell to get credit!)\n",
    "q_4.check()"
   ]
  },
  {
   "cell_type": "markdown",
   "id": "19e22a1d",
   "metadata": {
    "papermill": {
     "duration": 0.025561,
     "end_time": "2022-03-06T22:14:57.729097",
     "exception": false,
     "start_time": "2022-03-06T22:14:57.703536",
     "status": "completed"
    },
    "tags": []
   },
   "source": [
    "This is only a short exercise to explore different types of fairness, and to illustrate the tradeoff that can occur when you optimize for one type of fairness over another.  We have focused on model training here, but in practice, to really mitigate bias, or to make ML systems fair, we need to take a close look at every step in the process, from data collection to releasing a final product to users. \n",
    "\n",
    "For instance, if you take a close look at the data, you'll notice that on average, individuals from Group B tend to have higher income than individuals from Group A, and are also more likely to own a home or a car.  Knowing this will prove invaluable to deciding what fairness criterion you should use, and to inform ways to achieve fairness.  (*For instance, it would likely be a bad aproach, if you did not remove the historical bias in the data and then train the model to get equal accuracy for each group.*)\n",
    "\n",
    "In this course, we intentionally avoid taking an opinionated stance on how exactly to minimize bias and ensure fairness in specific projects.  This is because the correct answers continue to evolve, since AI fairness is an active area of research.  This lesson was a hands-on introduction to the topic, and you can continue your learning by reading blog posts from the [Partnership on AI](https://www.partnershiponai.org/research-lander/) or by following conferences like the [ACM Conference on Fairness, Accountability, and Transparency (ACM FAccT)](https://facctconference.org/)."
   ]
  },
  {
   "cell_type": "markdown",
   "id": "998e54f8",
   "metadata": {
    "papermill": {
     "duration": 0.025754,
     "end_time": "2022-03-06T22:14:57.780637",
     "exception": false,
     "start_time": "2022-03-06T22:14:57.754883",
     "status": "completed"
    },
    "tags": []
   },
   "source": [
    "# Keep going\n",
    "\n",
    "Continue to **[learn how to use model cards](https://www.kaggle.com/var0101/model-cards)** to make machine learning models transparent to large audiences."
   ]
  }
 ],
 "metadata": {
  "kernelspec": {
   "display_name": "Python 3",
   "language": "python",
   "name": "python3"
  },
  "language_info": {
   "codemirror_mode": {
    "name": "ipython",
    "version": 3
   },
   "file_extension": ".py",
   "mimetype": "text/x-python",
   "name": "python",
   "nbconvert_exporter": "python",
   "pygments_lexer": "ipython3",
   "version": "3.7.12"
  },
  "papermill": {
   "default_parameters": {},
   "duration": 17.653723,
   "end_time": "2022-03-06T22:14:58.617526",
   "environment_variables": {},
   "exception": null,
   "input_path": "__notebook__.ipynb",
   "output_path": "__notebook__.ipynb",
   "parameters": {},
   "start_time": "2022-03-06T22:14:40.963803",
   "version": "2.3.3"
  }
 },
 "nbformat": 4,
 "nbformat_minor": 5
}
