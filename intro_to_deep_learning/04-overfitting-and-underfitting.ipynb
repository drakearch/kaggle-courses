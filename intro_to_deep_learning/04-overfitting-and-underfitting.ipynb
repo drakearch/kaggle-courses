{
 "cells": [
  {
   "cell_type": "markdown",
   "id": "ad442dfc",
   "metadata": {
    "papermill": {
     "duration": 0.014978,
     "end_time": "2022-02-05T23:15:40.277539",
     "exception": false,
     "start_time": "2022-02-05T23:15:40.262561",
     "status": "completed"
    },
    "tags": []
   },
   "source": [
    "**This notebook is an exercise in the [Intro to Deep Learning](https://www.kaggle.com/learn/intro-to-deep-learning) course.  You can reference the tutorial at [this link](https://www.kaggle.com/ryanholbrook/overfitting-and-underfitting).**\n",
    "\n",
    "---\n"
   ]
  },
  {
   "cell_type": "markdown",
   "id": "3c4a33f3",
   "metadata": {
    "papermill": {
     "duration": 0.013099,
     "end_time": "2022-02-05T23:15:40.305142",
     "exception": false,
     "start_time": "2022-02-05T23:15:40.292043",
     "status": "completed"
    },
    "tags": []
   },
   "source": [
    "# Introduction #\n",
    "\n",
    "In this exercise, you’ll learn how to improve training outcomes by including an early stopping callback to prevent overfitting.\n",
    "\n",
    "When you're ready, run this next cell to set everything up!"
   ]
  },
  {
   "cell_type": "code",
   "execution_count": 1,
   "id": "65200ec1",
   "metadata": {
    "execution": {
     "iopub.execute_input": "2022-02-05T23:15:40.337169Z",
     "iopub.status.busy": "2022-02-05T23:15:40.335484Z",
     "iopub.status.idle": "2022-02-05T23:15:40.366083Z",
     "shell.execute_reply": "2022-02-05T23:15:40.365589Z",
     "shell.execute_reply.started": "2022-02-05T23:06:54.528922Z"
    },
    "papermill": {
     "duration": 0.047657,
     "end_time": "2022-02-05T23:15:40.366253",
     "exception": false,
     "start_time": "2022-02-05T23:15:40.318596",
     "status": "completed"
    },
    "tags": []
   },
   "outputs": [],
   "source": [
    "# Setup plotting\n",
    "import matplotlib.pyplot as plt\n",
    "plt.style.use('seaborn-whitegrid')\n",
    "# Set Matplotlib defaults\n",
    "plt.rc('figure', autolayout=True)\n",
    "plt.rc('axes', labelweight='bold', labelsize='large',\n",
    "       titleweight='bold', titlesize=18, titlepad=10)\n",
    "plt.rc('animation', html='html5')\n",
    "\n",
    "# Setup feedback system\n",
    "from learntools.core import binder\n",
    "binder.bind(globals())\n",
    "from learntools.deep_learning_intro.ex4 import *"
   ]
  },
  {
   "cell_type": "markdown",
   "id": "c1d590e4",
   "metadata": {
    "papermill": {
     "duration": 0.020957,
     "end_time": "2022-02-05T23:15:40.400648",
     "exception": false,
     "start_time": "2022-02-05T23:15:40.379691",
     "status": "completed"
    },
    "tags": []
   },
   "source": [
    "First load the *Spotify* dataset. Your task will be to predict the popularity of a song based on various audio features, like `'tempo'`, `'danceability'`, and `'mode'`."
   ]
  },
  {
   "cell_type": "code",
   "execution_count": 2,
   "id": "392d608e",
   "metadata": {
    "execution": {
     "iopub.execute_input": "2022-02-05T23:15:40.455715Z",
     "iopub.status.busy": "2022-02-05T23:15:40.454834Z",
     "iopub.status.idle": "2022-02-05T23:15:46.600026Z",
     "shell.execute_reply": "2022-02-05T23:15:46.600666Z",
     "shell.execute_reply.started": "2022-02-05T23:09:31.944941Z"
    },
    "papermill": {
     "duration": 6.176258,
     "end_time": "2022-02-05T23:15:46.600917",
     "exception": false,
     "start_time": "2022-02-05T23:15:40.424659",
     "status": "completed"
    },
    "tags": []
   },
   "outputs": [
    {
     "name": "stdout",
     "output_type": "stream",
     "text": [
      "Input shape: [18]\n"
     ]
    }
   ],
   "source": [
    "import pandas as pd\n",
    "from sklearn.preprocessing import StandardScaler, OneHotEncoder\n",
    "from sklearn.compose import make_column_transformer\n",
    "from sklearn.model_selection import GroupShuffleSplit\n",
    "\n",
    "from tensorflow import keras\n",
    "from tensorflow.keras import layers\n",
    "from tensorflow.keras import callbacks\n",
    "\n",
    "spotify = pd.read_csv('../input/dl-course-data/spotify.csv')\n",
    "\n",
    "X = spotify.copy().dropna()\n",
    "y = X.pop('track_popularity')\n",
    "artists = X['track_artist']\n",
    "\n",
    "features_num = ['danceability', 'energy', 'key', 'loudness', 'mode',\n",
    "                'speechiness', 'acousticness', 'instrumentalness',\n",
    "                'liveness', 'valence', 'tempo', 'duration_ms']\n",
    "features_cat = ['playlist_genre']\n",
    "\n",
    "preprocessor = make_column_transformer(\n",
    "    (StandardScaler(), features_num),\n",
    "    (OneHotEncoder(), features_cat),\n",
    ")\n",
    "\n",
    "# We'll do a \"grouped\" split to keep all of an artist's songs in one\n",
    "# split or the other. This is to help prevent signal leakage.\n",
    "def group_split(X, y, group, train_size=0.75):\n",
    "    splitter = GroupShuffleSplit(train_size=train_size)\n",
    "    train, test = next(splitter.split(X, y, groups=group))\n",
    "    return (X.iloc[train], X.iloc[test], y.iloc[train], y.iloc[test])\n",
    "\n",
    "X_train, X_valid, y_train, y_valid = group_split(X, y, artists)\n",
    "\n",
    "X_train = preprocessor.fit_transform(X_train)\n",
    "X_valid = preprocessor.transform(X_valid)\n",
    "y_train = y_train / 100 # popularity is on a scale 0-100, so this rescales to 0-1.\n",
    "y_valid = y_valid / 100\n",
    "\n",
    "input_shape = [X_train.shape[1]]\n",
    "print(\"Input shape: {}\".format(input_shape))"
   ]
  },
  {
   "cell_type": "markdown",
   "id": "cc4b1d1d",
   "metadata": {
    "papermill": {
     "duration": 0.013766,
     "end_time": "2022-02-05T23:15:46.629929",
     "exception": false,
     "start_time": "2022-02-05T23:15:46.616163",
     "status": "completed"
    },
    "tags": []
   },
   "source": [
    "Let's start with the simplest network, a linear model. This model has low capacity.\n",
    "\n",
    "Run this next cell without any changes to train a linear model on the *Spotify* dataset."
   ]
  },
  {
   "cell_type": "code",
   "execution_count": 3,
   "id": "fca3ede8",
   "metadata": {
    "execution": {
     "iopub.execute_input": "2022-02-05T23:15:46.663906Z",
     "iopub.status.busy": "2022-02-05T23:15:46.663180Z",
     "iopub.status.idle": "2022-02-05T23:15:59.823947Z",
     "shell.execute_reply": "2022-02-05T23:15:59.824376Z",
     "shell.execute_reply.started": "2022-02-05T23:09:45.490981Z"
    },
    "lines_to_next_cell": 0,
    "papermill": {
     "duration": 13.181016,
     "end_time": "2022-02-05T23:15:59.824522",
     "exception": false,
     "start_time": "2022-02-05T23:15:46.643506",
     "status": "completed"
    },
    "tags": []
   },
   "outputs": [
    {
     "name": "stderr",
     "output_type": "stream",
     "text": [
      "2022-02-05 23:15:46.740470: I tensorflow/stream_executor/cuda/cuda_gpu_executor.cc:937] successful NUMA node read from SysFS had negative value (-1), but there must be at least one NUMA node, so returning NUMA node zero\n",
      "2022-02-05 23:15:46.843453: I tensorflow/stream_executor/cuda/cuda_gpu_executor.cc:937] successful NUMA node read from SysFS had negative value (-1), but there must be at least one NUMA node, so returning NUMA node zero\n",
      "2022-02-05 23:15:46.844168: I tensorflow/stream_executor/cuda/cuda_gpu_executor.cc:937] successful NUMA node read from SysFS had negative value (-1), but there must be at least one NUMA node, so returning NUMA node zero\n",
      "2022-02-05 23:15:46.845851: I tensorflow/core/platform/cpu_feature_guard.cc:142] This TensorFlow binary is optimized with oneAPI Deep Neural Network Library (oneDNN) to use the following CPU instructions in performance-critical operations:  AVX2 AVX512F FMA\n",
      "To enable them in other operations, rebuild TensorFlow with the appropriate compiler flags.\n",
      "2022-02-05 23:15:46.848658: I tensorflow/stream_executor/cuda/cuda_gpu_executor.cc:937] successful NUMA node read from SysFS had negative value (-1), but there must be at least one NUMA node, so returning NUMA node zero\n",
      "2022-02-05 23:15:46.849388: I tensorflow/stream_executor/cuda/cuda_gpu_executor.cc:937] successful NUMA node read from SysFS had negative value (-1), but there must be at least one NUMA node, so returning NUMA node zero\n",
      "2022-02-05 23:15:46.850000: I tensorflow/stream_executor/cuda/cuda_gpu_executor.cc:937] successful NUMA node read from SysFS had negative value (-1), but there must be at least one NUMA node, so returning NUMA node zero\n",
      "2022-02-05 23:15:48.552266: I tensorflow/stream_executor/cuda/cuda_gpu_executor.cc:937] successful NUMA node read from SysFS had negative value (-1), but there must be at least one NUMA node, so returning NUMA node zero\n",
      "2022-02-05 23:15:48.553071: I tensorflow/stream_executor/cuda/cuda_gpu_executor.cc:937] successful NUMA node read from SysFS had negative value (-1), but there must be at least one NUMA node, so returning NUMA node zero\n",
      "2022-02-05 23:15:48.553724: I tensorflow/stream_executor/cuda/cuda_gpu_executor.cc:937] successful NUMA node read from SysFS had negative value (-1), but there must be at least one NUMA node, so returning NUMA node zero\n",
      "2022-02-05 23:15:48.554321: I tensorflow/core/common_runtime/gpu/gpu_device.cc:1510] Created device /job:localhost/replica:0/task:0/device:GPU:0 with 15403 MB memory:  -> device: 0, name: Tesla P100-PCIE-16GB, pci bus id: 0000:00:04.0, compute capability: 6.0\n",
      "2022-02-05 23:15:48.983770: I tensorflow/compiler/mlir/mlir_graph_optimization_pass.cc:185] None of the MLIR Optimization Passes are enabled (registered 2)\n"
     ]
    },
    {
     "name": "stdout",
     "output_type": "stream",
     "text": [
      "Minimum Validation Loss: 0.1999\n"
     ]
    },
    {
     "data": {
      "image/png": "[encoded data removed]",
      "text/plain": [
       "<Figure size 432x288 with 1 Axes>"
      ]
     },
     "metadata": {},
     "output_type": "display_data"
    }
   ],
   "source": [
    "model = keras.Sequential([\n",
    "    layers.Dense(1, input_shape=input_shape),\n",
    "])\n",
    "model.compile(\n",
    "    optimizer='adam',\n",
    "    loss='mae',\n",
    ")\n",
    "history = model.fit(\n",
    "    X_train, y_train,\n",
    "    validation_data=(X_valid, y_valid),\n",
    "    batch_size=512,\n",
    "    epochs=50,\n",
    "    verbose=0, # suppress output since we'll plot the curves\n",
    ")\n",
    "history_df = pd.DataFrame(history.history)\n",
    "history_df.loc[0:, ['loss', 'val_loss']].plot()\n",
    "print(\"Minimum Validation Loss: {:0.4f}\".format(history_df['val_loss'].min()));"
   ]
  },
  {
   "cell_type": "markdown",
   "id": "37bcf3ac",
   "metadata": {
    "papermill": {
     "duration": 0.01521,
     "end_time": "2022-02-05T23:15:59.856229",
     "exception": false,
     "start_time": "2022-02-05T23:15:59.841019",
     "status": "completed"
    },
    "tags": []
   },
   "source": [
    "It's not uncommon for the curves to follow a \"hockey stick\" pattern like you see here. This makes the final part of training hard to see, so let's start at epoch 10 instead:"
   ]
  },
  {
   "cell_type": "code",
   "execution_count": 4,
   "id": "96e80b7d",
   "metadata": {
    "execution": {
     "iopub.execute_input": "2022-02-05T23:15:59.916936Z",
     "iopub.status.busy": "2022-02-05T23:15:59.907285Z",
     "iopub.status.idle": "2022-02-05T23:16:00.170947Z",
     "shell.execute_reply": "2022-02-05T23:16:00.170530Z",
     "shell.execute_reply.started": "2022-02-05T23:10:20.556773Z"
    },
    "papermill": {
     "duration": 0.299265,
     "end_time": "2022-02-05T23:16:00.171093",
     "exception": false,
     "start_time": "2022-02-05T23:15:59.871828",
     "status": "completed"
    },
    "tags": []
   },
   "outputs": [
    {
     "name": "stdout",
     "output_type": "stream",
     "text": [
      "Minimum Validation Loss: 0.1999\n"
     ]
    },
    {
     "data": {
      "image/png": "[encoded data removed]",
      "text/plain": [
       "<Figure size 432x288 with 1 Axes>"
      ]
     },
     "metadata": {},
     "output_type": "display_data"
    }
   ],
   "source": [
    "# Start the plot at epoch 10\n",
    "history_df.loc[10:, ['loss', 'val_loss']].plot()\n",
    "print(\"Minimum Validation Loss: {:0.4f}\".format(history_df['val_loss'].min()));"
   ]
  },
  {
   "cell_type": "markdown",
   "id": "9e0ec65d",
   "metadata": {
    "papermill": {
     "duration": 0.018133,
     "end_time": "2022-02-05T23:16:00.206225",
     "exception": false,
     "start_time": "2022-02-05T23:16:00.188092",
     "status": "completed"
    },
    "tags": []
   },
   "source": [
    "# 1) Evaluate Baseline\n",
    "\n",
    "What do you think? Would you say this model is underfitting, overfitting, just right?"
   ]
  },
  {
   "cell_type": "code",
   "execution_count": 5,
   "id": "bb7a5a84",
   "metadata": {
    "execution": {
     "iopub.execute_input": "2022-02-05T23:16:00.257196Z",
     "iopub.status.busy": "2022-02-05T23:16:00.255190Z",
     "iopub.status.idle": "2022-02-05T23:16:00.260581Z",
     "shell.execute_reply": "2022-02-05T23:16:00.260950Z",
     "shell.execute_reply.started": "2022-02-05T23:10:44.327332Z"
    },
    "papermill": {
     "duration": 0.029241,
     "end_time": "2022-02-05T23:16:00.261101",
     "exception": false,
     "start_time": "2022-02-05T23:16:00.231860",
     "status": "completed"
    },
    "tags": []
   },
   "outputs": [
    {
     "data": {
      "application/javascript": [
       "parent.postMessage({\"jupyterEvent\": \"custom.exercise_interaction\", \"data\": {\"outcomeType\": 1, \"valueTowardsCompletion\": 0.25, \"interactionType\": 1, \"questionType\": 4, \"questionId\": \"1_Q1\", \"learnToolsVersion\": \"0.3.4\", \"failureMessage\": \"\", \"exceptionClass\": \"\", \"trace\": \"\"}}, \"*\")"
      ],
      "text/plain": [
       "<IPython.core.display.Javascript object>"
      ]
     },
     "metadata": {},
     "output_type": "display_data"
    },
    {
     "data": {
      "text/markdown": [
       "<span style=\"color:#33cc33\">Correct:</span> \n",
       "\n",
       "The gap between these curves is quite small and the validation loss never increases, so it's more likely that the network is underfitting than overfitting. It would be worth experimenting with more capacity to see if that's the case."
      ],
      "text/plain": [
       "Correct: \n",
       "\n",
       "The gap between these curves is quite small and the validation loss never increases, so it's more likely that the network is underfitting than overfitting. It would be worth experimenting with more capacity to see if that's the case."
      ]
     },
     "metadata": {},
     "output_type": "display_data"
    }
   ],
   "source": [
    "# View the solution (Run this cell to receive credit!)\n",
    "q_1.check()"
   ]
  },
  {
   "cell_type": "markdown",
   "id": "382193b6",
   "metadata": {
    "papermill": {
     "duration": 0.017009,
     "end_time": "2022-02-05T23:16:00.295538",
     "exception": false,
     "start_time": "2022-02-05T23:16:00.278529",
     "status": "completed"
    },
    "tags": []
   },
   "source": [
    "Now let's add some capacity to our network. We'll add three hidden layers with 128 units each. Run the next cell to train the network and see the learning curves."
   ]
  },
  {
   "cell_type": "code",
   "execution_count": 6,
   "id": "26599d00",
   "metadata": {
    "execution": {
     "iopub.execute_input": "2022-02-05T23:16:00.340960Z",
     "iopub.status.busy": "2022-02-05T23:16:00.340180Z",
     "iopub.status.idle": "2022-02-05T23:16:11.138130Z",
     "shell.execute_reply": "2022-02-05T23:16:11.137674Z",
     "shell.execute_reply.started": "2022-02-05T23:11:31.347674Z"
    },
    "papermill": {
     "duration": 10.825134,
     "end_time": "2022-02-05T23:16:11.138260",
     "exception": false,
     "start_time": "2022-02-05T23:16:00.313126",
     "status": "completed"
    },
    "tags": []
   },
   "outputs": [
    {
     "name": "stdout",
     "output_type": "stream",
     "text": [
      "Epoch 1/50\n",
      "49/49 [==============================] - 0s 4ms/step - loss: 0.2342 - val_loss: 0.2091\n",
      "Epoch 2/50\n",
      "49/49 [==============================] - 0s 3ms/step - loss: 0.2017 - val_loss: 0.2053\n",
      "Epoch 3/50\n",
      "49/49 [==============================] - 0s 3ms/step - loss: 0.1967 - val_loss: 0.2063\n",
      "Epoch 4/50\n",
      "49/49 [==============================] - 0s 3ms/step - loss: 0.1932 - val_loss: 0.2026\n",
      "Epoch 5/50\n",
      "49/49 [==============================] - 0s 3ms/step - loss: 0.1903 - val_loss: 0.1997\n",
      "Epoch 6/50\n",
      "49/49 [==============================] - 0s 3ms/step - loss: 0.1886 - val_loss: 0.1999\n",
      "Epoch 7/50\n",
      "49/49 [==============================] - 0s 3ms/step - loss: 0.1869 - val_loss: 0.1992\n",
      "Epoch 8/50\n",
      "49/49 [==============================] - 0s 3ms/step - loss: 0.1860 - val_loss: 0.1997\n",
      "Epoch 9/50\n",
      "49/49 [==============================] - 0s 3ms/step - loss: 0.1853 - val_loss: 0.1995\n",
      "Epoch 10/50\n",
      "49/49 [==============================] - 0s 3ms/step - loss: 0.1845 - val_loss: 0.1994\n",
      "Epoch 11/50\n",
      "49/49 [==============================] - 0s 3ms/step - loss: 0.1840 - val_loss: 0.1997\n",
      "Epoch 12/50\n",
      "49/49 [==============================] - 0s 3ms/step - loss: 0.1821 - val_loss: 0.2000\n",
      "Epoch 13/50\n",
      "49/49 [==============================] - 0s 3ms/step - loss: 0.1823 - val_loss: 0.2002\n",
      "Epoch 14/50\n",
      "49/49 [==============================] - 0s 3ms/step - loss: 0.1810 - val_loss: 0.1987\n",
      "Epoch 15/50\n",
      "49/49 [==============================] - 0s 3ms/step - loss: 0.1807 - val_loss: 0.1991\n",
      "Epoch 16/50\n",
      "49/49 [==============================] - 0s 3ms/step - loss: 0.1796 - val_loss: 0.1999\n",
      "Epoch 17/50\n",
      "49/49 [==============================] - 0s 3ms/step - loss: 0.1790 - val_loss: 0.1997\n",
      "Epoch 18/50\n",
      "49/49 [==============================] - 0s 3ms/step - loss: 0.1787 - val_loss: 0.2000\n",
      "Epoch 19/50\n",
      "49/49 [==============================] - 0s 3ms/step - loss: 0.1780 - val_loss: 0.2002\n",
      "Epoch 20/50\n",
      "49/49 [==============================] - 0s 3ms/step - loss: 0.1773 - val_loss: 0.2002\n",
      "Epoch 21/50\n",
      "49/49 [==============================] - 0s 3ms/step - loss: 0.1765 - val_loss: 0.2006\n",
      "Epoch 22/50\n",
      "49/49 [==============================] - 0s 3ms/step - loss: 0.1761 - val_loss: 0.2001\n",
      "Epoch 23/50\n",
      "49/49 [==============================] - 0s 3ms/step - loss: 0.1750 - val_loss: 0.2009\n",
      "Epoch 24/50\n",
      "49/49 [==============================] - 0s 3ms/step - loss: 0.1747 - val_loss: 0.2006\n",
      "Epoch 25/50\n",
      "49/49 [==============================] - 0s 3ms/step - loss: 0.1744 - val_loss: 0.2001\n",
      "Epoch 26/50\n",
      "49/49 [==============================] - 0s 4ms/step - loss: 0.1740 - val_loss: 0.2015\n",
      "Epoch 27/50\n",
      "49/49 [==============================] - 0s 5ms/step - loss: 0.1741 - val_loss: 0.2010\n",
      "Epoch 28/50\n",
      "49/49 [==============================] - 0s 4ms/step - loss: 0.1723 - val_loss: 0.2029\n",
      "Epoch 29/50\n",
      "49/49 [==============================] - 0s 3ms/step - loss: 0.1729 - val_loss: 0.2027\n",
      "Epoch 30/50\n",
      "49/49 [==============================] - 0s 3ms/step - loss: 0.1718 - val_loss: 0.2028\n",
      "Epoch 31/50\n",
      "49/49 [==============================] - 0s 3ms/step - loss: 0.1717 - val_loss: 0.2015\n",
      "Epoch 32/50\n",
      "49/49 [==============================] - 0s 3ms/step - loss: 0.1710 - val_loss: 0.2025\n",
      "Epoch 33/50\n",
      "49/49 [==============================] - 0s 3ms/step - loss: 0.1700 - val_loss: 0.2029\n",
      "Epoch 34/50\n",
      "49/49 [==============================] - 0s 3ms/step - loss: 0.1694 - val_loss: 0.2038\n",
      "Epoch 35/50\n",
      "49/49 [==============================] - 0s 3ms/step - loss: 0.1696 - val_loss: 0.2029\n",
      "Epoch 36/50\n",
      "49/49 [==============================] - 0s 3ms/step - loss: 0.1687 - val_loss: 0.2036\n",
      "Epoch 37/50\n",
      "49/49 [==============================] - 0s 3ms/step - loss: 0.1684 - val_loss: 0.2035\n",
      "Epoch 38/50\n",
      "49/49 [==============================] - 0s 3ms/step - loss: 0.1696 - val_loss: 0.2041\n",
      "Epoch 39/50\n",
      "49/49 [==============================] - 0s 3ms/step - loss: 0.1678 - val_loss: 0.2036\n",
      "Epoch 40/50\n",
      "49/49 [==============================] - 0s 3ms/step - loss: 0.1671 - val_loss: 0.2045\n",
      "Epoch 41/50\n",
      "49/49 [==============================] - 0s 3ms/step - loss: 0.1668 - val_loss: 0.2038\n",
      "Epoch 42/50\n",
      "49/49 [==============================] - 0s 3ms/step - loss: 0.1673 - val_loss: 0.2044\n",
      "Epoch 43/50\n",
      "49/49 [==============================] - 0s 3ms/step - loss: 0.1661 - val_loss: 0.2043\n",
      "Epoch 44/50\n",
      "49/49 [==============================] - 0s 3ms/step - loss: 0.1658 - val_loss: 0.2042\n",
      "Epoch 45/50\n",
      "49/49 [==============================] - 0s 3ms/step - loss: 0.1650 - val_loss: 0.2040\n",
      "Epoch 46/50\n",
      "49/49 [==============================] - 0s 3ms/step - loss: 0.1646 - val_loss: 0.2047\n",
      "Epoch 47/50\n",
      "49/49 [==============================] - 0s 3ms/step - loss: 0.1648 - val_loss: 0.2057\n",
      "Epoch 48/50\n",
      "49/49 [==============================] - 0s 3ms/step - loss: 0.1646 - val_loss: 0.2062\n",
      "Epoch 49/50\n",
      "49/49 [==============================] - 0s 3ms/step - loss: 0.1636 - val_loss: 0.2054\n",
      "Epoch 50/50\n",
      "49/49 [==============================] - 0s 3ms/step - loss: 0.1634 - val_loss: 0.2065\n",
      "Minimum Validation Loss: 0.1987\n"
     ]
    },
    {
     "data": {
      "image/png": "[encoded data removed]",
      "text/plain": [
       "<Figure size 432x288 with 1 Axes>"
      ]
     },
     "metadata": {},
     "output_type": "display_data"
    }
   ],
   "source": [
    "model = keras.Sequential([\n",
    "    layers.Dense(128, activation='relu', input_shape=input_shape),\n",
    "    layers.Dense(64, activation='relu'),\n",
    "    layers.Dense(1)\n",
    "])\n",
    "model.compile(\n",
    "    optimizer='adam',\n",
    "    loss='mae',\n",
    ")\n",
    "history = model.fit(\n",
    "    X_train, y_train,\n",
    "    validation_data=(X_valid, y_valid),\n",
    "    batch_size=512,\n",
    "    epochs=50,\n",
    ")\n",
    "history_df = pd.DataFrame(history.history)\n",
    "history_df.loc[:, ['loss', 'val_loss']].plot()\n",
    "print(\"Minimum Validation Loss: {:0.4f}\".format(history_df['val_loss'].min()));"
   ]
  },
  {
   "cell_type": "markdown",
   "id": "d426d6b7",
   "metadata": {
    "papermill": {
     "duration": 0.058366,
     "end_time": "2022-02-05T23:16:11.257042",
     "exception": false,
     "start_time": "2022-02-05T23:16:11.198676",
     "status": "completed"
    },
    "tags": []
   },
   "source": [
    "# 2) Add Capacity\n",
    "\n",
    "What is your evaluation of these curves? Underfitting, overfitting, just right?"
   ]
  },
  {
   "cell_type": "code",
   "execution_count": 7,
   "id": "4c5eef9a",
   "metadata": {
    "execution": {
     "iopub.execute_input": "2022-02-05T23:16:11.381091Z",
     "iopub.status.busy": "2022-02-05T23:16:11.380497Z",
     "iopub.status.idle": "2022-02-05T23:16:11.384445Z",
     "shell.execute_reply": "2022-02-05T23:16:11.383967Z",
     "shell.execute_reply.started": "2022-02-05T23:12:07.154033Z"
    },
    "papermill": {
     "duration": 0.069013,
     "end_time": "2022-02-05T23:16:11.384568",
     "exception": false,
     "start_time": "2022-02-05T23:16:11.315555",
     "status": "completed"
    },
    "tags": []
   },
   "outputs": [
    {
     "data": {
      "application/javascript": [
       "parent.postMessage({\"jupyterEvent\": \"custom.exercise_interaction\", \"data\": {\"outcomeType\": 1, \"valueTowardsCompletion\": 0.25, \"interactionType\": 1, \"questionType\": 4, \"questionId\": \"2_Q2\", \"learnToolsVersion\": \"0.3.4\", \"failureMessage\": \"\", \"exceptionClass\": \"\", \"trace\": \"\"}}, \"*\")"
      ],
      "text/plain": [
       "<IPython.core.display.Javascript object>"
      ]
     },
     "metadata": {},
     "output_type": "display_data"
    },
    {
     "data": {
      "text/markdown": [
       "<span style=\"color:#33cc33\">Correct:</span> \n",
       "\n",
       "Now the validation loss begins to rise very early, while the training loss continues to decrease. This indicates that the network has begun to overfit. At this point, we would need to try something to prevent it, either by reducing the number of units or through a method like early stopping. (We'll see another in the next lesson!)"
      ],
      "text/plain": [
       "Correct: \n",
       "\n",
       "Now the validation loss begins to rise very early, while the training loss continues to decrease. This indicates that the network has begun to overfit. At this point, we would need to try something to prevent it, either by reducing the number of units or through a method like early stopping. (We'll see another in the next lesson!)"
      ]
     },
     "metadata": {},
     "output_type": "display_data"
    }
   ],
   "source": [
    "# View the solution (Run this cell to receive credit!)\n",
    "q_2.check()"
   ]
  },
  {
   "cell_type": "markdown",
   "id": "97bf5256",
   "metadata": {
    "papermill": {
     "duration": 0.058793,
     "end_time": "2022-02-05T23:16:11.502860",
     "exception": false,
     "start_time": "2022-02-05T23:16:11.444067",
     "status": "completed"
    },
    "tags": []
   },
   "source": [
    "# 3) Define Early Stopping Callback\n",
    "\n",
    "Now define an early stopping callback that waits 5 epochs (`patience'`) for a change in validation loss of at least `0.001` (`min_delta`) and keeps the weights with the best loss (`restore_best_weights`)."
   ]
  },
  {
   "cell_type": "code",
   "execution_count": 8,
   "id": "e6482223",
   "metadata": {
    "execution": {
     "iopub.execute_input": "2022-02-05T23:16:11.630790Z",
     "iopub.status.busy": "2022-02-05T23:16:11.628670Z",
     "iopub.status.idle": "2022-02-05T23:16:11.634600Z",
     "shell.execute_reply": "2022-02-05T23:16:11.634156Z",
     "shell.execute_reply.started": "2022-02-05T23:14:21.538422Z"
    },
    "lines_to_next_cell": 0,
    "papermill": {
     "duration": 0.072167,
     "end_time": "2022-02-05T23:16:11.634711",
     "exception": false,
     "start_time": "2022-02-05T23:16:11.562544",
     "status": "completed"
    },
    "tags": []
   },
   "outputs": [
    {
     "data": {
      "application/javascript": [
       "parent.postMessage({\"jupyterEvent\": \"custom.exercise_interaction\", \"data\": {\"outcomeType\": 1, \"valueTowardsCompletion\": 0.25, \"interactionType\": 1, \"questionType\": 2, \"questionId\": \"3_Q3\", \"learnToolsVersion\": \"0.3.4\", \"failureMessage\": \"\", \"exceptionClass\": \"\", \"trace\": \"\"}}, \"*\")"
      ],
      "text/plain": [
       "<IPython.core.display.Javascript object>"
      ]
     },
     "metadata": {},
     "output_type": "display_data"
    },
    {
     "data": {
      "text/markdown": [
       "<span style=\"color:#33cc33\">Correct</span>"
      ],
      "text/plain": [
       "Correct"
      ]
     },
     "metadata": {},
     "output_type": "display_data"
    }
   ],
   "source": [
    "from tensorflow.keras import callbacks\n",
    "\n",
    "# YOUR CODE HERE: define an early stopping callback\n",
    "early_stopping = callbacks.EarlyStopping(min_delta=0.001, patience=5, restore_best_weights=True)\n",
    "\n",
    "# Check your answer\n",
    "q_3.check()"
   ]
  },
  {
   "cell_type": "code",
   "execution_count": 9,
   "id": "bbcdc67c",
   "metadata": {
    "execution": {
     "iopub.execute_input": "2022-02-05T23:16:11.759289Z",
     "iopub.status.busy": "2022-02-05T23:16:11.758653Z",
     "iopub.status.idle": "2022-02-05T23:16:11.762135Z",
     "shell.execute_reply": "2022-02-05T23:16:11.761683Z",
     "shell.execute_reply.started": "2022-02-05T23:14:23.817598Z"
    },
    "papermill": {
     "duration": 0.067728,
     "end_time": "2022-02-05T23:16:11.762252",
     "exception": false,
     "start_time": "2022-02-05T23:16:11.694524",
     "status": "completed"
    },
    "tags": []
   },
   "outputs": [],
   "source": [
    "# Lines below will give you a hint or solution code\n",
    "#q_3.hint()\n",
    "#q_3.solution()"
   ]
  },
  {
   "cell_type": "markdown",
   "id": "9a109842",
   "metadata": {
    "papermill": {
     "duration": 0.060216,
     "end_time": "2022-02-05T23:16:11.882777",
     "exception": false,
     "start_time": "2022-02-05T23:16:11.822561",
     "status": "completed"
    },
    "tags": []
   },
   "source": [
    "Now run this cell to train the model and get the learning curves. Notice the `callbacks` argument in `model.fit`."
   ]
  },
  {
   "cell_type": "code",
   "execution_count": 10,
   "id": "458e347e",
   "metadata": {
    "execution": {
     "iopub.execute_input": "2022-02-05T23:16:12.014660Z",
     "iopub.status.busy": "2022-02-05T23:16:12.013833Z",
     "iopub.status.idle": "2022-02-05T23:16:15.122797Z",
     "shell.execute_reply": "2022-02-05T23:16:15.122370Z",
     "shell.execute_reply.started": "2022-02-05T23:14:28.510942Z"
    },
    "papermill": {
     "duration": 3.179438,
     "end_time": "2022-02-05T23:16:15.122934",
     "exception": false,
     "start_time": "2022-02-05T23:16:11.943496",
     "status": "completed"
    },
    "tags": []
   },
   "outputs": [
    {
     "name": "stdout",
     "output_type": "stream",
     "text": [
      "Epoch 1/50\n",
      "49/49 [==============================] - 1s 5ms/step - loss: 0.2187 - val_loss: 0.2071\n",
      "Epoch 2/50\n",
      "49/49 [==============================] - 0s 3ms/step - loss: 0.1974 - val_loss: 0.2028\n",
      "Epoch 3/50\n",
      "49/49 [==============================] - 0s 3ms/step - loss: 0.1928 - val_loss: 0.2027\n",
      "Epoch 4/50\n",
      "49/49 [==============================] - 0s 3ms/step - loss: 0.1908 - val_loss: 0.2025\n",
      "Epoch 5/50\n",
      "49/49 [==============================] - 0s 3ms/step - loss: 0.1901 - val_loss: 0.1999\n",
      "Epoch 6/50\n",
      "49/49 [==============================] - 0s 3ms/step - loss: 0.1876 - val_loss: 0.2023\n",
      "Epoch 7/50\n",
      "49/49 [==============================] - 0s 3ms/step - loss: 0.1864 - val_loss: 0.2012\n",
      "Epoch 8/50\n",
      "49/49 [==============================] - 0s 3ms/step - loss: 0.1856 - val_loss: 0.1995\n",
      "Epoch 9/50\n",
      "49/49 [==============================] - 0s 3ms/step - loss: 0.1842 - val_loss: 0.1995\n",
      "Epoch 10/50\n",
      "49/49 [==============================] - 0s 3ms/step - loss: 0.1833 - val_loss: 0.1991\n",
      "Minimum Validation Loss: 0.1991\n"
     ]
    },
    {
     "data": {
      "image/png": "[encoded data removed]",
      "text/plain": [
       "<Figure size 432x288 with 1 Axes>"
      ]
     },
     "metadata": {},
     "output_type": "display_data"
    }
   ],
   "source": [
    "model = keras.Sequential([\n",
    "    layers.Dense(128, activation='relu', input_shape=input_shape),\n",
    "    layers.Dense(64, activation='relu'),    \n",
    "    layers.Dense(1)\n",
    "])\n",
    "model.compile(\n",
    "    optimizer='adam',\n",
    "    loss='mae',\n",
    ")\n",
    "history = model.fit(\n",
    "    X_train, y_train,\n",
    "    validation_data=(X_valid, y_valid),\n",
    "    batch_size=512,\n",
    "    epochs=50,\n",
    "    callbacks=[early_stopping]\n",
    ")\n",
    "history_df = pd.DataFrame(history.history)\n",
    "history_df.loc[:, ['loss', 'val_loss']].plot()\n",
    "print(\"Minimum Validation Loss: {:0.4f}\".format(history_df['val_loss'].min()));"
   ]
  },
  {
   "cell_type": "markdown",
   "id": "2ef03999",
   "metadata": {
    "papermill": {
     "duration": 0.133295,
     "end_time": "2022-02-05T23:16:15.329961",
     "exception": false,
     "start_time": "2022-02-05T23:16:15.196666",
     "status": "completed"
    },
    "tags": []
   },
   "source": [
    "# 4) Train and Interpret\n",
    "\n",
    "Was this an improvement compared to training without early stopping?"
   ]
  },
  {
   "cell_type": "code",
   "execution_count": 11,
   "id": "cd7c8422",
   "metadata": {
    "execution": {
     "iopub.execute_input": "2022-02-05T23:16:15.567028Z",
     "iopub.status.busy": "2022-02-05T23:16:15.564965Z",
     "iopub.status.idle": "2022-02-05T23:16:15.572432Z",
     "shell.execute_reply": "2022-02-05T23:16:15.571756Z",
     "shell.execute_reply.started": "2022-02-05T23:14:49.500745Z"
    },
    "papermill": {
     "duration": 0.128759,
     "end_time": "2022-02-05T23:16:15.572597",
     "exception": false,
     "start_time": "2022-02-05T23:16:15.443838",
     "status": "completed"
    },
    "tags": []
   },
   "outputs": [
    {
     "data": {
      "application/javascript": [
       "parent.postMessage({\"jupyterEvent\": \"custom.exercise_interaction\", \"data\": {\"outcomeType\": 1, \"valueTowardsCompletion\": 0.25, \"interactionType\": 1, \"questionType\": 4, \"questionId\": \"4_Q4\", \"learnToolsVersion\": \"0.3.4\", \"failureMessage\": \"\", \"exceptionClass\": \"\", \"trace\": \"\"}}, \"*\")"
      ],
      "text/plain": [
       "<IPython.core.display.Javascript object>"
      ]
     },
     "metadata": {},
     "output_type": "display_data"
    },
    {
     "data": {
      "text/markdown": [
       "<span style=\"color:#33cc33\">Correct:</span> \n",
       "\n",
       "The early stopping callback did stop the training once the network began overfitting. Moreover, by including `restore_best_weights` we still get to keep the model where validation loss was lowest."
      ],
      "text/plain": [
       "Correct: \n",
       "\n",
       "The early stopping callback did stop the training once the network began overfitting. Moreover, by including `restore_best_weights` we still get to keep the model where validation loss was lowest."
      ]
     },
     "metadata": {},
     "output_type": "display_data"
    }
   ],
   "source": [
    "# View the solution (Run this cell to receive credit!)\n",
    "q_4.check()"
   ]
  },
  {
   "cell_type": "markdown",
   "id": "63024e16",
   "metadata": {
    "papermill": {
     "duration": 0.114028,
     "end_time": "2022-02-05T23:16:15.803455",
     "exception": false,
     "start_time": "2022-02-05T23:16:15.689427",
     "status": "completed"
    },
    "tags": []
   },
   "source": [
    "If you like, try experimenting with `patience` and `min_delta` to see what difference it might make.\n",
    "\n",
    "# Keep Going #\n",
    "\n",
    "Move on to [**learn about a couple of special layers**](https://www.kaggle.com/ryanholbrook/dropout-and-batch-normalization): batch normalization and dropout."
   ]
  },
  {
   "cell_type": "markdown",
   "id": "23035b98",
   "metadata": {
    "papermill": {
     "duration": 0.070303,
     "end_time": "2022-02-05T23:16:15.948298",
     "exception": false,
     "start_time": "2022-02-05T23:16:15.877995",
     "status": "completed"
    },
    "tags": []
   },
   "source": [
    "---\n",
    "\n",
    "\n",
    "\n",
    "\n",
    "*Have questions or comments? Visit the [course discussion forum](https://www.kaggle.com/learn/intro-to-deep-learning/discussion) to chat with other learners.*"
   ]
  }
 ],
 "metadata": {
  "kernelspec": {
   "display_name": "Python 3",
   "language": "python",
   "name": "python3"
  },
  "language_info": {
   "codemirror_mode": {
    "name": "ipython",
    "version": 3
   },
   "file_extension": ".py",
   "mimetype": "text/x-python",
   "name": "python",
   "nbconvert_exporter": "python",
   "pygments_lexer": "ipython3",
   "version": "3.7.12"
  },
  "papermill": {
   "default_parameters": {},
   "duration": 47.36732,
   "end_time": "2022-02-05T23:16:19.610650",
   "environment_variables": {},
   "exception": null,
   "input_path": "__notebook__.ipynb",
   "output_path": "__notebook__.ipynb",
   "parameters": {},
   "start_time": "2022-02-05T23:15:32.243330",
   "version": "2.3.3"
  }
 },
 "nbformat": 4,
 "nbformat_minor": 5
}
