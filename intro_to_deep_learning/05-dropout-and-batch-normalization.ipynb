{
 "cells": [
  {
   "cell_type": "markdown",
   "id": "d2e55707",
   "metadata": {
    "papermill": {
     "duration": 0.016158,
     "end_time": "2022-02-05T23:37:55.548854",
     "exception": false,
     "start_time": "2022-02-05T23:37:55.532696",
     "status": "completed"
    },
    "tags": []
   },
   "source": [
    "**This notebook is an exercise in the [Intro to Deep Learning](https://www.kaggle.com/learn/intro-to-deep-learning) course.  You can reference the tutorial at [this link](https://www.kaggle.com/ryanholbrook/dropout-and-batch-normalization).**\n",
    "\n",
    "---\n"
   ]
  },
  {
   "cell_type": "markdown",
   "id": "cf5fce03",
   "metadata": {
    "papermill": {
     "duration": 0.014236,
     "end_time": "2022-02-05T23:37:55.579923",
     "exception": false,
     "start_time": "2022-02-05T23:37:55.565687",
     "status": "completed"
    },
    "tags": []
   },
   "source": [
    "# Introduction #\n",
    "\n",
    "In this exercise, you'll add dropout to the *Spotify* model from Exercise 4 and see how batch normalization can let you successfully train models on difficult datasets.\n",
    "\n",
    "Run the next cell to get started!"
   ]
  },
  {
   "cell_type": "code",
   "execution_count": 1,
   "id": "08dc8979",
   "metadata": {
    "execution": {
     "iopub.execute_input": "2022-02-05T23:37:55.613640Z",
     "iopub.status.busy": "2022-02-05T23:37:55.612199Z",
     "iopub.status.idle": "2022-02-05T23:37:55.643692Z",
     "shell.execute_reply": "2022-02-05T23:37:55.643142Z",
     "shell.execute_reply.started": "2022-02-05T23:30:26.749532Z"
    },
    "papermill": {
     "duration": 0.049725,
     "end_time": "2022-02-05T23:37:55.643835",
     "exception": false,
     "start_time": "2022-02-05T23:37:55.594110",
     "status": "completed"
    },
    "tags": []
   },
   "outputs": [],
   "source": [
    "# Setup plotting\n",
    "import matplotlib.pyplot as plt\n",
    "plt.style.use('seaborn-whitegrid')\n",
    "# Set Matplotlib defaults\n",
    "plt.rc('figure', autolayout=True)\n",
    "plt.rc('axes', labelweight='bold', labelsize='large',\n",
    "       titleweight='bold', titlesize=18, titlepad=10)\n",
    "plt.rc('animation', html='html5')\n",
    "\n",
    "# Setup feedback system\n",
    "from learntools.core import binder\n",
    "binder.bind(globals())\n",
    "from learntools.deep_learning_intro.ex5 import *"
   ]
  },
  {
   "cell_type": "markdown",
   "id": "ed198a22",
   "metadata": {
    "papermill": {
     "duration": 0.014569,
     "end_time": "2022-02-05T23:37:55.673309",
     "exception": false,
     "start_time": "2022-02-05T23:37:55.658740",
     "status": "completed"
    },
    "tags": []
   },
   "source": [
    "First load the *Spotify* dataset."
   ]
  },
  {
   "cell_type": "code",
   "execution_count": 2,
   "id": "b6429631",
   "metadata": {
    "execution": {
     "iopub.execute_input": "2022-02-05T23:37:55.711260Z",
     "iopub.status.busy": "2022-02-05T23:37:55.709233Z",
     "iopub.status.idle": "2022-02-05T23:38:02.007422Z",
     "shell.execute_reply": "2022-02-05T23:38:02.007900Z",
     "shell.execute_reply.started": "2022-02-05T23:30:33.266006Z"
    },
    "papermill": {
     "duration": 6.320399,
     "end_time": "2022-02-05T23:38:02.008083",
     "exception": false,
     "start_time": "2022-02-05T23:37:55.687684",
     "status": "completed"
    },
    "tags": []
   },
   "outputs": [
    {
     "name": "stdout",
     "output_type": "stream",
     "text": [
      "Input shape: [18]\n"
     ]
    }
   ],
   "source": [
    "import pandas as pd\n",
    "from sklearn.preprocessing import StandardScaler, OneHotEncoder\n",
    "from sklearn.compose import make_column_transformer\n",
    "from sklearn.model_selection import GroupShuffleSplit\n",
    "\n",
    "from tensorflow import keras\n",
    "from tensorflow.keras import layers\n",
    "from tensorflow.keras import callbacks\n",
    "\n",
    "spotify = pd.read_csv('../input/dl-course-data/spotify.csv')\n",
    "\n",
    "X = spotify.copy().dropna()\n",
    "y = X.pop('track_popularity')\n",
    "artists = X['track_artist']\n",
    "\n",
    "features_num = ['danceability', 'energy', 'key', 'loudness', 'mode',\n",
    "                'speechiness', 'acousticness', 'instrumentalness',\n",
    "                'liveness', 'valence', 'tempo', 'duration_ms']\n",
    "features_cat = ['playlist_genre']\n",
    "\n",
    "preprocessor = make_column_transformer(\n",
    "    (StandardScaler(), features_num),\n",
    "    (OneHotEncoder(), features_cat),\n",
    ")\n",
    "\n",
    "def group_split(X, y, group, train_size=0.75):\n",
    "    splitter = GroupShuffleSplit(train_size=train_size)\n",
    "    train, test = next(splitter.split(X, y, groups=group))\n",
    "    return (X.iloc[train], X.iloc[test], y.iloc[train], y.iloc[test])\n",
    "\n",
    "X_train, X_valid, y_train, y_valid = group_split(X, y, artists)\n",
    "\n",
    "X_train = preprocessor.fit_transform(X_train)\n",
    "X_valid = preprocessor.transform(X_valid)\n",
    "y_train = y_train / 100\n",
    "y_valid = y_valid / 100\n",
    "\n",
    "input_shape = [X_train.shape[1]]\n",
    "print(\"Input shape: {}\".format(input_shape))"
   ]
  },
  {
   "cell_type": "markdown",
   "id": "aa8e78b1",
   "metadata": {
    "papermill": {
     "duration": 0.014124,
     "end_time": "2022-02-05T23:38:02.037453",
     "exception": false,
     "start_time": "2022-02-05T23:38:02.023329",
     "status": "completed"
    },
    "tags": []
   },
   "source": [
    "# 1) Add Dropout to Spotify Model\n",
    "\n",
    "Here is the last model from Exercise 4. Add two dropout layers, one after the `Dense` layer with 128 units, and one after the `Dense` layer with 64 units. Set the dropout rate on both to `0.3`."
   ]
  },
  {
   "cell_type": "code",
   "execution_count": 3,
   "id": "a528faf0",
   "metadata": {
    "execution": {
     "iopub.execute_input": "2022-02-05T23:38:02.071071Z",
     "iopub.status.busy": "2022-02-05T23:38:02.070526Z",
     "iopub.status.idle": "2022-02-05T23:38:04.368293Z",
     "shell.execute_reply": "2022-02-05T23:38:04.367701Z",
     "shell.execute_reply.started": "2022-02-05T23:31:48.985652Z"
    },
    "lines_to_next_cell": 2,
    "papermill": {
     "duration": 2.316761,
     "end_time": "2022-02-05T23:38:04.368430",
     "exception": false,
     "start_time": "2022-02-05T23:38:02.051669",
     "status": "completed"
    },
    "tags": []
   },
   "outputs": [
    {
     "name": "stderr",
     "output_type": "stream",
     "text": [
      "2022-02-05 23:38:02.148089: I tensorflow/stream_executor/cuda/cuda_gpu_executor.cc:937] successful NUMA node read from SysFS had negative value (-1), but there must be at least one NUMA node, so returning NUMA node zero\n",
      "2022-02-05 23:38:02.251295: I tensorflow/stream_executor/cuda/cuda_gpu_executor.cc:937] successful NUMA node read from SysFS had negative value (-1), but there must be at least one NUMA node, so returning NUMA node zero\n",
      "2022-02-05 23:38:02.252030: I tensorflow/stream_executor/cuda/cuda_gpu_executor.cc:937] successful NUMA node read from SysFS had negative value (-1), but there must be at least one NUMA node, so returning NUMA node zero\n",
      "2022-02-05 23:38:02.253953: I tensorflow/core/platform/cpu_feature_guard.cc:142] This TensorFlow binary is optimized with oneAPI Deep Neural Network Library (oneDNN) to use the following CPU instructions in performance-critical operations:  AVX2 AVX512F FMA\n",
      "To enable them in other operations, rebuild TensorFlow with the appropriate compiler flags.\n",
      "2022-02-05 23:38:02.255097: I tensorflow/stream_executor/cuda/cuda_gpu_executor.cc:937] successful NUMA node read from SysFS had negative value (-1), but there must be at least one NUMA node, so returning NUMA node zero\n",
      "2022-02-05 23:38:02.256004: I tensorflow/stream_executor/cuda/cuda_gpu_executor.cc:937] successful NUMA node read from SysFS had negative value (-1), but there must be at least one NUMA node, so returning NUMA node zero\n",
      "2022-02-05 23:38:02.256877: I tensorflow/stream_executor/cuda/cuda_gpu_executor.cc:937] successful NUMA node read from SysFS had negative value (-1), but there must be at least one NUMA node, so returning NUMA node zero\n",
      "2022-02-05 23:38:03.997676: I tensorflow/stream_executor/cuda/cuda_gpu_executor.cc:937] successful NUMA node read from SysFS had negative value (-1), but there must be at least one NUMA node, so returning NUMA node zero\n",
      "2022-02-05 23:38:03.998588: I tensorflow/stream_executor/cuda/cuda_gpu_executor.cc:937] successful NUMA node read from SysFS had negative value (-1), but there must be at least one NUMA node, so returning NUMA node zero\n",
      "2022-02-05 23:38:03.999323: I tensorflow/stream_executor/cuda/cuda_gpu_executor.cc:937] successful NUMA node read from SysFS had negative value (-1), but there must be at least one NUMA node, so returning NUMA node zero\n",
      "2022-02-05 23:38:03.999927: I tensorflow/core/common_runtime/gpu/gpu_device.cc:1510] Created device /job:localhost/replica:0/task:0/device:GPU:0 with 15403 MB memory:  -> device: 0, name: Tesla P100-PCIE-16GB, pci bus id: 0000:00:04.0, compute capability: 6.0\n"
     ]
    },
    {
     "data": {
      "application/javascript": [
       "parent.postMessage({\"jupyterEvent\": \"custom.exercise_interaction\", \"data\": {\"outcomeType\": 1, \"valueTowardsCompletion\": 0.25, \"interactionType\": 1, \"questionType\": 2, \"questionId\": \"1_Q1\", \"learnToolsVersion\": \"0.3.4\", \"failureMessage\": \"\", \"exceptionClass\": \"\", \"trace\": \"\"}}, \"*\")"
      ],
      "text/plain": [
       "<IPython.core.display.Javascript object>"
      ]
     },
     "metadata": {},
     "output_type": "display_data"
    },
    {
     "data": {
      "text/markdown": [
       "<span style=\"color:#33cc33\">Correct</span>"
      ],
      "text/plain": [
       "Correct"
      ]
     },
     "metadata": {},
     "output_type": "display_data"
    }
   ],
   "source": [
    "# YOUR CODE HERE: Add two 30% dropout layers, one after 128 and one after 64\n",
    "model = keras.Sequential([\n",
    "    layers.Dense(128, activation='relu', input_shape=input_shape),\n",
    "    layers.Dropout(0.3),\n",
    "    layers.Dense(64, activation='relu'),\n",
    "    layers.Dropout(0.3),\n",
    "    layers.Dense(1)\n",
    "])\n",
    "\n",
    "# Check your answer\n",
    "q_1.check()"
   ]
  },
  {
   "cell_type": "code",
   "execution_count": 4,
   "id": "40e25d78",
   "metadata": {
    "execution": {
     "iopub.execute_input": "2022-02-05T23:38:04.403584Z",
     "iopub.status.busy": "2022-02-05T23:38:04.401821Z",
     "iopub.status.idle": "2022-02-05T23:38:04.405959Z",
     "shell.execute_reply": "2022-02-05T23:38:04.405564Z",
     "shell.execute_reply.started": "2022-02-05T23:31:53.584315Z"
    },
    "papermill": {
     "duration": 0.021664,
     "end_time": "2022-02-05T23:38:04.406096",
     "exception": false,
     "start_time": "2022-02-05T23:38:04.384432",
     "status": "completed"
    },
    "tags": []
   },
   "outputs": [],
   "source": [
    "# Lines below will give you a hint or solution code\n",
    "#q_1.hint()\n",
    "#q_1.solution()"
   ]
  },
  {
   "cell_type": "markdown",
   "id": "40f48a80",
   "metadata": {
    "papermill": {
     "duration": 0.015568,
     "end_time": "2022-02-05T23:38:04.437402",
     "exception": false,
     "start_time": "2022-02-05T23:38:04.421834",
     "status": "completed"
    },
    "tags": []
   },
   "source": [
    "Now run this next cell to train the model see the effect of adding dropout."
   ]
  },
  {
   "cell_type": "code",
   "execution_count": 5,
   "id": "84b509c5",
   "metadata": {
    "execution": {
     "iopub.execute_input": "2022-02-05T23:38:04.474759Z",
     "iopub.status.busy": "2022-02-05T23:38:04.474240Z",
     "iopub.status.idle": "2022-02-05T23:38:12.211121Z",
     "shell.execute_reply": "2022-02-05T23:38:12.210674Z",
     "shell.execute_reply.started": "2022-02-05T23:32:01.440581Z"
    },
    "papermill": {
     "duration": 7.758195,
     "end_time": "2022-02-05T23:38:12.211254",
     "exception": false,
     "start_time": "2022-02-05T23:38:04.453059",
     "status": "completed"
    },
    "tags": []
   },
   "outputs": [
    {
     "name": "stderr",
     "output_type": "stream",
     "text": [
      "2022-02-05 23:38:04.548040: I tensorflow/compiler/mlir/mlir_graph_optimization_pass.cc:185] None of the MLIR Optimization Passes are enabled (registered 2)\n"
     ]
    },
    {
     "name": "stdout",
     "output_type": "stream",
     "text": [
      "Minimum Validation Loss: 0.1921\n"
     ]
    },
    {
     "data": {
      "image/png": "[encoded data removed]",
      "text/plain": [
       "<Figure size 432x288 with 1 Axes>"
      ]
     },
     "metadata": {},
     "output_type": "display_data"
    }
   ],
   "source": [
    "model.compile(\n",
    "    optimizer='adam',\n",
    "    loss='mae',\n",
    ")\n",
    "history = model.fit(\n",
    "    X_train, y_train,\n",
    "    validation_data=(X_valid, y_valid),\n",
    "    batch_size=512,\n",
    "    epochs=50,\n",
    "    verbose=0,\n",
    ")\n",
    "history_df = pd.DataFrame(history.history)\n",
    "history_df.loc[:, ['loss', 'val_loss']].plot()\n",
    "print(\"Minimum Validation Loss: {:0.4f}\".format(history_df['val_loss'].min()))"
   ]
  },
  {
   "cell_type": "markdown",
   "id": "219fd97d",
   "metadata": {
    "papermill": {
     "duration": 0.017065,
     "end_time": "2022-02-05T23:38:12.245520",
     "exception": false,
     "start_time": "2022-02-05T23:38:12.228455",
     "status": "completed"
    },
    "tags": []
   },
   "source": [
    "# 2) Evaluate Dropout\n",
    "\n",
    "Recall from Exercise 4 that this model tended to overfit the data around epoch 5. Did adding dropout seem to help prevent overfitting this time?"
   ]
  },
  {
   "cell_type": "code",
   "execution_count": 6,
   "id": "cce289fd",
   "metadata": {
    "execution": {
     "iopub.execute_input": "2022-02-05T23:38:12.286063Z",
     "iopub.status.busy": "2022-02-05T23:38:12.285496Z",
     "iopub.status.idle": "2022-02-05T23:38:12.289365Z",
     "shell.execute_reply": "2022-02-05T23:38:12.288870Z",
     "shell.execute_reply.started": "2022-02-05T23:32:25.747912Z"
    },
    "papermill": {
     "duration": 0.027191,
     "end_time": "2022-02-05T23:38:12.289477",
     "exception": false,
     "start_time": "2022-02-05T23:38:12.262286",
     "status": "completed"
    },
    "tags": []
   },
   "outputs": [
    {
     "data": {
      "application/javascript": [
       "parent.postMessage({\"jupyterEvent\": \"custom.exercise_interaction\", \"data\": {\"outcomeType\": 1, \"valueTowardsCompletion\": 0.25, \"interactionType\": 1, \"questionType\": 4, \"questionId\": \"2_Q2\", \"learnToolsVersion\": \"0.3.4\", \"failureMessage\": \"\", \"exceptionClass\": \"\", \"trace\": \"\"}}, \"*\")"
      ],
      "text/plain": [
       "<IPython.core.display.Javascript object>"
      ]
     },
     "metadata": {},
     "output_type": "display_data"
    },
    {
     "data": {
      "text/markdown": [
       "<span style=\"color:#33cc33\">Correct:</span> \n",
       "\n",
       "\n",
       "From the learning curves, you can see that the validation loss remains near a constant minimum even though the training loss continues to decrease. So we can see that adding dropout did prevent overfitting this time. Moreover, by making it harder for the network to fit spurious patterns, dropout may have encouraged the network to seek out more of the true patterns, possibly improving the validation loss some as well).\n"
      ],
      "text/plain": [
       "Correct: \n",
       "\n",
       "\n",
       "From the learning curves, you can see that the validation loss remains near a constant minimum even though the training loss continues to decrease. So we can see that adding dropout did prevent overfitting this time. Moreover, by making it harder for the network to fit spurious patterns, dropout may have encouraged the network to seek out more of the true patterns, possibly improving the validation loss some as well)."
      ]
     },
     "metadata": {},
     "output_type": "display_data"
    }
   ],
   "source": [
    "# View the solution (Run this cell to receive credit!)\n",
    "q_2.check()"
   ]
  },
  {
   "cell_type": "markdown",
   "id": "8e712a91",
   "metadata": {
    "papermill": {
     "duration": 0.017832,
     "end_time": "2022-02-05T23:38:12.325135",
     "exception": false,
     "start_time": "2022-02-05T23:38:12.307303",
     "status": "completed"
    },
    "tags": []
   },
   "source": [
    "Now, we'll switch topics to explore how batch normalization can fix problems in training.\n",
    "\n",
    "Load the *Concrete* dataset. We won't do any standardization this time. This will make the effect of batch normalization much more apparent."
   ]
  },
  {
   "cell_type": "code",
   "execution_count": 7,
   "id": "7b2f1875",
   "metadata": {
    "execution": {
     "iopub.execute_input": "2022-02-05T23:38:12.365986Z",
     "iopub.status.busy": "2022-02-05T23:38:12.365460Z",
     "iopub.status.idle": "2022-02-05T23:38:12.393991Z",
     "shell.execute_reply": "2022-02-05T23:38:12.393536Z",
     "shell.execute_reply.started": "2022-02-05T23:33:27.399091Z"
    },
    "papermill": {
     "duration": 0.051356,
     "end_time": "2022-02-05T23:38:12.394130",
     "exception": false,
     "start_time": "2022-02-05T23:38:12.342774",
     "status": "completed"
    },
    "tags": []
   },
   "outputs": [],
   "source": [
    "import pandas as pd\n",
    "\n",
    "concrete = pd.read_csv('../input/dl-course-data/concrete.csv')\n",
    "df = concrete.copy()\n",
    "\n",
    "df_train = df.sample(frac=0.7, random_state=0)\n",
    "df_valid = df.drop(df_train.index)\n",
    "\n",
    "X_train = df_train.drop('CompressiveStrength', axis=1)\n",
    "X_valid = df_valid.drop('CompressiveStrength', axis=1)\n",
    "y_train = df_train['CompressiveStrength']\n",
    "y_valid = df_valid['CompressiveStrength']\n",
    "\n",
    "input_shape = [X_train.shape[1]]"
   ]
  },
  {
   "cell_type": "markdown",
   "id": "0eeef457",
   "metadata": {
    "papermill": {
     "duration": 0.017665,
     "end_time": "2022-02-05T23:38:12.429627",
     "exception": false,
     "start_time": "2022-02-05T23:38:12.411962",
     "status": "completed"
    },
    "tags": []
   },
   "source": [
    "Run the following cell to train the network on the unstandardized *Concrete* data."
   ]
  },
  {
   "cell_type": "code",
   "execution_count": 8,
   "id": "36677b9a",
   "metadata": {
    "execution": {
     "iopub.execute_input": "2022-02-05T23:38:12.478176Z",
     "iopub.status.busy": "2022-02-05T23:38:12.475569Z",
     "iopub.status.idle": "2022-02-05T23:38:17.720206Z",
     "shell.execute_reply": "2022-02-05T23:38:17.720683Z",
     "shell.execute_reply.started": "2022-02-05T23:33:59.712877Z"
    },
    "papermill": {
     "duration": 5.273521,
     "end_time": "2022-02-05T23:38:17.720857",
     "exception": false,
     "start_time": "2022-02-05T23:38:12.447336",
     "status": "completed"
    },
    "tags": []
   },
   "outputs": [
    {
     "name": "stdout",
     "output_type": "stream",
     "text": [
      "Minimum Validation Loss: nan\n"
     ]
    },
    {
     "data": {
      "image/png": "[encoded data removed]",
      "text/plain": [
       "<Figure size 432x288 with 1 Axes>"
      ]
     },
     "metadata": {},
     "output_type": "display_data"
    }
   ],
   "source": [
    "model = keras.Sequential([\n",
    "    layers.Dense(512, activation='relu', input_shape=input_shape),\n",
    "    layers.Dense(512, activation='relu'),    \n",
    "    layers.Dense(512, activation='relu'),\n",
    "    layers.Dense(1),\n",
    "])\n",
    "model.compile(\n",
    "    optimizer='sgd', # SGD is more sensitive to differences of scale\n",
    "    loss='mae',\n",
    "    metrics=['mae'],\n",
    ")\n",
    "history = model.fit(\n",
    "    X_train, y_train,\n",
    "    validation_data=(X_valid, y_valid),\n",
    "    batch_size=64,\n",
    "    epochs=100,\n",
    "    verbose=0,\n",
    ")\n",
    "\n",
    "history_df = pd.DataFrame(history.history)\n",
    "history_df.loc[0:, ['loss', 'val_loss']].plot()\n",
    "print((\"Minimum Validation Loss: {:0.4f}\").format(history_df['val_loss'].min()))"
   ]
  },
  {
   "cell_type": "markdown",
   "id": "72ddb89c",
   "metadata": {
    "papermill": {
     "duration": 0.018474,
     "end_time": "2022-02-05T23:38:17.759782",
     "exception": false,
     "start_time": "2022-02-05T23:38:17.741308",
     "status": "completed"
    },
    "tags": []
   },
   "source": [
    "Did you end up with a blank graph? Trying to train this network on this dataset will usually fail. Even when it does converge (due to a lucky weight initialization), it tends to converge to a very large number.\n",
    "\n",
    "# 3) Add Batch Normalization Layers\n",
    "\n",
    "Batch normalization can help correct problems like this.\n",
    "\n",
    "Add four `BatchNormalization` layers, one before each of the dense layers. (Remember to move the `input_shape` argument to the new first layer.)"
   ]
  },
  {
   "cell_type": "code",
   "execution_count": 9,
   "id": "660bd756",
   "metadata": {
    "execution": {
     "iopub.execute_input": "2022-02-05T23:38:17.811568Z",
     "iopub.status.busy": "2022-02-05T23:38:17.810679Z",
     "iopub.status.idle": "2022-02-05T23:38:17.878784Z",
     "shell.execute_reply": "2022-02-05T23:38:17.879195Z",
     "shell.execute_reply.started": "2022-02-05T23:36:31.105742Z"
    },
    "lines_to_next_cell": 0,
    "papermill": {
     "duration": 0.100922,
     "end_time": "2022-02-05T23:38:17.879347",
     "exception": false,
     "start_time": "2022-02-05T23:38:17.778425",
     "status": "completed"
    },
    "tags": []
   },
   "outputs": [
    {
     "data": {
      "application/javascript": [
       "parent.postMessage({\"jupyterEvent\": \"custom.exercise_interaction\", \"data\": {\"outcomeType\": 1, \"valueTowardsCompletion\": 0.25, \"interactionType\": 1, \"questionType\": 2, \"questionId\": \"3_Q3\", \"learnToolsVersion\": \"0.3.4\", \"failureMessage\": \"\", \"exceptionClass\": \"\", \"trace\": \"\"}}, \"*\")"
      ],
      "text/plain": [
       "<IPython.core.display.Javascript object>"
      ]
     },
     "metadata": {},
     "output_type": "display_data"
    },
    {
     "data": {
      "text/markdown": [
       "<span style=\"color:#33cc33\">Correct</span>"
      ],
      "text/plain": [
       "Correct"
      ]
     },
     "metadata": {},
     "output_type": "display_data"
    }
   ],
   "source": [
    "# YOUR CODE HERE: Add a BatchNormalization layer before each Dense layer\n",
    "model = keras.Sequential([\n",
    "    layers.BatchNormalization(input_shape=input_shape),\n",
    "    layers.Dense(512, activation='relu'),\n",
    "    layers.BatchNormalization(),\n",
    "    layers.Dense(512, activation='relu'),\n",
    "    layers.BatchNormalization(),\n",
    "    layers.Dense(512, activation='relu'),\n",
    "    layers.BatchNormalization(),\n",
    "    layers.Dense(1),\n",
    "])\n",
    "\n",
    "# Check your answer\n",
    "q_3.check()"
   ]
  },
  {
   "cell_type": "code",
   "execution_count": 10,
   "id": "dcbd43ae",
   "metadata": {
    "execution": {
     "iopub.execute_input": "2022-02-05T23:38:17.923794Z",
     "iopub.status.busy": "2022-02-05T23:38:17.922277Z",
     "iopub.status.idle": "2022-02-05T23:38:17.924394Z",
     "shell.execute_reply": "2022-02-05T23:38:17.924784Z",
     "shell.execute_reply.started": "2022-02-05T23:36:35.153059Z"
    },
    "papermill": {
     "duration": 0.025983,
     "end_time": "2022-02-05T23:38:17.924910",
     "exception": false,
     "start_time": "2022-02-05T23:38:17.898927",
     "status": "completed"
    },
    "tags": []
   },
   "outputs": [],
   "source": [
    "# Lines below will give you a hint or solution code\n",
    "#q_3.hint()\n",
    "#q_3.solution()"
   ]
  },
  {
   "cell_type": "markdown",
   "id": "c015c94a",
   "metadata": {
    "papermill": {
     "duration": 0.019241,
     "end_time": "2022-02-05T23:38:17.963431",
     "exception": false,
     "start_time": "2022-02-05T23:38:17.944190",
     "status": "completed"
    },
    "tags": []
   },
   "source": [
    "Run the next cell to see if batch normalization will let us train the model."
   ]
  },
  {
   "cell_type": "code",
   "execution_count": 11,
   "id": "3ade05ee",
   "metadata": {
    "execution": {
     "iopub.execute_input": "2022-02-05T23:38:18.011169Z",
     "iopub.status.busy": "2022-02-05T23:38:18.010167Z",
     "iopub.status.idle": "2022-02-05T23:38:26.359393Z",
     "shell.execute_reply": "2022-02-05T23:38:26.358920Z",
     "shell.execute_reply.started": "2022-02-05T23:36:46.135176Z"
    },
    "papermill": {
     "duration": 8.376577,
     "end_time": "2022-02-05T23:38:26.359518",
     "exception": false,
     "start_time": "2022-02-05T23:38:17.982941",
     "status": "completed"
    },
    "tags": []
   },
   "outputs": [
    {
     "name": "stdout",
     "output_type": "stream",
     "text": [
      "Minimum Validation Loss: 3.8677\n"
     ]
    },
    {
     "data": {
      "image/png": "[encoded data removed]",
      "text/plain": [
       "<Figure size 432x288 with 1 Axes>"
      ]
     },
     "metadata": {},
     "output_type": "display_data"
    }
   ],
   "source": [
    "model.compile(\n",
    "    optimizer='sgd',\n",
    "    loss='mae',\n",
    "    metrics=['mae'],\n",
    ")\n",
    "EPOCHS = 100\n",
    "history = model.fit(\n",
    "    X_train, y_train,\n",
    "    validation_data=(X_valid, y_valid),\n",
    "    batch_size=64,\n",
    "    epochs=EPOCHS,\n",
    "    verbose=0,\n",
    ")\n",
    "\n",
    "history_df = pd.DataFrame(history.history)\n",
    "history_df.loc[0:, ['loss', 'val_loss']].plot()\n",
    "print((\"Minimum Validation Loss: {:0.4f}\").format(history_df['val_loss'].min()))"
   ]
  },
  {
   "cell_type": "markdown",
   "id": "fbe1e464",
   "metadata": {
    "papermill": {
     "duration": 0.020992,
     "end_time": "2022-02-05T23:38:26.401552",
     "exception": false,
     "start_time": "2022-02-05T23:38:26.380560",
     "status": "completed"
    },
    "tags": []
   },
   "source": [
    "# 4) Evaluate Batch Normalization\n",
    "\n",
    "Did adding batch normalization help?"
   ]
  },
  {
   "cell_type": "code",
   "execution_count": 12,
   "id": "dbfb3163",
   "metadata": {
    "execution": {
     "iopub.execute_input": "2022-02-05T23:38:26.449914Z",
     "iopub.status.busy": "2022-02-05T23:38:26.447786Z",
     "iopub.status.idle": "2022-02-05T23:38:26.453235Z",
     "shell.execute_reply": "2022-02-05T23:38:26.453640Z",
     "shell.execute_reply.started": "2022-02-05T23:36:57.376465Z"
    },
    "lines_to_next_cell": 0,
    "papermill": {
     "duration": 0.031509,
     "end_time": "2022-02-05T23:38:26.453764",
     "exception": false,
     "start_time": "2022-02-05T23:38:26.422255",
     "status": "completed"
    },
    "tags": []
   },
   "outputs": [
    {
     "data": {
      "application/javascript": [
       "parent.postMessage({\"jupyterEvent\": \"custom.exercise_interaction\", \"data\": {\"outcomeType\": 1, \"valueTowardsCompletion\": 0.25, \"interactionType\": 1, \"questionType\": 4, \"questionId\": \"4_Q4\", \"learnToolsVersion\": \"0.3.4\", \"failureMessage\": \"\", \"exceptionClass\": \"\", \"trace\": \"\"}}, \"*\")"
      ],
      "text/plain": [
       "<IPython.core.display.Javascript object>"
      ]
     },
     "metadata": {},
     "output_type": "display_data"
    },
    {
     "data": {
      "text/markdown": [
       "<span style=\"color:#33cc33\">Correct:</span> \n",
       "\n",
       "\n",
       "You can see that adding batch normalization was a big improvement on the first attempt! By adaptively scaling the data as it passes through the network, batch normalization can let you train models on difficult datasets.\n"
      ],
      "text/plain": [
       "Correct: \n",
       "\n",
       "\n",
       "You can see that adding batch normalization was a big improvement on the first attempt! By adaptively scaling the data as it passes through the network, batch normalization can let you train models on difficult datasets."
      ]
     },
     "metadata": {},
     "output_type": "display_data"
    }
   ],
   "source": [
    "# View the solution (Run this cell to receive credit!)\n",
    "q_4.check()"
   ]
  },
  {
   "cell_type": "markdown",
   "id": "7935f702",
   "metadata": {
    "papermill": {
     "duration": 0.021186,
     "end_time": "2022-02-05T23:38:26.496370",
     "exception": false,
     "start_time": "2022-02-05T23:38:26.475184",
     "status": "completed"
    },
    "tags": []
   },
   "source": [
    "# Keep Going #\n",
    "\n",
    "[**Create neural networks**](https://www.kaggle.com/ryanholbrook/binary-classification) for binary classification."
   ]
  },
  {
   "cell_type": "markdown",
   "id": "14ac5c60",
   "metadata": {
    "papermill": {
     "duration": 0.021496,
     "end_time": "2022-02-05T23:38:26.539314",
     "exception": false,
     "start_time": "2022-02-05T23:38:26.517818",
     "status": "completed"
    },
    "tags": []
   },
   "source": [
    "---\n",
    "\n",
    "\n",
    "\n",
    "\n",
    "*Have questions or comments? Visit the [course discussion forum](https://www.kaggle.com/learn/intro-to-deep-learning/discussion) to chat with other learners.*"
   ]
  }
 ],
 "metadata": {
  "kernelspec": {
   "display_name": "Python 3",
   "language": "python",
   "name": "python3"
  },
  "language_info": {
   "codemirror_mode": {
    "name": "ipython",
    "version": 3
   },
   "file_extension": ".py",
   "mimetype": "text/x-python",
   "name": "python",
   "nbconvert_exporter": "python",
   "pygments_lexer": "ipython3",
   "version": "3.7.12"
  },
  "papermill": {
   "default_parameters": {},
   "duration": 42.368802,
   "end_time": "2022-02-05T23:38:29.840864",
   "environment_variables": {},
   "exception": null,
   "input_path": "__notebook__.ipynb",
   "output_path": "__notebook__.ipynb",
   "parameters": {},
   "start_time": "2022-02-05T23:37:47.472062",
   "version": "2.3.3"
  }
 },
 "nbformat": 4,
 "nbformat_minor": 5
}
