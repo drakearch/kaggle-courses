{
 "cells": [
  {
   "cell_type": "markdown",
   "id": "6374e00a",
   "metadata": {
    "papermill": {
     "duration": 0.010921,
     "end_time": "2022-02-06T00:04:04.880499",
     "exception": false,
     "start_time": "2022-02-06T00:04:04.869578",
     "status": "completed"
    },
    "tags": []
   },
   "source": [
    "**This notebook is an exercise in the [Intro to Deep Learning](https://www.kaggle.com/learn/intro-to-deep-learning) course.  You can reference the tutorial at [this link](https://www.kaggle.com/ryanholbrook/binary-classification).**\n",
    "\n",
    "---\n"
   ]
  },
  {
   "cell_type": "markdown",
   "id": "48a7cfa8",
   "metadata": {
    "papermill": {
     "duration": 0.009576,
     "end_time": "2022-02-06T00:04:04.900354",
     "exception": false,
     "start_time": "2022-02-06T00:04:04.890778",
     "status": "completed"
    },
    "tags": []
   },
   "source": [
    "# Introduction #\n",
    "\n",
    "In this exercise, you'll build a model to predict hotel cancellations with a binary classifier."
   ]
  },
  {
   "cell_type": "code",
   "execution_count": 1,
   "id": "91fa7d86",
   "metadata": {
    "execution": {
     "iopub.execute_input": "2022-02-06T00:04:04.925325Z",
     "iopub.status.busy": "2022-02-06T00:04:04.923723Z",
     "iopub.status.idle": "2022-02-06T00:04:04.954472Z",
     "shell.execute_reply": "2022-02-06T00:04:04.953964Z",
     "shell.execute_reply.started": "2022-02-05T23:54:13.477693Z"
    },
    "lines_to_next_cell": 0,
    "papermill": {
     "duration": 0.04458,
     "end_time": "2022-02-06T00:04:04.954605",
     "exception": false,
     "start_time": "2022-02-06T00:04:04.910025",
     "status": "completed"
    },
    "tags": []
   },
   "outputs": [],
   "source": [
    "# Setup plotting\n",
    "import matplotlib.pyplot as plt\n",
    "plt.style.use('seaborn-whitegrid')\n",
    "# Set Matplotlib defaults\n",
    "plt.rc('figure', autolayout=True)\n",
    "plt.rc('axes', labelweight='bold', labelsize='large',\n",
    "       titleweight='bold', titlesize=18, titlepad=10)\n",
    "plt.rc('animation', html='html5')\n",
    "\n",
    "# Setup feedback system\n",
    "from learntools.core import binder\n",
    "binder.bind(globals())\n",
    "from learntools.deep_learning_intro.ex6 import *"
   ]
  },
  {
   "cell_type": "markdown",
   "id": "b47b9a00",
   "metadata": {
    "papermill": {
     "duration": 0.009714,
     "end_time": "2022-02-06T00:04:04.974516",
     "exception": false,
     "start_time": "2022-02-06T00:04:04.964802",
     "status": "completed"
    },
    "tags": []
   },
   "source": [
    "First, load the *Hotel Cancellations* dataset."
   ]
  },
  {
   "cell_type": "code",
   "execution_count": 2,
   "id": "8467ecd4",
   "metadata": {
    "execution": {
     "iopub.execute_input": "2022-02-06T00:04:05.001934Z",
     "iopub.status.busy": "2022-02-06T00:04:05.000566Z",
     "iopub.status.idle": "2022-02-06T00:04:07.376444Z",
     "shell.execute_reply": "2022-02-06T00:04:07.375963Z",
     "shell.execute_reply.started": "2022-02-05T23:55:10.664649Z"
    },
    "lines_to_next_cell": 2,
    "papermill": {
     "duration": 2.392387,
     "end_time": "2022-02-06T00:04:07.376575",
     "exception": false,
     "start_time": "2022-02-06T00:04:04.984188",
     "status": "completed"
    },
    "tags": []
   },
   "outputs": [],
   "source": [
    "import pandas as pd\n",
    "\n",
    "from sklearn.model_selection import train_test_split\n",
    "from sklearn.preprocessing import StandardScaler, OneHotEncoder\n",
    "from sklearn.impute import SimpleImputer\n",
    "from sklearn.pipeline import make_pipeline\n",
    "from sklearn.compose import make_column_transformer\n",
    "\n",
    "hotel = pd.read_csv('../input/dl-course-data/hotel.csv')\n",
    "\n",
    "X = hotel.copy()\n",
    "y = X.pop('is_canceled')\n",
    "\n",
    "X['arrival_date_month'] = \\\n",
    "    X['arrival_date_month'].map(\n",
    "        {'January':1, 'February': 2, 'March':3,\n",
    "         'April':4, 'May':5, 'June':6, 'July':7,\n",
    "         'August':8, 'September':9, 'October':10,\n",
    "         'November':11, 'December':12}\n",
    "    )\n",
    "\n",
    "features_num = [\n",
    "    \"lead_time\", \"arrival_date_week_number\",\n",
    "    \"arrival_date_day_of_month\", \"stays_in_weekend_nights\",\n",
    "    \"stays_in_week_nights\", \"adults\", \"children\", \"babies\",\n",
    "    \"is_repeated_guest\", \"previous_cancellations\",\n",
    "    \"previous_bookings_not_canceled\", \"required_car_parking_spaces\",\n",
    "    \"total_of_special_requests\", \"adr\",\n",
    "]\n",
    "features_cat = [\n",
    "    \"hotel\", \"arrival_date_month\", \"meal\",\n",
    "    \"market_segment\", \"distribution_channel\",\n",
    "    \"reserved_room_type\", \"deposit_type\", \"customer_type\",\n",
    "]\n",
    "\n",
    "transformer_num = make_pipeline(\n",
    "    SimpleImputer(strategy=\"constant\"), # there are a few missing values\n",
    "    StandardScaler(),\n",
    ")\n",
    "transformer_cat = make_pipeline(\n",
    "    SimpleImputer(strategy=\"constant\", fill_value=\"NA\"),\n",
    "    OneHotEncoder(handle_unknown='ignore'),\n",
    ")\n",
    "\n",
    "preprocessor = make_column_transformer(\n",
    "    (transformer_num, features_num),\n",
    "    (transformer_cat, features_cat),\n",
    ")\n",
    "\n",
    "# stratify - make sure classes are evenlly represented across splits\n",
    "X_train, X_valid, y_train, y_valid = \\\n",
    "    train_test_split(X, y, stratify=y, train_size=0.75)\n",
    "\n",
    "X_train = preprocessor.fit_transform(X_train)\n",
    "X_valid = preprocessor.transform(X_valid)\n",
    "\n",
    "input_shape = [X_train.shape[1]]"
   ]
  },
  {
   "cell_type": "markdown",
   "id": "f68ef428",
   "metadata": {
    "papermill": {
     "duration": 0.010072,
     "end_time": "2022-02-06T00:04:07.396528",
     "exception": false,
     "start_time": "2022-02-06T00:04:07.386456",
     "status": "completed"
    },
    "tags": []
   },
   "source": [
    "# 1) Define Model #\n",
    "\n",
    "The model we'll use this time will have both batch normalization and dropout layers. To ease reading we've broken the diagram into blocks, but you can define it layer by layer as usual.\n",
    "\n",
    "Define a model with an architecture given by this diagram:\n",
    "\n",
    "<figure style=\"padding: 1em;\">\n",
    "<img src=\"https://i.imgur.com/V04o59Z.png\" width=\"400\" alt=\"Diagram of network architecture: BatchNorm, Dense, BatchNorm, Dropout, Dense, BatchNorm, Dropout, Dense.\">\n",
    "<figcaption style=\"textalign: center; font-style: italic\"><center>Diagram of a binary classifier.</center></figcaption>\n",
    "</figure>\n"
   ]
  },
  {
   "cell_type": "code",
   "execution_count": 3,
   "id": "91a89ed6",
   "metadata": {
    "execution": {
     "iopub.execute_input": "2022-02-06T00:04:07.421113Z",
     "iopub.status.busy": "2022-02-06T00:04:07.420494Z",
     "iopub.status.idle": "2022-02-06T00:04:14.581488Z",
     "shell.execute_reply": "2022-02-06T00:04:14.582057Z",
     "shell.execute_reply.started": "2022-02-05T23:59:42.751869Z"
    },
    "lines_to_next_cell": 2,
    "papermill": {
     "duration": 7.176315,
     "end_time": "2022-02-06T00:04:14.582248",
     "exception": false,
     "start_time": "2022-02-06T00:04:07.405933",
     "status": "completed"
    },
    "tags": []
   },
   "outputs": [
    {
     "name": "stderr",
     "output_type": "stream",
     "text": [
      "2022-02-06 00:04:12.177126: I tensorflow/stream_executor/cuda/cuda_gpu_executor.cc:937] successful NUMA node read from SysFS had negative value (-1), but there must be at least one NUMA node, so returning NUMA node zero\n",
      "2022-02-06 00:04:12.296315: I tensorflow/stream_executor/cuda/cuda_gpu_executor.cc:937] successful NUMA node read from SysFS had negative value (-1), but there must be at least one NUMA node, so returning NUMA node zero\n",
      "2022-02-06 00:04:12.297032: I tensorflow/stream_executor/cuda/cuda_gpu_executor.cc:937] successful NUMA node read from SysFS had negative value (-1), but there must be at least one NUMA node, so returning NUMA node zero\n",
      "2022-02-06 00:04:12.298144: I tensorflow/core/platform/cpu_feature_guard.cc:142] This TensorFlow binary is optimized with oneAPI Deep Neural Network Library (oneDNN) to use the following CPU instructions in performance-critical operations:  AVX2 AVX512F FMA\n",
      "To enable them in other operations, rebuild TensorFlow with the appropriate compiler flags.\n",
      "2022-02-06 00:04:12.299249: I tensorflow/stream_executor/cuda/cuda_gpu_executor.cc:937] successful NUMA node read from SysFS had negative value (-1), but there must be at least one NUMA node, so returning NUMA node zero\n",
      "2022-02-06 00:04:12.299936: I tensorflow/stream_executor/cuda/cuda_gpu_executor.cc:937] successful NUMA node read from SysFS had negative value (-1), but there must be at least one NUMA node, so returning NUMA node zero\n",
      "2022-02-06 00:04:12.300540: I tensorflow/stream_executor/cuda/cuda_gpu_executor.cc:937] successful NUMA node read from SysFS had negative value (-1), but there must be at least one NUMA node, so returning NUMA node zero\n",
      "2022-02-06 00:04:14.179268: I tensorflow/stream_executor/cuda/cuda_gpu_executor.cc:937] successful NUMA node read from SysFS had negative value (-1), but there must be at least one NUMA node, so returning NUMA node zero\n",
      "2022-02-06 00:04:14.180093: I tensorflow/stream_executor/cuda/cuda_gpu_executor.cc:937] successful NUMA node read from SysFS had negative value (-1), but there must be at least one NUMA node, so returning NUMA node zero\n",
      "2022-02-06 00:04:14.180796: I tensorflow/stream_executor/cuda/cuda_gpu_executor.cc:937] successful NUMA node read from SysFS had negative value (-1), but there must be at least one NUMA node, so returning NUMA node zero\n",
      "2022-02-06 00:04:14.181365: I tensorflow/core/common_runtime/gpu/gpu_device.cc:1510] Created device /job:localhost/replica:0/task:0/device:GPU:0 with 15403 MB memory:  -> device: 0, name: Tesla P100-PCIE-16GB, pci bus id: 0000:00:04.0, compute capability: 6.0\n"
     ]
    },
    {
     "data": {
      "application/javascript": [
       "parent.postMessage({\"jupyterEvent\": \"custom.exercise_interaction\", \"data\": {\"outcomeType\": 1, \"valueTowardsCompletion\": 0.3333333333333333, \"interactionType\": 1, \"questionType\": 2, \"questionId\": \"1_Q1\", \"learnToolsVersion\": \"0.3.4\", \"failureMessage\": \"\", \"exceptionClass\": \"\", \"trace\": \"\"}}, \"*\")"
      ],
      "text/plain": [
       "<IPython.core.display.Javascript object>"
      ]
     },
     "metadata": {},
     "output_type": "display_data"
    },
    {
     "data": {
      "text/markdown": [
       "<span style=\"color:#33cc33\">Correct</span>"
      ],
      "text/plain": [
       "Correct"
      ]
     },
     "metadata": {},
     "output_type": "display_data"
    }
   ],
   "source": [
    "from tensorflow import keras\n",
    "from tensorflow.keras import layers\n",
    "\n",
    "# YOUR CODE HERE: define the model given in the diagram\n",
    "model = keras.Sequential([\n",
    "    layers.BatchNormalization(input_shape=input_shape),\n",
    "    layers.Dense(256, activation='relu'),\n",
    "    layers.BatchNormalization(),\n",
    "    layers.Dropout(0.3),\n",
    "    layers.Dense(256, activation='relu'),\n",
    "    layers.BatchNormalization(),\n",
    "    layers.Dropout(0.3),\n",
    "    layers.Dense(1, activation='sigmoid')\n",
    "])\n",
    "\n",
    "# Check your answer\n",
    "q_1.check()"
   ]
  },
  {
   "cell_type": "markdown",
   "id": "e97549eb",
   "metadata": {
    "papermill": {
     "duration": 0.011588,
     "end_time": "2022-02-06T00:04:14.606178",
     "exception": false,
     "start_time": "2022-02-06T00:04:14.594590",
     "status": "completed"
    },
    "tags": []
   },
   "source": [
    "# 2) Add Optimizer, Loss, and Metric #\n",
    "\n",
    "Now compile the model with the Adam optimizer and binary versions of the cross-entropy loss and accuracy metric."
   ]
  },
  {
   "cell_type": "code",
   "execution_count": 4,
   "id": "b12c294f",
   "metadata": {
    "execution": {
     "iopub.execute_input": "2022-02-06T00:04:14.634885Z",
     "iopub.status.busy": "2022-02-06T00:04:14.634129Z",
     "iopub.status.idle": "2022-02-06T00:04:14.648875Z",
     "shell.execute_reply": "2022-02-06T00:04:14.648380Z",
     "shell.execute_reply.started": "2022-02-06T00:01:36.906908Z"
    },
    "lines_to_next_cell": 0,
    "papermill": {
     "duration": 0.031267,
     "end_time": "2022-02-06T00:04:14.649026",
     "exception": false,
     "start_time": "2022-02-06T00:04:14.617759",
     "status": "completed"
    },
    "tags": []
   },
   "outputs": [
    {
     "data": {
      "application/javascript": [
       "parent.postMessage({\"jupyterEvent\": \"custom.exercise_interaction\", \"data\": {\"outcomeType\": 1, \"valueTowardsCompletion\": 0.3333333333333333, \"interactionType\": 1, \"questionType\": 2, \"questionId\": \"2_Q2\", \"learnToolsVersion\": \"0.3.4\", \"failureMessage\": \"\", \"exceptionClass\": \"\", \"trace\": \"\"}}, \"*\")"
      ],
      "text/plain": [
       "<IPython.core.display.Javascript object>"
      ]
     },
     "metadata": {},
     "output_type": "display_data"
    },
    {
     "data": {
      "text/markdown": [
       "<span style=\"color:#33cc33\">Correct</span>"
      ],
      "text/plain": [
       "Correct"
      ]
     },
     "metadata": {},
     "output_type": "display_data"
    }
   ],
   "source": [
    "# YOUR CODE HERE\n",
    "model.compile(optimizer='adam', loss='binary_crossentropy', metrics=['binary_accuracy'])\n",
    "\n",
    "# Check your answer\n",
    "q_2.check()"
   ]
  },
  {
   "cell_type": "code",
   "execution_count": 5,
   "id": "3def2369",
   "metadata": {
    "execution": {
     "iopub.execute_input": "2022-02-06T00:04:14.677826Z",
     "iopub.status.busy": "2022-02-06T00:04:14.676907Z",
     "iopub.status.idle": "2022-02-06T00:04:14.679103Z",
     "shell.execute_reply": "2022-02-06T00:04:14.679515Z",
     "shell.execute_reply.started": "2022-02-06T00:01:39.760305Z"
    },
    "lines_to_next_cell": 0,
    "papermill": {
     "duration": 0.018302,
     "end_time": "2022-02-06T00:04:14.679645",
     "exception": false,
     "start_time": "2022-02-06T00:04:14.661343",
     "status": "completed"
    },
    "tags": []
   },
   "outputs": [],
   "source": [
    "# Lines below will give you a hint or solution code\n",
    "#q_2.hint()\n",
    "#q_2.solution()"
   ]
  },
  {
   "cell_type": "markdown",
   "id": "090004ff",
   "metadata": {
    "papermill": {
     "duration": 0.012083,
     "end_time": "2022-02-06T00:04:14.704041",
     "exception": false,
     "start_time": "2022-02-06T00:04:14.691958",
     "status": "completed"
    },
    "tags": []
   },
   "source": [
    "Finally, run this cell to train the model and view the learning curves. It may run for around 60 to 70 epochs, which could take a minute or two."
   ]
  },
  {
   "cell_type": "code",
   "execution_count": 6,
   "id": "d0eff532",
   "metadata": {
    "execution": {
     "iopub.execute_input": "2022-02-06T00:04:14.734309Z",
     "iopub.status.busy": "2022-02-06T00:04:14.733586Z",
     "iopub.status.idle": "2022-02-06T00:04:57.287827Z",
     "shell.execute_reply": "2022-02-06T00:04:57.288247Z",
     "shell.execute_reply.started": "2022-02-06T00:01:50.670493Z"
    },
    "papermill": {
     "duration": 42.572125,
     "end_time": "2022-02-06T00:04:57.288394",
     "exception": false,
     "start_time": "2022-02-06T00:04:14.716269",
     "status": "completed"
    },
    "tags": []
   },
   "outputs": [
    {
     "name": "stderr",
     "output_type": "stream",
     "text": [
      "2022-02-06 00:04:14.842748: I tensorflow/compiler/mlir/mlir_graph_optimization_pass.cc:185] None of the MLIR Optimization Passes are enabled (registered 2)\n"
     ]
    },
    {
     "name": "stdout",
     "output_type": "stream",
     "text": [
      "Epoch 1/200\n",
      "175/175 [==============================] - 3s 7ms/step - loss: 0.4820 - binary_accuracy: 0.7726 - val_loss: 0.4348 - val_binary_accuracy: 0.7989\n",
      "Epoch 2/200\n",
      "175/175 [==============================] - 1s 5ms/step - loss: 0.4211 - binary_accuracy: 0.8025 - val_loss: 0.4039 - val_binary_accuracy: 0.8092\n",
      "Epoch 3/200\n",
      "175/175 [==============================] - 1s 4ms/step - loss: 0.4086 - binary_accuracy: 0.8093 - val_loss: 0.3974 - val_binary_accuracy: 0.8166\n",
      "Epoch 4/200\n",
      "175/175 [==============================] - 1s 4ms/step - loss: 0.4005 - binary_accuracy: 0.8133 - val_loss: 0.3951 - val_binary_accuracy: 0.8171\n",
      "Epoch 5/200\n",
      "175/175 [==============================] - 1s 4ms/step - loss: 0.3940 - binary_accuracy: 0.8169 - val_loss: 0.3900 - val_binary_accuracy: 0.8204\n",
      "Epoch 6/200\n",
      "175/175 [==============================] - 1s 4ms/step - loss: 0.3917 - binary_accuracy: 0.8175 - val_loss: 0.3878 - val_binary_accuracy: 0.8216\n",
      "Epoch 7/200\n",
      "175/175 [==============================] - 1s 5ms/step - loss: 0.3882 - binary_accuracy: 0.8199 - val_loss: 0.3854 - val_binary_accuracy: 0.8230\n",
      "Epoch 8/200\n",
      "175/175 [==============================] - 1s 5ms/step - loss: 0.3842 - binary_accuracy: 0.8225 - val_loss: 0.3832 - val_binary_accuracy: 0.8254\n",
      "Epoch 9/200\n",
      "175/175 [==============================] - 1s 4ms/step - loss: 0.3805 - binary_accuracy: 0.8232 - val_loss: 0.3801 - val_binary_accuracy: 0.8259\n",
      "Epoch 10/200\n",
      "175/175 [==============================] - 1s 5ms/step - loss: 0.3790 - binary_accuracy: 0.8251 - val_loss: 0.3798 - val_binary_accuracy: 0.8290\n",
      "Epoch 11/200\n",
      "175/175 [==============================] - 1s 4ms/step - loss: 0.3753 - binary_accuracy: 0.8268 - val_loss: 0.3781 - val_binary_accuracy: 0.8274\n",
      "Epoch 12/200\n",
      "175/175 [==============================] - 1s 4ms/step - loss: 0.3737 - binary_accuracy: 0.8268 - val_loss: 0.3748 - val_binary_accuracy: 0.8290\n",
      "Epoch 13/200\n",
      "175/175 [==============================] - 1s 5ms/step - loss: 0.3709 - binary_accuracy: 0.8290 - val_loss: 0.3763 - val_binary_accuracy: 0.8272\n",
      "Epoch 14/200\n",
      "175/175 [==============================] - 1s 6ms/step - loss: 0.3683 - binary_accuracy: 0.8301 - val_loss: 0.3729 - val_binary_accuracy: 0.8285\n",
      "Epoch 15/200\n",
      "175/175 [==============================] - 1s 6ms/step - loss: 0.3671 - binary_accuracy: 0.8306 - val_loss: 0.3691 - val_binary_accuracy: 0.8302\n",
      "Epoch 16/200\n",
      "175/175 [==============================] - 1s 6ms/step - loss: 0.3648 - binary_accuracy: 0.8319 - val_loss: 0.3681 - val_binary_accuracy: 0.8294\n",
      "Epoch 17/200\n",
      "175/175 [==============================] - 1s 5ms/step - loss: 0.3627 - binary_accuracy: 0.8332 - val_loss: 0.3678 - val_binary_accuracy: 0.8301\n",
      "Epoch 18/200\n",
      "175/175 [==============================] - 1s 5ms/step - loss: 0.3604 - binary_accuracy: 0.8349 - val_loss: 0.3705 - val_binary_accuracy: 0.8294\n",
      "Epoch 19/200\n",
      "175/175 [==============================] - 1s 5ms/step - loss: 0.3594 - binary_accuracy: 0.8337 - val_loss: 0.3674 - val_binary_accuracy: 0.8321\n",
      "Epoch 20/200\n",
      "175/175 [==============================] - 1s 4ms/step - loss: 0.3594 - binary_accuracy: 0.8326 - val_loss: 0.3650 - val_binary_accuracy: 0.8320\n",
      "Epoch 21/200\n",
      "175/175 [==============================] - 1s 4ms/step - loss: 0.3580 - binary_accuracy: 0.8345 - val_loss: 0.3634 - val_binary_accuracy: 0.8333\n",
      "Epoch 22/200\n",
      "175/175 [==============================] - 1s 5ms/step - loss: 0.3555 - binary_accuracy: 0.8362 - val_loss: 0.3658 - val_binary_accuracy: 0.8318\n",
      "Epoch 23/200\n",
      "175/175 [==============================] - 1s 4ms/step - loss: 0.3546 - binary_accuracy: 0.8369 - val_loss: 0.3623 - val_binary_accuracy: 0.8338\n",
      "Epoch 24/200\n",
      "175/175 [==============================] - 1s 5ms/step - loss: 0.3531 - binary_accuracy: 0.8378 - val_loss: 0.3660 - val_binary_accuracy: 0.8319\n",
      "Epoch 25/200\n",
      "175/175 [==============================] - 1s 4ms/step - loss: 0.3521 - binary_accuracy: 0.8371 - val_loss: 0.3602 - val_binary_accuracy: 0.8341\n",
      "Epoch 26/200\n",
      "175/175 [==============================] - 1s 5ms/step - loss: 0.3522 - binary_accuracy: 0.8369 - val_loss: 0.3603 - val_binary_accuracy: 0.8343\n",
      "Epoch 27/200\n",
      "175/175 [==============================] - 1s 6ms/step - loss: 0.3496 - binary_accuracy: 0.8376 - val_loss: 0.3639 - val_binary_accuracy: 0.8316\n",
      "Epoch 28/200\n",
      "175/175 [==============================] - 1s 5ms/step - loss: 0.3488 - binary_accuracy: 0.8394 - val_loss: 0.3609 - val_binary_accuracy: 0.8338\n",
      "Epoch 29/200\n",
      "175/175 [==============================] - 1s 5ms/step - loss: 0.3470 - binary_accuracy: 0.8404 - val_loss: 0.3601 - val_binary_accuracy: 0.8347\n",
      "Epoch 30/200\n",
      "175/175 [==============================] - 1s 4ms/step - loss: 0.3468 - binary_accuracy: 0.8392 - val_loss: 0.3601 - val_binary_accuracy: 0.8358\n"
     ]
    },
    {
     "data": {
      "text/plain": [
       "<AxesSubplot:title={'center':'Accuracy'}>"
      ]
     },
     "execution_count": 6,
     "metadata": {},
     "output_type": "execute_result"
    },
    {
     "data": {
      "image/png": "[encoded data removed]",
      "text/plain": [
       "<Figure size 432x288 with 1 Axes>"
      ]
     },
     "metadata": {},
     "output_type": "display_data"
    },
    {
     "data": {
      "image/png": "[encoded data removed]",
      "text/plain": [
       "<Figure size 432x288 with 1 Axes>"
      ]
     },
     "metadata": {},
     "output_type": "display_data"
    }
   ],
   "source": [
    "early_stopping = keras.callbacks.EarlyStopping(\n",
    "    patience=5,\n",
    "    min_delta=0.001,\n",
    "    restore_best_weights=True,\n",
    ")\n",
    "history = model.fit(\n",
    "    X_train, y_train,\n",
    "    validation_data=(X_valid, y_valid),\n",
    "    batch_size=512,\n",
    "    epochs=200,\n",
    "    callbacks=[early_stopping],\n",
    ")\n",
    "\n",
    "history_df = pd.DataFrame(history.history)\n",
    "history_df.loc[:, ['loss', 'val_loss']].plot(title=\"Cross-entropy\")\n",
    "history_df.loc[:, ['binary_accuracy', 'val_binary_accuracy']].plot(title=\"Accuracy\")"
   ]
  },
  {
   "cell_type": "markdown",
   "id": "e2d30157",
   "metadata": {
    "papermill": {
     "duration": 0.129584,
     "end_time": "2022-02-06T00:04:57.548846",
     "exception": false,
     "start_time": "2022-02-06T00:04:57.419262",
     "status": "completed"
    },
    "tags": []
   },
   "source": [
    "# 3) Train and Evaluate #\n",
    "\n",
    "\n",
    "What do you think about the learning curves? Does it look like the model underfit or overfit? Was the cross-entropy loss a good stand-in for accuracy?"
   ]
  },
  {
   "cell_type": "code",
   "execution_count": 7,
   "id": "11dce905",
   "metadata": {
    "execution": {
     "iopub.execute_input": "2022-02-06T00:04:57.815806Z",
     "iopub.status.busy": "2022-02-06T00:04:57.813799Z",
     "iopub.status.idle": "2022-02-06T00:04:57.819842Z",
     "shell.execute_reply": "2022-02-06T00:04:57.819364Z",
     "shell.execute_reply.started": "2022-02-06T00:03:02.146114Z"
    },
    "papermill": {
     "duration": 0.141108,
     "end_time": "2022-02-06T00:04:57.819960",
     "exception": false,
     "start_time": "2022-02-06T00:04:57.678852",
     "status": "completed"
    },
    "tags": []
   },
   "outputs": [
    {
     "data": {
      "application/javascript": [
       "parent.postMessage({\"jupyterEvent\": \"custom.exercise_interaction\", \"data\": {\"outcomeType\": 1, \"valueTowardsCompletion\": 0.3333333333333333, \"interactionType\": 1, \"questionType\": 4, \"questionId\": \"3_Q3\", \"learnToolsVersion\": \"0.3.4\", \"failureMessage\": \"\", \"exceptionClass\": \"\", \"trace\": \"\"}}, \"*\")"
      ],
      "text/plain": [
       "<IPython.core.display.Javascript object>"
      ]
     },
     "metadata": {},
     "output_type": "display_data"
    },
    {
     "data": {
      "text/markdown": [
       "<span style=\"color:#33cc33\">Correct:</span> \n",
       "\n",
       "Though we can see the training loss continuing to fall, the early stopping callback prevented any overfitting. Moreover, the accuracy rose at the same rate as the cross-entropy fell, so it appears that minimizing cross-entropy was a good stand-in. All in all, it looks like this training was a success!"
      ],
      "text/plain": [
       "Correct: \n",
       "\n",
       "Though we can see the training loss continuing to fall, the early stopping callback prevented any overfitting. Moreover, the accuracy rose at the same rate as the cross-entropy fell, so it appears that minimizing cross-entropy was a good stand-in. All in all, it looks like this training was a success!"
      ]
     },
     "metadata": {},
     "output_type": "display_data"
    }
   ],
   "source": [
    "# View the solution (Run this cell to receive credit!)\n",
    "q_3.check()"
   ]
  },
  {
   "cell_type": "markdown",
   "id": "9dc6c452",
   "metadata": {
    "papermill": {
     "duration": 0.131797,
     "end_time": "2022-02-06T00:04:58.083752",
     "exception": false,
     "start_time": "2022-02-06T00:04:57.951955",
     "status": "completed"
    },
    "tags": []
   },
   "source": [
    "# Conclusion #\n",
    "\n",
    "Congratulations! You've completed Kaggle's *Introduction to Deep Learning* course!\n",
    "\n",
    "With your new skills you're ready to take on more advanced applications like computer vision and sentiment classification. What would you like to do next?\n",
    "\n",
    "Why not try one of our *Getting Started* competitions?\n",
    "\n",
    "- Classify images with TPUs in [**Petals to the Metal**](https://www.kaggle.com/c/tpu-getting-started)\n",
    "- Create art with GANs in [**I'm Something of a Painter Myself**](https://www.kaggle.com/c/gan-getting-started)\n",
    "- Classify Tweets in [**Real or Not? NLP with Disaster Tweets**](https://www.kaggle.com/c/nlp-getting-started)\n",
    "- Detect contradiction and entailment in [**Contradictory, My Dear Watson**](https://www.kaggle.com/c/contradictory-my-dear-watson)\n",
    "\n",
    "Until next time, Kagglers!"
   ]
  },
  {
   "cell_type": "markdown",
   "id": "f963f250",
   "metadata": {
    "papermill": {
     "duration": 0.135033,
     "end_time": "2022-02-06T00:04:58.350564",
     "exception": false,
     "start_time": "2022-02-06T00:04:58.215531",
     "status": "completed"
    },
    "tags": []
   },
   "source": [
    "---\n",
    "\n",
    "\n",
    "\n",
    "\n",
    "*Have questions or comments? Visit the [course discussion forum](https://www.kaggle.com/learn/intro-to-deep-learning/discussion) to chat with other learners.*"
   ]
  }
 ],
 "metadata": {
  "kernelspec": {
   "display_name": "Python 3",
   "language": "python",
   "name": "python3"
  },
  "language_info": {
   "codemirror_mode": {
    "name": "ipython",
    "version": 3
   },
   "file_extension": ".py",
   "mimetype": "text/x-python",
   "name": "python",
   "nbconvert_exporter": "python",
   "pygments_lexer": "ipython3",
   "version": "3.7.12"
  },
  "papermill": {
   "default_parameters": {},
   "duration": 65.680108,
   "end_time": "2022-02-06T00:05:02.069832",
   "environment_variables": {},
   "exception": null,
   "input_path": "__notebook__.ipynb",
   "output_path": "__notebook__.ipynb",
   "parameters": {},
   "start_time": "2022-02-06T00:03:56.389724",
   "version": "2.3.3"
  }
 },
 "nbformat": 4,
 "nbformat_minor": 5
}
