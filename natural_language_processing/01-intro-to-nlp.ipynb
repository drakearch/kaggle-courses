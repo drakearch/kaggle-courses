{
 "cells": [
  {
   "cell_type": "markdown",
   "id": "c383fd49",
   "metadata": {
    "papermill": {
     "duration": 0.021148,
     "end_time": "2021-08-22T20:56:51.448462",
     "exception": false,
     "start_time": "2021-08-22T20:56:51.427314",
     "status": "completed"
    },
    "tags": []
   },
   "source": [
    "**This notebook is an exercise in the [Natural Language Processing](https://www.kaggle.com/learn/natural-language-processing) course.  You can reference the tutorial at [this link](https://www.kaggle.com/matleonard/intro-to-nlp).**\n",
    "\n",
    "---\n"
   ]
  },
  {
   "cell_type": "markdown",
   "id": "7a9b4679",
   "metadata": {
    "papermill": {
     "duration": 0.019763,
     "end_time": "2021-08-22T20:56:51.492336",
     "exception": false,
     "start_time": "2021-08-22T20:56:51.472573",
     "status": "completed"
    },
    "tags": []
   },
   "source": [
    "# Basic Text Processing with Spacy\n",
    "    \n",
    "You're a consultant for [DelFalco's Italian Restaurant](https://defalcosdeli.com/index.html).\n",
    "The owner asked you to identify whether there are any foods on their menu that diners find disappointing. \n",
    "\n",
    "<img src=\"https://i.imgur.com/8DZunAQ.jpg\" alt=\"Meatball Sub\" width=\"250\"/>\n",
    "\n",
    "Before getting started, run the following cell to set up code checking."
   ]
  },
  {
   "cell_type": "code",
   "execution_count": 1,
   "id": "567b19ec",
   "metadata": {
    "execution": {
     "iopub.execute_input": "2021-08-22T20:56:51.536571Z",
     "iopub.status.busy": "2021-08-22T20:56:51.535411Z",
     "iopub.status.idle": "2021-08-22T20:56:51.692019Z",
     "shell.execute_reply": "2021-08-22T20:56:51.690958Z",
     "shell.execute_reply.started": "2021-08-22T20:23:38.491121Z"
    },
    "papermill": {
     "duration": 0.180058,
     "end_time": "2021-08-22T20:56:51.692225",
     "exception": false,
     "start_time": "2021-08-22T20:56:51.512167",
     "status": "completed"
    },
    "tags": []
   },
   "outputs": [
    {
     "name": "stdout",
     "output_type": "stream",
     "text": [
      "Setup Complete\n"
     ]
    }
   ],
   "source": [
    "import pandas as pd\n",
    "\n",
    "# Set up code checking\n",
    "from learntools.core import binder\n",
    "binder.bind(globals())\n",
    "from learntools.nlp.ex1 import *\n",
    "print('Setup Complete')"
   ]
  },
  {
   "cell_type": "markdown",
   "id": "4a7fa51d",
   "metadata": {
    "papermill": {
     "duration": 0.019852,
     "end_time": "2021-08-22T20:56:51.733148",
     "exception": false,
     "start_time": "2021-08-22T20:56:51.713296",
     "status": "completed"
    },
    "tags": []
   },
   "source": [
    "The business owner suggested you use diner reviews from the Yelp website to determine which dishes people liked and disliked. You pulled the data from Yelp. Before you get to analysis, run the code cell below for a quick look at the data you have to work with."
   ]
  },
  {
   "cell_type": "code",
   "execution_count": 2,
   "id": "4bd71c53",
   "metadata": {
    "execution": {
     "iopub.execute_input": "2021-08-22T20:56:51.778259Z",
     "iopub.status.busy": "2021-08-22T20:56:51.777590Z",
     "iopub.status.idle": "2021-08-22T20:56:51.883631Z",
     "shell.execute_reply": "2021-08-22T20:56:51.883004Z",
     "shell.execute_reply.started": "2021-08-22T20:23:38.506426Z"
    },
    "papermill": {
     "duration": 0.130285,
     "end_time": "2021-08-22T20:56:51.883787",
     "exception": false,
     "start_time": "2021-08-22T20:56:51.753502",
     "status": "completed"
    },
    "tags": []
   },
   "outputs": [
    {
     "data": {
      "text/html": [
       "<div>\n",
       "<style scoped>\n",
       "    .dataframe tbody tr th:only-of-type {\n",
       "        vertical-align: middle;\n",
       "    }\n",
       "\n",
       "    .dataframe tbody tr th {\n",
       "        vertical-align: top;\n",
       "    }\n",
       "\n",
       "    .dataframe thead th {\n",
       "        text-align: right;\n",
       "    }\n",
       "</style>\n",
       "<table border=\"1\" class=\"dataframe\">\n",
       "  <thead>\n",
       "    <tr style=\"text-align: right;\">\n",
       "      <th></th>\n",
       "      <th>review_id</th>\n",
       "      <th>user_id</th>\n",
       "      <th>business_id</th>\n",
       "      <th>stars</th>\n",
       "      <th>useful</th>\n",
       "      <th>funny</th>\n",
       "      <th>cool</th>\n",
       "      <th>text</th>\n",
       "      <th>date</th>\n",
       "    </tr>\n",
       "  </thead>\n",
       "  <tbody>\n",
       "    <tr>\n",
       "      <th>109</th>\n",
       "      <td>lDJIaF4eYRF4F7g6Zb9euw</td>\n",
       "      <td>lb0QUR5bc4O-Am4hNq9ZGg</td>\n",
       "      <td>r5PLDU-4mSbde5XekTXSCA</td>\n",
       "      <td>4</td>\n",
       "      <td>2</td>\n",
       "      <td>0</td>\n",
       "      <td>0</td>\n",
       "      <td>I used to work food service and my manager at ...</td>\n",
       "      <td>2013-01-27 17:54:54</td>\n",
       "    </tr>\n",
       "    <tr>\n",
       "      <th>1013</th>\n",
       "      <td>vvIzf3pr8lTqE_AOsxmgaA</td>\n",
       "      <td>MAmijW4ooUzujkufYYLMeQ</td>\n",
       "      <td>r5PLDU-4mSbde5XekTXSCA</td>\n",
       "      <td>4</td>\n",
       "      <td>0</td>\n",
       "      <td>0</td>\n",
       "      <td>0</td>\n",
       "      <td>We have been trying Eggplant sandwiches all ov...</td>\n",
       "      <td>2015-04-15 04:50:56</td>\n",
       "    </tr>\n",
       "    <tr>\n",
       "      <th>1204</th>\n",
       "      <td>UF-JqzMczZ8vvp_4tPK3bQ</td>\n",
       "      <td>slfi6gf_qEYTXy90Sw93sg</td>\n",
       "      <td>r5PLDU-4mSbde5XekTXSCA</td>\n",
       "      <td>5</td>\n",
       "      <td>1</td>\n",
       "      <td>0</td>\n",
       "      <td>0</td>\n",
       "      <td>Amazing Steak and Cheese... Better than any Ph...</td>\n",
       "      <td>2011-03-20 00:57:45</td>\n",
       "    </tr>\n",
       "    <tr>\n",
       "      <th>1251</th>\n",
       "      <td>geUJGrKhXynxDC2uvERsLw</td>\n",
       "      <td>N_-UepOzAsuDQwOUtfRFGw</td>\n",
       "      <td>r5PLDU-4mSbde5XekTXSCA</td>\n",
       "      <td>1</td>\n",
       "      <td>0</td>\n",
       "      <td>0</td>\n",
       "      <td>0</td>\n",
       "      <td>Although I have been going to DeFalco's for ye...</td>\n",
       "      <td>2018-07-17 01:48:23</td>\n",
       "    </tr>\n",
       "    <tr>\n",
       "      <th>1354</th>\n",
       "      <td>aPctXPeZW3kDq36TRm-CqA</td>\n",
       "      <td>139hD7gkZVzSvSzDPwhNNw</td>\n",
       "      <td>r5PLDU-4mSbde5XekTXSCA</td>\n",
       "      <td>2</td>\n",
       "      <td>0</td>\n",
       "      <td>0</td>\n",
       "      <td>0</td>\n",
       "      <td>Highs: Ambience, value, pizza and deserts. Thi...</td>\n",
       "      <td>2018-01-21 10:52:58</td>\n",
       "    </tr>\n",
       "  </tbody>\n",
       "</table>\n",
       "</div>"
      ],
      "text/plain": [
       "                   review_id                 user_id             business_id  \\\n",
       "109   lDJIaF4eYRF4F7g6Zb9euw  lb0QUR5bc4O-Am4hNq9ZGg  r5PLDU-4mSbde5XekTXSCA   \n",
       "1013  vvIzf3pr8lTqE_AOsxmgaA  MAmijW4ooUzujkufYYLMeQ  r5PLDU-4mSbde5XekTXSCA   \n",
       "1204  UF-JqzMczZ8vvp_4tPK3bQ  slfi6gf_qEYTXy90Sw93sg  r5PLDU-4mSbde5XekTXSCA   \n",
       "1251  geUJGrKhXynxDC2uvERsLw  N_-UepOzAsuDQwOUtfRFGw  r5PLDU-4mSbde5XekTXSCA   \n",
       "1354  aPctXPeZW3kDq36TRm-CqA  139hD7gkZVzSvSzDPwhNNw  r5PLDU-4mSbde5XekTXSCA   \n",
       "\n",
       "      stars  useful  funny  cool  \\\n",
       "109       4       2      0     0   \n",
       "1013      4       0      0     0   \n",
       "1204      5       1      0     0   \n",
       "1251      1       0      0     0   \n",
       "1354      2       0      0     0   \n",
       "\n",
       "                                                   text                date  \n",
       "109   I used to work food service and my manager at ... 2013-01-27 17:54:54  \n",
       "1013  We have been trying Eggplant sandwiches all ov... 2015-04-15 04:50:56  \n",
       "1204  Amazing Steak and Cheese... Better than any Ph... 2011-03-20 00:57:45  \n",
       "1251  Although I have been going to DeFalco's for ye... 2018-07-17 01:48:23  \n",
       "1354  Highs: Ambience, value, pizza and deserts. Thi... 2018-01-21 10:52:58  "
      ]
     },
     "execution_count": 2,
     "metadata": {},
     "output_type": "execute_result"
    }
   ],
   "source": [
    "# Load in the data from JSON file\n",
    "data = pd.read_json('../input/nlp-course/restaurant.json')\n",
    "data.head()"
   ]
  },
  {
   "cell_type": "markdown",
   "id": "c4c3bf9b",
   "metadata": {
    "papermill": {
     "duration": 0.021498,
     "end_time": "2021-08-22T20:56:51.927077",
     "exception": false,
     "start_time": "2021-08-22T20:56:51.905579",
     "status": "completed"
    },
    "tags": []
   },
   "source": [
    "The owner also gave you this list of menu items and common alternate spellings."
   ]
  },
  {
   "cell_type": "code",
   "execution_count": 3,
   "id": "1fe370bd",
   "metadata": {
    "execution": {
     "iopub.execute_input": "2021-08-22T20:56:51.975379Z",
     "iopub.status.busy": "2021-08-22T20:56:51.974605Z",
     "iopub.status.idle": "2021-08-22T20:56:51.977505Z",
     "shell.execute_reply": "2021-08-22T20:56:51.977013Z",
     "shell.execute_reply.started": "2021-08-22T20:23:38.559718Z"
    },
    "papermill": {
     "duration": 0.029778,
     "end_time": "2021-08-22T20:56:51.977642",
     "exception": false,
     "start_time": "2021-08-22T20:56:51.947864",
     "status": "completed"
    },
    "tags": []
   },
   "outputs": [],
   "source": [
    "menu = [\"Cheese Steak\", \"Cheesesteak\", \"Steak and Cheese\", \"Italian Combo\", \"Tiramisu\", \"Cannoli\",\n",
    "        \"Chicken Salad\", \"Chicken Spinach Salad\", \"Meatball\", \"Pizza\", \"Pizzas\", \"Spaghetti\",\n",
    "        \"Bruchetta\", \"Eggplant\", \"Italian Beef\", \"Purista\", \"Pasta\", \"Calzones\",  \"Calzone\",\n",
    "        \"Italian Sausage\", \"Chicken Cutlet\", \"Chicken Parm\", \"Chicken Parmesan\", \"Gnocchi\",\n",
    "        \"Chicken Pesto\", \"Turkey Sandwich\", \"Turkey Breast\", \"Ziti\", \"Portobello\", \"Reuben\",\n",
    "        \"Mozzarella Caprese\",  \"Corned Beef\", \"Garlic Bread\", \"Pastrami\", \"Roast Beef\",\n",
    "        \"Tuna Salad\", \"Lasagna\", \"Artichoke Salad\", \"Fettuccini Alfredo\", \"Chicken Parmigiana\",\n",
    "        \"Grilled Veggie\", \"Grilled Veggies\", \"Grilled Vegetable\", \"Mac and Cheese\", \"Macaroni\",  \n",
    "         \"Prosciutto\", \"Salami\"]"
   ]
  },
  {
   "cell_type": "markdown",
   "id": "9dd97fba",
   "metadata": {
    "papermill": {
     "duration": 0.020522,
     "end_time": "2021-08-22T20:56:52.018831",
     "exception": false,
     "start_time": "2021-08-22T20:56:51.998309",
     "status": "completed"
    },
    "tags": []
   },
   "source": [
    "# Step 1: Plan Your Analysis"
   ]
  },
  {
   "cell_type": "markdown",
   "id": "96a98b46",
   "metadata": {
    "papermill": {
     "duration": 0.020351,
     "end_time": "2021-08-22T20:56:52.059895",
     "exception": false,
     "start_time": "2021-08-22T20:56:52.039544",
     "status": "completed"
    },
    "tags": []
   },
   "source": [
    "Given the data from Yelp and the list of menu items, do you have any ideas for how you could find which menu items have disappointed diners?\n",
    "\n",
    "Think about your answer. Then run the cell below to see one approach."
   ]
  },
  {
   "cell_type": "code",
   "execution_count": 4,
   "id": "a6b12aa2",
   "metadata": {
    "execution": {
     "iopub.execute_input": "2021-08-22T20:56:52.107037Z",
     "iopub.status.busy": "2021-08-22T20:56:52.106378Z",
     "iopub.status.idle": "2021-08-22T20:56:52.111215Z",
     "shell.execute_reply": "2021-08-22T20:56:52.111735Z",
     "shell.execute_reply.started": "2021-08-22T20:23:38.567288Z"
    },
    "papermill": {
     "duration": 0.031287,
     "end_time": "2021-08-22T20:56:52.111905",
     "exception": false,
     "start_time": "2021-08-22T20:56:52.080618",
     "status": "completed"
    },
    "tags": []
   },
   "outputs": [
    {
     "data": {
      "application/javascript": [
       "parent.postMessage({\"jupyterEvent\": \"custom.exercise_interaction\", \"data\": {\"outcomeType\": 1, \"valueTowardsCompletion\": 0.2, \"interactionType\": 1, \"questionType\": 4, \"questionId\": \"1_MenuAnalysisPlan\", \"learnToolsVersion\": \"0.3.4\", \"failureMessage\": \"\", \"exceptionClass\": \"\", \"trace\": \"\"}}, \"*\")"
      ],
      "text/plain": [
       "<IPython.core.display.Javascript object>"
      ]
     },
     "metadata": {},
     "output_type": "display_data"
    },
    {
     "data": {
      "text/markdown": [
       "<span style=\"color:#33cc33\">Correct:</span> \n",
       "\n",
       "You could group reviews by what menu items they mention, and then calculate the average rating\n",
       "    for reviews that mentioned each item. You can tell which foods are mentioned in reviews with low scores,\n",
       "    so the restaurant can fix the recipe or remove those foods from the menu."
      ],
      "text/plain": [
       "Correct: \n",
       "\n",
       "You could group reviews by what menu items they mention, and then calculate the average rating\n",
       "    for reviews that mentioned each item. You can tell which foods are mentioned in reviews with low scores,\n",
       "    so the restaurant can fix the recipe or remove those foods from the menu."
      ]
     },
     "metadata": {},
     "output_type": "display_data"
    }
   ],
   "source": [
    "# Check your answer (Run this code cell to receive credit!)\n",
    "q_1.check()\n",
    "#q_1.solution()"
   ]
  },
  {
   "cell_type": "markdown",
   "id": "3f182a00",
   "metadata": {
    "papermill": {
     "duration": 0.021803,
     "end_time": "2021-08-22T20:56:52.155420",
     "exception": false,
     "start_time": "2021-08-22T20:56:52.133617",
     "status": "completed"
    },
    "tags": []
   },
   "source": [
    "# Step 2: Find items in one review\n",
    "\n",
    "You'll pursue this plan of calculating average scores of the reviews mentioning each menu item.\n",
    "\n",
    "As a first step, you'll write code to extract the foods mentioned in a single review.\n",
    "\n",
    "Since menu items are multiple tokens long, you'll use `PhraseMatcher` which can match series of tokens.\n",
    "\n",
    "Fill in the `____` values below to get a list of items matching a single menu item."
   ]
  },
  {
   "cell_type": "code",
   "execution_count": 5,
   "id": "bb8a997e",
   "metadata": {
    "execution": {
     "iopub.execute_input": "2021-08-22T20:56:52.203248Z",
     "iopub.status.busy": "2021-08-22T20:56:52.202572Z",
     "iopub.status.idle": "2021-08-22T20:56:53.299218Z",
     "shell.execute_reply": "2021-08-22T20:56:53.299753Z",
     "shell.execute_reply.started": "2021-08-22T20:25:26.380852Z"
    },
    "papermill": {
     "duration": 1.121703,
     "end_time": "2021-08-22T20:56:53.299921",
     "exception": false,
     "start_time": "2021-08-22T20:56:52.178218",
     "status": "completed"
    },
    "tags": []
   },
   "outputs": [
    {
     "data": {
      "application/javascript": [
       "parent.postMessage({\"jupyterEvent\": \"custom.exercise_interaction\", \"data\": {\"outcomeType\": 1, \"valueTowardsCompletion\": 0.2, \"interactionType\": 1, \"questionType\": 2, \"questionId\": \"2_SingleReviewMatch\", \"learnToolsVersion\": \"0.3.4\", \"failureMessage\": \"\", \"exceptionClass\": \"\", \"trace\": \"\"}}, \"*\")"
      ],
      "text/plain": [
       "<IPython.core.display.Javascript object>"
      ]
     },
     "metadata": {},
     "output_type": "display_data"
    },
    {
     "data": {
      "text/markdown": [
       "<span style=\"color:#33cc33\">Correct</span>"
      ],
      "text/plain": [
       "Correct"
      ]
     },
     "metadata": {},
     "output_type": "display_data"
    }
   ],
   "source": [
    "import spacy\n",
    "from spacy.matcher import PhraseMatcher\n",
    "\n",
    "index_of_review_to_test_on = 14\n",
    "text_to_test_on = data.text.iloc[index_of_review_to_test_on]\n",
    "\n",
    "# Load the SpaCy model\n",
    "nlp = spacy.blank('en')\n",
    "\n",
    "# Create the tokenized version of text_to_test_on\n",
    "review_doc = nlp(text_to_test_on)\n",
    "\n",
    "# Create the PhraseMatcher object. The tokenizer is the first argument. Use attr = 'LOWER' to make consistent capitalization\n",
    "matcher = PhraseMatcher(nlp.vocab, attr='LOWER')\n",
    "\n",
    "# Create a list of tokens for each item in the menu\n",
    "menu_tokens_list = [nlp(item) for item in menu]\n",
    "\n",
    "# Add the item patterns to the matcher. \n",
    "# Look at https://spacy.io/api/phrasematcher#add in the docs for help with this step\n",
    "# Then uncomment the lines below \n",
    "\n",
    "# Just a name for the set of rules we're matching to\n",
    "matcher.add(\"MENU\", menu_tokens_list)\n",
    "\n",
    "# Find matches in the review_doc\n",
    "matches = matcher(review_doc)\n",
    "\n",
    "# Uncomment to check your work\n",
    "q_2.check()"
   ]
  },
  {
   "cell_type": "code",
   "execution_count": 6,
   "id": "d7e7db24",
   "metadata": {
    "execution": {
     "iopub.execute_input": "2021-08-22T20:56:53.352470Z",
     "iopub.status.busy": "2021-08-22T20:56:53.351769Z",
     "iopub.status.idle": "2021-08-22T20:56:53.354809Z",
     "shell.execute_reply": "2021-08-22T20:56:53.355418Z",
     "shell.execute_reply.started": "2021-08-22T20:25:34.576378Z"
    },
    "papermill": {
     "duration": 0.029232,
     "end_time": "2021-08-22T20:56:53.355578",
     "exception": false,
     "start_time": "2021-08-22T20:56:53.326346",
     "status": "completed"
    },
    "tags": []
   },
   "outputs": [],
   "source": [
    "# Lines below will give you a hint or solution code\n",
    "#q_2.hint()\n",
    "#q_2.solution()"
   ]
  },
  {
   "cell_type": "markdown",
   "id": "09b7b01b",
   "metadata": {
    "papermill": {
     "duration": 0.022155,
     "end_time": "2021-08-22T20:56:53.400445",
     "exception": false,
     "start_time": "2021-08-22T20:56:53.378290",
     "status": "completed"
    },
    "tags": []
   },
   "source": [
    "After implementing the above cell, uncomment the following cell to print the matches."
   ]
  },
  {
   "cell_type": "code",
   "execution_count": 7,
   "id": "257a08c1",
   "metadata": {
    "execution": {
     "iopub.execute_input": "2021-08-22T20:56:53.448764Z",
     "iopub.status.busy": "2021-08-22T20:56:53.448137Z",
     "iopub.status.idle": "2021-08-22T20:56:53.454618Z",
     "shell.execute_reply": "2021-08-22T20:56:53.455130Z",
     "shell.execute_reply.started": "2021-08-22T20:25:52.293757Z"
    },
    "papermill": {
     "duration": 0.032255,
     "end_time": "2021-08-22T20:56:53.455299",
     "exception": false,
     "start_time": "2021-08-22T20:56:53.423044",
     "status": "completed"
    },
    "tags": []
   },
   "outputs": [
    {
     "name": "stdout",
     "output_type": "stream",
     "text": [
      "Token number 2: Purista\n",
      "Token number 16: prosciutto\n",
      "Token number 58: meatball\n"
     ]
    }
   ],
   "source": [
    "for match in matches:\n",
    "    print(f\"Token number {match[1]}: {review_doc[match[1]:match[2]]}\")"
   ]
  },
  {
   "cell_type": "markdown",
   "id": "fd5c2546",
   "metadata": {
    "papermill": {
     "duration": 0.02267,
     "end_time": "2021-08-22T20:56:53.500884",
     "exception": false,
     "start_time": "2021-08-22T20:56:53.478214",
     "status": "completed"
    },
    "tags": []
   },
   "source": [
    "# Step 3: Matching on the whole dataset\n",
    "\n",
    "Now run this matcher over the whole dataset and collect ratings for each menu item. Each review has a rating, `review.stars`. For each item that appears in the review text (`review.text`), append the review's rating to a list of ratings for that item. The lists are kept in a dictionary `item_ratings`.\n",
    "\n",
    "To get the matched phrases, you can reference the `PhraseMatcher` documentation for the structure of each match object:\n",
    "\n",
    ">A list of `(match_id, start, end)` tuples, describing the matches. A match tuple describes a span `doc[start:end]`. The `match_id` is the ID of the added match pattern."
   ]
  },
  {
   "cell_type": "code",
   "execution_count": 8,
   "id": "4e740316",
   "metadata": {
    "execution": {
     "iopub.execute_input": "2021-08-22T20:56:53.596383Z",
     "iopub.status.busy": "2021-08-22T20:56:53.575893Z",
     "iopub.status.idle": "2021-08-22T20:56:54.493185Z",
     "shell.execute_reply": "2021-08-22T20:56:54.493688Z",
     "shell.execute_reply.started": "2021-08-22T20:41:30.341841Z"
    },
    "papermill": {
     "duration": 0.970131,
     "end_time": "2021-08-22T20:56:54.493878",
     "exception": false,
     "start_time": "2021-08-22T20:56:53.523747",
     "status": "completed"
    },
    "tags": []
   },
   "outputs": [
    {
     "data": {
      "application/javascript": [
       "parent.postMessage({\"jupyterEvent\": \"custom.exercise_interaction\", \"data\": {\"outcomeType\": 1, \"valueTowardsCompletion\": 0.2, \"interactionType\": 1, \"questionType\": 2, \"questionId\": \"3_MatchAllDataset\", \"learnToolsVersion\": \"0.3.4\", \"failureMessage\": \"\", \"exceptionClass\": \"\", \"trace\": \"\"}}, \"*\")"
      ],
      "text/plain": [
       "<IPython.core.display.Javascript object>"
      ]
     },
     "metadata": {},
     "output_type": "display_data"
    },
    {
     "data": {
      "text/markdown": [
       "<span style=\"color:#33cc33\">Correct</span>"
      ],
      "text/plain": [
       "Correct"
      ]
     },
     "metadata": {},
     "output_type": "display_data"
    }
   ],
   "source": [
    "from collections import defaultdict\n",
    "\n",
    "# item_ratings is a dictionary of lists. If a key doesn't exist in item_ratings,\n",
    "# the key is added with an empty list as the value.\n",
    "item_ratings = defaultdict(list)\n",
    "\n",
    "for idx, review in data.iterrows():\n",
    "    doc = nlp(review['text'])\n",
    "    # Using the matcher from the previous exercise\n",
    "    matches = matcher(doc)\n",
    "    \n",
    "    # Create a set of the items found in the review text\n",
    "    found_items = set([doc[match[1]:match[2]].lower_ for match in matches])\n",
    "    \n",
    "    # Update item_ratings with rating for each item in found_items\n",
    "    # Transform the item strings to lowercase to make it case insensitive\n",
    "    [item_ratings[item].append(review['stars']) for item in found_items]\n",
    "\n",
    "q_3.check()"
   ]
  },
  {
   "cell_type": "code",
   "execution_count": 9,
   "id": "f4954b55",
   "metadata": {
    "execution": {
     "iopub.execute_input": "2021-08-22T20:56:54.546979Z",
     "iopub.status.busy": "2021-08-22T20:56:54.546325Z",
     "iopub.status.idle": "2021-08-22T20:56:54.549254Z",
     "shell.execute_reply": "2021-08-22T20:56:54.548722Z",
     "shell.execute_reply.started": "2021-08-22T20:42:11.835713Z"
    },
    "papermill": {
     "duration": 0.031316,
     "end_time": "2021-08-22T20:56:54.549389",
     "exception": false,
     "start_time": "2021-08-22T20:56:54.518073",
     "status": "completed"
    },
    "tags": []
   },
   "outputs": [],
   "source": [
    "# Lines below will give you a hint or solution code\n",
    "#q_3.hint()\n",
    "#q_3.solution()"
   ]
  },
  {
   "cell_type": "markdown",
   "id": "f880e30e",
   "metadata": {
    "papermill": {
     "duration": 0.024503,
     "end_time": "2021-08-22T20:56:54.597874",
     "exception": false,
     "start_time": "2021-08-22T20:56:54.573371",
     "status": "completed"
    },
    "tags": []
   },
   "source": [
    "# Step 4: What's the worst reviewed item?\n",
    "\n",
    "Using these item ratings, find the menu item with the worst average rating."
   ]
  },
  {
   "cell_type": "code",
   "execution_count": 10,
   "id": "600548b5",
   "metadata": {
    "execution": {
     "iopub.execute_input": "2021-08-22T20:56:54.651798Z",
     "iopub.status.busy": "2021-08-22T20:56:54.651139Z",
     "iopub.status.idle": "2021-08-22T20:56:54.655101Z",
     "shell.execute_reply": "2021-08-22T20:56:54.655611Z",
     "shell.execute_reply.started": "2021-08-22T20:47:15.046850Z"
    },
    "papermill": {
     "duration": 0.033993,
     "end_time": "2021-08-22T20:56:54.655818",
     "exception": false,
     "start_time": "2021-08-22T20:56:54.621825",
     "status": "completed"
    },
    "tags": []
   },
   "outputs": [
    {
     "data": {
      "application/javascript": [
       "parent.postMessage({\"jupyterEvent\": \"custom.exercise_interaction\", \"data\": {\"outcomeType\": 1, \"valueTowardsCompletion\": 0.2, \"interactionType\": 1, \"questionType\": 1, \"questionId\": \"4_WorstReviewedItem\", \"learnToolsVersion\": \"0.3.4\", \"failureMessage\": \"\", \"exceptionClass\": \"\", \"trace\": \"\"}}, \"*\")"
      ],
      "text/plain": [
       "<IPython.core.display.Javascript object>"
      ]
     },
     "metadata": {},
     "output_type": "display_data"
    },
    {
     "data": {
      "text/markdown": [
       "<span style=\"color:#33cc33\">Correct</span>"
      ],
      "text/plain": [
       "Correct"
      ]
     },
     "metadata": {},
     "output_type": "display_data"
    }
   ],
   "source": [
    "# Calculate the mean ratings for each menu item as a dictionary\n",
    "mean_ratings = {k: sum(v)/len(v) for k,v in item_ratings.items()}\n",
    "\n",
    "# Find the worst item, and write it as a string in worst_item. This can be multiple lines of code if you want.\n",
    "worst_item = min(mean_ratings, key=mean_ratings.get)\n",
    "\n",
    "q_4.check()"
   ]
  },
  {
   "cell_type": "code",
   "execution_count": 11,
   "id": "362f2311",
   "metadata": {
    "execution": {
     "iopub.execute_input": "2021-08-22T20:56:54.708955Z",
     "iopub.status.busy": "2021-08-22T20:56:54.708327Z",
     "iopub.status.idle": "2021-08-22T20:56:54.711380Z",
     "shell.execute_reply": "2021-08-22T20:56:54.711962Z",
     "shell.execute_reply.started": "2021-08-22T20:47:46.184025Z"
    },
    "papermill": {
     "duration": 0.031255,
     "end_time": "2021-08-22T20:56:54.712132",
     "exception": false,
     "start_time": "2021-08-22T20:56:54.680877",
     "status": "completed"
    },
    "tags": []
   },
   "outputs": [],
   "source": [
    "# Lines below will give you a hint or solution code\n",
    "#q_4.hint()\n",
    "#q_4.solution()"
   ]
  },
  {
   "cell_type": "code",
   "execution_count": 12,
   "id": "1a23f0a4",
   "metadata": {
    "execution": {
     "iopub.execute_input": "2021-08-22T20:56:54.765735Z",
     "iopub.status.busy": "2021-08-22T20:56:54.765112Z",
     "iopub.status.idle": "2021-08-22T20:56:54.770965Z",
     "shell.execute_reply": "2021-08-22T20:56:54.770413Z",
     "shell.execute_reply.started": "2021-08-22T20:48:00.539635Z"
    },
    "papermill": {
     "duration": 0.03355,
     "end_time": "2021-08-22T20:56:54.771098",
     "exception": false,
     "start_time": "2021-08-22T20:56:54.737548",
     "status": "completed"
    },
    "tags": []
   },
   "outputs": [
    {
     "name": "stdout",
     "output_type": "stream",
     "text": [
      "chicken cutlet\n",
      "3.4\n"
     ]
    }
   ],
   "source": [
    "# After implementing the above cell, uncomment and run this to print \n",
    "# out the worst item, along with its average rating. \n",
    "\n",
    "print(worst_item)\n",
    "print(mean_ratings[worst_item])"
   ]
  },
  {
   "cell_type": "markdown",
   "id": "b783bfee",
   "metadata": {
    "papermill": {
     "duration": 0.025208,
     "end_time": "2021-08-22T20:56:54.821773",
     "exception": false,
     "start_time": "2021-08-22T20:56:54.796565",
     "status": "completed"
    },
    "tags": []
   },
   "source": [
    "# Step 5: Are counts important here?\n",
    "\n",
    "Similar to the mean ratings, you can calculate the number of reviews for each item."
   ]
  },
  {
   "cell_type": "code",
   "execution_count": 13,
   "id": "21e5d170",
   "metadata": {
    "execution": {
     "iopub.execute_input": "2021-08-22T20:56:54.880581Z",
     "iopub.status.busy": "2021-08-22T20:56:54.879572Z",
     "iopub.status.idle": "2021-08-22T20:56:54.889961Z",
     "shell.execute_reply": "2021-08-22T20:56:54.889442Z",
     "shell.execute_reply.started": "2021-08-22T20:51:18.768911Z"
    },
    "papermill": {
     "duration": 0.043063,
     "end_time": "2021-08-22T20:56:54.890111",
     "exception": false,
     "start_time": "2021-08-22T20:56:54.847048",
     "status": "completed"
    },
    "tags": []
   },
   "outputs": [
    {
     "name": "stdout",
     "output_type": "stream",
     "text": [
      "                    pizza  265\n",
      "                    pasta  206\n",
      "                 meatball  128\n",
      "              cheesesteak   97\n",
      "             cheese steak   76\n",
      "                  cannoli   72\n",
      "                  calzone   72\n",
      "                 eggplant   69\n",
      "                  purista   63\n",
      "                  lasagna   59\n",
      "          italian sausage   53\n",
      "               prosciutto   50\n",
      "             chicken parm   50\n",
      "             garlic bread   39\n",
      "                  gnocchi   37\n",
      "                spaghetti   36\n",
      "                 calzones   35\n",
      "                   pizzas   32\n",
      "                   salami   28\n",
      "            chicken pesto   27\n",
      "             italian beef   25\n",
      "                 tiramisu   21\n",
      "            italian combo   21\n",
      "                     ziti   21\n",
      "         chicken parmesan   19\n",
      "       chicken parmigiana   17\n",
      "               portobello   14\n",
      "           mac and cheese   11\n",
      "           chicken cutlet   10\n",
      "         steak and cheese    9\n",
      "                 pastrami    9\n",
      "               roast beef    7\n",
      "       fettuccini alfredo    6\n",
      "           grilled veggie    6\n",
      "               tuna salad    5\n",
      "          turkey sandwich    5\n",
      "          artichoke salad    5\n",
      "                 macaroni    5\n",
      "            chicken salad    5\n",
      "                   reuben    4\n",
      "    chicken spinach salad    2\n",
      "              corned beef    2\n",
      "            turkey breast    1\n"
     ]
    }
   ],
   "source": [
    "counts = {item: len(ratings) for item, ratings in item_ratings.items()}\n",
    "\n",
    "item_counts = sorted(counts, key=counts.get, reverse=True)\n",
    "for item in item_counts:\n",
    "    print(f\"{item:>25}{counts[item]:>5}\")"
   ]
  },
  {
   "cell_type": "markdown",
   "id": "aca99589",
   "metadata": {
    "papermill": {
     "duration": 0.025209,
     "end_time": "2021-08-22T20:56:54.941950",
     "exception": false,
     "start_time": "2021-08-22T20:56:54.916741",
     "status": "completed"
    },
    "tags": []
   },
   "source": [
    "Here is code to print the 10 best and 10 worst rated items. Look at the results, and decide whether you think it's important to consider the number of reviews when interpreting scores of which items are best and worst."
   ]
  },
  {
   "cell_type": "code",
   "execution_count": 14,
   "id": "3e889de1",
   "metadata": {
    "execution": {
     "iopub.execute_input": "2021-08-22T20:56:55.000296Z",
     "iopub.status.busy": "2021-08-22T20:56:54.999644Z",
     "iopub.status.idle": "2021-08-22T20:56:55.005307Z",
     "shell.execute_reply": "2021-08-22T20:56:55.004684Z",
     "shell.execute_reply.started": "2021-08-22T20:53:35.855791Z"
    },
    "papermill": {
     "duration": 0.037814,
     "end_time": "2021-08-22T20:56:55.005442",
     "exception": false,
     "start_time": "2021-08-22T20:56:54.967628",
     "status": "completed"
    },
    "tags": []
   },
   "outputs": [
    {
     "name": "stdout",
     "output_type": "stream",
     "text": [
      "Worst rated menu items:\n",
      "chicken cutlet       Ave rating: 3.40 \tcount:   10\n",
      "turkey sandwich      Ave rating: 3.80 \tcount:    5\n",
      "spaghetti            Ave rating: 3.89 \tcount:   36\n",
      "italian beef         Ave rating: 3.92 \tcount:   25\n",
      "tuna salad           Ave rating: 4.00 \tcount:    5\n",
      "macaroni             Ave rating: 4.00 \tcount:    5\n",
      "italian combo        Ave rating: 4.05 \tcount:   21\n",
      "garlic bread         Ave rating: 4.13 \tcount:   39\n",
      "roast beef           Ave rating: 4.14 \tcount:    7\n",
      "eggplant             Ave rating: 4.16 \tcount:   69\n",
      "\n",
      "\n",
      "Best rated menu items:\n",
      "chicken pesto        Ave rating: 4.56 \tcount:   27\n",
      "chicken salad        Ave rating: 4.60 \tcount:    5\n",
      "purista              Ave rating: 4.67 \tcount:   63\n",
      "prosciutto           Ave rating: 4.68 \tcount:   50\n",
      "reuben               Ave rating: 4.75 \tcount:    4\n",
      "steak and cheese     Ave rating: 4.89 \tcount:    9\n",
      "artichoke salad      Ave rating: 5.00 \tcount:    5\n",
      "fettuccini alfredo   Ave rating: 5.00 \tcount:    6\n",
      "turkey breast        Ave rating: 5.00 \tcount:    1\n",
      "corned beef          Ave rating: 5.00 \tcount:    2\n"
     ]
    }
   ],
   "source": [
    "sorted_ratings = sorted(mean_ratings, key=mean_ratings.get)\n",
    "\n",
    "print(\"Worst rated menu items:\")\n",
    "for item in sorted_ratings[:10]:\n",
    "    print(f\"{item:20} Ave rating: {mean_ratings[item]:.2f} \\tcount: {counts[item]:>4}\")\n",
    "    \n",
    "print(\"\\n\\nBest rated menu items:\")\n",
    "for item in sorted_ratings[-10:]:\n",
    "    print(f\"{item:20} Ave rating: {mean_ratings[item]:.2f} \\tcount: {counts[item]:>4}\")"
   ]
  },
  {
   "cell_type": "markdown",
   "id": "bab1e0a2",
   "metadata": {
    "papermill": {
     "duration": 0.025983,
     "end_time": "2021-08-22T20:56:55.057477",
     "exception": false,
     "start_time": "2021-08-22T20:56:55.031494",
     "status": "completed"
    },
    "tags": []
   },
   "source": [
    "Run the following line after you've decided your answer."
   ]
  },
  {
   "cell_type": "code",
   "execution_count": 15,
   "id": "0e4adf09",
   "metadata": {
    "execution": {
     "iopub.execute_input": "2021-08-22T20:56:55.115827Z",
     "iopub.status.busy": "2021-08-22T20:56:55.115159Z",
     "iopub.status.idle": "2021-08-22T20:56:55.119863Z",
     "shell.execute_reply": "2021-08-22T20:56:55.119340Z",
     "shell.execute_reply.started": "2021-08-22T20:56:04.677017Z"
    },
    "papermill": {
     "duration": 0.03637,
     "end_time": "2021-08-22T20:56:55.119999",
     "exception": false,
     "start_time": "2021-08-22T20:56:55.083629",
     "status": "completed"
    },
    "tags": []
   },
   "outputs": [
    {
     "data": {
      "application/javascript": [
       "parent.postMessage({\"jupyterEvent\": \"custom.exercise_interaction\", \"data\": {\"outcomeType\": 1, \"valueTowardsCompletion\": 0.2, \"interactionType\": 1, \"questionType\": 4, \"questionId\": \"5_CountImportanceQuestion\", \"learnToolsVersion\": \"0.3.4\", \"failureMessage\": \"\", \"exceptionClass\": \"\", \"trace\": \"\"}}, \"*\")"
      ],
      "text/plain": [
       "<IPython.core.display.Javascript object>"
      ]
     },
     "metadata": {},
     "output_type": "display_data"
    },
    {
     "data": {
      "text/markdown": [
       "<span style=\"color:#33cc33\">Correct:</span> \n",
       "\n",
       "\n",
       "    The less data you have for any specific item, the less you can trust that the average rating is the \"real\" sentiment of the customers. This is fairly common sense. If more people tell you the same thing, you're more likely to believe it. It's also mathematically sound. As the number of data points increases, the error on the mean decreases as 1 / sqrt(n).\n",
       "    "
      ],
      "text/plain": [
       "Correct: \n",
       "\n",
       "\n",
       "    The less data you have for any specific item, the less you can trust that the average rating is the \"real\" sentiment of the customers. This is fairly common sense. If more people tell you the same thing, you're more likely to believe it. It's also mathematically sound. As the number of data points increases, the error on the mean decreases as 1 / sqrt(n).\n",
       "    "
      ]
     },
     "metadata": {},
     "output_type": "display_data"
    }
   ],
   "source": [
    "# Check your answer (Run this code cell to receive credit!)\n",
    "q_5.check()\n",
    "#q_5.solution()"
   ]
  },
  {
   "cell_type": "markdown",
   "id": "26cc5fba",
   "metadata": {
    "papermill": {
     "duration": 0.026715,
     "end_time": "2021-08-22T20:56:55.173631",
     "exception": false,
     "start_time": "2021-08-22T20:56:55.146916",
     "status": "completed"
    },
    "tags": []
   },
   "source": [
    "# Keep Going\n",
    "\n",
    "Now that you are ready to combine your NLP skills with your ML skills, **[see how it's done](https://www.kaggle.com/matleonard/text-classification)**."
   ]
  },
  {
   "cell_type": "markdown",
   "id": "449d2e2e",
   "metadata": {
    "papermill": {
     "duration": 0.026539,
     "end_time": "2021-08-22T20:56:55.227293",
     "exception": false,
     "start_time": "2021-08-22T20:56:55.200754",
     "status": "completed"
    },
    "tags": []
   },
   "source": [
    "---\n",
    "\n",
    "\n",
    "\n",
    "\n",
    "*Have questions or comments? Visit the [Learn Discussion forum](https://www.kaggle.com/learn-forum/161466) to chat with other Learners.*"
   ]
  }
 ],
 "metadata": {
  "kernelspec": {
   "display_name": "Python 3",
   "language": "python",
   "name": "python3"
  },
  "language_info": {
   "codemirror_mode": {
    "name": "ipython",
    "version": 3
   },
   "file_extension": ".py",
   "mimetype": "text/x-python",
   "name": "python",
   "nbconvert_exporter": "python",
   "pygments_lexer": "ipython3",
   "version": "3.7.10"
  },
  "papermill": {
   "default_parameters": {},
   "duration": 12.719673,
   "end_time": "2021-08-22T20:56:56.586382",
   "environment_variables": {},
   "exception": null,
   "input_path": "__notebook__.ipynb",
   "output_path": "__notebook__.ipynb",
   "parameters": {},
   "start_time": "2021-08-22T20:56:43.866709",
   "version": "2.3.3"
  }
 },
 "nbformat": 4,
 "nbformat_minor": 5
}
