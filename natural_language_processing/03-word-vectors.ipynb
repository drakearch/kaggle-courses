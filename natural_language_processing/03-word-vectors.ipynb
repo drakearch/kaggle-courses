{
 "cells": [
  {
   "cell_type": "markdown",
   "id": "25692d3b",
   "metadata": {
    "papermill": {
     "duration": 0.01683,
     "end_time": "2021-08-24T03:01:47.998690",
     "exception": false,
     "start_time": "2021-08-24T03:01:47.981860",
     "status": "completed"
    },
    "tags": []
   },
   "source": [
    "**This notebook is an exercise in the [Natural Language Processing](https://www.kaggle.com/learn/natural-language-processing) course.  You can reference the tutorial at [this link](https://www.kaggle.com/matleonard/word-vectors).**\n",
    "\n",
    "---\n"
   ]
  },
  {
   "cell_type": "markdown",
   "id": "26780b0d",
   "metadata": {
    "papermill": {
     "duration": 0.015223,
     "end_time": "2021-08-24T03:01:48.031420",
     "exception": false,
     "start_time": "2021-08-24T03:01:48.016197",
     "status": "completed"
    },
    "tags": []
   },
   "source": [
    "# Vectorizing Language\n",
    "\n",
    "Embeddings are both conceptually clever and practically effective. \n",
    "\n",
    "So let's try them for the sentiment analysis model you built for the restaurant. Then you can find the most similar review in the data set given some example text. It's a task where you can easily judge for yourself how well the embeddings work."
   ]
  },
  {
   "cell_type": "code",
   "execution_count": 1,
   "id": "9b34b6e7",
   "metadata": {
    "execution": {
     "iopub.execute_input": "2021-08-24T03:01:48.072040Z",
     "iopub.status.busy": "2021-08-24T03:01:48.071193Z",
     "iopub.status.idle": "2021-08-24T03:02:02.967823Z",
     "shell.execute_reply": "2021-08-24T03:02:02.967118Z",
     "shell.execute_reply.started": "2021-08-24T01:29:30.268722Z"
    },
    "papermill": {
     "duration": 14.921242,
     "end_time": "2021-08-24T03:02:02.967998",
     "exception": false,
     "start_time": "2021-08-24T03:01:48.046756",
     "status": "completed"
    },
    "tags": []
   },
   "outputs": [
    {
     "name": "stdout",
     "output_type": "stream",
     "text": [
      "\n",
      "Setup complete\n"
     ]
    }
   ],
   "source": [
    "%matplotlib inline\n",
    "\n",
    "import matplotlib.pyplot as plt\n",
    "import numpy as np\n",
    "import pandas as pd\n",
    "import spacy\n",
    "\n",
    "# Set up code checking\n",
    "from learntools.core import binder\n",
    "binder.bind(globals())\n",
    "from learntools.nlp.ex3 import *\n",
    "print(\"\\nSetup complete\")"
   ]
  },
  {
   "cell_type": "code",
   "execution_count": 2,
   "id": "1e9a22c1",
   "metadata": {
    "execution": {
     "iopub.execute_input": "2021-08-24T03:02:03.018314Z",
     "iopub.status.busy": "2021-08-24T03:02:03.017302Z",
     "iopub.status.idle": "2021-08-24T03:02:09.671805Z",
     "shell.execute_reply": "2021-08-24T03:02:09.671158Z",
     "shell.execute_reply.started": "2021-08-24T01:29:36.851658Z"
    },
    "papermill": {
     "duration": 6.681038,
     "end_time": "2021-08-24T03:02:09.671946",
     "exception": false,
     "start_time": "2021-08-24T03:02:02.990908",
     "status": "completed"
    },
    "tags": []
   },
   "outputs": [
    {
     "data": {
      "text/html": [
       "<div>\n",
       "<style scoped>\n",
       "    .dataframe tbody tr th:only-of-type {\n",
       "        vertical-align: middle;\n",
       "    }\n",
       "\n",
       "    .dataframe tbody tr th {\n",
       "        vertical-align: top;\n",
       "    }\n",
       "\n",
       "    .dataframe thead th {\n",
       "        text-align: right;\n",
       "    }\n",
       "</style>\n",
       "<table border=\"1\" class=\"dataframe\">\n",
       "  <thead>\n",
       "    <tr style=\"text-align: right;\">\n",
       "      <th></th>\n",
       "      <th>text</th>\n",
       "      <th>stars</th>\n",
       "      <th>sentiment</th>\n",
       "    </tr>\n",
       "  </thead>\n",
       "  <tbody>\n",
       "    <tr>\n",
       "      <th>0</th>\n",
       "      <td>Total bill for this horrible service? Over $8G...</td>\n",
       "      <td>1.0</td>\n",
       "      <td>0</td>\n",
       "    </tr>\n",
       "    <tr>\n",
       "      <th>1</th>\n",
       "      <td>I *adore* Travis at the Hard Rock's new Kelly ...</td>\n",
       "      <td>5.0</td>\n",
       "      <td>1</td>\n",
       "    </tr>\n",
       "    <tr>\n",
       "      <th>2</th>\n",
       "      <td>I have to say that this office really has it t...</td>\n",
       "      <td>5.0</td>\n",
       "      <td>1</td>\n",
       "    </tr>\n",
       "    <tr>\n",
       "      <th>3</th>\n",
       "      <td>Went in for a lunch. Steak sandwich was delici...</td>\n",
       "      <td>5.0</td>\n",
       "      <td>1</td>\n",
       "    </tr>\n",
       "    <tr>\n",
       "      <th>4</th>\n",
       "      <td>Today was my second out of three sessions I ha...</td>\n",
       "      <td>1.0</td>\n",
       "      <td>0</td>\n",
       "    </tr>\n",
       "  </tbody>\n",
       "</table>\n",
       "</div>"
      ],
      "text/plain": [
       "                                                text  stars  sentiment\n",
       "0  Total bill for this horrible service? Over $8G...    1.0          0\n",
       "1  I *adore* Travis at the Hard Rock's new Kelly ...    5.0          1\n",
       "2  I have to say that this office really has it t...    5.0          1\n",
       "3  Went in for a lunch. Steak sandwich was delici...    5.0          1\n",
       "4  Today was my second out of three sessions I ha...    1.0          0"
      ]
     },
     "execution_count": 2,
     "metadata": {},
     "output_type": "execute_result"
    }
   ],
   "source": [
    "# Load the large model to get the vectors\n",
    "nlp = spacy.load('en_core_web_lg')\n",
    "\n",
    "review_data = pd.read_csv('../input/nlp-course/yelp_ratings.csv')\n",
    "review_data.head()"
   ]
  },
  {
   "cell_type": "markdown",
   "id": "ed128a80",
   "metadata": {
    "papermill": {
     "duration": 0.01567,
     "end_time": "2021-08-24T03:02:09.703539",
     "exception": false,
     "start_time": "2021-08-24T03:02:09.687869",
     "status": "completed"
    },
    "tags": []
   },
   "source": [
    "Here's an example of loading some document vectors. \n",
    "\n",
    "Calculating 44,500 document vectors takes about 20 minutes, so we'll get only the first 100. To save time, we'll load pre-saved document vectors for the hands-on coding exercises."
   ]
  },
  {
   "cell_type": "code",
   "execution_count": 3,
   "id": "07a3a511",
   "metadata": {
    "execution": {
     "iopub.execute_input": "2021-08-24T03:02:09.749601Z",
     "iopub.status.busy": "2021-08-24T03:02:09.748870Z",
     "iopub.status.idle": "2021-08-24T03:02:13.035527Z",
     "shell.execute_reply": "2021-08-24T03:02:13.034938Z",
     "shell.execute_reply.started": "2021-08-24T01:29:42.933761Z"
    },
    "papermill": {
     "duration": 3.316329,
     "end_time": "2021-08-24T03:02:13.035689",
     "exception": false,
     "start_time": "2021-08-24T03:02:09.719360",
     "status": "completed"
    },
    "tags": []
   },
   "outputs": [
    {
     "data": {
      "text/plain": [
       "(100, 300)"
      ]
     },
     "execution_count": 3,
     "metadata": {},
     "output_type": "execute_result"
    }
   ],
   "source": [
    "reviews = review_data[:100]\n",
    "# We just want the vectors so we can turn off other models in the pipeline\n",
    "with nlp.disable_pipes():\n",
    "    vectors = np.array([nlp(review.text).vector for idx, review in reviews.iterrows()])\n",
    "    \n",
    "vectors.shape"
   ]
  },
  {
   "cell_type": "markdown",
   "id": "4e4337a1",
   "metadata": {
    "papermill": {
     "duration": 0.016394,
     "end_time": "2021-08-24T03:02:13.069561",
     "exception": false,
     "start_time": "2021-08-24T03:02:13.053167",
     "status": "completed"
    },
    "tags": []
   },
   "source": [
    "The result is a matrix of 100 rows and 300 columns. \n",
    "\n",
    "Why 100 rows?\n",
    "Because we have 1 row for each column.\n",
    "\n",
    "Why 300 columns?\n",
    "This is the same length as word vectors. See if you can figure out why document vectors have the same length as word vectors (some knowledge of linear algebra or vector math would be needed to figure this out)."
   ]
  },
  {
   "cell_type": "markdown",
   "id": "6fa6283a",
   "metadata": {
    "papermill": {
     "duration": 0.016354,
     "end_time": "2021-08-24T03:02:13.104983",
     "exception": false,
     "start_time": "2021-08-24T03:02:13.088629",
     "status": "completed"
    },
    "tags": []
   },
   "source": [
    "Go ahead and run the following cell to load in the rest of the document vectors."
   ]
  },
  {
   "cell_type": "code",
   "execution_count": 4,
   "id": "826b6668",
   "metadata": {
    "execution": {
     "iopub.execute_input": "2021-08-24T03:02:13.142129Z",
     "iopub.status.busy": "2021-08-24T03:02:13.141375Z",
     "iopub.status.idle": "2021-08-24T03:02:13.186105Z",
     "shell.execute_reply": "2021-08-24T03:02:13.185449Z",
     "shell.execute_reply.started": "2021-08-24T01:29:45.785252Z"
    },
    "papermill": {
     "duration": 0.064982,
     "end_time": "2021-08-24T03:02:13.186275",
     "exception": false,
     "start_time": "2021-08-24T03:02:13.121293",
     "status": "completed"
    },
    "tags": []
   },
   "outputs": [],
   "source": [
    "# Loading all document vectors from file\n",
    "vectors = np.load('../input/nlp-course/review_vectors.npy')"
   ]
  },
  {
   "cell_type": "markdown",
   "id": "42878b1f",
   "metadata": {
    "papermill": {
     "duration": 0.0167,
     "end_time": "2021-08-24T03:02:13.219602",
     "exception": false,
     "start_time": "2021-08-24T03:02:13.202902",
     "status": "completed"
    },
    "tags": []
   },
   "source": [
    "# 1) Training a Model on Document Vectors\n",
    "\n",
    "Next you'll train a `LinearSVC` model using the document vectors. It runs pretty quick and works well in high dimensional settings like you have here.\n",
    "\n",
    "After running the LinearSVC model, you might try experimenting with other types of models to see whether it improves your results."
   ]
  },
  {
   "cell_type": "code",
   "execution_count": 5,
   "id": "f8637931",
   "metadata": {
    "execution": {
     "iopub.execute_input": "2021-08-24T03:02:13.262114Z",
     "iopub.status.busy": "2021-08-24T03:02:13.261080Z",
     "iopub.status.idle": "2021-08-24T03:02:18.628553Z",
     "shell.execute_reply": "2021-08-24T03:02:18.629123Z",
     "shell.execute_reply.started": "2021-08-24T01:29:45.813167Z"
    },
    "papermill": {
     "duration": 5.393113,
     "end_time": "2021-08-24T03:02:18.629305",
     "exception": false,
     "start_time": "2021-08-24T03:02:13.236192",
     "status": "completed"
    },
    "tags": []
   },
   "outputs": [
    {
     "name": "stdout",
     "output_type": "stream",
     "text": [
      "Model test accuracy: 93.847%\n"
     ]
    },
    {
     "data": {
      "application/javascript": [
       "parent.postMessage({\"jupyterEvent\": \"custom.exercise_interaction\", \"data\": {\"outcomeType\": 1, \"valueTowardsCompletion\": 0.25, \"interactionType\": 1, \"questionType\": 2, \"questionId\": \"1_TrainAModel\", \"learnToolsVersion\": \"0.3.4\", \"failureMessage\": \"\", \"exceptionClass\": \"\", \"trace\": \"\"}}, \"*\")"
      ],
      "text/plain": [
       "<IPython.core.display.Javascript object>"
      ]
     },
     "metadata": {},
     "output_type": "display_data"
    },
    {
     "data": {
      "text/markdown": [
       "<span style=\"color:#33cc33\">Correct</span>"
      ],
      "text/plain": [
       "Correct"
      ]
     },
     "metadata": {},
     "output_type": "display_data"
    }
   ],
   "source": [
    "from sklearn.svm import LinearSVC\n",
    "from sklearn.model_selection import train_test_split\n",
    "\n",
    "X_train, X_test, y_train, y_test = train_test_split(vectors, review_data.sentiment, \n",
    "                                                    test_size=0.1, random_state=1)\n",
    "\n",
    "# Create the LinearSVC model\n",
    "model = LinearSVC(random_state=1, dual=False)\n",
    "# Fit the model\n",
    "model.fit(X_train, y_train)\n",
    "\n",
    "# Uncomment and run to see model accuracy\n",
    "print(f'Model test accuracy: {model.score(X_test, y_test)*100:.3f}%')\n",
    "\n",
    "# Uncomment to check your work\n",
    "q_1.check()"
   ]
  },
  {
   "cell_type": "code",
   "execution_count": 6,
   "id": "7bdc306b",
   "metadata": {
    "execution": {
     "iopub.execute_input": "2021-08-24T03:02:18.669444Z",
     "iopub.status.busy": "2021-08-24T03:02:18.668780Z",
     "iopub.status.idle": "2021-08-24T03:02:18.671906Z",
     "shell.execute_reply": "2021-08-24T03:02:18.671342Z",
     "shell.execute_reply.started": "2021-08-24T01:29:49.458692Z"
    },
    "papermill": {
     "duration": 0.024594,
     "end_time": "2021-08-24T03:02:18.672049",
     "exception": false,
     "start_time": "2021-08-24T03:02:18.647455",
     "status": "completed"
    },
    "tags": []
   },
   "outputs": [],
   "source": [
    "# Lines below will give you a hint or solution code\n",
    "#q_1.hint()\n",
    "#q_1.solution()"
   ]
  },
  {
   "cell_type": "code",
   "execution_count": 7,
   "id": "e00e73c8",
   "metadata": {
    "execution": {
     "iopub.execute_input": "2021-08-24T03:02:18.713039Z",
     "iopub.status.busy": "2021-08-24T03:02:18.712283Z",
     "iopub.status.idle": "2021-08-24T03:02:49.878787Z",
     "shell.execute_reply": "2021-08-24T03:02:49.879708Z",
     "shell.execute_reply.started": "2021-08-24T03:00:28.967690Z"
    },
    "papermill": {
     "duration": 31.190297,
     "end_time": "2021-08-24T03:02:49.879995",
     "exception": false,
     "start_time": "2021-08-24T03:02:18.689698",
     "status": "completed"
    },
    "tags": []
   },
   "outputs": [
    {
     "name": "stdout",
     "output_type": "stream",
     "text": [
      "Model test accuracy: 94.229%\n"
     ]
    }
   ],
   "source": [
    "# Scratch space in case you want to experiment with other models\n",
    "from sklearn.neural_network import MLPClassifier\n",
    "\n",
    "second_model = MLPClassifier(hidden_layer_sizes=(128,32,),\n",
    "                             early_stopping=True, random_state=1)\n",
    "second_model.fit(X_train, y_train)\n",
    "print(f'Model test accuracy: {second_model.score(X_test, y_test)*100:.3f}%')"
   ]
  },
  {
   "cell_type": "markdown",
   "id": "61665bc2",
   "metadata": {
    "papermill": {
     "duration": 0.030838,
     "end_time": "2021-08-24T03:02:49.943589",
     "exception": false,
     "start_time": "2021-08-24T03:02:49.912751",
     "status": "completed"
    },
    "tags": []
   },
   "source": [
    "# Document Similarity\n",
    "\n",
    "For the same tea house review, find the most similar review in the dataset using cosine similarity.\n",
    "\n",
    "# 2) Centering the Vectors\n",
    "\n",
    "Sometimes people center document vectors when calculating similarities. That is, they calculate the mean vector from all documents, and they subtract this from each individual document's vector. Why do you think this could help with similarity metrics?\n",
    "\n",
    "Run the following line after you've decided your answer."
   ]
  },
  {
   "cell_type": "code",
   "execution_count": 8,
   "id": "fd539ec8",
   "metadata": {
    "execution": {
     "iopub.execute_input": "2021-08-24T03:02:49.990853Z",
     "iopub.status.busy": "2021-08-24T03:02:49.990120Z",
     "iopub.status.idle": "2021-08-24T03:02:49.994288Z",
     "shell.execute_reply": "2021-08-24T03:02:49.994812Z"
    },
    "papermill": {
     "duration": 0.028074,
     "end_time": "2021-08-24T03:02:49.994980",
     "exception": false,
     "start_time": "2021-08-24T03:02:49.966906",
     "status": "completed"
    },
    "tags": []
   },
   "outputs": [
    {
     "data": {
      "application/javascript": [
       "parent.postMessage({\"jupyterEvent\": \"custom.exercise_interaction\", \"data\": {\"outcomeType\": 1, \"valueTowardsCompletion\": 0.25, \"interactionType\": 1, \"questionType\": 4, \"questionId\": \"2_CenteringVectors\", \"learnToolsVersion\": \"0.3.4\", \"failureMessage\": \"\", \"exceptionClass\": \"\", \"trace\": \"\"}}, \"*\")"
      ],
      "text/plain": [
       "<IPython.core.display.Javascript object>"
      ]
     },
     "metadata": {},
     "output_type": "display_data"
    },
    {
     "data": {
      "text/markdown": [
       "<span style=\"color:#33cc33\">Correct:</span> \n",
       "\n",
       "\n",
       "    Sometimes your documents will already be fairly similar. For example, this data set\n",
       "    is all reviews of businesses. There will be stong similarities between the documents\n",
       "    compared to news articles, technical manuals, and recipes. You end up with all the\n",
       "    similarities between 0.8 and 1 and no anti-similar documents (similarity < 0). When the\n",
       "    vectors are centered, you are comparing documents within your dataset as opposed to all\n",
       "    possible documents.\n",
       "    "
      ],
      "text/plain": [
       "Correct: \n",
       "\n",
       "\n",
       "    Sometimes your documents will already be fairly similar. For example, this data set\n",
       "    is all reviews of businesses. There will be stong similarities between the documents\n",
       "    compared to news articles, technical manuals, and recipes. You end up with all the\n",
       "    similarities between 0.8 and 1 and no anti-similar documents (similarity < 0). When the\n",
       "    vectors are centered, you are comparing documents within your dataset as opposed to all\n",
       "    possible documents.\n",
       "    "
      ]
     },
     "metadata": {},
     "output_type": "display_data"
    }
   ],
   "source": [
    "# Check your answer (Run this code cell to receive credit!)\n",
    "#q_2.solution()\n",
    "q_2.check()"
   ]
  },
  {
   "cell_type": "markdown",
   "id": "db959ce1",
   "metadata": {
    "papermill": {
     "duration": 0.018773,
     "end_time": "2021-08-24T03:02:50.034988",
     "exception": false,
     "start_time": "2021-08-24T03:02:50.016215",
     "status": "completed"
    },
    "tags": []
   },
   "source": [
    "# 3) Find the most similar review\n",
    "\n",
    "Given an example review below, find the most similar document within the Yelp dataset using the cosine similarity."
   ]
  },
  {
   "cell_type": "code",
   "execution_count": 9,
   "id": "bdffb15c",
   "metadata": {
    "execution": {
     "iopub.execute_input": "2021-08-24T03:02:50.077420Z",
     "iopub.status.busy": "2021-08-24T03:02:50.076760Z",
     "iopub.status.idle": "2021-08-24T03:02:50.543349Z",
     "shell.execute_reply": "2021-08-24T03:02:50.543876Z"
    },
    "papermill": {
     "duration": 0.488845,
     "end_time": "2021-08-24T03:02:50.544046",
     "exception": false,
     "start_time": "2021-08-24T03:02:50.055201",
     "status": "completed"
    },
    "tags": []
   },
   "outputs": [
    {
     "data": {
      "application/javascript": [
       "parent.postMessage({\"jupyterEvent\": \"custom.exercise_interaction\", \"data\": {\"outcomeType\": 1, \"valueTowardsCompletion\": 0.25, \"interactionType\": 1, \"questionType\": 1, \"questionId\": \"3_SimilarReview\", \"learnToolsVersion\": \"0.3.4\", \"failureMessage\": \"\", \"exceptionClass\": \"\", \"trace\": \"\"}}, \"*\")"
      ],
      "text/plain": [
       "<IPython.core.display.Javascript object>"
      ]
     },
     "metadata": {},
     "output_type": "display_data"
    },
    {
     "data": {
      "text/markdown": [
       "<span style=\"color:#33cc33\">Correct</span>"
      ],
      "text/plain": [
       "Correct"
      ]
     },
     "metadata": {},
     "output_type": "display_data"
    }
   ],
   "source": [
    "review = \"\"\"I absolutely love this place. The 360 degree glass windows with the \n",
    "Yerba buena garden view, tea pots all around and the smell of fresh tea everywhere \n",
    "transports you to what feels like a different zen zone within the city. I know \n",
    "the price is slightly more compared to the normal American size, however the food \n",
    "is very wholesome, the tea selection is incredible and I know service can be hit \n",
    "or miss often but it was on point during our most recent visit. Definitely recommend!\n",
    "\n",
    "I would especially recommend the butternut squash gyoza.\"\"\"\n",
    "\n",
    "def cosine_similarity(a, b):\n",
    "    return np.dot(a, b)/np.sqrt(a.dot(a)*b.dot(b))\n",
    "\n",
    "review_vec = nlp(review).vector\n",
    "\n",
    "## Center the document vectors\n",
    "# Calculate the mean for the document vectors, should have shape (300,)\n",
    "vec_mean = vectors.mean(axis=0)\n",
    "# Subtract the mean from the vectors\n",
    "centered = vectors - vec_mean\n",
    "\n",
    "# Calculate similarities for each document in the dataset\n",
    "# Make sure to subtract the mean from the review vector\n",
    "review_centered = review_vec - vec_mean\n",
    "sims = np.array([cosine_similarity(v, review_centered) for v in centered])\n",
    "\n",
    "# Get the index for the most similar document\n",
    "most_similar = sims.argmax()\n",
    "\n",
    "# Uncomment to check your work\n",
    "q_3.check()"
   ]
  },
  {
   "cell_type": "code",
   "execution_count": 10,
   "id": "3a601bb9",
   "metadata": {
    "execution": {
     "iopub.execute_input": "2021-08-24T03:02:50.588101Z",
     "iopub.status.busy": "2021-08-24T03:02:50.587315Z",
     "iopub.status.idle": "2021-08-24T03:02:50.591026Z",
     "shell.execute_reply": "2021-08-24T03:02:50.590410Z"
    },
    "papermill": {
     "duration": 0.026411,
     "end_time": "2021-08-24T03:02:50.591166",
     "exception": false,
     "start_time": "2021-08-24T03:02:50.564755",
     "status": "completed"
    },
    "tags": []
   },
   "outputs": [],
   "source": [
    "# Lines below will give you a hint or solution code\n",
    "#q_3.hint()\n",
    "#q_3.solution()"
   ]
  },
  {
   "cell_type": "code",
   "execution_count": 11,
   "id": "f2b51c64",
   "metadata": {
    "execution": {
     "iopub.execute_input": "2021-08-24T03:02:50.635763Z",
     "iopub.status.busy": "2021-08-24T03:02:50.635124Z",
     "iopub.status.idle": "2021-08-24T03:02:50.642683Z",
     "shell.execute_reply": "2021-08-24T03:02:50.641905Z"
    },
    "papermill": {
     "duration": 0.030226,
     "end_time": "2021-08-24T03:02:50.642872",
     "exception": false,
     "start_time": "2021-08-24T03:02:50.612646",
     "status": "completed"
    },
    "tags": []
   },
   "outputs": [
    {
     "name": "stdout",
     "output_type": "stream",
     "text": [
      "After purchasing my final christmas gifts at the Urban Tea Merchant in Vancouver, I was surprised to hear about Teopia at the new outdoor mall at Don Mills and Lawrence when I went back home to Toronto for Christmas.\n",
      "Across from the outdoor skating rink and perfect to sit by the ledge to people watch, the location was prime for tea connesieurs... or people who are just freezing cold in need of a drinK!\n",
      "Like any gourmet tea shop, there were large tins of tea leaves on the walls, and although the tea menu seemed interesting enough, you can get any specialty tea as your drink. We didn't know what to get... so the lady suggested the Goji Berries... it smelled so succulent and juicy... instantly SOLD! I got it into a tea latte and watched the tea steep while the milk was steamed, and surprisingly, with the click of a button, all the water from the tea can be instantly drained into the cup (see photo).. very fascinating!\n",
      "\n",
      "The tea was aromatic and tasty, not over powering. The price was also very reasonable and I recommend everyone to get a taste of this place :)\n"
     ]
    }
   ],
   "source": [
    "print(review_data.iloc[most_similar].text)"
   ]
  },
  {
   "cell_type": "markdown",
   "id": "62b5f241",
   "metadata": {
    "papermill": {
     "duration": 0.02035,
     "end_time": "2021-08-24T03:02:50.684604",
     "exception": false,
     "start_time": "2021-08-24T03:02:50.664254",
     "status": "completed"
    },
    "tags": []
   },
   "source": [
    "Even though there are many different sorts of businesses in our Yelp dataset, you should have found another tea shop. \n",
    "\n",
    "# 4) Looking at similar reviews\n",
    "\n",
    "If you look at other similar reviews, you'll see many coffee shops. Why do you think reviews for coffee are similar to the example review which mentions only tea?"
   ]
  },
  {
   "cell_type": "code",
   "execution_count": 12,
   "id": "e0a3ee34",
   "metadata": {
    "execution": {
     "iopub.execute_input": "2021-08-24T03:02:50.732706Z",
     "iopub.status.busy": "2021-08-24T03:02:50.731677Z",
     "iopub.status.idle": "2021-08-24T03:02:50.738204Z",
     "shell.execute_reply": "2021-08-24T03:02:50.737701Z"
    },
    "papermill": {
     "duration": 0.033111,
     "end_time": "2021-08-24T03:02:50.738365",
     "exception": false,
     "start_time": "2021-08-24T03:02:50.705254",
     "status": "completed"
    },
    "tags": []
   },
   "outputs": [
    {
     "data": {
      "application/javascript": [
       "parent.postMessage({\"jupyterEvent\": \"custom.exercise_interaction\", \"data\": {\"outcomeType\": 1, \"valueTowardsCompletion\": 0.25, \"interactionType\": 1, \"questionType\": 4, \"questionId\": \"4_OtherSimilarReviews\", \"learnToolsVersion\": \"0.3.4\", \"failureMessage\": \"\", \"exceptionClass\": \"\", \"trace\": \"\"}}, \"*\")"
      ],
      "text/plain": [
       "<IPython.core.display.Javascript object>"
      ]
     },
     "metadata": {},
     "output_type": "display_data"
    },
    {
     "data": {
      "text/markdown": [
       "<span style=\"color:#33cc33\">Correct:</span> \n",
       "\n",
       "\n",
       "    Reviews for coffee shops will also be similar to our tea house review because\n",
       "    coffee and tea are semantically similar. Most cafes serve both coffee and tea\n",
       "    so you'll see the terms appearing together often.\n",
       "    "
      ],
      "text/plain": [
       "Correct: \n",
       "\n",
       "\n",
       "    Reviews for coffee shops will also be similar to our tea house review because\n",
       "    coffee and tea are semantically similar. Most cafes serve both coffee and tea\n",
       "    so you'll see the terms appearing together often.\n",
       "    "
      ]
     },
     "metadata": {},
     "output_type": "display_data"
    }
   ],
   "source": [
    "# Check your answer (Run this code cell to receive credit!)\n",
    "#q_4.solution()\n",
    "q_4.check()"
   ]
  },
  {
   "cell_type": "markdown",
   "id": "da21cb0f",
   "metadata": {
    "papermill": {
     "duration": 0.021188,
     "end_time": "2021-08-24T03:02:50.781365",
     "exception": false,
     "start_time": "2021-08-24T03:02:50.760177",
     "status": "completed"
    },
    "tags": []
   },
   "source": [
    "# Congratulations!\n",
    "\n",
    "You've finished the NLP course. It's an exciting field that will help you make use of vast amounts of data you didn't know how to work with before.\n",
    "\n",
    "This course should be just your introduction. Try a project **[with text](https://www.kaggle.com/datasets?tags=14104-text+data)**. You'll have fun with it, and your skills will continue growing."
   ]
  },
  {
   "cell_type": "markdown",
   "id": "9067443d",
   "metadata": {
    "papermill": {
     "duration": 0.021252,
     "end_time": "2021-08-24T03:02:50.824079",
     "exception": false,
     "start_time": "2021-08-24T03:02:50.802827",
     "status": "completed"
    },
    "tags": []
   },
   "source": [
    "---\n",
    "\n",
    "\n",
    "\n",
    "\n",
    "*Have questions or comments? Visit the [Learn Discussion forum](https://www.kaggle.com/learn-forum/161466) to chat with other Learners.*"
   ]
  }
 ],
 "metadata": {
  "kernelspec": {
   "display_name": "Python 3",
   "language": "python",
   "name": "python3"
  },
  "language_info": {
   "codemirror_mode": {
    "name": "ipython",
    "version": 3
   },
   "file_extension": ".py",
   "mimetype": "text/x-python",
   "name": "python",
   "nbconvert_exporter": "python",
   "pygments_lexer": "ipython3",
   "version": "3.7.10"
  },
  "papermill": {
   "default_parameters": {},
   "duration": 73.825771,
   "end_time": "2021-08-24T03:02:53.390129",
   "environment_variables": {},
   "exception": null,
   "input_path": "__notebook__.ipynb",
   "output_path": "__notebook__.ipynb",
   "parameters": {},
   "start_time": "2021-08-24T03:01:39.564358",
   "version": "2.3.3"
  }
 },
 "nbformat": 4,
 "nbformat_minor": 5
}
