{
 "cells": [
  {
   "cell_type": "markdown",
   "id": "49fc49e0",
   "metadata": {
    "_uuid": "c458c47dfa32f5d11deeed3666c6f69a153f3a21",
    "papermill": {
     "duration": 0.00938,
     "end_time": "2021-08-21T01:49:46.564710",
     "exception": false,
     "start_time": "2021-08-21T01:49:46.555330",
     "status": "completed"
    },
    "tags": []
   },
   "source": [
    "# Intro\n",
    "\n",
    "Ready for a quick test of your logic and programming skills?\n",
    "\n",
    "In today's micro-challenge, you will write the logic for a blackjack playing program.  Our dealer will test your program by playing 50,000 hands of blackjack. You'll see how frequently your program won, and you can discuss how your approach stacks up against others in the challenge.\n",
    "\n",
    "![Blackjack](http://www.hightechgambling.com/sites/default/files/styles/large/public/casino/table_games/blackjack.jpg)"
   ]
  },
  {
   "cell_type": "markdown",
   "id": "50e60f47",
   "metadata": {
    "_cell_guid": "79c7e3d0-c299-4dcb-8224-4455121ee9b0",
    "_uuid": "d629ff2d2480ee46fbb7e2d37f6b5fab8052498a",
    "papermill": {
     "duration": 0.008654,
     "end_time": "2021-08-21T01:49:46.582410",
     "exception": false,
     "start_time": "2021-08-21T01:49:46.573756",
     "status": "completed"
    },
    "tags": []
   },
   "source": [
    "# Blackjack Rules\n",
    "\n",
    "We'll use a slightly simplified version of blackjack (aka twenty-one). In this version, there is one player (who you'll control) and a dealer. Play proceeds as follows:\n",
    "\n",
    "- The player is dealt two face-up cards. The dealer is dealt one face-up card.\n",
    "- The player may ask to be dealt another card ('hit') as many times as they wish. If the sum of their cards exceeds 21, they lose the round immediately.\n",
    "- The dealer then deals additional cards to himself until either:\n",
    "    - The sum of the dealer's cards exceeds 21, in which case the player wins the round, or\n",
    "    - The sum of the dealer's cards is greater than or equal to 17. If the player's total is greater than the dealer's, the player wins. Otherwise, the dealer wins (even in case of a tie).\n",
    "\n",
    "When calculating the sum of cards, Jack, Queen, and King count for 10. Aces can count as 1 or 11 (when referring to a player's \"total\" above, we mean the largest total that can be made without exceeding 21. So e.g. A+8 = 19, A+8+8 = 17)\n",
    "\n",
    "# The Blackjack Player\n",
    "You'll write a function representing the player's decision-making strategy. Here is a simple (though unintelligent) example.\n",
    "\n",
    "**Run this code cell** so you can see simulation results below using the logic of never taking a new card."
   ]
  },
  {
   "cell_type": "code",
   "execution_count": 1,
   "id": "ec5fc187",
   "metadata": {
    "_uuid": "e8c2c9a32840b7b7f26afd8a09152bca1f32eef5",
    "execution": {
     "iopub.execute_input": "2021-08-21T01:49:46.603132Z",
     "iopub.status.busy": "2021-08-21T01:49:46.602089Z",
     "iopub.status.idle": "2021-08-21T01:49:46.613642Z",
     "shell.execute_reply": "2021-08-21T01:49:46.612908Z",
     "shell.execute_reply.started": "2021-08-21T01:42:16.529956Z"
    },
    "papermill": {
     "duration": 0.023285,
     "end_time": "2021-08-21T01:49:46.613962",
     "exception": false,
     "start_time": "2021-08-21T01:49:46.590677",
     "status": "completed"
    },
    "tags": []
   },
   "outputs": [],
   "source": [
    "def should_hit(player_total, dealer_card_val, player_aces):\n",
    "    \"\"\"Return True if the player should hit (request another card) given the current game\n",
    "    state, or False if the player should stay. player_aces is the number of aces the player has.\n",
    "    \"\"\"\n",
    "    return False"
   ]
  },
  {
   "cell_type": "markdown",
   "id": "9e5049b8",
   "metadata": {
    "_uuid": "8a46be7481de83b0f0f5d8c8a80f96708acfe673",
    "papermill": {
     "duration": 0.008463,
     "end_time": "2021-08-21T01:49:46.630828",
     "exception": false,
     "start_time": "2021-08-21T01:49:46.622365",
     "status": "completed"
    },
    "tags": []
   },
   "source": [
    "We'll simulate games between your player agent and our own dealer agent by calling your function. So it must use the name `should_hit`"
   ]
  },
  {
   "cell_type": "markdown",
   "id": "b1596540",
   "metadata": {
    "_uuid": "324b624d17b3a51263115128e5dd87e6be621198",
    "papermill": {
     "duration": 0.007906,
     "end_time": "2021-08-21T01:49:46.647007",
     "exception": false,
     "start_time": "2021-08-21T01:49:46.639101",
     "status": "completed"
    },
    "tags": []
   },
   "source": [
    "# The Blackjack Simulator\n",
    "\n",
    "Run the cell below to set up our simulator environment:"
   ]
  },
  {
   "cell_type": "code",
   "execution_count": 2,
   "id": "4f5a32d2",
   "metadata": {
    "_uuid": "1ed70efd9e03b72c335511ffb39254cc4225b9cf",
    "execution": {
     "iopub.execute_input": "2021-08-21T01:49:46.666548Z",
     "iopub.status.busy": "2021-08-21T01:49:46.665967Z",
     "iopub.status.idle": "2021-08-21T01:49:46.837471Z",
     "shell.execute_reply": "2021-08-21T01:49:46.837991Z",
     "shell.execute_reply.started": "2021-08-21T01:42:17.091349Z"
    },
    "papermill": {
     "duration": 0.183021,
     "end_time": "2021-08-21T01:49:46.838198",
     "exception": false,
     "start_time": "2021-08-21T01:49:46.655177",
     "status": "completed"
    },
    "tags": []
   },
   "outputs": [
    {
     "name": "stdout",
     "output_type": "stream",
     "text": [
      "Setup complete.\n"
     ]
    }
   ],
   "source": [
    "# SETUP. You don't need to worry for now about what this code does or how it works. \n",
    "# If you're curious about the code, it's available under an open source license at https://github.com/Kaggle/learntools/\n",
    "from learntools.core import binder; binder.bind(globals())\n",
    "from learntools.python.ex3 import q7 as blackjack\n",
    "print('Setup complete.')"
   ]
  },
  {
   "cell_type": "markdown",
   "id": "29ab7056",
   "metadata": {
    "_uuid": "c9825893bcf078af81c583f78d7777c0fb9afb01",
    "papermill": {
     "duration": 0.008221,
     "end_time": "2021-08-21T01:49:46.855338",
     "exception": false,
     "start_time": "2021-08-21T01:49:46.847117",
     "status": "completed"
    },
    "tags": []
   },
   "source": [
    "Once you have run the set-up code. You can see the action for a single game of blackjack with the following line:"
   ]
  },
  {
   "cell_type": "code",
   "execution_count": 3,
   "id": "1059afb9",
   "metadata": {
    "_uuid": "4fcb46a7f0a82bf7967133b00d7d555b7ab9659d",
    "execution": {
     "iopub.execute_input": "2021-08-21T01:49:46.878927Z",
     "iopub.status.busy": "2021-08-21T01:49:46.877978Z",
     "iopub.status.idle": "2021-08-21T01:49:46.882704Z",
     "shell.execute_reply": "2021-08-21T01:49:46.882117Z",
     "shell.execute_reply.started": "2021-08-21T01:42:17.472806Z"
    },
    "papermill": {
     "duration": 0.018816,
     "end_time": "2021-08-21T01:49:46.882865",
     "exception": false,
     "start_time": "2021-08-21T01:49:46.864049",
     "status": "completed"
    },
    "tags": []
   },
   "outputs": [
    {
     "name": "stdout",
     "output_type": "stream",
     "text": [
      "Player starts with 2 and K (total = 12)\n",
      "Dealer starts with 3\n",
      "\n",
      "__Player's turn__\n",
      "Player stays\n",
      "\n",
      "__Dealer's turn__\n",
      "Dealer hits and receives 2. (total = 5)\n",
      "Dealer hits and receives 8. (total = 13)\n",
      "Dealer hits and receives 3. (total = 16)\n",
      "Dealer hits and receives Q. (total = 26)\n",
      "Dealer busts! Player wins.\n"
     ]
    }
   ],
   "source": [
    "blackjack.simulate_one_game()"
   ]
  },
  {
   "cell_type": "markdown",
   "id": "cbad7812",
   "metadata": {
    "_uuid": "7a2869469b69804cc2b4e891f283d7372a864bee",
    "papermill": {
     "duration": 0.00842,
     "end_time": "2021-08-21T01:49:46.900258",
     "exception": false,
     "start_time": "2021-08-21T01:49:46.891838",
     "status": "completed"
    },
    "tags": []
   },
   "source": [
    "You can see how your player does in a sample of 50,000 games with the following command:"
   ]
  },
  {
   "cell_type": "code",
   "execution_count": 4,
   "id": "e386052c",
   "metadata": {
    "_uuid": "d71071f026e25f560b549808632cfde91921c321",
    "execution": {
     "iopub.execute_input": "2021-08-21T01:49:46.931036Z",
     "iopub.status.busy": "2021-08-21T01:49:46.925855Z",
     "iopub.status.idle": "2021-08-21T01:49:48.183607Z",
     "shell.execute_reply": "2021-08-21T01:49:48.183010Z",
     "shell.execute_reply.started": "2021-08-21T01:42:18.964217Z"
    },
    "papermill": {
     "duration": 1.274724,
     "end_time": "2021-08-21T01:49:48.183799",
     "exception": false,
     "start_time": "2021-08-21T01:49:46.909075",
     "status": "completed"
    },
    "tags": []
   },
   "outputs": [
    {
     "name": "stdout",
     "output_type": "stream",
     "text": [
      "Player won 19054 out of 50000 games (win rate = 38.1%)\n"
     ]
    }
   ],
   "source": [
    "blackjack.simulate(n_games=50000)"
   ]
  },
  {
   "cell_type": "markdown",
   "id": "08877dcc",
   "metadata": {
    "_uuid": "af2a491582cf71693467fd9fe3d8f4de48f8e7a8",
    "papermill": {
     "duration": 0.008765,
     "end_time": "2021-08-21T01:49:48.201696",
     "exception": false,
     "start_time": "2021-08-21T01:49:48.192931",
     "status": "completed"
    },
    "tags": []
   },
   "source": [
    "# Your Turn\n",
    "\n",
    "Write your own `should_hit` function in the cell below. Then run the cell and see how your agent did in repeated play."
   ]
  },
  {
   "cell_type": "code",
   "execution_count": 5,
   "id": "f05a7e10",
   "metadata": {
    "_uuid": "4f46c2dc095209845982a5827be50f5725329f51",
    "execution": {
     "iopub.execute_input": "2021-08-21T01:49:48.228609Z",
     "iopub.status.busy": "2021-08-21T01:49:48.227913Z",
     "iopub.status.idle": "2021-08-21T01:49:48.232884Z",
     "shell.execute_reply": "2021-08-21T01:49:48.232336Z",
     "shell.execute_reply.started": "2021-08-21T01:45:29.167209Z"
    },
    "papermill": {
     "duration": 0.022236,
     "end_time": "2021-08-21T01:49:48.233034",
     "exception": false,
     "start_time": "2021-08-21T01:49:48.210798",
     "status": "completed"
    },
    "tags": []
   },
   "outputs": [
    {
     "name": "stdout",
     "output_type": "stream",
     "text": [
      "Player starts with 8 and 2 (total = 10)\n",
      "Dealer starts with Q\n",
      "\n",
      "__Player's turn__\n",
      "Player hits and receives K. (total = 20)\n",
      "Player stays\n",
      "\n",
      "__Dealer's turn__\n",
      "Dealer hits and receives 5. (total = 15)\n",
      "Dealer hits and receives 4. (total = 19)\n",
      "Dealer stands.\n",
      "Player wins. 20 > 19\n"
     ]
    }
   ],
   "source": [
    "def should_hit(player_total, dealer_card_val, player_aces):\n",
    "    \"\"\"Return True if the player should hit (request another card) given the current game\n",
    "    state, or False if the player should stay. player_aces is the number of aces the player has.\n",
    "    \"\"\"\n",
    "    if player_aces:\n",
    "        if player_total < 18:\n",
    "            return True\n",
    "        elif player_total == 18:\n",
    "            if dealer_card_val in [8, 9, 10, 11]:\n",
    "                return True\n",
    "    else:\n",
    "        if player_total < 12:\n",
    "            return True\n",
    "        elif player_total < 15:\n",
    "            if dealer_card_val > 6:\n",
    "                return True\n",
    "        elif player_total == 15: # p(busts) = 7/13 ~0.54\n",
    "            if dealer_card_val in [7, 8, 9, 10]:\n",
    "                return True\n",
    "        elif player_total == 16: # p(busts) = 8/13 ~0.62\n",
    "            if dealer_card_val in [7, 11]:\n",
    "                return True\n",
    "        elif player_total == 17: # p(busts) = 9/13 ~0.69\n",
    "            if dealer_card_val == 11:\n",
    "                return True\n",
    "    return False\n",
    "\n",
    "blackjack.simulate_one_game()"
   ]
  },
  {
   "cell_type": "code",
   "execution_count": 6,
   "id": "d9de7da1",
   "metadata": {
    "execution": {
     "iopub.execute_input": "2021-08-21T01:49:48.277984Z",
     "iopub.status.busy": "2021-08-21T01:49:48.273054Z",
     "iopub.status.idle": "2021-08-21T01:49:49.691004Z",
     "shell.execute_reply": "2021-08-21T01:49:49.691435Z",
     "shell.execute_reply.started": "2021-08-21T01:45:58.419540Z"
    },
    "papermill": {
     "duration": 1.449243,
     "end_time": "2021-08-21T01:49:49.691660",
     "exception": false,
     "start_time": "2021-08-21T01:49:48.242417",
     "status": "completed"
    },
    "tags": []
   },
   "outputs": [
    {
     "name": "stdout",
     "output_type": "stream",
     "text": [
      "Player won 21505 out of 50000 games (win rate = 43.0%)\n"
     ]
    }
   ],
   "source": [
    "blackjack.simulate(n_games=50000)"
   ]
  },
  {
   "cell_type": "markdown",
   "id": "e86f3d91",
   "metadata": {
    "_uuid": "0ef8c5091995e13270b7e35e83c8d8ab87868120",
    "papermill": {
     "duration": 0.009117,
     "end_time": "2021-08-21T01:49:49.710369",
     "exception": false,
     "start_time": "2021-08-21T01:49:49.701252",
     "status": "completed"
    },
    "tags": []
   },
   "source": [
    "# Discuss Your Results\n",
    "\n",
    "How high can you get your win rate? We have a [discussion thread](https://www.kaggle.com/learn-forum/58735#latest-348767) to discuss your results. Or if you think you've done well, reply to our [Challenge tweet](https://twitter.com/kaggle) to let us know."
   ]
  },
  {
   "cell_type": "markdown",
   "id": "197d66ef",
   "metadata": {
    "_uuid": "29af50cbbf2e28ddc6c308f4ea62faac4992ebd0",
    "papermill": {
     "duration": 0.008935,
     "end_time": "2021-08-21T01:49:49.728754",
     "exception": false,
     "start_time": "2021-08-21T01:49:49.719819",
     "status": "completed"
    },
    "tags": []
   },
   "source": [
    "---\n",
    "This exercise is from the **[Python Course](https://www.kaggle.com/Learn/python)** on Kaggle Learn.\n",
    "\n",
    "Check out **[Kaggle Learn](https://www.kaggle.com/Learn)**  for more instruction and fun exercises."
   ]
  }
 ],
 "metadata": {
  "kernelspec": {
   "display_name": "Python 3",
   "language": "python",
   "name": "python3"
  },
  "language_info": {
   "codemirror_mode": {
    "name": "ipython",
    "version": 3
   },
   "file_extension": ".py",
   "mimetype": "text/x-python",
   "name": "python",
   "nbconvert_exporter": "python",
   "pygments_lexer": "ipython3",
   "version": "3.7.10"
  },
  "papermill": {
   "default_parameters": {},
   "duration": 12.898518,
   "end_time": "2021-08-21T01:49:51.632889",
   "environment_variables": {},
   "exception": null,
   "input_path": "__notebook__.ipynb",
   "output_path": "__notebook__.ipynb",
   "parameters": {},
   "start_time": "2021-08-21T01:49:38.734371",
   "version": "2.3.3"
  }
 },
 "nbformat": 4,
 "nbformat_minor": 5
}
