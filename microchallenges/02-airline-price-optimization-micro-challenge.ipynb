{
 "cells": [
  {
   "cell_type": "markdown",
   "id": "fb5a9814",
   "metadata": {
    "_uuid": "952c0d8ef6614dadd0aa9c8306c48d55b4ce85f6",
    "papermill": {
     "duration": 0.012091,
     "end_time": "2021-08-19T22:33:21.301156",
     "exception": false,
     "start_time": "2021-08-19T22:33:21.289065",
     "status": "completed"
    },
    "tags": []
   },
   "source": [
    "# Intro\n",
    "\n",
    "Data scientists tend to focus on **prediction** because that's where conventional machine learning excels. But real world decision-making involves both prediction and **optimization**.  After predicting what will happen, you decide what to do about it.\n",
    "\n",
    "Optimization gets less attention than it deserves. So this micro-challenge will test your optimization skills as you write a function to improve how airlines set prices.\n",
    "\n",
    "![Imgur](https://i.imgur.com/AKrbLMR.jpg)\n",
    "\n",
    "\n",
    "# The Problem\n",
    "\n",
    "You recently started Aviato.com, a startup that helps airlines set ticket prices. \n",
    "\n",
    "Aviato's success will depend on a function called `pricing_function`.  This notebook already includes a very simple version of `pricing_function`.  You will modify `pricing_function` to maximize the total revenue collected for all flights in our simulated environment.\n",
    "\n",
    "For each flight, `pricing_function` will be run once per (simulated) day to set that day's ticket price. The seats you don't sell today will be available to sell tomorrow, unless the flight leaves that day.\n",
    "\n",
    "Your `pricing_function` is run for one flight at a time, and it takes following inputs:\n",
    "- **Number of days until the flight**\n",
    "- **Number of seats they have left to sell**\n",
    "- **A variable called `demand_level` that determines how many tickets you can sell at any given price. **\n",
    "\n",
    "The quantity you sell at any price is:\n",
    "> quantity_sold = demand_level - price\n",
    "\n",
    "Ticket quantities are capped at the number of seats available.\n",
    "\n",
    "Your function will output the ticket price.\n",
    "\n",
    "You learn the `demand_level` for each day at the time you need to make predictions for that day. For all days in the future, you only know `demand_level` will be drawn from the uniform distribution between 100 and 200.  So, for any day in the future, it is equally likely to be each value between 100 and 200.\n",
    "\n",
    "In case this is still unclear, some relevant implementation code is shown below.\n",
    "\n",
    "# The Simulator\n",
    "We will run your pricing function in a simulator to test how well it performs on a range of flight situations.  **Run the following code cell to set up your simulation environment:**"
   ]
  },
  {
   "cell_type": "code",
   "execution_count": 1,
   "id": "3d6bd1a5",
   "metadata": {
    "_uuid": "29b901e17dc046f84d6502c06b6933c8ae4b6f60",
    "execution": {
     "iopub.execute_input": "2021-08-19T22:33:21.328935Z",
     "iopub.status.busy": "2021-08-19T22:33:21.327264Z",
     "iopub.status.idle": "2021-08-19T22:33:21.353772Z",
     "shell.execute_reply": "2021-08-19T22:33:21.354262Z",
     "shell.execute_reply.started": "2021-08-19T22:15:42.037421Z"
    },
    "papermill": {
     "duration": 0.041889,
     "end_time": "2021-08-19T22:33:21.354569",
     "exception": false,
     "start_time": "2021-08-19T22:33:21.312680",
     "status": "completed"
    },
    "tags": []
   },
   "outputs": [],
   "source": [
    "import sys\n",
    "sys.path.append('../input')\n",
    "from flight_revenue_simulator import simulate_revenue, score_me"
   ]
  },
  {
   "cell_type": "markdown",
   "id": "02ca72b0",
   "metadata": {
    "_uuid": "a7b28253c46d09898ccc8908de34f38015e99bf4",
    "papermill": {
     "duration": 0.010835,
     "end_time": "2021-08-19T22:33:21.376922",
     "exception": false,
     "start_time": "2021-08-19T22:33:21.366087",
     "status": "completed"
    },
    "tags": []
   },
   "source": [
    "In case you want to check your understanding of the simulator logic, here is a simplified version of some of the key logic (leaving out the code that prints your progress). If you feel you understand the description above, you can skip reading this code.\n",
    "\n",
    "```python\n",
    "def _tickets_sold(p, demand_level, max_qty):\n",
    "        quantity_demanded = floor(max(0, p - demand_level))\n",
    "        return min(quantity_demanded, max_qty)\n",
    "\n",
    "def simulate_revenue(days_left, tickets_left, pricing_function, rev_to_date=0, demand_level_min=100, demand_level_max=200):\n",
    "    if (days_left == 0) or (tickets_left == 0):\n",
    "        return rev_to_date\n",
    "    else:\n",
    "        demand_level = uniform(demand_level_min, demand_level_max)\n",
    "        p = pricing_function(days_left, tickets_left, demand_level)\n",
    "        q = _tickets_sold(demand_level, p, tickets_left)\n",
    "        return _total_revenue(days_left = days_left-1, \n",
    "                              tickets_left = tickets_left-q, \n",
    "                              pricing_function = pricing_function, \n",
    "                              rev_to_date = rev_to_date + p * q,\n",
    "                              demand_level_min = demand_level_min,\n",
    "                              demand_level_max = demand_level_max\n",
    "                             )\n",
    "```\n",
    "\n",
    "# Your Code\n",
    "\n",
    "Here is starter code for the pricing function.  If you use this function, you will sell 10 tickets each day (until you run out of tickets)."
   ]
  },
  {
   "cell_type": "code",
   "execution_count": 2,
   "id": "66ffd14d",
   "metadata": {
    "execution": {
     "iopub.execute_input": "2021-08-19T22:33:21.402235Z",
     "iopub.status.busy": "2021-08-19T22:33:21.401358Z",
     "iopub.status.idle": "2021-08-19T22:33:21.405459Z",
     "shell.execute_reply": "2021-08-19T22:33:21.405884Z",
     "shell.execute_reply.started": "2021-08-19T22:15:43.451014Z"
    },
    "papermill": {
     "duration": 0.018049,
     "end_time": "2021-08-19T22:33:21.406044",
     "exception": false,
     "start_time": "2021-08-19T22:33:21.387995",
     "status": "completed"
    },
    "tags": []
   },
   "outputs": [],
   "source": [
    "def pricing_function(days_left, tickets_left, demand_level):\n",
    "    \"\"\"Sample pricing function\"\"\"\n",
    "    price = demand_level - 10\n",
    "    return price"
   ]
  },
  {
   "cell_type": "markdown",
   "id": "1dd932bc",
   "metadata": {
    "papermill": {
     "duration": 0.010846,
     "end_time": "2021-08-19T22:33:21.427908",
     "exception": false,
     "start_time": "2021-08-19T22:33:21.417062",
     "status": "completed"
    },
    "tags": []
   },
   "source": [
    "To see a small example of how your code works, test it with the following function:"
   ]
  },
  {
   "cell_type": "code",
   "execution_count": 3,
   "id": "f5bf6dd0",
   "metadata": {
    "execution": {
     "iopub.execute_input": "2021-08-19T22:33:21.453086Z",
     "iopub.status.busy": "2021-08-19T22:33:21.452197Z",
     "iopub.status.idle": "2021-08-19T22:33:21.462517Z",
     "shell.execute_reply": "2021-08-19T22:33:21.463161Z",
     "shell.execute_reply.started": "2021-08-19T22:15:43.882842Z"
    },
    "papermill": {
     "duration": 0.024689,
     "end_time": "2021-08-19T22:33:21.463376",
     "exception": false,
     "start_time": "2021-08-19T22:33:21.438687",
     "status": "completed"
    },
    "tags": []
   },
   "outputs": [
    {
     "name": "stdout",
     "output_type": "stream",
     "text": [
      "7 days before flight: Started with 50 seats. Demand level: 158. Price set to $148. Sold 10 tickets. Daily revenue is 1476. Total revenue-to-date is 1476. 40 seats remaining\n",
      "6 days before flight: Started with 40 seats. Demand level: 104. Price set to $94. Sold 10 tickets. Daily revenue is 939. Total revenue-to-date is 2415. 30 seats remaining\n",
      "5 days before flight: Started with 30 seats. Demand level: 148. Price set to $138. Sold 10 tickets. Daily revenue is 1382. Total revenue-to-date is 3797. 20 seats remaining\n",
      "4 days before flight: Started with 20 seats. Demand level: 118. Price set to $108. Sold 10 tickets. Daily revenue is 1079. Total revenue-to-date is 4876. 10 seats remaining\n",
      "3 days before flight: Started with 10 seats. Demand level: 109. Price set to $99. Sold 10 tickets. Daily revenue is 991. Total revenue-to-date is 5867. 0 seats remaining\n",
      "This flight is booked full.\n",
      "Total Revenue: $5867\n"
     ]
    },
    {
     "data": {
      "text/plain": [
       "5867.13239094882"
      ]
     },
     "execution_count": 3,
     "metadata": {},
     "output_type": "execute_result"
    }
   ],
   "source": [
    "simulate_revenue(days_left=7, tickets_left=50, pricing_function=pricing_function, verbose=True)"
   ]
  },
  {
   "cell_type": "markdown",
   "id": "1b6fb28c",
   "metadata": {
    "_uuid": "6cb61f41a2df125249a378413693b16ed145322a",
    "papermill": {
     "duration": 0.01094,
     "end_time": "2021-08-19T22:33:21.486656",
     "exception": false,
     "start_time": "2021-08-19T22:33:21.475716",
     "status": "completed"
    },
    "tags": []
   },
   "source": [
    "You can try simulations for a variety of values.\n",
    "\n",
    "Once you feel good about your pricing function, run it with the following cell to to see how it performs on a wider range of flights."
   ]
  },
  {
   "cell_type": "markdown",
   "id": "2377e3d8",
   "metadata": {
    "papermill": {
     "duration": 0.011003,
     "end_time": "2021-08-19T22:33:21.508902",
     "exception": false,
     "start_time": "2021-08-19T22:33:21.497899",
     "status": "completed"
    },
    "tags": []
   },
   "source": [
    "# Intro\n",
    "\n",
    "This is my solution to the [Airline Price Optimization Micro-Challenge](https://www.kaggle.com/dansbecker/airline-price-optimization-micro-challenge) and is based on [Dan's solution](https://www.kaggle.com/dansbecker/airline-price-optimization-solution).\n",
    "\n",
    "***I've vectorized the implementation to run faster and I've made a couple of changes described bellow, this changes beated the baseline score from \\\\$7,558 to $7,607.***\n",
    "\n",
    "\n",
    "---\n",
    "\n",
    "# Strategy\n",
    "\n",
    "This solution uses an optimization technique called **dynamic programming**.  **Dynamic programming** starts by solving an optimization problem in a very limited scenario, and then creates an iterative rule to expand to larger problem.\n",
    "\n",
    "In our case, we first solve for the optimal price when you only have 1 day to sell tickets before the flight.  Then we continually step back to longer time-horizons one day at a time.\n",
    "\n",
    "This solution highlights two of the most important ideas from the fields of dynamic programming and reinforcement learning.  \n",
    "- The **value function** returns the best outcome achievable from any input state.  In our case, **V(tickets_left, days_left)** returns the best revenue you can expect to achieve given the number of tickets you have and the number of days left before the flight.\n",
    "-  The **Q Function** is similar to the value function. But it includes your decision as an input, and it returns the expected revenue even if that is not based on an optimal decision policy.\n",
    "\n",
    "The distinction may become clearer when you see it in practice below. \n",
    "\n",
    "The output of the Q function for **T+1** days before the flight depends how much revenue is the sum of \n",
    "- revenue from flights sold that day\n",
    "- revenue earned in the last **T** days from the remaining tickets.\n",
    "\n",
    "Daily revenue is straightforward to calculate (as you'll see below.)  Since we calculate **Q** and the value function (denoted **V**) start near flight time, and then iteratively work backwards, we can look up revenue from the last **T** days from the value function.\n",
    "\n",
    "Once we have **Q** at time T+1,  we calculate **V** on that day by looking up the revenue associated with the best decision from **Q**.\n",
    "\n",
    "Again, this should become clearer as you see it in code.\n",
    "\n",
    "# The Base Case: Selling Tickets For a Single Day\n",
    "\n",
    "You want to maximize revenue, given the knowledge that \n",
    "> quantity_sold = demand_level - price\n",
    "\n",
    "You may want to keep the price high rather than sell all remaining tickets. So, this problem is not as trivial as finding the price to sell all available tickets.  Instead, you will go back to find the price and quantity pair that maximize \n",
    "> revenue = price * quantity_sold\n",
    "\n",
    "It's easier to think about optimization in terms of a single choice variable, rather than using an equation that explicitly includes both `price` and `quantity_sold`. To do this, first rearrange the `quantity_sold` equation above with simple algebra to solve for price:\n",
    "> price = demand_level - quantity_sold\n",
    "\n",
    "Plug this expression for price into the revenue equation and you have\n",
    "> revenue = (demand_level - quantity_sold) * quantity_sold\n",
    "\n",
    "*note: you could also express revenue entirely in terms of price instead of quantity, but would make a later steps a little messier.\n",
    "\n",
    "Since `demand_level` is just a known number when you make your daily price decisions, you can plot revenue as an equation that depends only on the quantity you sell. \n",
    "\n",
    "For the sake of an example, here is the plot when `demand_level` is 200."
   ]
  },
  {
   "cell_type": "code",
   "execution_count": 4,
   "id": "71e278bf",
   "metadata": {
    "execution": {
     "iopub.execute_input": "2021-08-19T22:33:21.620423Z",
     "iopub.status.busy": "2021-08-19T22:33:21.538547Z",
     "iopub.status.idle": "2021-08-19T22:33:21.787601Z",
     "shell.execute_reply": "2021-08-19T22:33:21.786994Z",
     "shell.execute_reply.started": "2021-08-19T22:15:44.461161Z"
    },
    "papermill": {
     "duration": 0.267624,
     "end_time": "2021-08-19T22:33:21.787754",
     "exception": false,
     "start_time": "2021-08-19T22:33:21.520130",
     "status": "completed"
    },
    "tags": []
   },
   "outputs": [
    {
     "data": {
      "image/png": "[encoded data removed]",
      "text/plain": [
       "<Figure size 432x288 with 1 Axes>"
      ]
     },
     "metadata": {
      "needs_background": "light"
     },
     "output_type": "display_data"
    }
   ],
   "source": [
    "import matplotlib.pyplot as plt\n",
    "import numpy as np\n",
    "\n",
    "demand_level = 150\n",
    "# only plot quantities up to demand_level. That's point where price becomes 0\n",
    "revenue = [(demand_level - q) * q for q in range(demand_level)]\n",
    "\n",
    "# Make primary plot\n",
    "plt.plot(revenue, label=\"Revenue\")\n",
    "plt.xlabel(\"Seats Sold\")\n",
    "plt.ylabel(\"Dollars\")\n",
    "plt.ylim(ymin=0)\n",
    "plt.xlim(xmin=0)\n",
    "\n",
    "# Show the revenue maximizing quantity\n",
    "optimal_q = np.argmax(revenue)\n",
    "plt.vlines(x=optimal_q, ymin=0, ymax=max(revenue), color='green', linestyle=\"--\", label=\"Optimal Quantity\")\n",
    "\n",
    "plt.legend(loc='lower right')\n",
    "plt.show()"
   ]
  },
  {
   "cell_type": "markdown",
   "id": "9621ee18",
   "metadata": {
    "papermill": {
     "duration": 0.012118,
     "end_time": "2021-08-19T22:33:21.812223",
     "exception": false,
     "start_time": "2021-08-19T22:33:21.800105",
     "status": "completed"
    },
    "tags": []
   },
   "source": [
    "# Setting Up Q and V\n",
    "Since the inputs to the V and Q functions take a limited number of values, we can store these function outputs in numpy arrays, indexed by the inputs. \n",
    "\n",
    "We'll include the `demand_level` as an input to Q, since that will affect your decision.  In practice, we use V to look up potential revenue for future days, and we won't know `demand_level` on those days when we do the lookup.  So, instead we will take an \"expected value\" by averaging over the future revenue from a range of demand levels.  For simplicity, we discretize the possible demand levels, calculating from a set of evenly spread values.\n",
    "\n",
    "Here is the set-up code:\n",
    "\n",
    "***Note: Avoiding the discretization the score improves from \\\\$7,558 to $7,582.***"
   ]
  },
  {
   "cell_type": "code",
   "execution_count": 5,
   "id": "8a0e012a",
   "metadata": {
    "execution": {
     "iopub.execute_input": "2021-08-19T22:33:21.843338Z",
     "iopub.status.busy": "2021-08-19T22:33:21.842588Z",
     "iopub.status.idle": "2021-08-19T22:33:21.846504Z",
     "shell.execute_reply": "2021-08-19T22:33:21.847126Z",
     "shell.execute_reply.started": "2021-08-19T22:21:38.652737Z"
    },
    "papermill": {
     "duration": 0.02277,
     "end_time": "2021-08-19T22:33:21.847347",
     "exception": false,
     "start_time": "2021-08-19T22:33:21.824577",
     "status": "completed"
    },
    "tags": []
   },
   "outputs": [
    {
     "name": "stdout",
     "output_type": "stream",
     "text": [
      "CPU times: user 489 µs, sys: 0 ns, total: 489 µs\n",
      "Wall time: 366 µs\n"
     ]
    }
   ],
   "source": [
    "%%time\n",
    "n_demand_levels = 101\n",
    "min_demand_level = 100\n",
    "max_demand_level = 200\n",
    "demand_levels = np.linspace(min_demand_level, max_demand_level, n_demand_levels)\n",
    "\n",
    "max_tickets = 201\n",
    "max_days = 150\n",
    "\n",
    "# Q indices are: n_sold in day, tickets_left to start day, demand_level, days_left\n",
    "Q = np.zeros([max_tickets, max_tickets, n_demand_levels, max_days])\n",
    "# V indices are: n_left and n_days\n",
    "V = np.zeros([max_tickets, max_days])"
   ]
  },
  {
   "cell_type": "markdown",
   "id": "175b109f",
   "metadata": {
    "papermill": {
     "duration": 0.012487,
     "end_time": "2021-08-19T22:33:21.873412",
     "exception": false,
     "start_time": "2021-08-19T22:33:21.860925",
     "status": "completed"
    },
    "tags": []
   },
   "source": [
    "# The Base Case: Selling With One Day Left\n",
    "We then fill in Q values with `revenue = price * tickets_sold`.  Since this is the last day before the flight, we don't need to worry about future values.\n",
    "\n",
    "The code for V is a little trickier than Q. So it is explained in the code comments."
   ]
  },
  {
   "cell_type": "code",
   "execution_count": 6,
   "id": "77ee96f7",
   "metadata": {
    "execution": {
     "iopub.execute_input": "2021-08-19T22:33:21.904727Z",
     "iopub.status.busy": "2021-08-19T22:33:21.904097Z",
     "iopub.status.idle": "2021-08-19T22:33:24.365563Z",
     "shell.execute_reply": "2021-08-19T22:33:24.364827Z",
     "shell.execute_reply.started": "2021-08-19T22:21:39.075842Z"
    },
    "papermill": {
     "duration": 2.479617,
     "end_time": "2021-08-19T22:33:24.365764",
     "exception": false,
     "start_time": "2021-08-19T22:33:21.886147",
     "status": "completed"
    },
    "tags": []
   },
   "outputs": [
    {
     "name": "stdout",
     "output_type": "stream",
     "text": [
      "CPU times: user 739 ms, sys: 1.72 s, total: 2.46 s\n",
      "Wall time: 2.46 s\n"
     ]
    }
   ],
   "source": [
    "%%time\n",
    "for tickets_left in range(max_tickets):\n",
    "    # add 1 to offset 0 indexing. Allow selling all tickets\n",
    "    for tickets_sold in range(tickets_left+1):\n",
    "        Q[tickets_sold, tickets_left, :, 0] = np.maximum(demand_levels - tickets_sold, 0) * tickets_sold\n",
    "    # For each demand_level, choose the optimum number to sell. Output of this is array .of size n_demand_levels\n",
    "    revenue_from_best_quantity_at_each_demand_level = Q[:, tickets_left, :, 0].max(axis=0)\n",
    "    # take the average, since we don't know demand level ahead of time and all are equally likely\n",
    "    V[tickets_left, 0] = revenue_from_best_quantity_at_each_demand_level.mean()"
   ]
  },
  {
   "cell_type": "markdown",
   "id": "58e9f60d",
   "metadata": {
    "papermill": {
     "duration": 0.01258,
     "end_time": "2021-08-19T22:33:24.392005",
     "exception": false,
     "start_time": "2021-08-19T22:33:24.379425",
     "status": "completed"
    },
    "tags": []
   },
   "source": [
    "# The General Case: Solving for Other Time Horizons\n",
    "Now we iteratively calculate V and Q for time periods further back.  \n",
    "\n",
    "The Q function now calculates current revenue as you saw above, but then adds the **V** of leftover tickets.\n",
    "\n",
    "***Note: I've fixed the code to make it possible to sell all tickets even before the last day. This change improves the score from \\\\$7,558 to $7,569.***"
   ]
  },
  {
   "cell_type": "code",
   "execution_count": 7,
   "id": "a207d77d",
   "metadata": {
    "execution": {
     "iopub.execute_input": "2021-08-19T22:33:24.426890Z",
     "iopub.status.busy": "2021-08-19T22:33:24.422845Z",
     "iopub.status.idle": "2021-08-19T22:33:53.572078Z",
     "shell.execute_reply": "2021-08-19T22:33:53.571242Z",
     "shell.execute_reply.started": "2021-08-19T22:21:41.277301Z"
    },
    "papermill": {
     "duration": 29.167482,
     "end_time": "2021-08-19T22:33:53.572257",
     "exception": false,
     "start_time": "2021-08-19T22:33:24.404775",
     "status": "completed"
    },
    "tags": []
   },
   "outputs": [
    {
     "name": "stdout",
     "output_type": "stream",
     "text": [
      "CPU times: user 29.1 s, sys: 10.6 ms, total: 29.1 s\n",
      "Wall time: 29.1 s\n"
     ]
    }
   ],
   "source": [
    "%%time\n",
    "for days_left in range(1, max_days):\n",
    "    for tickets_left in range(max_tickets):\n",
    "        # add 1 to offset 0 indexing. Allow selling all tickets\n",
    "        for tickets_sold in range(tickets_left+1):\n",
    "            Q[tickets_sold, tickets_left, :, days_left] = np.maximum(demand_levels - tickets_sold, 0) * tickets_sold + V[tickets_left - tickets_sold, days_left - 1]\n",
    "                \n",
    "        expected_total_rev_from_best_quantity_at_each_demand_level = Q[:, tickets_left, :, days_left].max(axis=0)\n",
    "        V[tickets_left, days_left] = expected_total_rev_from_best_quantity_at_each_demand_level.mean()"
   ]
  },
  {
   "cell_type": "markdown",
   "id": "138556df",
   "metadata": {
    "papermill": {
     "duration": 0.012472,
     "end_time": "2021-08-19T22:33:53.598614",
     "exception": false,
     "start_time": "2021-08-19T22:33:53.586142",
     "status": "completed"
    },
    "tags": []
   },
   "source": [
    "We have **Q** and **V**.  How do we use them?\n",
    "\n",
    "For any given number of tickets, days_left and demand_level, we look in **Q** to find the number of tickets with the highest Q-value.\n",
    "\n",
    "Here is our pricing function that implements that:"
   ]
  },
  {
   "cell_type": "code",
   "execution_count": 8,
   "id": "0575a002",
   "metadata": {
    "execution": {
     "iopub.execute_input": "2021-08-19T22:33:53.629231Z",
     "iopub.status.busy": "2021-08-19T22:33:53.628397Z",
     "iopub.status.idle": "2021-08-19T22:33:53.630880Z",
     "shell.execute_reply": "2021-08-19T22:33:53.631265Z",
     "shell.execute_reply.started": "2021-08-19T22:22:24.424749Z"
    },
    "papermill": {
     "duration": 0.020307,
     "end_time": "2021-08-19T22:33:53.631420",
     "exception": false,
     "start_time": "2021-08-19T22:33:53.611113",
     "status": "completed"
    },
    "tags": []
   },
   "outputs": [],
   "source": [
    "def pricing_function(days_left, tickets_left, demand_level):\n",
    "    demand_level_index = np.abs(demand_level - demand_levels).argmin()\n",
    "    day_index = days_left - 1 # arrays are 0 indexed\n",
    "    tickets_index = int(tickets_left)  # in case it comes in as float, but need to index with it\n",
    "    relevant_Q_vals = Q[:, tickets_index, demand_level_index, day_index]\n",
    "    desired_quantity = relevant_Q_vals.argmax()# offset 0 indexing\n",
    "    price = demand_level - desired_quantity\n",
    "    return price"
   ]
  },
  {
   "cell_type": "markdown",
   "id": "2051441b",
   "metadata": {
    "papermill": {
     "duration": 0.012426,
     "end_time": "2021-08-19T22:33:53.656539",
     "exception": false,
     "start_time": "2021-08-19T22:33:53.644113",
     "status": "completed"
    },
    "tags": []
   },
   "source": [
    "And here is the score:"
   ]
  },
  {
   "cell_type": "code",
   "execution_count": 9,
   "id": "4cb0c22e",
   "metadata": {
    "execution": {
     "iopub.execute_input": "2021-08-19T22:33:53.686334Z",
     "iopub.status.busy": "2021-08-19T22:33:53.685428Z",
     "iopub.status.idle": "2021-08-19T22:33:54.095580Z",
     "shell.execute_reply": "2021-08-19T22:33:54.095014Z",
     "shell.execute_reply.started": "2021-08-19T22:22:24.432444Z"
    },
    "papermill": {
     "duration": 0.42659,
     "end_time": "2021-08-19T22:33:54.095719",
     "exception": false,
     "start_time": "2021-08-19T22:33:53.669129",
     "status": "completed"
    },
    "tags": []
   },
   "outputs": [
    {
     "name": "stdout",
     "output_type": "stream",
     "text": [
      "Ran 200 flights starting 100 days before flight with 100 tickets. Average revenue: $18515\n",
      "Ran 200 flights starting 14 days before flight with 50 tickets. Average revenue: $8567\n",
      "Ran 200 flights starting 2 days before flight with 20 tickets. Average revenue: $2913\n",
      "Ran 200 flights starting 1 days before flight with 3 tickets. Average revenue: $434\n"
     ]
    },
    {
     "data": {
      "application/javascript": [
       "parent.postMessage({\"jupyterEvent\": \"custom.exercise_interaction\", \"data\": {\"learnTutorialId\": 117, \"interactionType\": \"check\", \"questionId\": \"Aug31OptimizationChallenge\", \"outcomeType\": \"Pass\", \"valueTowardsCompletion\": 0.7606990065331357, \"failureMessage\": null, \"learnToolsVersion\": \"Testing\"}}, \"*\")"
      ],
      "text/plain": [
       "<IPython.core.display.Javascript object>"
      ]
     },
     "metadata": {},
     "output_type": "display_data"
    },
    {
     "name": "stdout",
     "output_type": "stream",
     "text": [
      "Average revenue across all flights is $7607\n"
     ]
    }
   ],
   "source": [
    "score_me(pricing_function)"
   ]
  },
  {
   "cell_type": "markdown",
   "id": "cc5ccdda",
   "metadata": {
    "_uuid": "b2b09199f09d1a25d50c15a1fdedef51f96f01a6",
    "papermill": {
     "duration": 0.013278,
     "end_time": "2021-08-19T22:33:54.123503",
     "exception": false,
     "start_time": "2021-08-19T22:33:54.110225",
     "status": "completed"
    },
    "tags": []
   },
   "source": [
    "# Discuss\n",
    "Want to discuss your solution or hear what others have done?  There is a [discussion thread](https://www.kaggle.com/general/62469) just for you."
   ]
  },
  {
   "cell_type": "markdown",
   "id": "6bd86d29",
   "metadata": {
    "_uuid": "afed31fbc63a8b9e40958e92cf2cf7742b1d25f4",
    "papermill": {
     "duration": 0.013211,
     "end_time": "2021-08-19T22:33:54.150254",
     "exception": false,
     "start_time": "2021-08-19T22:33:54.137043",
     "status": "completed"
    },
    "tags": []
   },
   "source": [
    "---\n",
    "*This micro-challenge is from an exercise in an upcoming Optimization course on **[Kaggle Learn](https://www.kaggle.com/Learn?utm_medium=website&utm_source=kaggle.com&utm_campaign=micro+challenge+2018)**.  If you enjoyed this challenge and want to beef up your data science skills, you might enjoy our other courses.*"
   ]
  }
 ],
 "metadata": {
  "kernelspec": {
   "display_name": "Python 3",
   "language": "python",
   "name": "python3"
  },
  "language_info": {
   "codemirror_mode": {
    "name": "ipython",
    "version": 3
   },
   "file_extension": ".py",
   "mimetype": "text/x-python",
   "name": "python",
   "nbconvert_exporter": "python",
   "pygments_lexer": "ipython3",
   "version": "3.7.10"
  },
  "papermill": {
   "default_parameters": {},
   "duration": 40.084066,
   "end_time": "2021-08-19T22:33:54.873933",
   "environment_variables": {},
   "exception": null,
   "input_path": "__notebook__.ipynb",
   "output_path": "__notebook__.ipynb",
   "parameters": {},
   "start_time": "2021-08-19T22:33:14.789867",
   "version": "2.3.3"
  }
 },
 "nbformat": 4,
 "nbformat_minor": 5
}
