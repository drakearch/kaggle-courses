{
 "cells": [
  {
   "cell_type": "markdown",
   "id": "b2c77677",
   "metadata": {
    "papermill": {
     "duration": 0.021181,
     "end_time": "2022-04-10T20:51:40.644892",
     "exception": false,
     "start_time": "2022-04-10T20:51:40.623711",
     "status": "completed"
    },
    "tags": []
   },
   "source": [
    "**This notebook is an exercise in the [Feature Engineering](https://www.kaggle.com/learn/feature-engineering) course.  You can reference the tutorial at [this link](https://www.kaggle.com/ryanholbrook/creating-features).**\n",
    "\n",
    "---\n"
   ]
  },
  {
   "cell_type": "markdown",
   "id": "10ce90b6",
   "metadata": {
    "papermill": {
     "duration": 0.019602,
     "end_time": "2022-04-10T20:51:40.686788",
     "exception": false,
     "start_time": "2022-04-10T20:51:40.667186",
     "status": "completed"
    },
    "tags": []
   },
   "source": [
    "# Introduction #\n",
    "\n",
    "In this exercise you'll start developing the features you identified in Exercise 2 as having the most potential. As you work through this exercise, you might take a moment to look at the data documentation again and consider whether the features we're creating make sense from a real-world perspective, and whether there are any useful combinations that stand out to you.\n",
    "\n",
    "Run this cell to set everything up!"
   ]
  },
  {
   "cell_type": "code",
   "execution_count": 1,
   "id": "f19660f3",
   "metadata": {
    "execution": {
     "iopub.execute_input": "2022-04-10T20:51:40.740795Z",
     "iopub.status.busy": "2022-04-10T20:51:40.740176Z",
     "iopub.status.idle": "2022-04-10T20:51:42.004467Z",
     "shell.execute_reply": "2022-04-10T20:51:42.003542Z",
     "shell.execute_reply.started": "2022-04-10T20:33:13.679167Z"
    },
    "papermill": {
     "duration": 1.297944,
     "end_time": "2022-04-10T20:51:42.004645",
     "exception": false,
     "start_time": "2022-04-10T20:51:40.706701",
     "status": "completed"
    },
    "tags": []
   },
   "outputs": [],
   "source": [
    "# Setup feedback system\n",
    "from learntools.core import binder\n",
    "binder.bind(globals())\n",
    "from learntools.feature_engineering_new.ex3 import *\n",
    "\n",
    "import numpy as np\n",
    "import pandas as pd\n",
    "from sklearn.model_selection import cross_val_score\n",
    "from xgboost import XGBRegressor\n",
    "\n",
    "\n",
    "def score_dataset(X, y, model=XGBRegressor()):\n",
    "    # Label encoding for categoricals\n",
    "    for colname in X.select_dtypes([\"category\", \"object\"]):\n",
    "        X[colname], _ = X[colname].factorize()\n",
    "    # Metric for Housing competition is RMSLE (Root Mean Squared Log Error)\n",
    "    score = cross_val_score(\n",
    "        model, X, y, cv=5, scoring=\"neg_mean_squared_log_error\",\n",
    "    )\n",
    "    score = -1 * score.mean()\n",
    "    score = np.sqrt(score)\n",
    "    return score\n",
    "\n",
    "\n",
    "# Prepare data\n",
    "df = pd.read_csv(\"../input/fe-course-data/ames.csv\")\n",
    "X = df.copy()\n",
    "y = X.pop(\"SalePrice\")"
   ]
  },
  {
   "cell_type": "markdown",
   "id": "e0e8530b",
   "metadata": {
    "papermill": {
     "duration": 0.019563,
     "end_time": "2022-04-10T20:51:42.044582",
     "exception": false,
     "start_time": "2022-04-10T20:51:42.025019",
     "status": "completed"
    },
    "tags": []
   },
   "source": [
    "-------------------------------------------------------------------------------\n",
    "\n",
    "Let's start with a few mathematical combinations. We'll focus on features describing areas -- having the same units (square-feet) makes it easy to combine them in sensible ways. Since we're using XGBoost (a tree-based model), we'll focus on ratios and sums.\n",
    "\n",
    "# 1) Create Mathematical Transforms\n",
    "\n",
    "Create the following features:\n",
    "\n",
    "- `LivLotRatio`: the ratio of `GrLivArea` to `LotArea`\n",
    "- `Spaciousness`: the sum of `FirstFlrSF` and `SecondFlrSF` divided by `TotRmsAbvGrd`\n",
    "- `TotalOutsideSF`: the sum of `WoodDeckSF`, `OpenPorchSF`, `EnclosedPorch`, `Threeseasonporch`, and `ScreenPorch`"
   ]
  },
  {
   "cell_type": "code",
   "execution_count": 2,
   "id": "1d19e69e",
   "metadata": {
    "execution": {
     "iopub.execute_input": "2022-04-10T20:51:42.092324Z",
     "iopub.status.busy": "2022-04-10T20:51:42.091657Z",
     "iopub.status.idle": "2022-04-10T20:51:42.118309Z",
     "shell.execute_reply": "2022-04-10T20:51:42.118786Z",
     "shell.execute_reply.started": "2022-04-10T20:33:54.813856Z"
    },
    "lines_to_next_cell": 0,
    "papermill": {
     "duration": 0.054215,
     "end_time": "2022-04-10T20:51:42.118967",
     "exception": false,
     "start_time": "2022-04-10T20:51:42.064752",
     "status": "completed"
    },
    "tags": []
   },
   "outputs": [
    {
     "data": {
      "application/javascript": [
       "parent.postMessage({\"jupyterEvent\": \"custom.exercise_interaction\", \"data\": {\"outcomeType\": 1, \"valueTowardsCompletion\": 0.2, \"interactionType\": 1, \"questionType\": 2, \"questionId\": \"1_Q1\", \"learnToolsVersion\": \"0.3.4\", \"failureMessage\": \"\", \"exceptionClass\": \"\", \"trace\": \"\"}}, \"*\")"
      ],
      "text/plain": [
       "<IPython.core.display.Javascript object>"
      ]
     },
     "metadata": {},
     "output_type": "display_data"
    },
    {
     "data": {
      "text/markdown": [
       "<span style=\"color:#33cc33\">Correct</span>"
      ],
      "text/plain": [
       "Correct"
      ]
     },
     "metadata": {},
     "output_type": "display_data"
    }
   ],
   "source": [
    "# YOUR CODE HERE\n",
    "X_1 = pd.DataFrame()  # dataframe to hold new features\n",
    "\n",
    "X_1[\"LivLotRatio\"] = X['GrLivArea'] / X['LotArea']\n",
    "X_1[\"Spaciousness\"] = (X['FirstFlrSF'] + X['SecondFlrSF']) / X['TotRmsAbvGrd']\n",
    "X_1[\"TotalOutsideSF\"] = X[['WoodDeckSF', 'OpenPorchSF', 'EnclosedPorch',\n",
    "                           'Threeseasonporch', 'ScreenPorch']].sum(axis=1)\n",
    "\n",
    "# Check your answer\n",
    "q_1.check()"
   ]
  },
  {
   "cell_type": "code",
   "execution_count": 3,
   "id": "16fd2a06",
   "metadata": {
    "execution": {
     "iopub.execute_input": "2022-04-10T20:51:42.165478Z",
     "iopub.status.busy": "2022-04-10T20:51:42.164047Z",
     "iopub.status.idle": "2022-04-10T20:51:42.167574Z",
     "shell.execute_reply": "2022-04-10T20:51:42.168196Z",
     "shell.execute_reply.started": "2022-04-10T20:34:13.453492Z"
    },
    "lines_to_next_cell": 0,
    "papermill": {
     "duration": 0.027849,
     "end_time": "2022-04-10T20:51:42.168363",
     "exception": false,
     "start_time": "2022-04-10T20:51:42.140514",
     "status": "completed"
    },
    "tags": []
   },
   "outputs": [],
   "source": [
    "# Lines below will give you a hint or solution code\n",
    "#q_1.hint()\n",
    "#q_1.solution()"
   ]
  },
  {
   "cell_type": "markdown",
   "id": "4a5f7059",
   "metadata": {
    "papermill": {
     "duration": 0.020907,
     "end_time": "2022-04-10T20:51:42.211468",
     "exception": false,
     "start_time": "2022-04-10T20:51:42.190561",
     "status": "completed"
    },
    "tags": []
   },
   "source": [
    "-------------------------------------------------------------------------------\n",
    "\n",
    "If you've discovered an interaction effect between a numeric feature and a categorical feature, you might want to model it explicitly using a one-hot encoding, like so:\n",
    "\n",
    "```\n",
    "# One-hot encode Categorical feature, adding a column prefix \"Cat\"\n",
    "X_new = pd.get_dummies(df.Categorical, prefix=\"Cat\")\n",
    "\n",
    "# Multiply row-by-row\n",
    "X_new = X_new.mul(df.Continuous, axis=0)\n",
    "\n",
    "# Join the new features to the feature set\n",
    "X = X.join(X_new)\n",
    "```\n",
    "\n",
    "# 2) Interaction with a Categorical\n",
    "\n",
    "We discovered an interaction between `BldgType` and `GrLivArea` in Exercise 2. Now create their interaction features."
   ]
  },
  {
   "cell_type": "code",
   "execution_count": 4,
   "id": "d77db42f",
   "metadata": {
    "execution": {
     "iopub.execute_input": "2022-04-10T20:51:42.257251Z",
     "iopub.status.busy": "2022-04-10T20:51:42.256585Z",
     "iopub.status.idle": "2022-04-10T20:51:42.269804Z",
     "shell.execute_reply": "2022-04-10T20:51:42.270476Z",
     "shell.execute_reply.started": "2022-04-10T20:36:38.257615Z"
    },
    "lines_to_next_cell": 0,
    "papermill": {
     "duration": 0.038008,
     "end_time": "2022-04-10T20:51:42.270662",
     "exception": false,
     "start_time": "2022-04-10T20:51:42.232654",
     "status": "completed"
    },
    "tags": []
   },
   "outputs": [
    {
     "data": {
      "application/javascript": [
       "parent.postMessage({\"jupyterEvent\": \"custom.exercise_interaction\", \"data\": {\"outcomeType\": 1, \"valueTowardsCompletion\": 0.2, \"interactionType\": 1, \"questionType\": 2, \"questionId\": \"2_Q2\", \"learnToolsVersion\": \"0.3.4\", \"failureMessage\": \"\", \"exceptionClass\": \"\", \"trace\": \"\"}}, \"*\")"
      ],
      "text/plain": [
       "<IPython.core.display.Javascript object>"
      ]
     },
     "metadata": {},
     "output_type": "display_data"
    },
    {
     "data": {
      "text/markdown": [
       "<span style=\"color:#33cc33\">Correct</span>"
      ],
      "text/plain": [
       "Correct"
      ]
     },
     "metadata": {},
     "output_type": "display_data"
    }
   ],
   "source": [
    "# YOUR CODE HERE\n",
    "# One-hot encode BldgType. Use `prefix=\"Bldg\"` in `get_dummies`\n",
    "X_2 = pd.get_dummies(X['BldgType'], prefix='Bldg') \n",
    "# Multiply\n",
    "X_2 = X_2.mul(X['GrLivArea'], axis=0)\n",
    "\n",
    "\n",
    "# Check your answer\n",
    "q_2.check()"
   ]
  },
  {
   "cell_type": "code",
   "execution_count": 5,
   "id": "c1026d27",
   "metadata": {
    "execution": {
     "iopub.execute_input": "2022-04-10T20:51:42.319631Z",
     "iopub.status.busy": "2022-04-10T20:51:42.319004Z",
     "iopub.status.idle": "2022-04-10T20:51:42.321598Z",
     "shell.execute_reply": "2022-04-10T20:51:42.321125Z",
     "shell.execute_reply.started": "2022-04-10T20:37:04.238951Z"
    },
    "lines_to_next_cell": 0,
    "papermill": {
     "duration": 0.028631,
     "end_time": "2022-04-10T20:51:42.321728",
     "exception": false,
     "start_time": "2022-04-10T20:51:42.293097",
     "status": "completed"
    },
    "tags": []
   },
   "outputs": [],
   "source": [
    "# Lines below will give you a hint or solution code\n",
    "#q_2.hint()\n",
    "#q_2.solution()"
   ]
  },
  {
   "cell_type": "markdown",
   "id": "63889202",
   "metadata": {
    "lines_to_next_cell": 0,
    "papermill": {
     "duration": 0.021983,
     "end_time": "2022-04-10T20:51:42.366066",
     "exception": false,
     "start_time": "2022-04-10T20:51:42.344083",
     "status": "completed"
    },
    "tags": []
   },
   "source": [
    "# 3) Count Feature\n",
    "\n",
    "Let's try creating a feature that describes how many kinds of outdoor areas a dwelling has. Create a feature `PorchTypes` that counts how many of the following are greater than 0.0:\n",
    "\n",
    "```\n",
    "WoodDeckSF\n",
    "OpenPorchSF\n",
    "EnclosedPorch\n",
    "Threeseasonporch\n",
    "ScreenPorch\n",
    "```"
   ]
  },
  {
   "cell_type": "code",
   "execution_count": 6,
   "id": "9102fcf8",
   "metadata": {
    "execution": {
     "iopub.execute_input": "2022-04-10T20:51:42.420367Z",
     "iopub.status.busy": "2022-04-10T20:51:42.419676Z",
     "iopub.status.idle": "2022-04-10T20:51:42.428996Z",
     "shell.execute_reply": "2022-04-10T20:51:42.429502Z",
     "shell.execute_reply.started": "2022-04-10T20:40:48.263559Z"
    },
    "lines_to_next_cell": 0,
    "papermill": {
     "duration": 0.041217,
     "end_time": "2022-04-10T20:51:42.429667",
     "exception": false,
     "start_time": "2022-04-10T20:51:42.388450",
     "status": "completed"
    },
    "tags": []
   },
   "outputs": [
    {
     "data": {
      "application/javascript": [
       "parent.postMessage({\"jupyterEvent\": \"custom.exercise_interaction\", \"data\": {\"outcomeType\": 1, \"valueTowardsCompletion\": 0.2, \"interactionType\": 1, \"questionType\": 2, \"questionId\": \"3_Q3\", \"learnToolsVersion\": \"0.3.4\", \"failureMessage\": \"\", \"exceptionClass\": \"\", \"trace\": \"\"}}, \"*\")"
      ],
      "text/plain": [
       "<IPython.core.display.Javascript object>"
      ]
     },
     "metadata": {},
     "output_type": "display_data"
    },
    {
     "data": {
      "text/markdown": [
       "<span style=\"color:#33cc33\">Correct</span>"
      ],
      "text/plain": [
       "Correct"
      ]
     },
     "metadata": {},
     "output_type": "display_data"
    }
   ],
   "source": [
    "X_3 = pd.DataFrame()\n",
    "\n",
    "# YOUR CODE HERE\n",
    "X_3[\"PorchTypes\"] = X[['WoodDeckSF', 'OpenPorchSF', 'EnclosedPorch',\n",
    "                       'Threeseasonporch', 'ScreenPorch']].gt(0).sum(axis=1)\n",
    "\n",
    "\n",
    "# Check your answer\n",
    "q_3.check()"
   ]
  },
  {
   "cell_type": "code",
   "execution_count": 7,
   "id": "89ab7004",
   "metadata": {
    "execution": {
     "iopub.execute_input": "2022-04-10T20:51:42.479542Z",
     "iopub.status.busy": "2022-04-10T20:51:42.478961Z",
     "iopub.status.idle": "2022-04-10T20:51:42.481509Z",
     "shell.execute_reply": "2022-04-10T20:51:42.482108Z",
     "shell.execute_reply.started": "2022-04-10T20:40:51.942179Z"
    },
    "lines_to_next_cell": 0,
    "papermill": {
     "duration": 0.029031,
     "end_time": "2022-04-10T20:51:42.482264",
     "exception": false,
     "start_time": "2022-04-10T20:51:42.453233",
     "status": "completed"
    },
    "tags": []
   },
   "outputs": [],
   "source": [
    "# Lines below will give you a hint or solution code\n",
    "#q_3.hint()\n",
    "#q_3.solution()"
   ]
  },
  {
   "cell_type": "markdown",
   "id": "2a32351b",
   "metadata": {
    "papermill": {
     "duration": 0.023157,
     "end_time": "2022-04-10T20:51:42.529046",
     "exception": false,
     "start_time": "2022-04-10T20:51:42.505889",
     "status": "completed"
    },
    "tags": []
   },
   "source": [
    "# 4) Break Down a Categorical Feature\n",
    "\n",
    "`MSSubClass` describes the type of a dwelling:"
   ]
  },
  {
   "cell_type": "code",
   "execution_count": 8,
   "id": "9677f8d8",
   "metadata": {
    "execution": {
     "iopub.execute_input": "2022-04-10T20:51:42.579050Z",
     "iopub.status.busy": "2022-04-10T20:51:42.578398Z",
     "iopub.status.idle": "2022-04-10T20:51:42.584450Z",
     "shell.execute_reply": "2022-04-10T20:51:42.585048Z",
     "shell.execute_reply.started": "2022-04-10T20:41:01.622377Z"
    },
    "papermill": {
     "duration": 0.032665,
     "end_time": "2022-04-10T20:51:42.585216",
     "exception": false,
     "start_time": "2022-04-10T20:51:42.552551",
     "status": "completed"
    },
    "tags": []
   },
   "outputs": [
    {
     "data": {
      "text/plain": [
       "array(['One_Story_1946_and_Newer_All_Styles', 'Two_Story_1946_and_Newer',\n",
       "       'One_Story_PUD_1946_and_Newer',\n",
       "       'One_and_Half_Story_Finished_All_Ages', 'Split_Foyer',\n",
       "       'Two_Story_PUD_1946_and_Newer', 'Split_or_Multilevel',\n",
       "       'One_Story_1945_and_Older', 'Duplex_All_Styles_and_Ages',\n",
       "       'Two_Family_conversion_All_Styles_and_Ages',\n",
       "       'One_and_Half_Story_Unfinished_All_Ages',\n",
       "       'Two_Story_1945_and_Older', 'Two_and_Half_Story_All_Ages',\n",
       "       'One_Story_with_Finished_Attic_All_Ages',\n",
       "       'PUD_Multilevel_Split_Level_Foyer',\n",
       "       'One_and_Half_Story_PUD_All_Ages'], dtype=object)"
      ]
     },
     "execution_count": 8,
     "metadata": {},
     "output_type": "execute_result"
    }
   ],
   "source": [
    "df.MSSubClass.unique()"
   ]
  },
  {
   "cell_type": "markdown",
   "id": "2a7a179a",
   "metadata": {
    "papermill": {
     "duration": 0.02351,
     "end_time": "2022-04-10T20:51:42.632615",
     "exception": false,
     "start_time": "2022-04-10T20:51:42.609105",
     "status": "completed"
    },
    "tags": []
   },
   "source": [
    "You can see that there is a more general categorization described (roughly) by the first word of each category. Create a feature containing only these first words by splitting `MSSubClass` at the first underscore `_`. (Hint: In the `split` method use an argument `n=1`.)"
   ]
  },
  {
   "cell_type": "code",
   "execution_count": 9,
   "id": "1e09d4e7",
   "metadata": {
    "execution": {
     "iopub.execute_input": "2022-04-10T20:51:42.683722Z",
     "iopub.status.busy": "2022-04-10T20:51:42.683130Z",
     "iopub.status.idle": "2022-04-10T20:51:42.706302Z",
     "shell.execute_reply": "2022-04-10T20:51:42.706879Z",
     "shell.execute_reply.started": "2022-04-10T20:47:22.321491Z"
    },
    "lines_to_next_cell": 0,
    "papermill": {
     "duration": 0.050452,
     "end_time": "2022-04-10T20:51:42.707066",
     "exception": false,
     "start_time": "2022-04-10T20:51:42.656614",
     "status": "completed"
    },
    "tags": []
   },
   "outputs": [
    {
     "data": {
      "application/javascript": [
       "parent.postMessage({\"jupyterEvent\": \"custom.exercise_interaction\", \"data\": {\"outcomeType\": 1, \"valueTowardsCompletion\": 0.2, \"interactionType\": 1, \"questionType\": 2, \"questionId\": \"4_Q4\", \"learnToolsVersion\": \"0.3.4\", \"failureMessage\": \"\", \"exceptionClass\": \"\", \"trace\": \"\"}}, \"*\")"
      ],
      "text/plain": [
       "<IPython.core.display.Javascript object>"
      ]
     },
     "metadata": {},
     "output_type": "display_data"
    },
    {
     "data": {
      "text/markdown": [
       "<span style=\"color:#33cc33\">Correct</span>"
      ],
      "text/plain": [
       "Correct"
      ]
     },
     "metadata": {},
     "output_type": "display_data"
    }
   ],
   "source": [
    "X_4 = pd.DataFrame()\n",
    "\n",
    "# YOUR CODE HERE\n",
    "X_4['MSClass'] = X['MSSubClass'].str.split('_', n=1, expand=True)[0]\n",
    "\n",
    "# Check your answer\n",
    "q_4.check()"
   ]
  },
  {
   "cell_type": "code",
   "execution_count": 10,
   "id": "64d6e20b",
   "metadata": {
    "execution": {
     "iopub.execute_input": "2022-04-10T20:51:42.760809Z",
     "iopub.status.busy": "2022-04-10T20:51:42.760228Z",
     "iopub.status.idle": "2022-04-10T20:51:42.763373Z",
     "shell.execute_reply": "2022-04-10T20:51:42.764007Z",
     "shell.execute_reply.started": "2022-04-10T20:47:24.139571Z"
    },
    "lines_to_next_cell": 0,
    "papermill": {
     "duration": 0.031575,
     "end_time": "2022-04-10T20:51:42.764169",
     "exception": false,
     "start_time": "2022-04-10T20:51:42.732594",
     "status": "completed"
    },
    "tags": []
   },
   "outputs": [],
   "source": [
    "# Lines below will give you a hint or solution code\n",
    "#q_4.hint()\n",
    "#q_4.solution()"
   ]
  },
  {
   "cell_type": "markdown",
   "id": "23b6a5fe",
   "metadata": {
    "papermill": {
     "duration": 0.025629,
     "end_time": "2022-04-10T20:51:42.816110",
     "exception": false,
     "start_time": "2022-04-10T20:51:42.790481",
     "status": "completed"
    },
    "tags": []
   },
   "source": [
    "# 5) Use a Grouped Transform\n",
    "\n",
    "The value of a home often depends on how it compares to typical homes in its neighborhood. Create a feature `MedNhbdArea` that describes the *median* of `GrLivArea` grouped on `Neighborhood`."
   ]
  },
  {
   "cell_type": "code",
   "execution_count": 11,
   "id": "a65a42cd",
   "metadata": {
    "execution": {
     "iopub.execute_input": "2022-04-10T20:51:42.870784Z",
     "iopub.status.busy": "2022-04-10T20:51:42.870166Z",
     "iopub.status.idle": "2022-04-10T20:51:42.886528Z",
     "shell.execute_reply": "2022-04-10T20:51:42.887146Z",
     "shell.execute_reply.started": "2022-04-10T20:50:21.934853Z"
    },
    "lines_to_next_cell": 0,
    "papermill": {
     "duration": 0.045285,
     "end_time": "2022-04-10T20:51:42.887312",
     "exception": false,
     "start_time": "2022-04-10T20:51:42.842027",
     "status": "completed"
    },
    "tags": []
   },
   "outputs": [
    {
     "data": {
      "application/javascript": [
       "parent.postMessage({\"jupyterEvent\": \"custom.exercise_interaction\", \"data\": {\"outcomeType\": 1, \"valueTowardsCompletion\": 0.2, \"interactionType\": 1, \"questionType\": 2, \"questionId\": \"5_Q5\", \"learnToolsVersion\": \"0.3.4\", \"failureMessage\": \"\", \"exceptionClass\": \"\", \"trace\": \"\"}}, \"*\")"
      ],
      "text/plain": [
       "<IPython.core.display.Javascript object>"
      ]
     },
     "metadata": {},
     "output_type": "display_data"
    },
    {
     "data": {
      "text/markdown": [
       "<span style=\"color:#33cc33\">Correct</span>"
      ],
      "text/plain": [
       "Correct"
      ]
     },
     "metadata": {},
     "output_type": "display_data"
    }
   ],
   "source": [
    "X_5 = pd.DataFrame()\n",
    "\n",
    "# YOUR CODE HERE\n",
    "X_5[\"MedNhbdArea\"] = X.groupby(['Neighborhood'])['GrLivArea'].transform('median')\n",
    "\n",
    "# Check your answer\n",
    "q_5.check()"
   ]
  },
  {
   "cell_type": "code",
   "execution_count": 12,
   "id": "041c29ce",
   "metadata": {
    "execution": {
     "iopub.execute_input": "2022-04-10T20:51:42.942944Z",
     "iopub.status.busy": "2022-04-10T20:51:42.942337Z",
     "iopub.status.idle": "2022-04-10T20:51:42.946382Z",
     "shell.execute_reply": "2022-04-10T20:51:42.946822Z",
     "shell.execute_reply.started": "2022-04-10T20:50:27.436096Z"
    },
    "lines_to_next_cell": 0,
    "papermill": {
     "duration": 0.033498,
     "end_time": "2022-04-10T20:51:42.947009",
     "exception": false,
     "start_time": "2022-04-10T20:51:42.913511",
     "status": "completed"
    },
    "tags": []
   },
   "outputs": [],
   "source": [
    "# Lines below will give you a hint or solution code\n",
    "#q_5.hint()\n",
    "#q_5.solution()"
   ]
  },
  {
   "cell_type": "markdown",
   "id": "ad995954",
   "metadata": {
    "papermill": {
     "duration": 0.026132,
     "end_time": "2022-04-10T20:51:42.999573",
     "exception": false,
     "start_time": "2022-04-10T20:51:42.973441",
     "status": "completed"
    },
    "tags": []
   },
   "source": [
    "Now you've made your first new feature set! If you like, you can run the cell below to score the model with all of your new features added:"
   ]
  },
  {
   "cell_type": "code",
   "execution_count": 13,
   "id": "2e3540a7",
   "metadata": {
    "execution": {
     "iopub.execute_input": "2022-04-10T20:51:43.060083Z",
     "iopub.status.busy": "2022-04-10T20:51:43.059355Z",
     "iopub.status.idle": "2022-04-10T20:51:48.802286Z",
     "shell.execute_reply": "2022-04-10T20:51:48.802881Z",
     "shell.execute_reply.started": "2022-04-10T20:51:10.566811Z"
    },
    "papermill": {
     "duration": 5.777043,
     "end_time": "2022-04-10T20:51:48.803110",
     "exception": false,
     "start_time": "2022-04-10T20:51:43.026067",
     "status": "completed"
    },
    "tags": []
   },
   "outputs": [
    {
     "data": {
      "text/plain": [
       "0.13847331710099203"
      ]
     },
     "execution_count": 13,
     "metadata": {},
     "output_type": "execute_result"
    }
   ],
   "source": [
    "X_new = X.join([X_1, X_2, X_3, X_4, X_5])\n",
    "score_dataset(X_new, y)"
   ]
  },
  {
   "cell_type": "markdown",
   "id": "1eed294a",
   "metadata": {
    "papermill": {
     "duration": 0.027189,
     "end_time": "2022-04-10T20:51:48.858767",
     "exception": false,
     "start_time": "2022-04-10T20:51:48.831578",
     "status": "completed"
    },
    "tags": []
   },
   "source": [
    "# Keep Going #\n",
    "\n",
    "[**Untangle spatial relationships**](https://www.kaggle.com/ryanholbrook/clustering-with-k-means) by adding cluster labels to your dataset."
   ]
  }
 ],
 "metadata": {
  "kernelspec": {
   "display_name": "Python 3",
   "language": "python",
   "name": "python3"
  },
  "language_info": {
   "codemirror_mode": {
    "name": "ipython",
    "version": 3
   },
   "file_extension": ".py",
   "mimetype": "text/x-python",
   "name": "python",
   "nbconvert_exporter": "python",
   "pygments_lexer": "ipython3",
   "version": "3.7.12"
  },
  "papermill": {
   "default_parameters": {},
   "duration": 18.350578,
   "end_time": "2022-04-10T20:51:49.596458",
   "environment_variables": {},
   "exception": null,
   "input_path": "__notebook__.ipynb",
   "output_path": "__notebook__.ipynb",
   "parameters": {},
   "start_time": "2022-04-10T20:51:31.245880",
   "version": "2.3.3"
  }
 },
 "nbformat": 4,
 "nbformat_minor": 5
}
