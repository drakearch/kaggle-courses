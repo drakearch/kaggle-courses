{
 "cells": [
  {
   "cell_type": "markdown",
   "id": "4d243c6f",
   "metadata": {
    "papermill": {
     "duration": 0.01845,
     "end_time": "2022-04-10T23:33:53.487555",
     "exception": false,
     "start_time": "2022-04-10T23:33:53.469105",
     "status": "completed"
    },
    "tags": []
   },
   "source": [
    "**This notebook is an exercise in the [Feature Engineering](https://www.kaggle.com/learn/feature-engineering) course.  You can reference the tutorial at [this link](https://www.kaggle.com/ryanholbrook/target-encoding).**\n",
    "\n",
    "---\n"
   ]
  },
  {
   "cell_type": "markdown",
   "id": "22fc8501",
   "metadata": {
    "papermill": {
     "duration": 0.017111,
     "end_time": "2022-04-10T23:33:53.522869",
     "exception": false,
     "start_time": "2022-04-10T23:33:53.505758",
     "status": "completed"
    },
    "tags": []
   },
   "source": [
    "# Introduction #\n",
    "\n",
    "In this exercise, you'll apply target encoding to features in the [*Ames*](https://www.kaggle.com/c/house-prices-advanced-regression-techniques/data) dataset.\n",
    "\n",
    "Run this cell to set everything up!"
   ]
  },
  {
   "cell_type": "code",
   "execution_count": 1,
   "id": "9c6e3e04",
   "metadata": {
    "execution": {
     "iopub.execute_input": "2022-04-10T23:33:53.571506Z",
     "iopub.status.busy": "2022-04-10T23:33:53.571001Z",
     "iopub.status.idle": "2022-04-10T23:33:55.492408Z",
     "shell.execute_reply": "2022-04-10T23:33:55.491874Z",
     "shell.execute_reply.started": "2022-04-10T23:14:47.298969Z"
    },
    "papermill": {
     "duration": 1.951684,
     "end_time": "2022-04-10T23:33:55.492533",
     "exception": false,
     "start_time": "2022-04-10T23:33:53.540849",
     "status": "completed"
    },
    "tags": []
   },
   "outputs": [],
   "source": [
    "# Setup feedback system\n",
    "from learntools.core import binder\n",
    "binder.bind(globals())\n",
    "from learntools.feature_engineering_new.ex6 import *\n",
    "\n",
    "import matplotlib.pyplot as plt\n",
    "import numpy as np\n",
    "import pandas as pd\n",
    "import seaborn as sns\n",
    "import warnings\n",
    "from category_encoders import MEstimateEncoder\n",
    "from sklearn.model_selection import cross_val_score\n",
    "from xgboost import XGBRegressor\n",
    "\n",
    "# Set Matplotlib defaults\n",
    "plt.style.use(\"seaborn-whitegrid\")\n",
    "plt.rc(\"figure\", autolayout=True)\n",
    "plt.rc(\n",
    "    \"axes\",\n",
    "    labelweight=\"bold\",\n",
    "    labelsize=\"large\",\n",
    "    titleweight=\"bold\",\n",
    "    titlesize=14,\n",
    "    titlepad=10,\n",
    ")\n",
    "warnings.filterwarnings('ignore')\n",
    "\n",
    "\n",
    "def score_dataset(X, y, model=XGBRegressor()):\n",
    "    # Label encoding for categoricals\n",
    "    for colname in X.select_dtypes([\"category\", \"object\"]):\n",
    "        X[colname], _ = X[colname].factorize()\n",
    "    # Metric for Housing competition is RMSLE (Root Mean Squared Log Error)\n",
    "    score = cross_val_score(\n",
    "        model, X, y, cv=5, scoring=\"neg_mean_squared_log_error\",\n",
    "    )\n",
    "    score = -1 * score.mean()\n",
    "    score = np.sqrt(score)\n",
    "    return score\n",
    "\n",
    "\n",
    "df = pd.read_csv(\"../input/fe-course-data/ames.csv\")"
   ]
  },
  {
   "cell_type": "markdown",
   "id": "e63db2e1",
   "metadata": {
    "papermill": {
     "duration": 0.018031,
     "end_time": "2022-04-10T23:33:55.529033",
     "exception": false,
     "start_time": "2022-04-10T23:33:55.511002",
     "status": "completed"
    },
    "tags": []
   },
   "source": [
    "-------------------------------------------------------------------------------\n",
    "\n",
    "First you'll need to choose which features you want to apply a target encoding to. Categorical features with a large number of categories are often good candidates. Run this cell to see how many categories each categorical feature in the *Ames* dataset has."
   ]
  },
  {
   "cell_type": "code",
   "execution_count": 2,
   "id": "6a0a36ff",
   "metadata": {
    "execution": {
     "iopub.execute_input": "2022-04-10T23:33:55.572179Z",
     "iopub.status.busy": "2022-04-10T23:33:55.571651Z",
     "iopub.status.idle": "2022-04-10T23:33:55.610875Z",
     "shell.execute_reply": "2022-04-10T23:33:55.611291Z",
     "shell.execute_reply.started": "2022-04-10T23:14:49.492393Z"
    },
    "papermill": {
     "duration": 0.064232,
     "end_time": "2022-04-10T23:33:55.611458",
     "exception": false,
     "start_time": "2022-04-10T23:33:55.547226",
     "status": "completed"
    },
    "tags": []
   },
   "outputs": [
    {
     "data": {
      "text/plain": [
       "MSSubClass       16\n",
       "MSZoning          7\n",
       "Street            2\n",
       "Alley             3\n",
       "LotShape          4\n",
       "LandContour       4\n",
       "Utilities         3\n",
       "LotConfig         5\n",
       "LandSlope         3\n",
       "Neighborhood     28\n",
       "Condition1        9\n",
       "Condition2        8\n",
       "BldgType          5\n",
       "HouseStyle        8\n",
       "OverallQual      10\n",
       "OverallCond       9\n",
       "RoofStyle         6\n",
       "RoofMatl          8\n",
       "Exterior1st      16\n",
       "Exterior2nd      17\n",
       "MasVnrType        5\n",
       "ExterQual         4\n",
       "ExterCond         5\n",
       "Foundation        6\n",
       "BsmtQual          6\n",
       "BsmtCond          6\n",
       "BsmtExposure      5\n",
       "BsmtFinType1      7\n",
       "BsmtFinType2      7\n",
       "Heating           6\n",
       "HeatingQC         5\n",
       "CentralAir        2\n",
       "Electrical        6\n",
       "KitchenQual       5\n",
       "Functional        8\n",
       "FireplaceQu       6\n",
       "GarageType        7\n",
       "GarageFinish      4\n",
       "GarageQual        6\n",
       "GarageCond        6\n",
       "PavedDrive        3\n",
       "PoolQC            5\n",
       "Fence             5\n",
       "MiscFeature       6\n",
       "SaleType         10\n",
       "SaleCondition     6\n",
       "dtype: int64"
      ]
     },
     "execution_count": 2,
     "metadata": {},
     "output_type": "execute_result"
    }
   ],
   "source": [
    "df.select_dtypes([\"object\"]).nunique()"
   ]
  },
  {
   "cell_type": "markdown",
   "id": "b1840d9b",
   "metadata": {
    "papermill": {
     "duration": 0.018588,
     "end_time": "2022-04-10T23:33:55.649027",
     "exception": false,
     "start_time": "2022-04-10T23:33:55.630439",
     "status": "completed"
    },
    "tags": []
   },
   "source": [
    "We talked about how the M-estimate encoding uses smoothing to improve estimates for rare categories. To see how many times a category occurs in the dataset, you can use the `value_counts` method. This cell shows the counts for `SaleType`, but you might want to consider others as well."
   ]
  },
  {
   "cell_type": "code",
   "execution_count": 3,
   "id": "5863805e",
   "metadata": {
    "execution": {
     "iopub.execute_input": "2022-04-10T23:33:55.690188Z",
     "iopub.status.busy": "2022-04-10T23:33:55.689650Z",
     "iopub.status.idle": "2022-04-10T23:33:55.701546Z",
     "shell.execute_reply": "2022-04-10T23:33:55.700981Z",
     "shell.execute_reply.started": "2022-04-10T23:16:07.853622Z"
    },
    "papermill": {
     "duration": 0.034066,
     "end_time": "2022-04-10T23:33:55.701661",
     "exception": false,
     "start_time": "2022-04-10T23:33:55.667595",
     "status": "completed"
    },
    "tags": []
   },
   "outputs": [
    {
     "data": {
      "text/plain": [
       "WD       2536\n",
       "New       239\n",
       "COD        87\n",
       "ConLD      26\n",
       "CWD        12\n",
       "ConLI       9\n",
       "ConLw       8\n",
       "Oth         7\n",
       "Con         5\n",
       "VWD         1\n",
       "Name: SaleType, dtype: int64"
      ]
     },
     "execution_count": 3,
     "metadata": {},
     "output_type": "execute_result"
    }
   ],
   "source": [
    "df[\"SaleType\"].value_counts()"
   ]
  },
  {
   "cell_type": "markdown",
   "id": "1f3f28ed",
   "metadata": {
    "papermill": {
     "duration": 0.019216,
     "end_time": "2022-04-10T23:33:55.740682",
     "exception": false,
     "start_time": "2022-04-10T23:33:55.721466",
     "status": "completed"
    },
    "tags": []
   },
   "source": [
    "# 1) Choose Features for Encoding\n",
    "\n",
    "Which features did you identify for target encoding? After you've thought about your answer, run the next cell for some discussion."
   ]
  },
  {
   "cell_type": "code",
   "execution_count": 4,
   "id": "a73e4ba1",
   "metadata": {
    "execution": {
     "iopub.execute_input": "2022-04-10T23:33:55.786176Z",
     "iopub.status.busy": "2022-04-10T23:33:55.785627Z",
     "iopub.status.idle": "2022-04-10T23:33:55.790397Z",
     "shell.execute_reply": "2022-04-10T23:33:55.790916Z",
     "shell.execute_reply.started": "2022-04-10T23:16:30.733255Z"
    },
    "papermill": {
     "duration": 0.030767,
     "end_time": "2022-04-10T23:33:55.791091",
     "exception": false,
     "start_time": "2022-04-10T23:33:55.760324",
     "status": "completed"
    },
    "tags": []
   },
   "outputs": [
    {
     "data": {
      "application/javascript": [
       "parent.postMessage({\"jupyterEvent\": \"custom.exercise_interaction\", \"data\": {\"outcomeType\": 1, \"valueTowardsCompletion\": 0.3333333333333333, \"interactionType\": 1, \"questionType\": 4, \"questionId\": \"1_Q1\", \"learnToolsVersion\": \"0.3.4\", \"failureMessage\": \"\", \"exceptionClass\": \"\", \"trace\": \"\"}}, \"*\")"
      ],
      "text/plain": [
       "<IPython.core.display.Javascript object>"
      ]
     },
     "metadata": {},
     "output_type": "display_data"
    },
    {
     "data": {
      "text/markdown": [
       "<span style=\"color:#33cc33\">Correct:</span> \n",
       "\n",
       " The `Neighborhood` feature looks promising. It has the most categories of any feature, and several categories are rare. Others that could be worth considering are `SaleType`, `MSSubClass`, `Exterior1st`, `Exterior2nd`. In fact, almost any of the nominal features would be worth trying because of the prevalence of rare categories."
      ],
      "text/plain": [
       "Correct: \n",
       "\n",
       " The `Neighborhood` feature looks promising. It has the most categories of any feature, and several categories are rare. Others that could be worth considering are `SaleType`, `MSSubClass`, `Exterior1st`, `Exterior2nd`. In fact, almost any of the nominal features would be worth trying because of the prevalence of rare categories."
      ]
     },
     "metadata": {},
     "output_type": "display_data"
    }
   ],
   "source": [
    "# View the solution (Run this cell to receive credit!)\n",
    "q_1.check()"
   ]
  },
  {
   "cell_type": "markdown",
   "id": "164a344e",
   "metadata": {
    "papermill": {
     "duration": 0.020054,
     "end_time": "2022-04-10T23:33:55.832557",
     "exception": false,
     "start_time": "2022-04-10T23:33:55.812503",
     "status": "completed"
    },
    "tags": []
   },
   "source": [
    "-------------------------------------------------------------------------------\n",
    "\n",
    "Now you'll apply a target encoding to your choice of feature. As we discussed in the tutorial, to avoid overfitting, we need to fit the encoder on data heldout from the training set. Run this cell to create the encoding and training splits:"
   ]
  },
  {
   "cell_type": "code",
   "execution_count": 5,
   "id": "0e2be068",
   "metadata": {
    "execution": {
     "iopub.execute_input": "2022-04-10T23:33:55.885525Z",
     "iopub.status.busy": "2022-04-10T23:33:55.876217Z",
     "iopub.status.idle": "2022-04-10T23:33:55.890328Z",
     "shell.execute_reply": "2022-04-10T23:33:55.890998Z",
     "shell.execute_reply.started": "2022-04-10T23:18:15.989925Z"
    },
    "lines_to_next_cell": 2,
    "papermill": {
     "duration": 0.03802,
     "end_time": "2022-04-10T23:33:55.891197",
     "exception": false,
     "start_time": "2022-04-10T23:33:55.853177",
     "status": "completed"
    },
    "tags": []
   },
   "outputs": [],
   "source": [
    "# Encoding split\n",
    "X_encode = df.sample(frac=0.20, random_state=0)\n",
    "y_encode = X_encode.pop(\"SalePrice\")\n",
    "\n",
    "# Training split\n",
    "X_pretrain = df.drop(X_encode.index)\n",
    "y_train = X_pretrain.pop(\"SalePrice\")"
   ]
  },
  {
   "cell_type": "markdown",
   "id": "6827ecfb",
   "metadata": {
    "papermill": {
     "duration": 0.030031,
     "end_time": "2022-04-10T23:33:55.951598",
     "exception": false,
     "start_time": "2022-04-10T23:33:55.921567",
     "status": "completed"
    },
    "tags": []
   },
   "source": [
    "# 2) Apply M-Estimate Encoding\n",
    "\n",
    "Apply a target encoding to your choice of categorical features. Also choose a value for the smoothing parameter `m` (any value is okay for a correct answer)."
   ]
  },
  {
   "cell_type": "code",
   "execution_count": 6,
   "id": "2247e4d0",
   "metadata": {
    "execution": {
     "iopub.execute_input": "2022-04-10T23:33:56.018790Z",
     "iopub.status.busy": "2022-04-10T23:33:56.014605Z",
     "iopub.status.idle": "2022-04-10T23:33:56.119375Z",
     "shell.execute_reply": "2022-04-10T23:33:56.119894Z",
     "shell.execute_reply.started": "2022-04-10T23:21:08.103891Z"
    },
    "lines_to_next_cell": 0,
    "papermill": {
     "duration": 0.1382,
     "end_time": "2022-04-10T23:33:56.120054",
     "exception": false,
     "start_time": "2022-04-10T23:33:55.981854",
     "status": "completed"
    },
    "tags": []
   },
   "outputs": [
    {
     "data": {
      "application/javascript": [
       "parent.postMessage({\"jupyterEvent\": \"custom.exercise_interaction\", \"data\": {\"outcomeType\": 1, \"valueTowardsCompletion\": 0.3333333333333333, \"interactionType\": 1, \"questionType\": 2, \"questionId\": \"2_Q2\", \"learnToolsVersion\": \"0.3.4\", \"failureMessage\": \"\", \"exceptionClass\": \"\", \"trace\": \"\"}}, \"*\")"
      ],
      "text/plain": [
       "<IPython.core.display.Javascript object>"
      ]
     },
     "metadata": {},
     "output_type": "display_data"
    },
    {
     "data": {
      "text/markdown": [
       "<span style=\"color:#33cc33\">Correct</span>"
      ],
      "text/plain": [
       "Correct"
      ]
     },
     "metadata": {},
     "output_type": "display_data"
    }
   ],
   "source": [
    "# YOUR CODE HERE: Create the MEstimateEncoder\n",
    "# Choose a set of features to encode and a value for m\n",
    "encoder = MEstimateEncoder(cols=['Neighborhood', 'SaleType'], m=10)\n",
    "\n",
    "\n",
    "# Fit the encoder on the encoding split\n",
    "encoder.fit(X_encode, y_encode)\n",
    "\n",
    "# Encode the training split\n",
    "X_train = encoder.transform(X_pretrain, y_train)\n",
    "\n",
    "\n",
    "# Check your answer\n",
    "q_2.check()"
   ]
  },
  {
   "cell_type": "code",
   "execution_count": 7,
   "id": "f8204877",
   "metadata": {
    "execution": {
     "iopub.execute_input": "2022-04-10T23:33:56.187655Z",
     "iopub.status.busy": "2022-04-10T23:33:56.186589Z",
     "iopub.status.idle": "2022-04-10T23:33:56.190668Z",
     "shell.execute_reply": "2022-04-10T23:33:56.190138Z",
     "shell.execute_reply.started": "2022-04-10T23:21:37.260445Z"
    },
    "lines_to_next_cell": 0,
    "papermill": {
     "duration": 0.038786,
     "end_time": "2022-04-10T23:33:56.190793",
     "exception": false,
     "start_time": "2022-04-10T23:33:56.152007",
     "status": "completed"
    },
    "tags": []
   },
   "outputs": [],
   "source": [
    "# Lines below will give you a hint or solution code\n",
    "#q_2.hint()\n",
    "#q_2.solution()"
   ]
  },
  {
   "cell_type": "markdown",
   "id": "1bb0ad7c",
   "metadata": {
    "papermill": {
     "duration": 0.031656,
     "end_time": "2022-04-10T23:33:56.255702",
     "exception": false,
     "start_time": "2022-04-10T23:33:56.224046",
     "status": "completed"
    },
    "tags": []
   },
   "source": [
    "If you'd like to see how the encoded feature compares to the target, you can run this cell:"
   ]
  },
  {
   "cell_type": "code",
   "execution_count": 8,
   "id": "ceb321e7",
   "metadata": {
    "execution": {
     "iopub.execute_input": "2022-04-10T23:33:56.328453Z",
     "iopub.status.busy": "2022-04-10T23:33:56.327603Z",
     "iopub.status.idle": "2022-04-10T23:33:56.740778Z",
     "shell.execute_reply": "2022-04-10T23:33:56.740200Z",
     "shell.execute_reply.started": "2022-04-10T23:21:50.430515Z"
    },
    "papermill": {
     "duration": 0.453581,
     "end_time": "2022-04-10T23:33:56.740918",
     "exception": false,
     "start_time": "2022-04-10T23:33:56.287337",
     "status": "completed"
    },
    "tags": []
   },
   "outputs": [
    {
     "data": {
      "image/png": "[encoded data removed]",
      "text/plain": [
       "<Figure size 540x360 with 1 Axes>"
      ]
     },
     "metadata": {},
     "output_type": "display_data"
    }
   ],
   "source": [
    "feature = encoder.cols\n",
    "\n",
    "plt.figure(dpi=90)\n",
    "ax = sns.distplot(y_train, kde=True, hist=False)\n",
    "ax = sns.distplot(X_train[feature], color='r', ax=ax, hist=True, kde=False, norm_hist=True)\n",
    "ax.set_xlabel(\"SalePrice\");"
   ]
  },
  {
   "cell_type": "markdown",
   "id": "47d64c22",
   "metadata": {
    "papermill": {
     "duration": 0.033575,
     "end_time": "2022-04-10T23:33:56.807996",
     "exception": false,
     "start_time": "2022-04-10T23:33:56.774421",
     "status": "completed"
    },
    "tags": []
   },
   "source": [
    "From the distribution plots, does it seem like the encoding is informative?\n",
    "\n",
    "And this cell will show you the score of the encoded set compared to the original set:"
   ]
  },
  {
   "cell_type": "code",
   "execution_count": 9,
   "id": "a927e30e",
   "metadata": {
    "execution": {
     "iopub.execute_input": "2022-04-10T23:33:56.879540Z",
     "iopub.status.busy": "2022-04-10T23:33:56.876379Z",
     "iopub.status.idle": "2022-04-10T23:34:04.381426Z",
     "shell.execute_reply": "2022-04-10T23:34:04.382051Z",
     "shell.execute_reply.started": "2022-04-10T23:23:12.727195Z"
    },
    "papermill": {
     "duration": 7.541201,
     "end_time": "2022-04-10T23:34:04.382231",
     "exception": false,
     "start_time": "2022-04-10T23:33:56.841030",
     "status": "completed"
    },
    "tags": []
   },
   "outputs": [
    {
     "name": "stdout",
     "output_type": "stream",
     "text": [
      "Baseline Score: 0.1428 RMSLE\n",
      "Score with Encoding: 0.1399 RMSLE\n"
     ]
    }
   ],
   "source": [
    "X = df.copy()\n",
    "y = X.pop(\"SalePrice\")\n",
    "score_base = score_dataset(X, y)\n",
    "score_new = score_dataset(X_train, y_train)\n",
    "\n",
    "print(f\"Baseline Score: {score_base:.4f} RMSLE\")\n",
    "print(f\"Score with Encoding: {score_new:.4f} RMSLE\")"
   ]
  },
  {
   "cell_type": "markdown",
   "id": "e328de4d",
   "metadata": {
    "papermill": {
     "duration": 0.022109,
     "end_time": "2022-04-10T23:34:04.426824",
     "exception": false,
     "start_time": "2022-04-10T23:34:04.404715",
     "status": "completed"
    },
    "tags": []
   },
   "source": [
    "Do you think that target encoding was worthwhile in this case? Depending on which feature or features you chose, you may have ended up with a score significantly worse than the baseline. In that case, it's likely the extra information gained by the encoding couldn't make up for the loss of data used for the encoding."
   ]
  },
  {
   "cell_type": "markdown",
   "id": "717b0254",
   "metadata": {
    "papermill": {
     "duration": 0.022261,
     "end_time": "2022-04-10T23:34:04.471183",
     "exception": false,
     "start_time": "2022-04-10T23:34:04.448922",
     "status": "completed"
    },
    "tags": []
   },
   "source": [
    "-------------------------------------------------------------------------------\n",
    "\n",
    "In this question, you'll explore the problem of overfitting with target encodings. This will illustrate this importance of training fitting target encoders on data held-out from the training set.\n",
    "\n",
    "So let's see what happens when we fit the encoder and the model on the *same* dataset. To emphasize how dramatic the overfitting can be, we'll mean-encode a feature that should have no relationship with `SalePrice`, a count: `0, 1, 2, 3, 4, 5, ...`."
   ]
  },
  {
   "cell_type": "code",
   "execution_count": 10,
   "id": "61044a72",
   "metadata": {
    "execution": {
     "iopub.execute_input": "2022-04-10T23:34:04.518971Z",
     "iopub.status.busy": "2022-04-10T23:34:04.518436Z",
     "iopub.status.idle": "2022-04-10T23:34:07.951353Z",
     "shell.execute_reply": "2022-04-10T23:34:07.951969Z",
     "shell.execute_reply.started": "2022-04-10T23:30:29.429138Z"
    },
    "papermill": {
     "duration": 3.459023,
     "end_time": "2022-04-10T23:34:07.952147",
     "exception": false,
     "start_time": "2022-04-10T23:34:04.493124",
     "status": "completed"
    },
    "tags": []
   },
   "outputs": [
    {
     "name": "stdout",
     "output_type": "stream",
     "text": [
      "Score: 0.0293 RMSLE\n"
     ]
    }
   ],
   "source": [
    "# Try experimenting with the smoothing parameter m\n",
    "# Try 0, 1, 5, 50\n",
    "m = 0\n",
    "\n",
    "X = df.copy()\n",
    "y = X.pop('SalePrice')\n",
    "\n",
    "# Create an uninformative feature\n",
    "X[\"Count\"] = range(len(X))\n",
    "X[\"Count\"][1] = 0  # actually need one duplicate value to circumvent error-checking in MEstimateEncoder\n",
    "\n",
    "# fit and transform on the same dataset\n",
    "encoder = MEstimateEncoder(cols=\"Count\", m=m)\n",
    "X = encoder.fit_transform(X, y)\n",
    "\n",
    "# Results\n",
    "score =  score_dataset(X, y)\n",
    "print(f\"Score: {score:.4f} RMSLE\")"
   ]
  },
  {
   "cell_type": "markdown",
   "id": "3482424d",
   "metadata": {
    "papermill": {
     "duration": 0.022761,
     "end_time": "2022-04-10T23:34:07.998726",
     "exception": false,
     "start_time": "2022-04-10T23:34:07.975965",
     "status": "completed"
    },
    "tags": []
   },
   "source": [
    "Almost a perfect score!"
   ]
  },
  {
   "cell_type": "code",
   "execution_count": 11,
   "id": "fff61dd7",
   "metadata": {
    "execution": {
     "iopub.execute_input": "2022-04-10T23:34:08.050650Z",
     "iopub.status.busy": "2022-04-10T23:34:08.050120Z",
     "iopub.status.idle": "2022-04-10T23:34:08.418936Z",
     "shell.execute_reply": "2022-04-10T23:34:08.418530Z",
     "shell.execute_reply.started": "2022-04-10T23:30:33.789310Z"
    },
    "papermill": {
     "duration": 0.397583,
     "end_time": "2022-04-10T23:34:08.419047",
     "exception": false,
     "start_time": "2022-04-10T23:34:08.021464",
     "status": "completed"
    },
    "tags": []
   },
   "outputs": [
    {
     "data": {
      "image/png": "[encoded data removed]",
      "text/plain": [
       "<Figure size 540x360 with 1 Axes>"
      ]
     },
     "metadata": {},
     "output_type": "display_data"
    }
   ],
   "source": [
    "plt.figure(dpi=90)\n",
    "ax = sns.distplot(y, kde=True, hist=False)\n",
    "ax = sns.distplot(X[\"Count\"], color='r', ax=ax, hist=True, kde=False, norm_hist=True)\n",
    "ax.set_xlabel(\"SalePrice\");"
   ]
  },
  {
   "cell_type": "markdown",
   "id": "2a2d44de",
   "metadata": {
    "papermill": {
     "duration": 0.024084,
     "end_time": "2022-04-10T23:34:08.466450",
     "exception": false,
     "start_time": "2022-04-10T23:34:08.442366",
     "status": "completed"
    },
    "tags": []
   },
   "source": [
    "And the distributions are almost exactly the same, too.\n",
    "\n",
    "# 3) Overfitting with Target Encoders\n",
    "\n",
    "Based on your understanding of how mean-encoding works, can you explain how XGBoost was able to get an almost a perfect fit after mean-encoding the count feature?"
   ]
  },
  {
   "cell_type": "code",
   "execution_count": 12,
   "id": "1c89b30e",
   "metadata": {
    "execution": {
     "iopub.execute_input": "2022-04-10T23:34:08.516639Z",
     "iopub.status.busy": "2022-04-10T23:34:08.516111Z",
     "iopub.status.idle": "2022-04-10T23:34:08.524765Z",
     "shell.execute_reply": "2022-04-10T23:34:08.524313Z",
     "shell.execute_reply.started": "2022-04-10T23:30:56.435692Z"
    },
    "lines_to_next_cell": 0,
    "papermill": {
     "duration": 0.03511,
     "end_time": "2022-04-10T23:34:08.524871",
     "exception": false,
     "start_time": "2022-04-10T23:34:08.489761",
     "status": "completed"
    },
    "tags": []
   },
   "outputs": [
    {
     "data": {
      "application/javascript": [
       "parent.postMessage({\"jupyterEvent\": \"custom.exercise_interaction\", \"data\": {\"outcomeType\": 1, \"valueTowardsCompletion\": 0.3333333333333333, \"interactionType\": 1, \"questionType\": 4, \"questionId\": \"3_Q3\", \"learnToolsVersion\": \"0.3.4\", \"failureMessage\": \"\", \"exceptionClass\": \"\", \"trace\": \"\"}}, \"*\")"
      ],
      "text/plain": [
       "<IPython.core.display.Javascript object>"
      ]
     },
     "metadata": {},
     "output_type": "display_data"
    },
    {
     "data": {
      "text/markdown": [
       "<span style=\"color:#33cc33\">Correct:</span> \n",
       "\n",
       "\n",
       "Since `Count` never has any duplicate values, the mean-encoded `Count` is essentially an exact copy of the target. In other words, mean-encoding turned a completely meaningless feature into a perfect feature.\n",
       "\n",
       "Now, the only reason this worked is because we trained XGBoost on the same set we used to train the encoder. If we had used a hold-out set instead, none of this \"fake\" encoding would have transferred to the training data.\n",
       "\n",
       "The lesson is that when using a target encoder it's very important to use separate data sets for training the encoder and training the model. Otherwise the results can be very disappointing!\n"
      ],
      "text/plain": [
       "Correct: \n",
       "\n",
       "\n",
       "Since `Count` never has any duplicate values, the mean-encoded `Count` is essentially an exact copy of the target. In other words, mean-encoding turned a completely meaningless feature into a perfect feature.\n",
       "\n",
       "Now, the only reason this worked is because we trained XGBoost on the same set we used to train the encoder. If we had used a hold-out set instead, none of this \"fake\" encoding would have transferred to the training data.\n",
       "\n",
       "The lesson is that when using a target encoder it's very important to use separate data sets for training the encoder and training the model. Otherwise the results can be very disappointing!"
      ]
     },
     "metadata": {},
     "output_type": "display_data"
    }
   ],
   "source": [
    "# View the solution (Run this cell to receive credit!)\n",
    "q_3.check()"
   ]
  },
  {
   "cell_type": "code",
   "execution_count": 13,
   "id": "fed7e135",
   "metadata": {
    "execution": {
     "iopub.execute_input": "2022-04-10T23:34:08.577038Z",
     "iopub.status.busy": "2022-04-10T23:34:08.576570Z",
     "iopub.status.idle": "2022-04-10T23:34:08.579520Z",
     "shell.execute_reply": "2022-04-10T23:34:08.579136Z",
     "shell.execute_reply.started": "2022-04-10T23:32:04.003470Z"
    },
    "papermill": {
     "duration": 0.03057,
     "end_time": "2022-04-10T23:34:08.579624",
     "exception": false,
     "start_time": "2022-04-10T23:34:08.549054",
     "status": "completed"
    },
    "tags": []
   },
   "outputs": [],
   "source": [
    "# Uncomment this if you'd like a hint before seeing the answer\n",
    "#q_3.hint()"
   ]
  },
  {
   "cell_type": "markdown",
   "id": "6a86c9e3",
   "metadata": {
    "papermill": {
     "duration": 0.023812,
     "end_time": "2022-04-10T23:34:08.627335",
     "exception": false,
     "start_time": "2022-04-10T23:34:08.603523",
     "status": "completed"
    },
    "tags": []
   },
   "source": [
    "# The End #\n",
    "\n",
    "That's it for *Feature Engineering*! We hope you enjoyed your time with us.\n",
    "\n",
    "Now, are you ready to try out your new skills? Now would be a great time to join our [Housing Prices](https://www.kaggle.com/c/house-prices-advanced-regression-techniques) Getting Started competition. We've even prepared a [Bonus Lesson]() that collects all the work we've done together into a starter notebook.\n",
    "\n",
    "# References #\n",
    "Here are some great resources you might like to consult for more information. They all played a part in shaping this course:\n",
    "- *The Art of Feature Engineering*, a book by Pablo Duboue.\n",
    "- *An Empirical Analysis of Feature Engineering for Predictive Modeling*, an article by Jeff Heaton.\n",
    "- *Feature Engineering for Machine Learning*, a book by Alice Zheng and Amanda Casari. The tutorial on clustering was inspired by this excellent book.\n",
    "- *Feature Engineering and Selection*, a book by Max Kuhn and Kjell Johnson."
   ]
  },
  {
   "cell_type": "markdown",
   "id": "f12bbad9",
   "metadata": {
    "papermill": {
     "duration": 0.023444,
     "end_time": "2022-04-10T23:34:08.674862",
     "exception": false,
     "start_time": "2022-04-10T23:34:08.651418",
     "status": "completed"
    },
    "tags": []
   },
   "source": [
    "---\n",
    "\n",
    "\n",
    "\n",
    "\n",
    "*Have questions or comments? Visit the [course discussion forum](https://www.kaggle.com/learn/feature-engineering/discussion) to chat with other learners.*"
   ]
  }
 ],
 "metadata": {
  "kernelspec": {
   "display_name": "Python 3",
   "language": "python",
   "name": "python3"
  },
  "language_info": {
   "codemirror_mode": {
    "name": "ipython",
    "version": 3
   },
   "file_extension": ".py",
   "mimetype": "text/x-python",
   "name": "python",
   "nbconvert_exporter": "python",
   "pygments_lexer": "ipython3",
   "version": "3.7.12"
  },
  "papermill": {
   "default_parameters": {},
   "duration": 27.736258,
   "end_time": "2022-04-10T23:34:09.611043",
   "environment_variables": {},
   "exception": null,
   "input_path": "__notebook__.ipynb",
   "output_path": "__notebook__.ipynb",
   "parameters": {},
   "start_time": "2022-04-10T23:33:41.874785",
   "version": "2.3.3"
  }
 },
 "nbformat": 4,
 "nbformat_minor": 5
}
