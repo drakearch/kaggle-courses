{
 "cells": [
  {
   "cell_type": "markdown",
   "id": "5f776215",
   "metadata": {
    "papermill": {
     "duration": 0.018549,
     "end_time": "2021-08-22T01:59:09.686006",
     "exception": false,
     "start_time": "2021-08-22T01:59:09.667457",
     "status": "completed"
    },
    "tags": []
   },
   "source": [
    "**This notebook is an exercise in the [Data Cleaning](https://www.kaggle.com/learn/data-cleaning) course.  You can reference the tutorial at [this link](https://www.kaggle.com/alexisbcook/scaling-and-normalization).**\n",
    "\n",
    "---\n"
   ]
  },
  {
   "cell_type": "markdown",
   "id": "a42c864b",
   "metadata": {
    "papermill": {
     "duration": 0.017725,
     "end_time": "2021-08-22T01:59:09.723958",
     "exception": false,
     "start_time": "2021-08-22T01:59:09.706233",
     "status": "completed"
    },
    "tags": []
   },
   "source": [
    "In this exercise, you'll apply what you learned in the **Scaling and normalization** tutorial.\n",
    "\n",
    "# Setup\n",
    "\n",
    "The questions below will give you feedback on your work. Run the following cell to set up the feedback system."
   ]
  },
  {
   "cell_type": "code",
   "execution_count": 1,
   "id": "e518113e",
   "metadata": {
    "execution": {
     "iopub.execute_input": "2021-08-22T01:59:09.771396Z",
     "iopub.status.busy": "2021-08-22T01:59:09.770575Z",
     "iopub.status.idle": "2021-08-22T01:59:13.508407Z",
     "shell.execute_reply": "2021-08-22T01:59:13.507524Z",
     "shell.execute_reply.started": "2021-08-22T01:44:40.317537Z"
    },
    "papermill": {
     "duration": 3.767252,
     "end_time": "2021-08-22T01:59:13.508653",
     "exception": false,
     "start_time": "2021-08-22T01:59:09.741401",
     "status": "completed"
    },
    "tags": []
   },
   "outputs": [
    {
     "name": "stdout",
     "output_type": "stream",
     "text": [
      "Setup Complete\n"
     ]
    }
   ],
   "source": [
    "from learntools.core import binder\n",
    "binder.bind(globals())\n",
    "from learntools.data_cleaning.ex2 import *\n",
    "print(\"Setup Complete\")"
   ]
  },
  {
   "cell_type": "markdown",
   "id": "a9d9839a",
   "metadata": {
    "papermill": {
     "duration": 0.018611,
     "end_time": "2021-08-22T01:59:13.546240",
     "exception": false,
     "start_time": "2021-08-22T01:59:13.527629",
     "status": "completed"
    },
    "tags": []
   },
   "source": [
    "# Get our environment set up\n",
    "\n",
    "To practice scaling and normalization, we're going to use a [dataset of Kickstarter campaigns](https://www.kaggle.com/kemical/kickstarter-projects). (Kickstarter is a website where people can ask people to invest in various projects and concept products.)\n",
    "\n",
    "The next code cell loads in the libraries and dataset we'll be using. "
   ]
  },
  {
   "cell_type": "code",
   "execution_count": 2,
   "id": "6f7d5aff",
   "metadata": {
    "execution": {
     "iopub.execute_input": "2021-08-22T01:59:13.588414Z",
     "iopub.status.busy": "2021-08-22T01:59:13.587608Z",
     "iopub.status.idle": "2021-08-22T01:59:15.176181Z",
     "shell.execute_reply": "2021-08-22T01:59:15.176727Z",
     "shell.execute_reply.started": "2021-08-22T01:45:00.661073Z"
    },
    "papermill": {
     "duration": 1.612054,
     "end_time": "2021-08-22T01:59:15.176968",
     "exception": false,
     "start_time": "2021-08-22T01:59:13.564914",
     "status": "completed"
    },
    "tags": []
   },
   "outputs": [],
   "source": [
    "# modules we'll use\n",
    "import pandas as pd\n",
    "import numpy as np\n",
    "\n",
    "# for Box-Cox Transformation\n",
    "from scipy import stats\n",
    "\n",
    "# for min_max scaling\n",
    "from mlxtend.preprocessing import minmax_scaling\n",
    "\n",
    "# plotting modules\n",
    "import seaborn as sns\n",
    "import matplotlib.pyplot as plt\n",
    "\n",
    "# read in all our data\n",
    "kickstarters_2017 = pd.read_csv(\"../input/kickstarter-projects/ks-projects-201801.csv\")\n",
    "\n",
    "# set seed for reproducibility\n",
    "np.random.seed(0)"
   ]
  },
  {
   "cell_type": "markdown",
   "id": "3d87e129",
   "metadata": {
    "papermill": {
     "duration": 0.019995,
     "end_time": "2021-08-22T01:59:15.215865",
     "exception": false,
     "start_time": "2021-08-22T01:59:15.195870",
     "status": "completed"
    },
    "tags": []
   },
   "source": [
    "Let's start by scaling the goals of each campaign, which is how much money they were asking for.  The plots show a histogram of the values in the \"usd_goal_real\" column, both before and after scaling.  "
   ]
  },
  {
   "cell_type": "code",
   "execution_count": 3,
   "id": "6f73afae",
   "metadata": {
    "execution": {
     "iopub.execute_input": "2021-08-22T01:59:15.263259Z",
     "iopub.status.busy": "2021-08-22T01:59:15.262463Z",
     "iopub.status.idle": "2021-08-22T01:59:19.007683Z",
     "shell.execute_reply": "2021-08-22T01:59:19.007081Z",
     "shell.execute_reply.started": "2021-08-22T01:45:49.902455Z"
    },
    "papermill": {
     "duration": 3.773325,
     "end_time": "2021-08-22T01:59:19.007859",
     "exception": false,
     "start_time": "2021-08-22T01:59:15.234534",
     "status": "completed"
    },
    "tags": []
   },
   "outputs": [
    {
     "name": "stderr",
     "output_type": "stream",
     "text": [
      "/opt/conda/lib/python3.7/site-packages/seaborn/distributions.py:2557: FutureWarning: `distplot` is a deprecated function and will be removed in a future version. Please adapt your code to use either `displot` (a figure-level function with similar flexibility) or `histplot` (an axes-level function for histograms).\n",
      "  warnings.warn(msg, FutureWarning)\n",
      "/opt/conda/lib/python3.7/site-packages/seaborn/distributions.py:2557: FutureWarning: `distplot` is a deprecated function and will be removed in a future version. Please adapt your code to use either `displot` (a figure-level function with similar flexibility) or `histplot` (an axes-level function for histograms).\n",
      "  warnings.warn(msg, FutureWarning)\n"
     ]
    },
    {
     "data": {
      "text/plain": [
       "Text(0.5, 1.0, 'Scaled data')"
      ]
     },
     "execution_count": 3,
     "metadata": {},
     "output_type": "execute_result"
    },
    {
     "data": {
      "image/png": "[encoded data removed]",
      "text/plain": [
       "<Figure size 1080x216 with 2 Axes>"
      ]
     },
     "metadata": {
      "needs_background": "light"
     },
     "output_type": "display_data"
    }
   ],
   "source": [
    "# select the usd_goal_real column\n",
    "original_data = pd.DataFrame(kickstarters_2017.usd_goal_real)\n",
    "\n",
    "# scale the goals from 0 to 1\n",
    "scaled_data = minmax_scaling(original_data, columns=['usd_goal_real'])\n",
    "\n",
    "# plot the original & scaled data together to compare\n",
    "fig, ax=plt.subplots(1,2,figsize=(15,3))\n",
    "sns.distplot(kickstarters_2017.usd_goal_real, ax=ax[0])\n",
    "ax[0].set_title(\"Original Data\")\n",
    "sns.distplot(scaled_data, ax=ax[1])\n",
    "ax[1].set_title(\"Scaled data\")"
   ]
  },
  {
   "cell_type": "markdown",
   "id": "1037cb06",
   "metadata": {
    "papermill": {
     "duration": 0.019026,
     "end_time": "2021-08-22T01:59:19.047140",
     "exception": false,
     "start_time": "2021-08-22T01:59:19.028114",
     "status": "completed"
    },
    "tags": []
   },
   "source": [
    "After scaling, all values lie between 0 and 1 (you can read this in the horizontal axis of the second plot above, and we verify in the code cell below)."
   ]
  },
  {
   "cell_type": "code",
   "execution_count": 4,
   "id": "1cdd610f",
   "metadata": {
    "execution": {
     "iopub.execute_input": "2021-08-22T01:59:19.097733Z",
     "iopub.status.busy": "2021-08-22T01:59:19.095957Z",
     "iopub.status.idle": "2021-08-22T01:59:19.115637Z",
     "shell.execute_reply": "2021-08-22T01:59:19.114867Z",
     "shell.execute_reply.started": "2021-08-22T01:46:34.910836Z"
    },
    "papermill": {
     "duration": 0.04858,
     "end_time": "2021-08-22T01:59:19.115817",
     "exception": false,
     "start_time": "2021-08-22T01:59:19.067237",
     "status": "completed"
    },
    "tags": []
   },
   "outputs": [
    {
     "name": "stdout",
     "output_type": "stream",
     "text": [
      "Original data\n",
      "Preview:\n",
      "    usd_goal_real\n",
      "0        1533.95\n",
      "1       30000.00\n",
      "2       45000.00\n",
      "3        5000.00\n",
      "4       19500.00\n",
      "Minimum value: 0.01 \n",
      "Maximum value: 166361390.71\n",
      "______________________________\n",
      "\n",
      "Scaled data\n",
      "Preview:\n",
      "    usd_goal_real\n",
      "0       0.000009\n",
      "1       0.000180\n",
      "2       0.000270\n",
      "3       0.000030\n",
      "4       0.000117\n",
      "Minimum value: 0.0 \n",
      "Maximum value: 1.0\n"
     ]
    }
   ],
   "source": [
    "print('Original data\\nPreview:\\n', original_data.head())\n",
    "print('Minimum value:', float(original_data.min()),\n",
    "      '\\nMaximum value:', float(original_data.max()))\n",
    "print('_'*30)\n",
    "\n",
    "print('\\nScaled data\\nPreview:\\n', scaled_data.head())\n",
    "print('Minimum value:', float(scaled_data.min()),\n",
    "      '\\nMaximum value:', float(scaled_data.max()))"
   ]
  },
  {
   "cell_type": "markdown",
   "id": "ed1e9a6d",
   "metadata": {
    "papermill": {
     "duration": 0.019385,
     "end_time": "2021-08-22T01:59:19.155009",
     "exception": false,
     "start_time": "2021-08-22T01:59:19.135624",
     "status": "completed"
    },
    "tags": []
   },
   "source": [
    "# 1) Practice scaling\n",
    "\n",
    "We just scaled the \"usd_goal_real\" column. What about the \"goal\" column?\n",
    "\n",
    "Begin by running the code cell below to create a DataFrame `original_goal_data` containing the \"goal\" column."
   ]
  },
  {
   "cell_type": "code",
   "execution_count": 5,
   "id": "f9bd78b3",
   "metadata": {
    "execution": {
     "iopub.execute_input": "2021-08-22T01:59:19.200583Z",
     "iopub.status.busy": "2021-08-22T01:59:19.199714Z",
     "iopub.status.idle": "2021-08-22T01:59:19.204056Z",
     "shell.execute_reply": "2021-08-22T01:59:19.203469Z",
     "shell.execute_reply.started": "2021-08-22T01:47:30.915833Z"
    },
    "papermill": {
     "duration": 0.029309,
     "end_time": "2021-08-22T01:59:19.204213",
     "exception": false,
     "start_time": "2021-08-22T01:59:19.174904",
     "status": "completed"
    },
    "tags": []
   },
   "outputs": [],
   "source": [
    "# select the usd_goal_real column\n",
    "original_goal_data = pd.DataFrame(kickstarters_2017.goal)"
   ]
  },
  {
   "cell_type": "markdown",
   "id": "05ea0f46",
   "metadata": {
    "papermill": {
     "duration": 0.022608,
     "end_time": "2021-08-22T01:59:19.246717",
     "exception": false,
     "start_time": "2021-08-22T01:59:19.224109",
     "status": "completed"
    },
    "tags": []
   },
   "source": [
    "Use `original_goal_data` to create a new DataFrame `scaled_goal_data` with values scaled between 0 and 1. You must use the `minmax_scaling()` function."
   ]
  },
  {
   "cell_type": "code",
   "execution_count": 6,
   "id": "40493be4",
   "metadata": {
    "execution": {
     "iopub.execute_input": "2021-08-22T01:59:19.291947Z",
     "iopub.status.busy": "2021-08-22T01:59:19.291121Z",
     "iopub.status.idle": "2021-08-22T01:59:19.318884Z",
     "shell.execute_reply": "2021-08-22T01:59:19.318181Z",
     "shell.execute_reply.started": "2021-08-22T01:48:15.705361Z"
    },
    "papermill": {
     "duration": 0.052465,
     "end_time": "2021-08-22T01:59:19.319054",
     "exception": false,
     "start_time": "2021-08-22T01:59:19.266589",
     "status": "completed"
    },
    "tags": []
   },
   "outputs": [
    {
     "data": {
      "application/javascript": [
       "parent.postMessage({\"jupyterEvent\": \"custom.exercise_interaction\", \"data\": {\"outcomeType\": 1, \"valueTowardsCompletion\": 0.3333333333333333, \"interactionType\": 1, \"questionType\": 1, \"questionId\": \"1_TryScaling\", \"learnToolsVersion\": \"0.3.4\", \"failureMessage\": \"\", \"exceptionClass\": \"\", \"trace\": \"\"}}, \"*\")"
      ],
      "text/plain": [
       "<IPython.core.display.Javascript object>"
      ]
     },
     "metadata": {},
     "output_type": "display_data"
    },
    {
     "data": {
      "text/markdown": [
       "<span style=\"color:#33cc33\">Correct</span>"
      ],
      "text/plain": [
       "Correct"
      ]
     },
     "metadata": {},
     "output_type": "display_data"
    }
   ],
   "source": [
    "# TODO: Your code here\n",
    "scaled_goal_data = minmax_scaling(original_goal_data, columns=['goal'])\n",
    "\n",
    "# Check your answer\n",
    "q1.check()"
   ]
  },
  {
   "cell_type": "code",
   "execution_count": 7,
   "id": "8bece058",
   "metadata": {
    "execution": {
     "iopub.execute_input": "2021-08-22T01:59:19.369889Z",
     "iopub.status.busy": "2021-08-22T01:59:19.368777Z",
     "iopub.status.idle": "2021-08-22T01:59:19.372268Z",
     "shell.execute_reply": "2021-08-22T01:59:19.372789Z",
     "shell.execute_reply.started": "2021-08-22T01:48:19.661730Z"
    },
    "papermill": {
     "duration": 0.03094,
     "end_time": "2021-08-22T01:59:19.373008",
     "exception": false,
     "start_time": "2021-08-22T01:59:19.342068",
     "status": "completed"
    },
    "tags": []
   },
   "outputs": [],
   "source": [
    "# Lines below will give you a hint or solution code\n",
    "#q1.hint()\n",
    "#q1.solution()"
   ]
  },
  {
   "cell_type": "markdown",
   "id": "8badaf2f",
   "metadata": {
    "papermill": {
     "duration": 0.021758,
     "end_time": "2021-08-22T01:59:19.416520",
     "exception": false,
     "start_time": "2021-08-22T01:59:19.394762",
     "status": "completed"
    },
    "tags": []
   },
   "source": [
    "# 2) Practice normalization\n",
    "\n",
    "Now you'll practice normalization. We begin by normalizing the amount of money pledged to each campaign."
   ]
  },
  {
   "cell_type": "code",
   "execution_count": 8,
   "id": "d5e763d9",
   "metadata": {
    "execution": {
     "iopub.execute_input": "2021-08-22T01:59:19.468096Z",
     "iopub.status.busy": "2021-08-22T01:59:19.466934Z",
     "iopub.status.idle": "2021-08-22T01:59:23.759351Z",
     "shell.execute_reply": "2021-08-22T01:59:23.759986Z",
     "shell.execute_reply.started": "2021-08-22T01:49:56.703136Z"
    },
    "papermill": {
     "duration": 4.322936,
     "end_time": "2021-08-22T01:59:23.760209",
     "exception": false,
     "start_time": "2021-08-22T01:59:19.437273",
     "status": "completed"
    },
    "tags": []
   },
   "outputs": [
    {
     "name": "stderr",
     "output_type": "stream",
     "text": [
      "/opt/conda/lib/python3.7/site-packages/seaborn/distributions.py:2557: FutureWarning: `distplot` is a deprecated function and will be removed in a future version. Please adapt your code to use either `displot` (a figure-level function with similar flexibility) or `histplot` (an axes-level function for histograms).\n",
      "  warnings.warn(msg, FutureWarning)\n",
      "/opt/conda/lib/python3.7/site-packages/seaborn/distributions.py:2557: FutureWarning: `distplot` is a deprecated function and will be removed in a future version. Please adapt your code to use either `displot` (a figure-level function with similar flexibility) or `histplot` (an axes-level function for histograms).\n",
      "  warnings.warn(msg, FutureWarning)\n"
     ]
    },
    {
     "data": {
      "text/plain": [
       "Text(0.5, 1.0, 'Normalized data')"
      ]
     },
     "execution_count": 8,
     "metadata": {},
     "output_type": "execute_result"
    },
    {
     "data": {
      "image/png": "[encoded data removed]",
      "text/plain": [
       "<Figure size 1080x216 with 2 Axes>"
      ]
     },
     "metadata": {
      "needs_background": "light"
     },
     "output_type": "display_data"
    }
   ],
   "source": [
    "# get the index of all positive pledges (Box-Cox only takes positive values)\n",
    "index_of_positive_pledges = kickstarters_2017.usd_pledged_real > 0\n",
    "\n",
    "# get only positive pledges (using their indexes)\n",
    "positive_pledges = kickstarters_2017.usd_pledged_real.loc[index_of_positive_pledges]\n",
    "\n",
    "# normalize the pledges (w/ Box-Cox)\n",
    "normalized_pledges = pd.Series(stats.boxcox(positive_pledges)[0], \n",
    "                               name='usd_pledged_real', index=positive_pledges.index)\n",
    "\n",
    "# plot both together to compare\n",
    "fig, ax=plt.subplots(1,2,figsize=(15,3))\n",
    "sns.distplot(positive_pledges, ax=ax[0])\n",
    "ax[0].set_title(\"Original Data\")\n",
    "sns.distplot(normalized_pledges, ax=ax[1])\n",
    "ax[1].set_title(\"Normalized data\")"
   ]
  },
  {
   "cell_type": "markdown",
   "id": "d219bbef",
   "metadata": {
    "papermill": {
     "duration": 0.026627,
     "end_time": "2021-08-22T01:59:23.812420",
     "exception": false,
     "start_time": "2021-08-22T01:59:23.785793",
     "status": "completed"
    },
    "tags": []
   },
   "source": [
    "It's not perfect (it looks like a lot pledges got very few pledges) but it is much closer to a normal distribution!"
   ]
  },
  {
   "cell_type": "code",
   "execution_count": 9,
   "id": "b27386a6",
   "metadata": {
    "execution": {
     "iopub.execute_input": "2021-08-22T01:59:23.866660Z",
     "iopub.status.busy": "2021-08-22T01:59:23.865881Z",
     "iopub.status.idle": "2021-08-22T01:59:23.874957Z",
     "shell.execute_reply": "2021-08-22T01:59:23.875749Z",
     "shell.execute_reply.started": "2021-08-22T01:50:29.577512Z"
    },
    "papermill": {
     "duration": 0.040656,
     "end_time": "2021-08-22T01:59:23.876124",
     "exception": false,
     "start_time": "2021-08-22T01:59:23.835468",
     "status": "completed"
    },
    "tags": []
   },
   "outputs": [
    {
     "name": "stdout",
     "output_type": "stream",
     "text": [
      "Original data\n",
      "Preview:\n",
      " 1     2421.0\n",
      "2      220.0\n",
      "3        1.0\n",
      "4     1283.0\n",
      "5    52375.0\n",
      "Name: usd_pledged_real, dtype: float64\n",
      "Minimum value: 0.45 \n",
      "Maximum value: 20338986.27\n",
      "______________________________\n",
      "\n",
      "Normalized data\n",
      "Preview:\n",
      " 1    10.165142\n",
      "2     6.468598\n",
      "3     0.000000\n",
      "4     9.129277\n",
      "5    15.836853\n",
      "Name: usd_pledged_real, dtype: float64\n",
      "Minimum value: -0.7779954122762203 \n",
      "Maximum value: 30.69054020451361\n"
     ]
    }
   ],
   "source": [
    "print('Original data\\nPreview:\\n', positive_pledges.head())\n",
    "print('Minimum value:', float(positive_pledges.min()),\n",
    "      '\\nMaximum value:', float(positive_pledges.max()))\n",
    "print('_'*30)\n",
    "\n",
    "print('\\nNormalized data\\nPreview:\\n', normalized_pledges.head())\n",
    "print('Minimum value:', float(normalized_pledges.min()),\n",
    "      '\\nMaximum value:', float(normalized_pledges.max()))"
   ]
  },
  {
   "cell_type": "markdown",
   "id": "dc321811",
   "metadata": {
    "papermill": {
     "duration": 0.02523,
     "end_time": "2021-08-22T01:59:23.929140",
     "exception": false,
     "start_time": "2021-08-22T01:59:23.903910",
     "status": "completed"
    },
    "tags": []
   },
   "source": [
    "We used the \"usd_pledged_real\" column. Follow the same process to normalize the \"pledged\" column. "
   ]
  },
  {
   "cell_type": "code",
   "execution_count": 10,
   "id": "0997f760",
   "metadata": {
    "execution": {
     "iopub.execute_input": "2021-08-22T01:59:23.988204Z",
     "iopub.status.busy": "2021-08-22T01:59:23.987443Z",
     "iopub.status.idle": "2021-08-22T01:59:28.258751Z",
     "shell.execute_reply": "2021-08-22T01:59:28.258082Z",
     "shell.execute_reply.started": "2021-08-22T01:53:27.638086Z"
    },
    "papermill": {
     "duration": 4.3027,
     "end_time": "2021-08-22T01:59:28.258900",
     "exception": false,
     "start_time": "2021-08-22T01:59:23.956200",
     "status": "completed"
    },
    "tags": []
   },
   "outputs": [
    {
     "name": "stderr",
     "output_type": "stream",
     "text": [
      "/opt/conda/lib/python3.7/site-packages/seaborn/distributions.py:2557: FutureWarning: `distplot` is a deprecated function and will be removed in a future version. Please adapt your code to use either `displot` (a figure-level function with similar flexibility) or `histplot` (an axes-level function for histograms).\n",
      "  warnings.warn(msg, FutureWarning)\n",
      "/opt/conda/lib/python3.7/site-packages/seaborn/distributions.py:2557: FutureWarning: `distplot` is a deprecated function and will be removed in a future version. Please adapt your code to use either `displot` (a figure-level function with similar flexibility) or `histplot` (an axes-level function for histograms).\n",
      "  warnings.warn(msg, FutureWarning)\n"
     ]
    },
    {
     "data": {
      "text/plain": [
       "Text(0.5, 1.0, 'Normalized data')"
      ]
     },
     "execution_count": 10,
     "metadata": {},
     "output_type": "execute_result"
    },
    {
     "data": {
      "image/png": "[encoded data removed]",
      "text/plain": [
       "<Figure size 1080x216 with 2 Axes>"
      ]
     },
     "metadata": {
      "needs_background": "light"
     },
     "output_type": "display_data"
    }
   ],
   "source": [
    "# TODO: Your code here!\n",
    "# get only positive pledges (Box-Cox only takes positive values)\n",
    "positive_pledges = kickstarters_2017.pledged.loc[kickstarters_2017.pledged > 0]\n",
    "\n",
    "# normalize the pledges (w/ Box-Cox)\n",
    "normalized_pledges = pd.Series(stats.boxcox(positive_pledges)[0], \n",
    "                               name='pledged', index=positive_pledges.index)\n",
    "\n",
    "# plot both together to compare\n",
    "fig, ax=plt.subplots(1,2,figsize=(15,3))\n",
    "sns.distplot(positive_pledges, ax=ax[0])\n",
    "ax[0].set_title(\"Original Data\")\n",
    "sns.distplot(normalized_pledges, ax=ax[1])\n",
    "ax[1].set_title(\"Normalized data\")"
   ]
  },
  {
   "cell_type": "markdown",
   "id": "bb5013be",
   "metadata": {
    "papermill": {
     "duration": 0.02402,
     "end_time": "2021-08-22T01:59:28.307637",
     "exception": false,
     "start_time": "2021-08-22T01:59:28.283617",
     "status": "completed"
    },
    "tags": []
   },
   "source": [
    "How does the normalized \"usd_pledged_real\" column look different from when we normalized the \"pledged\" column?  Or, do they look mostly the same?\n",
    "\n",
    "Once you have an answer, run the code cell below."
   ]
  },
  {
   "cell_type": "code",
   "execution_count": 11,
   "id": "c375fac0",
   "metadata": {
    "execution": {
     "iopub.execute_input": "2021-08-22T01:59:28.362367Z",
     "iopub.status.busy": "2021-08-22T01:59:28.361367Z",
     "iopub.status.idle": "2021-08-22T01:59:28.369635Z",
     "shell.execute_reply": "2021-08-22T01:59:28.368984Z",
     "shell.execute_reply.started": "2021-08-22T01:54:05.653272Z"
    },
    "papermill": {
     "duration": 0.037725,
     "end_time": "2021-08-22T01:59:28.369778",
     "exception": false,
     "start_time": "2021-08-22T01:59:28.332053",
     "status": "completed"
    },
    "tags": []
   },
   "outputs": [
    {
     "data": {
      "application/javascript": [
       "parent.postMessage({\"jupyterEvent\": \"custom.exercise_interaction\", \"data\": {\"outcomeType\": 1, \"valueTowardsCompletion\": 0.3333333333333333, \"interactionType\": 1, \"questionType\": 4, \"questionId\": \"2_TryNormalization\", \"learnToolsVersion\": \"0.3.4\", \"failureMessage\": \"\", \"exceptionClass\": \"\", \"trace\": \"\"}}, \"*\")"
      ],
      "text/plain": [
       "<IPython.core.display.Javascript object>"
      ]
     },
     "metadata": {},
     "output_type": "display_data"
    },
    {
     "data": {
      "text/markdown": [
       "<span style=\"color:#33cc33\">Correct:</span> \n",
       "\n",
       "The distributions in the normalized data look mostly the same."
      ],
      "text/plain": [
       "Correct: \n",
       "\n",
       "The distributions in the normalized data look mostly the same."
      ]
     },
     "metadata": {},
     "output_type": "display_data"
    }
   ],
   "source": [
    "# Check your answer (Run this code cell to receive credit!)\n",
    "q2.check()"
   ]
  },
  {
   "cell_type": "code",
   "execution_count": 12,
   "id": "3ead7f1f",
   "metadata": {
    "execution": {
     "iopub.execute_input": "2021-08-22T01:59:28.425957Z",
     "iopub.status.busy": "2021-08-22T01:59:28.425093Z",
     "iopub.status.idle": "2021-08-22T01:59:28.428971Z",
     "shell.execute_reply": "2021-08-22T01:59:28.428369Z",
     "shell.execute_reply.started": "2021-08-22T01:57:07.782195Z"
    },
    "papermill": {
     "duration": 0.033461,
     "end_time": "2021-08-22T01:59:28.429112",
     "exception": false,
     "start_time": "2021-08-22T01:59:28.395651",
     "status": "completed"
    },
    "tags": []
   },
   "outputs": [],
   "source": [
    "# Line below will give you a hint\n",
    "#q2.hint()"
   ]
  },
  {
   "cell_type": "markdown",
   "id": "2170c14f",
   "metadata": {
    "papermill": {
     "duration": 0.025736,
     "end_time": "2021-08-22T01:59:28.480679",
     "exception": false,
     "start_time": "2021-08-22T01:59:28.454943",
     "status": "completed"
    },
    "tags": []
   },
   "source": [
    "# (Optional) More practice\n",
    "\n",
    "Try finding a new dataset and pretend you're preparing to perform a [regression analysis](https://www.kaggle.com/rtatman/the-5-day-regression-challenge). \n",
    "\n",
    "[These datasets are a good start!](https://www.kaggle.com/rtatman/datasets-for-regression-analysis)\n",
    "\n",
    "Pick three or four variables and decide if you need to normalize or scale any of them and, if you think you should, practice applying the correct technique.\n",
    "\n",
    "# Keep going\n",
    "\n",
    "In the next lesson, learn how to [**parse dates**](https://www.kaggle.com/alexisbcook/parsing-dates) in a dataset."
   ]
  },
  {
   "cell_type": "markdown",
   "id": "0698ecb2",
   "metadata": {
    "papermill": {
     "duration": 0.025474,
     "end_time": "2021-08-22T01:59:28.531824",
     "exception": false,
     "start_time": "2021-08-22T01:59:28.506350",
     "status": "completed"
    },
    "tags": []
   },
   "source": [
    "---\n",
    "\n",
    "\n",
    "\n",
    "\n",
    "*Have questions or comments? Visit the [Learn Discussion forum](https://www.kaggle.com/learn-forum/172650) to chat with other Learners.*"
   ]
  }
 ],
 "metadata": {
  "kernelspec": {
   "display_name": "Python 3",
   "language": "python",
   "name": "python3"
  },
  "language_info": {
   "codemirror_mode": {
    "name": "ipython",
    "version": 3
   },
   "file_extension": ".py",
   "mimetype": "text/x-python",
   "name": "python",
   "nbconvert_exporter": "python",
   "pygments_lexer": "ipython3",
   "version": "3.7.10"
  },
  "papermill": {
   "default_parameters": {},
   "duration": 28.532234,
   "end_time": "2021-08-22T01:59:29.469941",
   "environment_variables": {},
   "exception": null,
   "input_path": "__notebook__.ipynb",
   "output_path": "__notebook__.ipynb",
   "parameters": {},
   "start_time": "2021-08-22T01:59:00.937707",
   "version": "2.3.3"
  }
 },
 "nbformat": 4,
 "nbformat_minor": 5
}
