{
 "cells": [
  {
   "cell_type": "markdown",
   "id": "9b9efed1",
   "metadata": {
    "papermill": {
     "duration": 0.022395,
     "end_time": "2021-08-22T04:02:02.900594",
     "exception": false,
     "start_time": "2021-08-22T04:02:02.878199",
     "status": "completed"
    },
    "tags": []
   },
   "source": [
    "**This notebook is an exercise in the [Data Cleaning](https://www.kaggle.com/learn/data-cleaning) course.  You can reference the tutorial at [this link](https://www.kaggle.com/alexisbcook/parsing-dates).**\n",
    "\n",
    "---\n"
   ]
  },
  {
   "cell_type": "markdown",
   "id": "fd88540d",
   "metadata": {
    "papermill": {
     "duration": 0.029498,
     "end_time": "2021-08-22T04:02:02.955451",
     "exception": false,
     "start_time": "2021-08-22T04:02:02.925953",
     "status": "completed"
    },
    "tags": []
   },
   "source": [
    "In this exercise, you'll apply what you learned in the **Parsing dates** tutorial.\n",
    "\n",
    "# Setup\n",
    "\n",
    "The questions below will give you feedback on your work. Run the following cell to set up the feedback system."
   ]
  },
  {
   "cell_type": "code",
   "execution_count": 1,
   "id": "f15a2887",
   "metadata": {
    "execution": {
     "iopub.execute_input": "2021-08-22T04:02:03.022502Z",
     "iopub.status.busy": "2021-08-22T04:02:03.018186Z",
     "iopub.status.idle": "2021-08-22T04:02:04.300989Z",
     "shell.execute_reply": "2021-08-22T04:02:04.299958Z",
     "shell.execute_reply.started": "2021-08-22T03:25:54.918179Z"
    },
    "papermill": {
     "duration": 1.318335,
     "end_time": "2021-08-22T04:02:04.301186",
     "exception": false,
     "start_time": "2021-08-22T04:02:02.982851",
     "status": "completed"
    },
    "tags": []
   },
   "outputs": [
    {
     "name": "stdout",
     "output_type": "stream",
     "text": [
      "Setup Complete\n"
     ]
    }
   ],
   "source": [
    "from learntools.core import binder\n",
    "binder.bind(globals())\n",
    "from learntools.data_cleaning.ex3 import *\n",
    "print(\"Setup Complete\")"
   ]
  },
  {
   "cell_type": "markdown",
   "id": "ca66e31d",
   "metadata": {
    "papermill": {
     "duration": 0.022406,
     "end_time": "2021-08-22T04:02:04.345830",
     "exception": false,
     "start_time": "2021-08-22T04:02:04.323424",
     "status": "completed"
    },
    "tags": []
   },
   "source": [
    "# Get our environment set up\n",
    "\n",
    "The first thing we'll need to do is load in the libraries and dataset we'll be using. We'll be working with a dataset containing information on earthquakes that occured between 1965 and 2016."
   ]
  },
  {
   "cell_type": "code",
   "execution_count": 2,
   "id": "1f1939a0",
   "metadata": {
    "execution": {
     "iopub.execute_input": "2021-08-22T04:02:04.397516Z",
     "iopub.status.busy": "2021-08-22T04:02:04.396404Z",
     "iopub.status.idle": "2021-08-22T04:02:04.486986Z",
     "shell.execute_reply": "2021-08-22T04:02:04.486406Z",
     "shell.execute_reply.started": "2021-08-22T03:25:55.123802Z"
    },
    "papermill": {
     "duration": 0.118534,
     "end_time": "2021-08-22T04:02:04.487169",
     "exception": false,
     "start_time": "2021-08-22T04:02:04.368635",
     "status": "completed"
    },
    "tags": []
   },
   "outputs": [],
   "source": [
    "# modules we'll use\n",
    "import pandas as pd\n",
    "import numpy as np\n",
    "import seaborn as sns\n",
    "import datetime\n",
    "\n",
    "# read in our data\n",
    "earthquakes = pd.read_csv(\"../input/earthquake-database/database.csv\")\n",
    "\n",
    "# set seed for reproducibility\n",
    "np.random.seed(0)"
   ]
  },
  {
   "cell_type": "markdown",
   "id": "c1a3319b",
   "metadata": {
    "papermill": {
     "duration": 0.021742,
     "end_time": "2021-08-22T04:02:04.531110",
     "exception": false,
     "start_time": "2021-08-22T04:02:04.509368",
     "status": "completed"
    },
    "tags": []
   },
   "source": [
    "# 1) Check the data type of our date column\n",
    "\n",
    "You'll be working with the \"Date\" column from the `earthquakes` dataframe.  Investigate this column now: does it look like it contains dates?  What is the dtype of the column?"
   ]
  },
  {
   "cell_type": "code",
   "execution_count": 3,
   "id": "3a38c433",
   "metadata": {
    "execution": {
     "iopub.execute_input": "2021-08-22T04:02:04.583431Z",
     "iopub.status.busy": "2021-08-22T04:02:04.582602Z",
     "iopub.status.idle": "2021-08-22T04:02:04.586316Z",
     "shell.execute_reply": "2021-08-22T04:02:04.586817Z",
     "shell.execute_reply.started": "2021-08-22T03:26:37.686174Z"
    },
    "papermill": {
     "duration": 0.033776,
     "end_time": "2021-08-22T04:02:04.586987",
     "exception": false,
     "start_time": "2021-08-22T04:02:04.553211",
     "status": "completed"
    },
    "tags": []
   },
   "outputs": [
    {
     "data": {
      "text/plain": [
       "dtype('O')"
      ]
     },
     "execution_count": 3,
     "metadata": {},
     "output_type": "execute_result"
    }
   ],
   "source": [
    "# TODO: Your code here!\n",
    "earthquakes['Date'].dtype"
   ]
  },
  {
   "cell_type": "markdown",
   "id": "98342958",
   "metadata": {
    "papermill": {
     "duration": 0.021983,
     "end_time": "2021-08-22T04:02:04.631096",
     "exception": false,
     "start_time": "2021-08-22T04:02:04.609113",
     "status": "completed"
    },
    "tags": []
   },
   "source": [
    "Once you have answered the question above, run the code cell below to get credit for your work."
   ]
  },
  {
   "cell_type": "code",
   "execution_count": 4,
   "id": "443edf41",
   "metadata": {
    "execution": {
     "iopub.execute_input": "2021-08-22T04:02:04.679637Z",
     "iopub.status.busy": "2021-08-22T04:02:04.678599Z",
     "iopub.status.idle": "2021-08-22T04:02:04.686008Z",
     "shell.execute_reply": "2021-08-22T04:02:04.686509Z",
     "shell.execute_reply.started": "2021-08-22T03:26:52.284969Z"
    },
    "papermill": {
     "duration": 0.033233,
     "end_time": "2021-08-22T04:02:04.686685",
     "exception": false,
     "start_time": "2021-08-22T04:02:04.653452",
     "status": "completed"
    },
    "tags": []
   },
   "outputs": [
    {
     "data": {
      "application/javascript": [
       "parent.postMessage({\"jupyterEvent\": \"custom.exercise_interaction\", \"data\": {\"outcomeType\": 1, \"valueTowardsCompletion\": 0.25, \"interactionType\": 1, \"questionType\": 4, \"questionId\": \"1_CheckDtype\", \"learnToolsVersion\": \"0.3.4\", \"failureMessage\": \"\", \"exceptionClass\": \"\", \"trace\": \"\"}}, \"*\")"
      ],
      "text/plain": [
       "<IPython.core.display.Javascript object>"
      ]
     },
     "metadata": {},
     "output_type": "display_data"
    },
    {
     "data": {
      "text/markdown": [
       "<span style=\"color:#33cc33\">Correct:</span> \n",
       "\n",
       "The \"Date\" column in the `earthquakes` DataFrame does have dates.  The dtype is \"object\"."
      ],
      "text/plain": [
       "Correct: \n",
       "\n",
       "The \"Date\" column in the `earthquakes` DataFrame does have dates.  The dtype is \"object\"."
      ]
     },
     "metadata": {},
     "output_type": "display_data"
    }
   ],
   "source": [
    "# Check your answer (Run this code cell to receive credit!)\n",
    "q1.check()"
   ]
  },
  {
   "cell_type": "code",
   "execution_count": 5,
   "id": "ea5424d0",
   "metadata": {
    "execution": {
     "iopub.execute_input": "2021-08-22T04:02:04.739204Z",
     "iopub.status.busy": "2021-08-22T04:02:04.738279Z",
     "iopub.status.idle": "2021-08-22T04:02:04.741697Z",
     "shell.execute_reply": "2021-08-22T04:02:04.742204Z",
     "shell.execute_reply.started": "2021-08-22T03:26:53.784366Z"
    },
    "papermill": {
     "duration": 0.032219,
     "end_time": "2021-08-22T04:02:04.742394",
     "exception": false,
     "start_time": "2021-08-22T04:02:04.710175",
     "status": "completed"
    },
    "tags": []
   },
   "outputs": [],
   "source": [
    "# Line below will give you a hint\n",
    "#q1.hint()"
   ]
  },
  {
   "cell_type": "markdown",
   "id": "d056c8e2",
   "metadata": {
    "papermill": {
     "duration": 0.023506,
     "end_time": "2021-08-22T04:02:04.789452",
     "exception": false,
     "start_time": "2021-08-22T04:02:04.765946",
     "status": "completed"
    },
    "tags": []
   },
   "source": [
    "# 2) Convert our date columns to datetime\n",
    "\n",
    "Most of the entries in the \"Date\" column follow the same format: \"month/day/four-digit year\".  However, the entry at index 3378 follows a completely different pattern.  Run the code cell below to see this."
   ]
  },
  {
   "cell_type": "code",
   "execution_count": 6,
   "id": "00eeeb6d",
   "metadata": {
    "execution": {
     "iopub.execute_input": "2021-08-22T04:02:04.841158Z",
     "iopub.status.busy": "2021-08-22T04:02:04.840147Z",
     "iopub.status.idle": "2021-08-22T04:02:04.876587Z",
     "shell.execute_reply": "2021-08-22T04:02:04.876012Z",
     "shell.execute_reply.started": "2021-08-22T03:27:40.691286Z"
    },
    "papermill": {
     "duration": 0.063224,
     "end_time": "2021-08-22T04:02:04.876732",
     "exception": false,
     "start_time": "2021-08-22T04:02:04.813508",
     "status": "completed"
    },
    "tags": []
   },
   "outputs": [
    {
     "data": {
      "text/html": [
       "<div>\n",
       "<style scoped>\n",
       "    .dataframe tbody tr th:only-of-type {\n",
       "        vertical-align: middle;\n",
       "    }\n",
       "\n",
       "    .dataframe tbody tr th {\n",
       "        vertical-align: top;\n",
       "    }\n",
       "\n",
       "    .dataframe thead th {\n",
       "        text-align: right;\n",
       "    }\n",
       "</style>\n",
       "<table border=\"1\" class=\"dataframe\">\n",
       "  <thead>\n",
       "    <tr style=\"text-align: right;\">\n",
       "      <th></th>\n",
       "      <th>Date</th>\n",
       "      <th>Time</th>\n",
       "      <th>Latitude</th>\n",
       "      <th>Longitude</th>\n",
       "      <th>Type</th>\n",
       "      <th>Depth</th>\n",
       "      <th>Depth Error</th>\n",
       "      <th>Depth Seismic Stations</th>\n",
       "      <th>Magnitude</th>\n",
       "      <th>Magnitude Type</th>\n",
       "      <th>...</th>\n",
       "      <th>Magnitude Seismic Stations</th>\n",
       "      <th>Azimuthal Gap</th>\n",
       "      <th>Horizontal Distance</th>\n",
       "      <th>Horizontal Error</th>\n",
       "      <th>Root Mean Square</th>\n",
       "      <th>ID</th>\n",
       "      <th>Source</th>\n",
       "      <th>Location Source</th>\n",
       "      <th>Magnitude Source</th>\n",
       "      <th>Status</th>\n",
       "    </tr>\n",
       "  </thead>\n",
       "  <tbody>\n",
       "    <tr>\n",
       "      <th>3378</th>\n",
       "      <td>1975-02-23T02:58:41.000Z</td>\n",
       "      <td>1975-02-23T02:58:41.000Z</td>\n",
       "      <td>8.017</td>\n",
       "      <td>124.075</td>\n",
       "      <td>Earthquake</td>\n",
       "      <td>623.0</td>\n",
       "      <td>NaN</td>\n",
       "      <td>NaN</td>\n",
       "      <td>5.6</td>\n",
       "      <td>MB</td>\n",
       "      <td>...</td>\n",
       "      <td>NaN</td>\n",
       "      <td>NaN</td>\n",
       "      <td>NaN</td>\n",
       "      <td>NaN</td>\n",
       "      <td>NaN</td>\n",
       "      <td>USP0000A09</td>\n",
       "      <td>US</td>\n",
       "      <td>US</td>\n",
       "      <td>US</td>\n",
       "      <td>Reviewed</td>\n",
       "    </tr>\n",
       "    <tr>\n",
       "      <th>3379</th>\n",
       "      <td>02/23/1975</td>\n",
       "      <td>03:53:36</td>\n",
       "      <td>-21.727</td>\n",
       "      <td>-71.356</td>\n",
       "      <td>Earthquake</td>\n",
       "      <td>33.0</td>\n",
       "      <td>NaN</td>\n",
       "      <td>NaN</td>\n",
       "      <td>5.6</td>\n",
       "      <td>MB</td>\n",
       "      <td>...</td>\n",
       "      <td>NaN</td>\n",
       "      <td>NaN</td>\n",
       "      <td>NaN</td>\n",
       "      <td>NaN</td>\n",
       "      <td>NaN</td>\n",
       "      <td>USP0000A0A</td>\n",
       "      <td>US</td>\n",
       "      <td>US</td>\n",
       "      <td>US</td>\n",
       "      <td>Reviewed</td>\n",
       "    </tr>\n",
       "    <tr>\n",
       "      <th>3380</th>\n",
       "      <td>02/23/1975</td>\n",
       "      <td>07:34:11</td>\n",
       "      <td>-10.879</td>\n",
       "      <td>166.667</td>\n",
       "      <td>Earthquake</td>\n",
       "      <td>33.0</td>\n",
       "      <td>NaN</td>\n",
       "      <td>NaN</td>\n",
       "      <td>5.5</td>\n",
       "      <td>MS</td>\n",
       "      <td>...</td>\n",
       "      <td>NaN</td>\n",
       "      <td>NaN</td>\n",
       "      <td>NaN</td>\n",
       "      <td>NaN</td>\n",
       "      <td>NaN</td>\n",
       "      <td>USP0000A0C</td>\n",
       "      <td>US</td>\n",
       "      <td>US</td>\n",
       "      <td>US</td>\n",
       "      <td>Reviewed</td>\n",
       "    </tr>\n",
       "    <tr>\n",
       "      <th>3381</th>\n",
       "      <td>02/25/1975</td>\n",
       "      <td>05:20:05</td>\n",
       "      <td>-7.388</td>\n",
       "      <td>149.798</td>\n",
       "      <td>Earthquake</td>\n",
       "      <td>33.0</td>\n",
       "      <td>NaN</td>\n",
       "      <td>NaN</td>\n",
       "      <td>5.5</td>\n",
       "      <td>MB</td>\n",
       "      <td>...</td>\n",
       "      <td>NaN</td>\n",
       "      <td>NaN</td>\n",
       "      <td>NaN</td>\n",
       "      <td>NaN</td>\n",
       "      <td>NaN</td>\n",
       "      <td>USP0000A12</td>\n",
       "      <td>US</td>\n",
       "      <td>US</td>\n",
       "      <td>US</td>\n",
       "      <td>Reviewed</td>\n",
       "    </tr>\n",
       "    <tr>\n",
       "      <th>3382</th>\n",
       "      <td>02/26/1975</td>\n",
       "      <td>04:48:55</td>\n",
       "      <td>85.047</td>\n",
       "      <td>97.969</td>\n",
       "      <td>Earthquake</td>\n",
       "      <td>33.0</td>\n",
       "      <td>NaN</td>\n",
       "      <td>NaN</td>\n",
       "      <td>5.6</td>\n",
       "      <td>MS</td>\n",
       "      <td>...</td>\n",
       "      <td>NaN</td>\n",
       "      <td>NaN</td>\n",
       "      <td>NaN</td>\n",
       "      <td>NaN</td>\n",
       "      <td>NaN</td>\n",
       "      <td>USP0000A1H</td>\n",
       "      <td>US</td>\n",
       "      <td>US</td>\n",
       "      <td>US</td>\n",
       "      <td>Reviewed</td>\n",
       "    </tr>\n",
       "  </tbody>\n",
       "</table>\n",
       "<p>5 rows × 21 columns</p>\n",
       "</div>"
      ],
      "text/plain": [
       "                          Date                      Time  Latitude  Longitude  \\\n",
       "3378  1975-02-23T02:58:41.000Z  1975-02-23T02:58:41.000Z     8.017    124.075   \n",
       "3379                02/23/1975                  03:53:36   -21.727    -71.356   \n",
       "3380                02/23/1975                  07:34:11   -10.879    166.667   \n",
       "3381                02/25/1975                  05:20:05    -7.388    149.798   \n",
       "3382                02/26/1975                  04:48:55    85.047     97.969   \n",
       "\n",
       "            Type  Depth  Depth Error  Depth Seismic Stations  Magnitude  \\\n",
       "3378  Earthquake  623.0          NaN                     NaN        5.6   \n",
       "3379  Earthquake   33.0          NaN                     NaN        5.6   \n",
       "3380  Earthquake   33.0          NaN                     NaN        5.5   \n",
       "3381  Earthquake   33.0          NaN                     NaN        5.5   \n",
       "3382  Earthquake   33.0          NaN                     NaN        5.6   \n",
       "\n",
       "     Magnitude Type  ...  Magnitude Seismic Stations  Azimuthal Gap  \\\n",
       "3378             MB  ...                         NaN            NaN   \n",
       "3379             MB  ...                         NaN            NaN   \n",
       "3380             MS  ...                         NaN            NaN   \n",
       "3381             MB  ...                         NaN            NaN   \n",
       "3382             MS  ...                         NaN            NaN   \n",
       "\n",
       "      Horizontal Distance  Horizontal Error  Root Mean Square          ID  \\\n",
       "3378                  NaN               NaN               NaN  USP0000A09   \n",
       "3379                  NaN               NaN               NaN  USP0000A0A   \n",
       "3380                  NaN               NaN               NaN  USP0000A0C   \n",
       "3381                  NaN               NaN               NaN  USP0000A12   \n",
       "3382                  NaN               NaN               NaN  USP0000A1H   \n",
       "\n",
       "     Source Location Source Magnitude Source    Status  \n",
       "3378     US              US               US  Reviewed  \n",
       "3379     US              US               US  Reviewed  \n",
       "3380     US              US               US  Reviewed  \n",
       "3381     US              US               US  Reviewed  \n",
       "3382     US              US               US  Reviewed  \n",
       "\n",
       "[5 rows x 21 columns]"
      ]
     },
     "execution_count": 6,
     "metadata": {},
     "output_type": "execute_result"
    }
   ],
   "source": [
    "earthquakes[3378:3383]"
   ]
  },
  {
   "cell_type": "markdown",
   "id": "35031521",
   "metadata": {
    "papermill": {
     "duration": 0.023709,
     "end_time": "2021-08-22T04:02:04.924610",
     "exception": false,
     "start_time": "2021-08-22T04:02:04.900901",
     "status": "completed"
    },
    "tags": []
   },
   "source": [
    "This does appear to be an issue with data entry: ideally, all entries in the column have the same format.  We can get an idea of how widespread this issue is by checking the length of each entry in the \"Date\" column."
   ]
  },
  {
   "cell_type": "code",
   "execution_count": 7,
   "id": "85d35c24",
   "metadata": {
    "execution": {
     "iopub.execute_input": "2021-08-22T04:02:04.995895Z",
     "iopub.status.busy": "2021-08-22T04:02:04.994992Z",
     "iopub.status.idle": "2021-08-22T04:02:05.002110Z",
     "shell.execute_reply": "2021-08-22T04:02:05.001576Z",
     "shell.execute_reply.started": "2021-08-22T03:28:53.998353Z"
    },
    "papermill": {
     "duration": 0.05372,
     "end_time": "2021-08-22T04:02:05.002268",
     "exception": false,
     "start_time": "2021-08-22T04:02:04.948548",
     "status": "completed"
    },
    "tags": []
   },
   "outputs": [
    {
     "data": {
      "text/plain": [
       "10    23409\n",
       "24        3\n",
       "Name: Date, dtype: int64"
      ]
     },
     "execution_count": 7,
     "metadata": {},
     "output_type": "execute_result"
    }
   ],
   "source": [
    "date_lengths = earthquakes.Date.str.len()\n",
    "date_lengths.value_counts()"
   ]
  },
  {
   "cell_type": "markdown",
   "id": "fe03e402",
   "metadata": {
    "papermill": {
     "duration": 0.023855,
     "end_time": "2021-08-22T04:02:05.050680",
     "exception": false,
     "start_time": "2021-08-22T04:02:05.026825",
     "status": "completed"
    },
    "tags": []
   },
   "source": [
    "Looks like there are two more rows that has a date in a different format.  Run the code cell below to obtain the indices corresponding to those rows and print the data."
   ]
  },
  {
   "cell_type": "code",
   "execution_count": 8,
   "id": "2be0b971",
   "metadata": {
    "execution": {
     "iopub.execute_input": "2021-08-22T04:02:05.105814Z",
     "iopub.status.busy": "2021-08-22T04:02:05.105134Z",
     "iopub.status.idle": "2021-08-22T04:02:05.149959Z",
     "shell.execute_reply": "2021-08-22T04:02:05.150483Z",
     "shell.execute_reply.started": "2021-08-22T03:29:28.594389Z"
    },
    "papermill": {
     "duration": 0.074444,
     "end_time": "2021-08-22T04:02:05.150655",
     "exception": false,
     "start_time": "2021-08-22T04:02:05.076211",
     "status": "completed"
    },
    "tags": []
   },
   "outputs": [
    {
     "name": "stdout",
     "output_type": "stream",
     "text": [
      "Indices with corrupted data: [ 3378  7512 20650]\n"
     ]
    },
    {
     "data": {
      "text/html": [
       "<div>\n",
       "<style scoped>\n",
       "    .dataframe tbody tr th:only-of-type {\n",
       "        vertical-align: middle;\n",
       "    }\n",
       "\n",
       "    .dataframe tbody tr th {\n",
       "        vertical-align: top;\n",
       "    }\n",
       "\n",
       "    .dataframe thead th {\n",
       "        text-align: right;\n",
       "    }\n",
       "</style>\n",
       "<table border=\"1\" class=\"dataframe\">\n",
       "  <thead>\n",
       "    <tr style=\"text-align: right;\">\n",
       "      <th></th>\n",
       "      <th>Date</th>\n",
       "      <th>Time</th>\n",
       "      <th>Latitude</th>\n",
       "      <th>Longitude</th>\n",
       "      <th>Type</th>\n",
       "      <th>Depth</th>\n",
       "      <th>Depth Error</th>\n",
       "      <th>Depth Seismic Stations</th>\n",
       "      <th>Magnitude</th>\n",
       "      <th>Magnitude Type</th>\n",
       "      <th>...</th>\n",
       "      <th>Magnitude Seismic Stations</th>\n",
       "      <th>Azimuthal Gap</th>\n",
       "      <th>Horizontal Distance</th>\n",
       "      <th>Horizontal Error</th>\n",
       "      <th>Root Mean Square</th>\n",
       "      <th>ID</th>\n",
       "      <th>Source</th>\n",
       "      <th>Location Source</th>\n",
       "      <th>Magnitude Source</th>\n",
       "      <th>Status</th>\n",
       "    </tr>\n",
       "  </thead>\n",
       "  <tbody>\n",
       "    <tr>\n",
       "      <th>3378</th>\n",
       "      <td>1975-02-23T02:58:41.000Z</td>\n",
       "      <td>1975-02-23T02:58:41.000Z</td>\n",
       "      <td>8.017</td>\n",
       "      <td>124.075</td>\n",
       "      <td>Earthquake</td>\n",
       "      <td>623.0</td>\n",
       "      <td>NaN</td>\n",
       "      <td>NaN</td>\n",
       "      <td>5.6</td>\n",
       "      <td>MB</td>\n",
       "      <td>...</td>\n",
       "      <td>NaN</td>\n",
       "      <td>NaN</td>\n",
       "      <td>NaN</td>\n",
       "      <td>NaN</td>\n",
       "      <td>NaN</td>\n",
       "      <td>USP0000A09</td>\n",
       "      <td>US</td>\n",
       "      <td>US</td>\n",
       "      <td>US</td>\n",
       "      <td>Reviewed</td>\n",
       "    </tr>\n",
       "    <tr>\n",
       "      <th>7512</th>\n",
       "      <td>1985-04-28T02:53:41.530Z</td>\n",
       "      <td>1985-04-28T02:53:41.530Z</td>\n",
       "      <td>-32.998</td>\n",
       "      <td>-71.766</td>\n",
       "      <td>Earthquake</td>\n",
       "      <td>33.0</td>\n",
       "      <td>NaN</td>\n",
       "      <td>NaN</td>\n",
       "      <td>5.6</td>\n",
       "      <td>MW</td>\n",
       "      <td>...</td>\n",
       "      <td>NaN</td>\n",
       "      <td>NaN</td>\n",
       "      <td>NaN</td>\n",
       "      <td>NaN</td>\n",
       "      <td>1.30</td>\n",
       "      <td>USP0002E81</td>\n",
       "      <td>US</td>\n",
       "      <td>US</td>\n",
       "      <td>HRV</td>\n",
       "      <td>Reviewed</td>\n",
       "    </tr>\n",
       "    <tr>\n",
       "      <th>20650</th>\n",
       "      <td>2011-03-13T02:23:34.520Z</td>\n",
       "      <td>2011-03-13T02:23:34.520Z</td>\n",
       "      <td>36.344</td>\n",
       "      <td>142.344</td>\n",
       "      <td>Earthquake</td>\n",
       "      <td>10.1</td>\n",
       "      <td>13.9</td>\n",
       "      <td>289.0</td>\n",
       "      <td>5.8</td>\n",
       "      <td>MWC</td>\n",
       "      <td>...</td>\n",
       "      <td>NaN</td>\n",
       "      <td>32.3</td>\n",
       "      <td>NaN</td>\n",
       "      <td>NaN</td>\n",
       "      <td>1.06</td>\n",
       "      <td>USP000HWQP</td>\n",
       "      <td>US</td>\n",
       "      <td>US</td>\n",
       "      <td>GCMT</td>\n",
       "      <td>Reviewed</td>\n",
       "    </tr>\n",
       "  </tbody>\n",
       "</table>\n",
       "<p>3 rows × 21 columns</p>\n",
       "</div>"
      ],
      "text/plain": [
       "                           Date                      Time  Latitude  \\\n",
       "3378   1975-02-23T02:58:41.000Z  1975-02-23T02:58:41.000Z     8.017   \n",
       "7512   1985-04-28T02:53:41.530Z  1985-04-28T02:53:41.530Z   -32.998   \n",
       "20650  2011-03-13T02:23:34.520Z  2011-03-13T02:23:34.520Z    36.344   \n",
       "\n",
       "       Longitude        Type  Depth  Depth Error  Depth Seismic Stations  \\\n",
       "3378     124.075  Earthquake  623.0          NaN                     NaN   \n",
       "7512     -71.766  Earthquake   33.0          NaN                     NaN   \n",
       "20650    142.344  Earthquake   10.1         13.9                   289.0   \n",
       "\n",
       "       Magnitude Magnitude Type  ...  Magnitude Seismic Stations  \\\n",
       "3378         5.6             MB  ...                         NaN   \n",
       "7512         5.6             MW  ...                         NaN   \n",
       "20650        5.8            MWC  ...                         NaN   \n",
       "\n",
       "       Azimuthal Gap  Horizontal Distance  Horizontal Error  Root Mean Square  \\\n",
       "3378             NaN                  NaN               NaN               NaN   \n",
       "7512             NaN                  NaN               NaN              1.30   \n",
       "20650           32.3                  NaN               NaN              1.06   \n",
       "\n",
       "               ID Source Location Source Magnitude Source    Status  \n",
       "3378   USP0000A09     US              US               US  Reviewed  \n",
       "7512   USP0002E81     US              US              HRV  Reviewed  \n",
       "20650  USP000HWQP     US              US             GCMT  Reviewed  \n",
       "\n",
       "[3 rows x 21 columns]"
      ]
     },
     "execution_count": 8,
     "metadata": {},
     "output_type": "execute_result"
    }
   ],
   "source": [
    "indices = np.where([date_lengths == 24])[1]\n",
    "print('Indices with corrupted data:', indices)\n",
    "earthquakes.loc[indices]"
   ]
  },
  {
   "cell_type": "markdown",
   "id": "8d17ba14",
   "metadata": {
    "papermill": {
     "duration": 0.02505,
     "end_time": "2021-08-22T04:02:05.201067",
     "exception": false,
     "start_time": "2021-08-22T04:02:05.176017",
     "status": "completed"
    },
    "tags": []
   },
   "source": [
    "Given all of this information, it's your turn to create a new column \"date_parsed\" in the `earthquakes` dataset that has correctly parsed dates in it.  \n",
    "\n",
    "**Note**: When completing this problem, you are allowed to (but are not required to) amend the entries in the \"Date\" and \"Time\" columns.  Do not remove any rows from the dataset."
   ]
  },
  {
   "cell_type": "code",
   "execution_count": 9,
   "id": "a4c03aab",
   "metadata": {
    "execution": {
     "iopub.execute_input": "2021-08-22T04:02:05.259710Z",
     "iopub.status.busy": "2021-08-22T04:02:05.259023Z",
     "iopub.status.idle": "2021-08-22T04:02:05.296321Z",
     "shell.execute_reply": "2021-08-22T04:02:05.295793Z",
     "shell.execute_reply.started": "2021-08-22T03:52:05.876521Z"
    },
    "papermill": {
     "duration": 0.070134,
     "end_time": "2021-08-22T04:02:05.296468",
     "exception": false,
     "start_time": "2021-08-22T04:02:05.226334",
     "status": "completed"
    },
    "tags": []
   },
   "outputs": [
    {
     "data": {
      "application/javascript": [
       "parent.postMessage({\"jupyterEvent\": \"custom.exercise_interaction\", \"data\": {\"outcomeType\": 1, \"valueTowardsCompletion\": 0.25, \"interactionType\": 1, \"questionType\": 2, \"questionId\": \"2_ConvertToDatetime\", \"learnToolsVersion\": \"0.3.4\", \"failureMessage\": \"\", \"exceptionClass\": \"\", \"trace\": \"\"}}, \"*\")"
      ],
      "text/plain": [
       "<IPython.core.display.Javascript object>"
      ]
     },
     "metadata": {},
     "output_type": "display_data"
    },
    {
     "data": {
      "text/markdown": [
       "<span style=\"color:#33cc33\">Correct</span>"
      ],
      "text/plain": [
       "Correct"
      ]
     },
     "metadata": {},
     "output_type": "display_data"
    }
   ],
   "source": [
    "# TODO: Your code here\n",
    "date_format = '%m/%d/%Y'\n",
    "earthquakes.loc[indices,'Date'] = pd.to_datetime(earthquakes.loc[indices,'Date']) \\\n",
    "                                    .dt.strftime(date_format)\n",
    "earthquakes['date_parsed'] = pd.to_datetime(earthquakes['Date'])\n",
    "# Check your answer\n",
    "q2.check()"
   ]
  },
  {
   "cell_type": "code",
   "execution_count": 10,
   "id": "12deae92",
   "metadata": {
    "execution": {
     "iopub.execute_input": "2021-08-22T04:02:05.352473Z",
     "iopub.status.busy": "2021-08-22T04:02:05.351794Z",
     "iopub.status.idle": "2021-08-22T04:02:05.354616Z",
     "shell.execute_reply": "2021-08-22T04:02:05.355084Z",
     "shell.execute_reply.started": "2021-08-22T03:52:22.996024Z"
    },
    "papermill": {
     "duration": 0.032505,
     "end_time": "2021-08-22T04:02:05.355275",
     "exception": false,
     "start_time": "2021-08-22T04:02:05.322770",
     "status": "completed"
    },
    "tags": []
   },
   "outputs": [],
   "source": [
    "# Lines below will give you a hint or solution code\n",
    "#q2.hint()\n",
    "#q2.solution()"
   ]
  },
  {
   "cell_type": "markdown",
   "id": "a8eab117",
   "metadata": {
    "papermill": {
     "duration": 0.026257,
     "end_time": "2021-08-22T04:02:05.408082",
     "exception": false,
     "start_time": "2021-08-22T04:02:05.381825",
     "status": "completed"
    },
    "tags": []
   },
   "source": [
    "# 3) Select the day of the month\n",
    "\n",
    "Create a Pandas Series `day_of_month_earthquakes` containing the day of the month from the \"date_parsed\" column."
   ]
  },
  {
   "cell_type": "code",
   "execution_count": 11,
   "id": "9c79c63f",
   "metadata": {
    "execution": {
     "iopub.execute_input": "2021-08-22T04:02:05.464035Z",
     "iopub.status.busy": "2021-08-22T04:02:05.463415Z",
     "iopub.status.idle": "2021-08-22T04:02:05.472924Z",
     "shell.execute_reply": "2021-08-22T04:02:05.473409Z",
     "shell.execute_reply.started": "2021-08-22T03:53:10.479657Z"
    },
    "papermill": {
     "duration": 0.039037,
     "end_time": "2021-08-22T04:02:05.473597",
     "exception": false,
     "start_time": "2021-08-22T04:02:05.434560",
     "status": "completed"
    },
    "tags": []
   },
   "outputs": [
    {
     "data": {
      "application/javascript": [
       "parent.postMessage({\"jupyterEvent\": \"custom.exercise_interaction\", \"data\": {\"outcomeType\": 1, \"valueTowardsCompletion\": 0.25, \"interactionType\": 1, \"questionType\": 1, \"questionId\": \"3_DayOfMonth\", \"learnToolsVersion\": \"0.3.4\", \"failureMessage\": \"\", \"exceptionClass\": \"\", \"trace\": \"\"}}, \"*\")"
      ],
      "text/plain": [
       "<IPython.core.display.Javascript object>"
      ]
     },
     "metadata": {},
     "output_type": "display_data"
    },
    {
     "data": {
      "text/markdown": [
       "<span style=\"color:#33cc33\">Correct</span>"
      ],
      "text/plain": [
       "Correct"
      ]
     },
     "metadata": {},
     "output_type": "display_data"
    }
   ],
   "source": [
    "# try to get the day of the month from the date column\n",
    "day_of_month_earthquakes = earthquakes['date_parsed'].dt.day\n",
    "\n",
    "# Check your answer\n",
    "q3.check()"
   ]
  },
  {
   "cell_type": "code",
   "execution_count": 12,
   "id": "9bf48501",
   "metadata": {
    "execution": {
     "iopub.execute_input": "2021-08-22T04:02:05.531638Z",
     "iopub.status.busy": "2021-08-22T04:02:05.530970Z",
     "iopub.status.idle": "2021-08-22T04:02:05.533704Z",
     "shell.execute_reply": "2021-08-22T04:02:05.534200Z",
     "shell.execute_reply.started": "2021-08-22T03:53:17.252505Z"
    },
    "papermill": {
     "duration": 0.033423,
     "end_time": "2021-08-22T04:02:05.534363",
     "exception": false,
     "start_time": "2021-08-22T04:02:05.500940",
     "status": "completed"
    },
    "tags": []
   },
   "outputs": [],
   "source": [
    "# Lines below will give you a hint or solution code\n",
    "#q3.hint()\n",
    "#q3.solution()"
   ]
  },
  {
   "cell_type": "markdown",
   "id": "f54734cc",
   "metadata": {
    "papermill": {
     "duration": 0.0267,
     "end_time": "2021-08-22T04:02:05.588202",
     "exception": false,
     "start_time": "2021-08-22T04:02:05.561502",
     "status": "completed"
    },
    "tags": []
   },
   "source": [
    "# 4) Plot the day of the month to check the date parsing\n",
    "\n",
    "Plot the days of the month from your earthquake dataset."
   ]
  },
  {
   "cell_type": "code",
   "execution_count": 13,
   "id": "ba43d8f6",
   "metadata": {
    "execution": {
     "iopub.execute_input": "2021-08-22T04:02:05.645200Z",
     "iopub.status.busy": "2021-08-22T04:02:05.644566Z",
     "iopub.status.idle": "2021-08-22T04:02:06.024722Z",
     "shell.execute_reply": "2021-08-22T04:02:06.023840Z",
     "shell.execute_reply.started": "2021-08-22T03:55:09.620480Z"
    },
    "papermill": {
     "duration": 0.409575,
     "end_time": "2021-08-22T04:02:06.024872",
     "exception": false,
     "start_time": "2021-08-22T04:02:05.615297",
     "status": "completed"
    },
    "tags": []
   },
   "outputs": [
    {
     "data": {
      "image/png": "[encoded data removed]",
      "text/plain": [
       "<Figure size 360x360 with 1 Axes>"
      ]
     },
     "metadata": {
      "needs_background": "light"
     },
     "output_type": "display_data"
    }
   ],
   "source": [
    "# TODO: Your code here!\n",
    "sns.displot(day_of_month_earthquakes, kde=False, bins=31);"
   ]
  },
  {
   "cell_type": "markdown",
   "id": "b810fb9c",
   "metadata": {
    "papermill": {
     "duration": 0.027884,
     "end_time": "2021-08-22T04:02:06.080701",
     "exception": false,
     "start_time": "2021-08-22T04:02:06.052817",
     "status": "completed"
    },
    "tags": []
   },
   "source": [
    "Does the graph make sense to you?"
   ]
  },
  {
   "cell_type": "code",
   "execution_count": 14,
   "id": "d6587571",
   "metadata": {
    "execution": {
     "iopub.execute_input": "2021-08-22T04:02:06.144608Z",
     "iopub.status.busy": "2021-08-22T04:02:06.143853Z",
     "iopub.status.idle": "2021-08-22T04:02:06.149957Z",
     "shell.execute_reply": "2021-08-22T04:02:06.149425Z",
     "shell.execute_reply.started": "2021-08-22T03:55:12.939885Z"
    },
    "papermill": {
     "duration": 0.039938,
     "end_time": "2021-08-22T04:02:06.150114",
     "exception": false,
     "start_time": "2021-08-22T04:02:06.110176",
     "status": "completed"
    },
    "tags": []
   },
   "outputs": [
    {
     "data": {
      "application/javascript": [
       "parent.postMessage({\"jupyterEvent\": \"custom.exercise_interaction\", \"data\": {\"outcomeType\": 1, \"valueTowardsCompletion\": 0.25, \"interactionType\": 1, \"questionType\": 4, \"questionId\": \"4_PlotDayOfMonth\", \"learnToolsVersion\": \"0.3.4\", \"failureMessage\": \"\", \"exceptionClass\": \"\", \"trace\": \"\"}}, \"*\")"
      ],
      "text/plain": [
       "<IPython.core.display.Javascript object>"
      ]
     },
     "metadata": {},
     "output_type": "display_data"
    },
    {
     "data": {
      "text/markdown": [
       "<span style=\"color:#33cc33\">Correct:</span> \n",
       "\n",
       "The graph should make sense: it shows a relatively even distribution in days of the month,which is what we would expect."
      ],
      "text/plain": [
       "Correct: \n",
       "\n",
       "The graph should make sense: it shows a relatively even distribution in days of the month,which is what we would expect."
      ]
     },
     "metadata": {},
     "output_type": "display_data"
    }
   ],
   "source": [
    "# Check your answer (Run this code cell to receive credit!)\n",
    "q4.check()"
   ]
  },
  {
   "cell_type": "code",
   "execution_count": 15,
   "id": "7fc0a159",
   "metadata": {
    "execution": {
     "iopub.execute_input": "2021-08-22T04:02:06.212224Z",
     "iopub.status.busy": "2021-08-22T04:02:06.211277Z",
     "iopub.status.idle": "2021-08-22T04:02:06.214703Z",
     "shell.execute_reply": "2021-08-22T04:02:06.215202Z",
     "shell.execute_reply.started": "2021-08-22T03:55:52.830822Z"
    },
    "papermill": {
     "duration": 0.036467,
     "end_time": "2021-08-22T04:02:06.215388",
     "exception": false,
     "start_time": "2021-08-22T04:02:06.178921",
     "status": "completed"
    },
    "tags": []
   },
   "outputs": [],
   "source": [
    "# Line below will give you a hint\n",
    "#q4.hint()"
   ]
  },
  {
   "cell_type": "markdown",
   "id": "f47a21f3",
   "metadata": {
    "papermill": {
     "duration": 0.028727,
     "end_time": "2021-08-22T04:02:06.273167",
     "exception": false,
     "start_time": "2021-08-22T04:02:06.244440",
     "status": "completed"
    },
    "tags": []
   },
   "source": [
    "# (Optional) Bonus Challenge\n",
    "\n",
    "For an extra challenge, you'll work with a [Smithsonian dataset](https://www.kaggle.com/smithsonian/volcanic-eruptions) that documents Earth's volcanoes and their eruptive history over the past 10,000 years \n",
    "\n",
    "Run the next code cell to load the data."
   ]
  },
  {
   "cell_type": "code",
   "execution_count": 16,
   "id": "f01bac37",
   "metadata": {
    "execution": {
     "iopub.execute_input": "2021-08-22T04:02:06.334986Z",
     "iopub.status.busy": "2021-08-22T04:02:06.334007Z",
     "iopub.status.idle": "2021-08-22T04:02:06.368857Z",
     "shell.execute_reply": "2021-08-22T04:02:06.369374Z",
     "shell.execute_reply.started": "2021-08-22T03:56:27.226808Z"
    },
    "papermill": {
     "duration": 0.067284,
     "end_time": "2021-08-22T04:02:06.369556",
     "exception": false,
     "start_time": "2021-08-22T04:02:06.302272",
     "status": "completed"
    },
    "tags": []
   },
   "outputs": [],
   "source": [
    "volcanos = pd.read_csv(\"../input/volcanic-eruptions/database.csv\")"
   ]
  },
  {
   "cell_type": "markdown",
   "id": "bd952089",
   "metadata": {
    "papermill": {
     "duration": 0.028668,
     "end_time": "2021-08-22T04:02:06.427246",
     "exception": false,
     "start_time": "2021-08-22T04:02:06.398578",
     "status": "completed"
    },
    "tags": []
   },
   "source": [
    "Try parsing the column \"Last Known Eruption\" from the `volcanos` dataframe. This column contains a mixture of text (\"Unknown\") and years both before the common era (BCE, also known as BC) and in the common era (CE, also known as AD)."
   ]
  },
  {
   "cell_type": "code",
   "execution_count": 17,
   "id": "2bb4b68e",
   "metadata": {
    "execution": {
     "iopub.execute_input": "2021-08-22T04:02:06.488902Z",
     "iopub.status.busy": "2021-08-22T04:02:06.487982Z",
     "iopub.status.idle": "2021-08-22T04:02:06.495083Z",
     "shell.execute_reply": "2021-08-22T04:02:06.495611Z",
     "shell.execute_reply.started": "2021-08-22T03:58:23.624277Z"
    },
    "papermill": {
     "duration": 0.039344,
     "end_time": "2021-08-22T04:02:06.495779",
     "exception": false,
     "start_time": "2021-08-22T04:02:06.456435",
     "status": "completed"
    },
    "tags": []
   },
   "outputs": [
    {
     "data": {
      "text/plain": [
       "764     Unknown\n",
       "1069    1996 CE\n",
       "34      1855 CE\n",
       "489     2016 CE\n",
       "9       1302 CE\n",
       "Name: Last Known Eruption, dtype: object"
      ]
     },
     "execution_count": 17,
     "metadata": {},
     "output_type": "execute_result"
    }
   ],
   "source": [
    "volcanos['Last Known Eruption'].sample(5)"
   ]
  },
  {
   "cell_type": "markdown",
   "id": "594f1cba",
   "metadata": {
    "papermill": {
     "duration": 0.029159,
     "end_time": "2021-08-22T04:02:06.553821",
     "exception": false,
     "start_time": "2021-08-22T04:02:06.524662",
     "status": "completed"
    },
    "tags": []
   },
   "source": [
    "# (Optional) More practice\n",
    "\n",
    "If you're interested in graphing time series, [check out this tutorial](https://www.kaggle.com/residentmario/time-series-plotting-optional).\n",
    "\n",
    "You can also look into passing columns that you know have dates in them  the `parse_dates` argument in `read_csv`. (The documention [is here](https://pandas.pydata.org/pandas-docs/stable/generated/pandas.read_csv.html).) Do note that this method can be very slow, but depending on your needs it may sometimes be handy to use.\n",
    "\n",
    "# Keep going\n",
    "\n",
    "In the next lesson, learn how to [**work with character encodings**](https://www.kaggle.com/alexisbcook/character-encodings)."
   ]
  },
  {
   "cell_type": "markdown",
   "id": "643a10a4",
   "metadata": {
    "papermill": {
     "duration": 0.028932,
     "end_time": "2021-08-22T04:02:06.612104",
     "exception": false,
     "start_time": "2021-08-22T04:02:06.583172",
     "status": "completed"
    },
    "tags": []
   },
   "source": [
    "---\n",
    "\n",
    "\n",
    "\n",
    "\n",
    "*Have questions or comments? Visit the [Learn Discussion forum](https://www.kaggle.com/learn-forum/172650) to chat with other Learners.*"
   ]
  }
 ],
 "metadata": {
  "kernelspec": {
   "display_name": "Python 3",
   "language": "python",
   "name": "python3"
  },
  "language_info": {
   "codemirror_mode": {
    "name": "ipython",
    "version": 3
   },
   "file_extension": ".py",
   "mimetype": "text/x-python",
   "name": "python",
   "nbconvert_exporter": "python",
   "pygments_lexer": "ipython3",
   "version": "3.7.10"
  },
  "papermill": {
   "default_parameters": {},
   "duration": 13.845822,
   "end_time": "2021-08-22T04:02:08.350427",
   "environment_variables": {},
   "exception": null,
   "input_path": "__notebook__.ipynb",
   "output_path": "__notebook__.ipynb",
   "parameters": {},
   "start_time": "2021-08-22T04:01:54.504605",
   "version": "2.3.3"
  }
 },
 "nbformat": 4,
 "nbformat_minor": 5
}
